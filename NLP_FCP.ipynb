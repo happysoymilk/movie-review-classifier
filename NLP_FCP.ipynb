{
 "cells": [
  {
   "cell_type": "code",
   "execution_count": 44,
   "metadata": {},
   "outputs": [],
   "source": [
    "# import libraries\n",
    "import pandas as pd\n",
    "import spacy\n",
    "import numpy as np\n",
    "import matplotlib.pyplot as plt\n",
    "import seaborn as sns\n",
    "import tomotopy as tp\n",
    "import re"
   ]
  },
  {
   "cell_type": "code",
   "execution_count": 94,
   "metadata": {},
   "outputs": [],
   "source": [
    "# import data\n",
    "train = pd.read_csv(\"train.csv\")\n",
    "test = pd.read_csv(\"test.csv\")"
   ]
  },
  {
   "cell_type": "code",
   "execution_count": 3,
   "metadata": {},
   "outputs": [
    {
     "data": {
      "text/html": [
       "<div>\n",
       "<style scoped>\n",
       "    .dataframe tbody tr th:only-of-type {\n",
       "        vertical-align: middle;\n",
       "    }\n",
       "\n",
       "    .dataframe tbody tr th {\n",
       "        vertical-align: top;\n",
       "    }\n",
       "\n",
       "    .dataframe thead th {\n",
       "        text-align: right;\n",
       "    }\n",
       "</style>\n",
       "<table border=\"1\" class=\"dataframe\">\n",
       "  <thead>\n",
       "    <tr style=\"text-align: right;\">\n",
       "      <th></th>\n",
       "      <th>helpfulness_cat</th>\n",
       "      <th>imdb_user_review</th>\n",
       "    </tr>\n",
       "  </thead>\n",
       "  <tbody>\n",
       "    <tr>\n",
       "      <th>0</th>\n",
       "      <td>1.0</td>\n",
       "      <td>It is hard to find such delightful and adorabl...</td>\n",
       "    </tr>\n",
       "    <tr>\n",
       "      <th>1</th>\n",
       "      <td>1.0</td>\n",
       "      <td>They don't make films like this faded, hauntin...</td>\n",
       "    </tr>\n",
       "    <tr>\n",
       "      <th>2</th>\n",
       "      <td>1.0</td>\n",
       "      <td>I first viewed this movie in 1924 at age 6 yrs...</td>\n",
       "    </tr>\n",
       "    <tr>\n",
       "      <th>3</th>\n",
       "      <td>1.0</td>\n",
       "      <td>I doubt that I'd ever seen anything resembling...</td>\n",
       "    </tr>\n",
       "    <tr>\n",
       "      <th>4</th>\n",
       "      <td>1.0</td>\n",
       "      <td>I was shocked to find myself riveted to this m...</td>\n",
       "    </tr>\n",
       "  </tbody>\n",
       "</table>\n",
       "</div>"
      ],
      "text/plain": [
       "   helpfulness_cat                                   imdb_user_review\n",
       "0              1.0  It is hard to find such delightful and adorabl...\n",
       "1              1.0  They don't make films like this faded, hauntin...\n",
       "2              1.0  I first viewed this movie in 1924 at age 6 yrs...\n",
       "3              1.0  I doubt that I'd ever seen anything resembling...\n",
       "4              1.0  I was shocked to find myself riveted to this m..."
      ]
     },
     "execution_count": 3,
     "metadata": {},
     "output_type": "execute_result"
    }
   ],
   "source": [
    "train.head()"
   ]
  },
  {
   "cell_type": "code",
   "execution_count": 4,
   "metadata": {},
   "outputs": [
    {
     "name": "stdout",
     "output_type": "stream",
     "text": [
      "0.7637377963737796\n"
     ]
    }
   ],
   "source": [
    "print(sum(train['helpfulness_cat'])/len(train))\n"
   ]
  },
  {
   "cell_type": "code",
   "execution_count": 5,
   "metadata": {},
   "outputs": [
    {
     "name": "stdout",
     "output_type": "stream",
     "text": [
      "The average number of words in a document is: 175.48888888888888.\n",
      "The minimum number of words in a document is: 6.\n",
      "The maximum number of words in a document is: 3954.\n"
     ]
    }
   ],
   "source": [
    "document_lengths = np.array(list(map(len, train['imdb_user_review'].str.split(' '))))\n",
    "\n",
    "print(\"The average number of words in a document is: {}.\".format(np.mean(document_lengths)))\n",
    "print(\"The minimum number of words in a document is: {}.\".format(min(document_lengths)))\n",
    "print(\"The maximum number of words in a document is: {}.\".format(max(document_lengths)))"
   ]
  },
  {
   "cell_type": "code",
   "execution_count": 6,
   "metadata": {},
   "outputs": [
    {
     "name": "stderr",
     "output_type": "stream",
     "text": [
      "/home/ash/miniconda3/envs/nlp/lib/python3.9/site-packages/seaborn/distributions.py:2619: FutureWarning: `distplot` is a deprecated function and will be removed in a future version. Please adapt your code to use either `displot` (a figure-level function with similar flexibility) or `histplot` (an axes-level function for histograms).\n",
      "  warnings.warn(msg, FutureWarning)\n"
     ]
    },
    {
     "data": {
      "text/plain": [
       "<AxesSubplot:title={'center':'Distribution of number of words'}, xlabel='Number of words', ylabel='Density'>"
      ]
     },
     "execution_count": 6,
     "metadata": {},
     "output_type": "execute_result"
    },
    {
     "data": {
      "image/png": "[encoded data removed]",
      "text/plain": [
       "<Figure size 1080x432 with 1 Axes>"
      ]
     },
     "metadata": {
      "needs_background": "light"
     },
     "output_type": "display_data"
    }
   ],
   "source": [
    "fig, ax = plt.subplots(figsize=(15,6))\n",
    "\n",
    "ax.set_title(\"Distribution of number of words\", fontsize=16)\n",
    "ax.set_xlabel(\"Number of words\")\n",
    "sns.distplot(document_lengths, bins=50, ax=ax)"
   ]
  },
  {
   "cell_type": "code",
   "execution_count": 7,
   "metadata": {},
   "outputs": [
    {
     "name": "stdout",
     "output_type": "stream",
     "text": [
      "There are 9 documents with over 1500 words.\n",
      "There are 2 documents with max 6 words.\n"
     ]
    }
   ],
   "source": [
    "print(\"There are {} documents with over 1500 words.\".format(sum(document_lengths > 1500)))\n",
    "print(\"There are {} documents with max 6 words.\".format(sum(document_lengths <= 6)))"
   ]
  },
  {
   "cell_type": "markdown",
   "metadata": {},
   "source": [
    "### Basic Data Cleansing"
   ]
  },
  {
   "cell_type": "code",
   "execution_count": 32,
   "metadata": {},
   "outputs": [
    {
     "data": {
      "text/plain": [
       "'It is hard to find such delightful and adorable movies these days as \\\\\"The Kid\\\\\". It is a silent movie but so rich, winning and beautiful that you don\\\\u00b4t nead words. Chaplin and 6-year old Coogan are possibly the most charming pair I have ever seen in my life. The film succees to be nicely light and full of joy but also overwhelmingly sad and sentimental. I always get my eyes full with tears of saddness and happiness. And I really never cry in movies. And the music...its simply Oscar-level! The movie is sympathetic, full of feeling, touchingly funny moments. It is truly a masterpiece showing how extraordinary talented person Charlie Chaplin was considering this film is respectively over 80 years old! So don\\\\u00b4t you miss it because of it\\\\u00b4s age, don\\\\u00b4t miss it.'"
      ]
     },
     "execution_count": 32,
     "metadata": {},
     "output_type": "execute_result"
    }
   ],
   "source": [
    "# data sample\n",
    "train['imdb_user_review'][0]"
   ]
  },
  {
   "cell_type": "code",
   "execution_count": 24,
   "metadata": {},
   "outputs": [],
   "source": [
    "def basic_clean(text):\n",
    "    \"\"\"\n",
    "    Remove \\\\,\\n,\\t,... from text\n",
    "    Remove whitespace from text\n",
    "    change to lowercase\n",
    "    \"\"\"\n",
    "    \n",
    "    # Replacing all the occurrences of \\n,\\\\n,\\t,\\\\ with a space.\n",
    "    Formatted_text = text.replace('\\\\n', ' ').replace('\\n', ' ').replace('\\t',' ').replace('\\'', ' ').replace('\"',' ')\n",
    "    pattern = re.compile(r'\\s+')\n",
    "    Formatted_text = Formatted_text.lower()\n",
    "    Formatted_text = Formatted_text.replace('\\\\u00b4',' ').replace('\\\\',' ')\n",
    "    Without_whitespace = re.sub(pattern, ' ', Formatted_text)\n",
    "    Formatted_text = Without_whitespace.replace('?', ' ? ').replace(')', ') ')\n",
    "    return Formatted_text"
   ]
  },
  {
   "cell_type": "code",
   "execution_count": 25,
   "metadata": {},
   "outputs": [],
   "source": [
    "# cleaning data\n",
    "train['imdb_user_review'] = train['imdb_user_review'].apply(basic_clean)"
   ]
  },
  {
   "cell_type": "code",
   "execution_count": 6,
   "metadata": {},
   "outputs": [
    {
     "data": {
      "text/plain": [
       "'it is hard to find such delightful and adorable movies these days as the kid . it is a silent movie but so rich, winning and beautiful that you don t nead words. chaplin and 6-year old coogan are possibly the most charming pair i have ever seen in my life. the film succees to be nicely light and full of joy but also overwhelmingly sad and sentimental. i always get my eyes full with tears of saddness and happiness. and i really never cry in movies. and the music...its simply oscar-level! the movie is sympathetic, full of feeling, touchingly funny moments. it is truly a masterpiece showing how extraordinary talented person charlie chaplin was considering this film is respectively over 80 years old! so don t you miss it because of it s age, don t miss it.'"
      ]
     },
     "execution_count": 6,
     "metadata": {},
     "output_type": "execute_result"
    }
   ],
   "source": [
    "train['imdb_user_review'][0]"
   ]
  },
  {
   "cell_type": "markdown",
   "metadata": {},
   "source": [
    "Sentiment Analysis"
   ]
  },
  {
   "cell_type": "code",
   "execution_count": 46,
   "metadata": {},
   "outputs": [],
   "source": [
    "# install transformers\n",
    "#!pip install -q transformers"
   ]
  },
  {
   "cell_type": "code",
   "execution_count": 149,
   "metadata": {},
   "outputs": [
    {
     "data": {
      "application/vnd.jupyter.widget-view+json": {
       "model_id": "2b96e24174724791b78d37e9d09257ee",
       "version_major": 2,
       "version_minor": 0
      },
      "text/plain": [
       "Downloading:   0%|          | 0.00/1.13k [00:00<?, ?B/s]"
      ]
     },
     "metadata": {},
     "output_type": "display_data"
    },
    {
     "name": "stderr",
     "output_type": "stream",
     "text": [
      "emoji is not installed, thus not converting emoticons or emojis into text. Install emoji: pip3 install emoji==0.6.0\n"
     ]
    }
   ],
   "source": [
    "# # using fine tuned bertmodel based on tweet dataset to analyse sentiment\n",
    "# from transformers import pipeline\n",
    " \n",
    "# # Set up the inference pipeline using a model from the 🤗 Hub\n",
    "# sentiment_analysis = pipeline(model=\"finiteautomata/bertweet-base-sentiment-analysis\")"
   ]
  },
  {
   "cell_type": "code",
   "execution_count": 150,
   "metadata": {},
   "outputs": [],
   "source": [
    "# # update sentiment analysis model config\n",
    "# sentiment_analysis.model.config.update({\"max_position_embeddings\":1000,\"max_seq_length\":512})"
   ]
  },
  {
   "cell_type": "code",
   "execution_count": null,
   "metadata": {},
   "outputs": [],
   "source": [
    "# from transformers import pipeline\n",
    " \n",
    "# # Set up the inference pipeline using a model from the 🤗 Hub\n",
    "# sentiment_analysis = pipeline(model=\"finiteautomata/bertweet-base-sentiment-analysis\")\n",
    " \n",
    "# # Let's run the sentiment analysis on each tweet\n",
    "# sentiment = []\n",
    "# for review in train['imdb_user_review']:\n",
    "#    try:\n",
    "#      content = [review]\n",
    "#      sentiment = sentiment_analysis(content)\n",
    "#      review.append({'tweet': content, 'sentiment': sentiment[0]['label']})\n",
    " \n",
    "#    except:\n",
    "#      pass"
   ]
  },
  {
   "cell_type": "code",
   "execution_count": null,
   "metadata": {},
   "outputs": [],
   "source": [
    "'''\n",
    "index error: \n",
    "Token indices sequence length is longer than the specified maximum sequence length for this model (176 > 128)\n",
    "Due to the length of reviews, the model cannot handle them.\n",
    "'''"
   ]
  },
  {
   "cell_type": "code",
   "execution_count": 6,
   "metadata": {},
   "outputs": [
    {
     "data": {
      "application/vnd.jupyter.widget-view+json": {
       "model_id": "57c39952732b45669999891756d7f970",
       "version_major": 2,
       "version_minor": 0
      },
      "text/plain": [
       "Downloading:   0%|          | 0.00/1.02k [00:00<?, ?B/s]"
      ]
     },
     "metadata": {},
     "output_type": "display_data"
    },
    {
     "name": "stderr",
     "output_type": "stream",
     "text": [
      "Some weights of the model checkpoint at roberta-large-mnli were not used when initializing RobertaForSequenceClassification: ['roberta.pooler.dense.bias', 'roberta.pooler.dense.weight']\n",
      "- This IS expected if you are initializing RobertaForSequenceClassification from the checkpoint of a model trained on another task or with another architecture (e.g. initializing a BertForSequenceClassification model from a BertForPreTraining model).\n",
      "- This IS NOT expected if you are initializing RobertaForSequenceClassification from the checkpoint of a model that you expect to be exactly identical (initializing a BertForSequenceClassification model from a BertForSequenceClassification model).\n"
     ]
    }
   ],
   "source": [
    "# using roberta-large-mnli model to analyse sentiment\n",
    "from transformers import pipeline\n",
    "pipe = pipeline(model=\"roberta-large-mnli\",return_all_scores=True)"
   ]
  },
  {
   "cell_type": "code",
   "execution_count": 10,
   "metadata": {},
   "outputs": [],
   "source": [
    "CONTRADICTION = []\n",
    "NEUTRAL = []\n",
    "ENTAILMENT = []\n",
    "\n",
    "for review in train['imdb_user_review']:\n",
    "   try:\n",
    "    temp = 0\n",
    "    temp = pipe(review)[0][0]['score']\n",
    "    CONTRADICTION.append(temp)\n",
    "\n",
    "    temp = pipe(review)[0][1]['score']\n",
    "    NEUTRAL.append(temp)\n",
    "\n",
    "    temp = pipe(review)[0][2]['score']\n",
    "    ENTAILMENT.append(temp)\n",
    "   except:\n",
    "     temp = 0\n",
    "     CONTRADICTION.append(temp)\n",
    "     NEUTRAL.append(temp)\n",
    "     ENTAILMENT.append(temp)"
   ]
  },
  {
   "cell_type": "code",
   "execution_count": 11,
   "metadata": {},
   "outputs": [],
   "source": [
    "# combine contradiction, neutral and entailment into a data frame\n",
    "train_sentiment = pd.DataFrame({'CONTRADICTION': CONTRADICTION, 'NEUTRAL': NEUTRAL, 'ENTAILMENT': ENTAILMENT})\n",
    "train_sentiment.to_csv('train_sentiment.csv', index=False)"
   ]
  },
  {
   "cell_type": "code",
   "execution_count": 19,
   "metadata": {},
   "outputs": [],
   "source": [
    "# load the sentiment dataframe\n",
    "train_sentiment = pd.read_csv('train_sentiment.csv')"
   ]
  },
  {
   "cell_type": "code",
   "execution_count": 20,
   "metadata": {},
   "outputs": [],
   "source": [
    "# combine healpfulness and sentiment into a data frame\n",
    "train_sentiment['helpfulness_cat'] = train['helpfulness_cat']"
   ]
  },
  {
   "cell_type": "code",
   "execution_count": 21,
   "metadata": {},
   "outputs": [
    {
     "data": {
      "text/html": [
       "<div>\n",
       "<style scoped>\n",
       "    .dataframe tbody tr th:only-of-type {\n",
       "        vertical-align: middle;\n",
       "    }\n",
       "\n",
       "    .dataframe tbody tr th {\n",
       "        vertical-align: top;\n",
       "    }\n",
       "\n",
       "    .dataframe thead th {\n",
       "        text-align: right;\n",
       "    }\n",
       "</style>\n",
       "<table border=\"1\" class=\"dataframe\">\n",
       "  <thead>\n",
       "    <tr style=\"text-align: right;\">\n",
       "      <th></th>\n",
       "      <th>CONTRADICTION</th>\n",
       "      <th>NEUTRAL</th>\n",
       "      <th>ENTAILMENT</th>\n",
       "      <th>helpfulness_cat</th>\n",
       "    </tr>\n",
       "  </thead>\n",
       "  <tbody>\n",
       "    <tr>\n",
       "      <th>0</th>\n",
       "      <td>0.301088</td>\n",
       "      <td>0.670759</td>\n",
       "      <td>0.028153</td>\n",
       "      <td>1.0</td>\n",
       "    </tr>\n",
       "    <tr>\n",
       "      <th>1</th>\n",
       "      <td>0.031557</td>\n",
       "      <td>0.959142</td>\n",
       "      <td>0.009301</td>\n",
       "      <td>1.0</td>\n",
       "    </tr>\n",
       "    <tr>\n",
       "      <th>2</th>\n",
       "      <td>0.000880</td>\n",
       "      <td>0.994948</td>\n",
       "      <td>0.004172</td>\n",
       "      <td>1.0</td>\n",
       "    </tr>\n",
       "    <tr>\n",
       "      <th>3</th>\n",
       "      <td>0.441404</td>\n",
       "      <td>0.545666</td>\n",
       "      <td>0.012929</td>\n",
       "      <td>1.0</td>\n",
       "    </tr>\n",
       "    <tr>\n",
       "      <th>4</th>\n",
       "      <td>0.083177</td>\n",
       "      <td>0.886534</td>\n",
       "      <td>0.030290</td>\n",
       "      <td>1.0</td>\n",
       "    </tr>\n",
       "  </tbody>\n",
       "</table>\n",
       "</div>"
      ],
      "text/plain": [
       "   CONTRADICTION   NEUTRAL  ENTAILMENT  helpfulness_cat\n",
       "0       0.301088  0.670759    0.028153              1.0\n",
       "1       0.031557  0.959142    0.009301              1.0\n",
       "2       0.000880  0.994948    0.004172              1.0\n",
       "3       0.441404  0.545666    0.012929              1.0\n",
       "4       0.083177  0.886534    0.030290              1.0"
      ]
     },
     "execution_count": 21,
     "metadata": {},
     "output_type": "execute_result"
    }
   ],
   "source": [
    "train_sentiment.head()"
   ]
  },
  {
   "cell_type": "code",
   "execution_count": 18,
   "metadata": {},
   "outputs": [
    {
     "name": "stdout",
     "output_type": "stream",
     "text": [
      "The average contradiction score for unhelpful reviews is: 0.12952283451497476.\n",
      "The average contradiction score for helpful reviews is: 0.10519036463656863.\n",
      "The average neutral score for unhelpful reviews is: 0.7467805991370402.\n",
      "The average neutral score for helpful reviews is: 0.7229228923420817.\n",
      "The average entailment score for unhelpful reviews is: 0.07568397245021018.\n",
      "The average entailment score for helpful reviews is: 0.054647882621228404.\n"
     ]
    }
   ],
   "source": [
    "# get the avg score for reviews\n",
    "print(\"The average contradiction score for unhelpful reviews is: {}.\".format(np.mean(train_sentiment['CONTRADICTION'][train_sentiment['helpfulness_cat'] == 0])))\n",
    "print(\"The average contradiction score for helpful reviews is: {}.\".format(np.mean(train_sentiment['CONTRADICTION'][train_sentiment['helpfulness_cat'] == 1])))\n",
    "print(\"The average neutral score for unhelpful reviews is: {}.\".format(np.mean(train_sentiment['NEUTRAL'][train_sentiment['helpfulness_cat'] == 0])))\n",
    "print(\"The average neutral score for helpful reviews is: {}.\".format(np.mean(train_sentiment['NEUTRAL'][train_sentiment['helpfulness_cat'] == 1])))\n",
    "print(\"The average entailment score for unhelpful reviews is: {}.\".format(np.mean(train_sentiment['ENTAILMENT'][train_sentiment['helpfulness_cat'] == 0])))\n",
    "print(\"The average entailment score for helpful reviews is: {}.\".format(np.mean(train_sentiment['ENTAILMENT'][train_sentiment['helpfulness_cat'] == 1])))\n"
   ]
  },
  {
   "cell_type": "code",
   "execution_count": 14,
   "metadata": {},
   "outputs": [
    {
     "name": "stderr",
     "output_type": "stream",
     "text": [
      "/home/ash/miniconda3/envs/nlp/lib/python3.9/site-packages/seaborn/distributions.py:2619: FutureWarning: `distplot` is a deprecated function and will be removed in a future version. Please adapt your code to use either `displot` (a figure-level function with similar flexibility) or `histplot` (an axes-level function for histograms).\n",
      "  warnings.warn(msg, FutureWarning)\n",
      "/home/ash/miniconda3/envs/nlp/lib/python3.9/site-packages/seaborn/distributions.py:2619: FutureWarning: `distplot` is a deprecated function and will be removed in a future version. Please adapt your code to use either `displot` (a figure-level function with similar flexibility) or `histplot` (an axes-level function for histograms).\n",
      "  warnings.warn(msg, FutureWarning)\n",
      "/home/ash/miniconda3/envs/nlp/lib/python3.9/site-packages/seaborn/distributions.py:2619: FutureWarning: `distplot` is a deprecated function and will be removed in a future version. Please adapt your code to use either `displot` (a figure-level function with similar flexibility) or `histplot` (an axes-level function for histograms).\n",
      "  warnings.warn(msg, FutureWarning)\n"
     ]
    },
    {
     "data": {
      "text/plain": [
       "Text(0.5, 0, 'Sentiment score')"
      ]
     },
     "execution_count": 14,
     "metadata": {},
     "output_type": "execute_result"
    },
    {
     "data": {
      "image/png": "[encoded data removed]",
      "text/plain": [
       "<Figure size 1080x432 with 1 Axes>"
      ]
     },
     "metadata": {
      "needs_background": "light"
     },
     "output_type": "display_data"
    }
   ],
   "source": [
    "# plot the distribution for each sentiment score based on helpfulness_cat\n",
    "fig, ax = plt.subplots(figsize=(15,6))\n",
    "ax.set_title(\"Distribution of sentiment score\", fontsize=16)\n",
    "sns.distplot(train_sentiment['CONTRADICTION'][train_sentiment['helpfulness_cat'] == 1], bins=50, ax=ax)\n",
    "sns.distplot(train_sentiment['NEUTRAL'][train_sentiment['helpfulness_cat'] == 1], bins=50, ax=ax)\n",
    "sns.distplot(train_sentiment['ENTAILMENT'][train_sentiment['helpfulness_cat'] == 1], bins=50, ax=ax)\n",
    "# plot legend\n",
    "ax.legend(['CONTRADICTION', 'NEUTRAL', 'ENTAILMENT'])\n",
    "ax.set_xlabel(\"Sentiment score\")\n"
   ]
  },
  {
   "cell_type": "code",
   "execution_count": 15,
   "metadata": {},
   "outputs": [
    {
     "name": "stderr",
     "output_type": "stream",
     "text": [
      "/home/ash/miniconda3/envs/nlp/lib/python3.9/site-packages/seaborn/distributions.py:2619: FutureWarning: `distplot` is a deprecated function and will be removed in a future version. Please adapt your code to use either `displot` (a figure-level function with similar flexibility) or `histplot` (an axes-level function for histograms).\n",
      "  warnings.warn(msg, FutureWarning)\n",
      "/home/ash/miniconda3/envs/nlp/lib/python3.9/site-packages/seaborn/distributions.py:2619: FutureWarning: `distplot` is a deprecated function and will be removed in a future version. Please adapt your code to use either `displot` (a figure-level function with similar flexibility) or `histplot` (an axes-level function for histograms).\n",
      "  warnings.warn(msg, FutureWarning)\n",
      "/home/ash/miniconda3/envs/nlp/lib/python3.9/site-packages/seaborn/distributions.py:2619: FutureWarning: `distplot` is a deprecated function and will be removed in a future version. Please adapt your code to use either `displot` (a figure-level function with similar flexibility) or `histplot` (an axes-level function for histograms).\n",
      "  warnings.warn(msg, FutureWarning)\n"
     ]
    },
    {
     "data": {
      "text/plain": [
       "Text(0.5, 0, 'Sentiment score')"
      ]
     },
     "execution_count": 15,
     "metadata": {},
     "output_type": "execute_result"
    },
    {
     "data": {
      "image/png": "[encoded data removed]",
      "text/plain": [
       "<Figure size 1080x432 with 1 Axes>"
      ]
     },
     "metadata": {
      "needs_background": "light"
     },
     "output_type": "display_data"
    }
   ],
   "source": [
    "# plot the distribution for each sentiment score based on helpfulness_cat\n",
    "fig, ax = plt.subplots(figsize=(15,6))\n",
    "ax.set_title(\"Distribution of sentiment score\", fontsize=16)\n",
    "sns.distplot(train_sentiment['CONTRADICTION'][train_sentiment['helpfulness_cat'] == 0], bins=50, ax=ax)\n",
    "sns.distplot(train_sentiment['NEUTRAL'][train_sentiment['helpfulness_cat'] == 0], bins=50, ax=ax)\n",
    "sns.distplot(train_sentiment['ENTAILMENT'][train_sentiment['helpfulness_cat'] == 0], bins=50, ax=ax)\n",
    "# plot legend\n",
    "ax.legend(['CONTRADICTION', 'NEUTRAL', 'ENTAILMENT'])\n",
    "ax.set_xlabel(\"Sentiment score\")"
   ]
  },
  {
   "cell_type": "code",
   "execution_count": 120,
   "metadata": {},
   "outputs": [
    {
     "name": "stderr",
     "output_type": "stream",
     "text": [
      "[nltk_data] Downloading package vader_lexicon to\n",
      "[nltk_data]     /home/ash/nltk_data...\n",
      "[nltk_data]   Package vader_lexicon is already up-to-date!\n"
     ]
    }
   ],
   "source": [
    "# using nltk vader to carry out sentiment analysis\n",
    "import nltk\n",
    "#nltk.download(\"vader_lexicon\")\n",
    "from nltk.sentiment.vader import SentimentIntensityAnalyzer"
   ]
  },
  {
   "cell_type": "code",
   "execution_count": 20,
   "metadata": {},
   "outputs": [],
   "source": [
    "# create a function to calculate the sentiment score\n",
    "sent_analyzer = SentimentIntensityAnalyzer()\n",
    "def sentiment_score(text):\n",
    "    score = sent_analyzer.polarity_scores(text)\n",
    "    score.pop('compound')\n",
    "    return score"
   ]
  },
  {
   "cell_type": "code",
   "execution_count": 21,
   "metadata": {},
   "outputs": [
    {
     "data": {
      "text/html": [
       "<div>\n",
       "<style scoped>\n",
       "    .dataframe tbody tr th:only-of-type {\n",
       "        vertical-align: middle;\n",
       "    }\n",
       "\n",
       "    .dataframe tbody tr th {\n",
       "        vertical-align: top;\n",
       "    }\n",
       "\n",
       "    .dataframe thead th {\n",
       "        text-align: right;\n",
       "    }\n",
       "</style>\n",
       "<table border=\"1\" class=\"dataframe\">\n",
       "  <thead>\n",
       "    <tr style=\"text-align: right;\">\n",
       "      <th></th>\n",
       "      <th>helpfulness_cat</th>\n",
       "      <th>imdb_user_review</th>\n",
       "      <th>neg</th>\n",
       "      <th>neu</th>\n",
       "      <th>pos</th>\n",
       "    </tr>\n",
       "  </thead>\n",
       "  <tbody>\n",
       "    <tr>\n",
       "      <th>0</th>\n",
       "      <td>1.0</td>\n",
       "      <td>it is hard to find such delightful and adorabl...</td>\n",
       "      <td>0.072</td>\n",
       "      <td>0.540</td>\n",
       "      <td>0.387</td>\n",
       "    </tr>\n",
       "    <tr>\n",
       "      <th>1</th>\n",
       "      <td>1.0</td>\n",
       "      <td>they don t make films like this faded, hauntin...</td>\n",
       "      <td>0.081</td>\n",
       "      <td>0.854</td>\n",
       "      <td>0.065</td>\n",
       "    </tr>\n",
       "    <tr>\n",
       "      <th>2</th>\n",
       "      <td>1.0</td>\n",
       "      <td>i first viewed this movie in 1924 at age 6 yrs...</td>\n",
       "      <td>0.045</td>\n",
       "      <td>0.749</td>\n",
       "      <td>0.206</td>\n",
       "    </tr>\n",
       "    <tr>\n",
       "      <th>3</th>\n",
       "      <td>1.0</td>\n",
       "      <td>i doubt that i d ever seen anything resembling...</td>\n",
       "      <td>0.116</td>\n",
       "      <td>0.748</td>\n",
       "      <td>0.135</td>\n",
       "    </tr>\n",
       "    <tr>\n",
       "      <th>4</th>\n",
       "      <td>1.0</td>\n",
       "      <td>i was shocked to find myself riveted to this m...</td>\n",
       "      <td>0.058</td>\n",
       "      <td>0.797</td>\n",
       "      <td>0.145</td>\n",
       "    </tr>\n",
       "  </tbody>\n",
       "</table>\n",
       "</div>"
      ],
      "text/plain": [
       "   helpfulness_cat                                   imdb_user_review    neg  \\\n",
       "0              1.0  it is hard to find such delightful and adorabl...  0.072   \n",
       "1              1.0  they don t make films like this faded, hauntin...  0.081   \n",
       "2              1.0  i first viewed this movie in 1924 at age 6 yrs...  0.045   \n",
       "3              1.0  i doubt that i d ever seen anything resembling...  0.116   \n",
       "4              1.0  i was shocked to find myself riveted to this m...  0.058   \n",
       "\n",
       "     neu    pos  \n",
       "0  0.540  0.387  \n",
       "1  0.854  0.065  \n",
       "2  0.749  0.206  \n",
       "3  0.748  0.135  \n",
       "4  0.797  0.145  "
      ]
     },
     "execution_count": 21,
     "metadata": {},
     "output_type": "execute_result"
    }
   ],
   "source": [
    "# calculate the sentiment score for each review and create neg, neu and pos columns\n",
    "train['neg'] = train['imdb_user_review'].apply(sentiment_score).apply(lambda x: x['neg'])\n",
    "train['neu'] = train['imdb_user_review'].apply(sentiment_score).apply(lambda x: x['neu'])\n",
    "train['pos'] = train['imdb_user_review'].apply(sentiment_score).apply(lambda x: x['pos'])\n",
    "train.head()\n"
   ]
  },
  {
   "cell_type": "code",
   "execution_count": 22,
   "metadata": {},
   "outputs": [],
   "source": [
    "# export the sentiment score to csv\n",
    "train.to_csv('train_pos_neg_sentiment_score.csv', index=False)"
   ]
  },
  {
   "cell_type": "code",
   "execution_count": 23,
   "metadata": {},
   "outputs": [
    {
     "name": "stdout",
     "output_type": "stream",
     "text": [
      "The average negative score for unhelpful reviews is: 0.11789925226288862.\n",
      "The average negative score for helpful reviews is: 0.09155953250547828.\n",
      "The average neutral score for unhelpful reviews is: 0.7268256591892942.\n",
      "The average neutral score for helpful reviews is: 0.7353839785731674.\n",
      "The average positive score for unhelpful reviews is: 0.15527902400629673.\n",
      "The average positive score for helpful reviews is: 0.17305028000973946.\n"
     ]
    }
   ],
   "source": [
    "# get the avg score for reviews\n",
    "print(\"The average negative score for unhelpful reviews is: {}.\".format(np.mean(train['neg'][train['helpfulness_cat'] == 0])))\n",
    "print(\"The average negative score for helpful reviews is: {}.\".format(np.mean(train['neg'][train['helpfulness_cat'] == 1])))\n",
    "print(\"The average neutral score for unhelpful reviews is: {}.\".format(np.mean(train['neu'][train['helpfulness_cat'] == 0])))\n",
    "print(\"The average neutral score for helpful reviews is: {}.\".format(np.mean(train['neu'][train['helpfulness_cat'] == 1])))\n",
    "print(\"The average positive score for unhelpful reviews is: {}.\".format(np.mean(train['pos'][train['helpfulness_cat'] == 0])))\n",
    "print(\"The average positive score for helpful reviews is: {}.\".format(np.mean(train['pos'][train['helpfulness_cat'] == 1])))\n"
   ]
  },
  {
   "cell_type": "code",
   "execution_count": 146,
   "metadata": {},
   "outputs": [
    {
     "name": "stderr",
     "output_type": "stream",
     "text": [
      "/home/ash/miniconda3/envs/nlp/lib/python3.9/site-packages/seaborn/distributions.py:2619: FutureWarning: `distplot` is a deprecated function and will be removed in a future version. Please adapt your code to use either `displot` (a figure-level function with similar flexibility) or `histplot` (an axes-level function for histograms).\n",
      "  warnings.warn(msg, FutureWarning)\n",
      "/home/ash/miniconda3/envs/nlp/lib/python3.9/site-packages/seaborn/distributions.py:2619: FutureWarning: `distplot` is a deprecated function and will be removed in a future version. Please adapt your code to use either `displot` (a figure-level function with similar flexibility) or `histplot` (an axes-level function for histograms).\n",
      "  warnings.warn(msg, FutureWarning)\n",
      "/home/ash/miniconda3/envs/nlp/lib/python3.9/site-packages/seaborn/distributions.py:2619: FutureWarning: `distplot` is a deprecated function and will be removed in a future version. Please adapt your code to use either `displot` (a figure-level function with similar flexibility) or `histplot` (an axes-level function for histograms).\n",
      "  warnings.warn(msg, FutureWarning)\n"
     ]
    },
    {
     "data": {
      "text/plain": [
       "Text(0.5, 0, 'Sentiment score')"
      ]
     },
     "execution_count": 146,
     "metadata": {},
     "output_type": "execute_result"
    },
    {
     "data": {
      "image/png": "[encoded data removed]",
      "text/plain": [
       "<Figure size 1080x432 with 1 Axes>"
      ]
     },
     "metadata": {
      "needs_background": "light"
     },
     "output_type": "display_data"
    }
   ],
   "source": [
    "# plot the distribution for each sentiment score based on helpfulness_cat\n",
    "fig, ax = plt.subplots(figsize=(15,6))\n",
    "ax.set_title(\"Distribution of sentiment score\", fontsize=16)\n",
    "sns.distplot(train['pos'][train['helpfulness_cat'] == 1], bins=50, ax=ax)\n",
    "sns.distplot(train['neu'][train['helpfulness_cat'] == 1], bins=50, ax=ax)\n",
    "sns.distplot(train['neg'][train['helpfulness_cat'] == 1], bins=50, ax=ax)\n",
    "# plot legend\n",
    "ax.legend(['Positive', 'Neutral', 'Negative'])\n",
    "ax.set_xlabel(\"Sentiment score\")\n"
   ]
  },
  {
   "cell_type": "code",
   "execution_count": 147,
   "metadata": {},
   "outputs": [
    {
     "name": "stderr",
     "output_type": "stream",
     "text": [
      "/home/ash/miniconda3/envs/nlp/lib/python3.9/site-packages/seaborn/distributions.py:2619: FutureWarning: `distplot` is a deprecated function and will be removed in a future version. Please adapt your code to use either `displot` (a figure-level function with similar flexibility) or `histplot` (an axes-level function for histograms).\n",
      "  warnings.warn(msg, FutureWarning)\n",
      "/home/ash/miniconda3/envs/nlp/lib/python3.9/site-packages/seaborn/distributions.py:2619: FutureWarning: `distplot` is a deprecated function and will be removed in a future version. Please adapt your code to use either `displot` (a figure-level function with similar flexibility) or `histplot` (an axes-level function for histograms).\n",
      "  warnings.warn(msg, FutureWarning)\n",
      "/home/ash/miniconda3/envs/nlp/lib/python3.9/site-packages/seaborn/distributions.py:2619: FutureWarning: `distplot` is a deprecated function and will be removed in a future version. Please adapt your code to use either `displot` (a figure-level function with similar flexibility) or `histplot` (an axes-level function for histograms).\n",
      "  warnings.warn(msg, FutureWarning)\n"
     ]
    },
    {
     "data": {
      "text/plain": [
       "Text(0.5, 0, 'Sentiment score')"
      ]
     },
     "execution_count": 147,
     "metadata": {},
     "output_type": "execute_result"
    },
    {
     "data": {
      "image/png": "[encoded data removed]",
      "text/plain": [
       "<Figure size 1080x432 with 1 Axes>"
      ]
     },
     "metadata": {
      "needs_background": "light"
     },
     "output_type": "display_data"
    }
   ],
   "source": [
    "# plot the distribution for each sentiment score based on helpfulness_cat\n",
    "fig, ax = plt.subplots(figsize=(15,6))\n",
    "ax.set_title(\"Distribution of sentiment score\", fontsize=16)\n",
    "sns.distplot(train['pos'][train['helpfulness_cat'] == 0], bins=50, ax=ax)\n",
    "sns.distplot(train['neu'][train['helpfulness_cat'] == 0], bins=50, ax=ax)\n",
    "sns.distplot(train['neg'][train['helpfulness_cat'] == 0], bins=50, ax=ax)\n",
    "# plot legend\n",
    "ax.legend(['Positive', 'Neutral', 'Negative'])\n",
    "ax.set_xlabel(\"Sentiment score\")"
   ]
  },
  {
   "cell_type": "code",
   "execution_count": 156,
   "metadata": {},
   "outputs": [
    {
     "data": {
      "text/html": [
       "<div>\n",
       "<style scoped>\n",
       "    .dataframe tbody tr th:only-of-type {\n",
       "        vertical-align: middle;\n",
       "    }\n",
       "\n",
       "    .dataframe tbody tr th {\n",
       "        vertical-align: top;\n",
       "    }\n",
       "\n",
       "    .dataframe thead th {\n",
       "        text-align: right;\n",
       "    }\n",
       "</style>\n",
       "<table border=\"1\" class=\"dataframe\">\n",
       "  <thead>\n",
       "    <tr style=\"text-align: right;\">\n",
       "      <th></th>\n",
       "      <th>helpfulness_cat</th>\n",
       "      <th>imdb_user_review</th>\n",
       "      <th>subjective_score</th>\n",
       "    </tr>\n",
       "  </thead>\n",
       "  <tbody>\n",
       "    <tr>\n",
       "      <th>0</th>\n",
       "      <td>1.0</td>\n",
       "      <td>it is hard to find such delightful and adorabl...</td>\n",
       "      <td>0.637457</td>\n",
       "    </tr>\n",
       "    <tr>\n",
       "      <th>1</th>\n",
       "      <td>1.0</td>\n",
       "      <td>they don t make films like this faded, hauntin...</td>\n",
       "      <td>0.376882</td>\n",
       "    </tr>\n",
       "    <tr>\n",
       "      <th>2</th>\n",
       "      <td>1.0</td>\n",
       "      <td>i first viewed this movie in 1924 at age 6 yrs...</td>\n",
       "      <td>0.601871</td>\n",
       "    </tr>\n",
       "    <tr>\n",
       "      <th>3</th>\n",
       "      <td>1.0</td>\n",
       "      <td>i doubt that i d ever seen anything resembling...</td>\n",
       "      <td>0.588847</td>\n",
       "    </tr>\n",
       "    <tr>\n",
       "      <th>4</th>\n",
       "      <td>1.0</td>\n",
       "      <td>i was shocked to find myself riveted to this m...</td>\n",
       "      <td>0.409792</td>\n",
       "    </tr>\n",
       "  </tbody>\n",
       "</table>\n",
       "</div>"
      ],
      "text/plain": [
       "   helpfulness_cat                                   imdb_user_review  \\\n",
       "0              1.0  it is hard to find such delightful and adorabl...   \n",
       "1              1.0  they don t make films like this faded, hauntin...   \n",
       "2              1.0  i first viewed this movie in 1924 at age 6 yrs...   \n",
       "3              1.0  i doubt that i d ever seen anything resembling...   \n",
       "4              1.0  i was shocked to find myself riveted to this m...   \n",
       "\n",
       "   subjective_score  \n",
       "0          0.637457  \n",
       "1          0.376882  \n",
       "2          0.601871  \n",
       "3          0.588847  \n",
       "4          0.409792  "
      ]
     },
     "execution_count": 156,
     "metadata": {},
     "output_type": "execute_result"
    }
   ],
   "source": [
    "# get subjectivity score for each review\n",
    "from textblob import TextBlob\n",
    "def getSubjectivity(text):\n",
    "   return TextBlob(text).sentiment.subjectivity\n",
    "\n",
    "train['subjective_score'] = train['imdb_user_review'].apply(getSubjectivity)\n",
    "train.head()"
   ]
  },
  {
   "cell_type": "code",
   "execution_count": 157,
   "metadata": {},
   "outputs": [
    {
     "name": "stderr",
     "output_type": "stream",
     "text": [
      "/home/ash/miniconda3/envs/nlp/lib/python3.9/site-packages/seaborn/distributions.py:2619: FutureWarning: `distplot` is a deprecated function and will be removed in a future version. Please adapt your code to use either `displot` (a figure-level function with similar flexibility) or `histplot` (an axes-level function for histograms).\n",
      "  warnings.warn(msg, FutureWarning)\n",
      "/home/ash/miniconda3/envs/nlp/lib/python3.9/site-packages/seaborn/distributions.py:2619: FutureWarning: `distplot` is a deprecated function and will be removed in a future version. Please adapt your code to use either `displot` (a figure-level function with similar flexibility) or `histplot` (an axes-level function for histograms).\n",
      "  warnings.warn(msg, FutureWarning)\n"
     ]
    },
    {
     "data": {
      "text/plain": [
       "Text(0.5, 0, 'Subjectivity score')"
      ]
     },
     "execution_count": 157,
     "metadata": {},
     "output_type": "execute_result"
    },
    {
     "data": {
      "image/png": "[encoded data removed]",
      "text/plain": [
       "<Figure size 1080x432 with 1 Axes>"
      ]
     },
     "metadata": {
      "needs_background": "light"
     },
     "output_type": "display_data"
    }
   ],
   "source": [
    "# plot the distribution for subjectivity score based on helpfulness_cat\n",
    "fig, ax = plt.subplots(figsize=(15,6))\n",
    "ax.set_title(\"Distribution of subjectivity score\", fontsize=16)\n",
    "sns.distplot(train['subjective_score'][train['helpfulness_cat'] == 1], bins=50, ax=ax)\n",
    "sns.distplot(train['subjective_score'][train['helpfulness_cat'] == 0], bins=50, ax=ax)\n",
    "# plot legend\n",
    "ax.legend(['Helpful', 'Unhelpful'])\n",
    "ax.set_xlabel(\"Subjectivity score\")"
   ]
  },
  {
   "cell_type": "code",
   "execution_count": 158,
   "metadata": {},
   "outputs": [
    {
     "name": "stdout",
     "output_type": "stream",
     "text": [
      "The average subjectivity score for unhelpful reviews is: 0.5352883013500236.\n",
      "The average subjectivity score for helpful reviews is: 0.5410528095834198.\n"
     ]
    }
   ],
   "source": [
    "# get the avg score for reviews\n",
    "print(\"The average subjectivity score for unhelpful reviews is: {}.\".format(np.mean(train['subjective_score'][train['helpfulness_cat'] == 0])))\n",
    "print(\"The average subjectivity score for helpful reviews is: {}.\".format(np.mean(train['subjective_score'][train['helpfulness_cat'] == 1])))\n"
   ]
  },
  {
   "cell_type": "markdown",
   "metadata": {},
   "source": [
    "LDA"
   ]
  },
  {
   "cell_type": "code",
   "execution_count": 24,
   "metadata": {},
   "outputs": [
    {
     "data": {
      "text/html": [
       "<div>\n",
       "<style scoped>\n",
       "    .dataframe tbody tr th:only-of-type {\n",
       "        vertical-align: middle;\n",
       "    }\n",
       "\n",
       "    .dataframe tbody tr th {\n",
       "        vertical-align: top;\n",
       "    }\n",
       "\n",
       "    .dataframe thead th {\n",
       "        text-align: right;\n",
       "    }\n",
       "</style>\n",
       "<table border=\"1\" class=\"dataframe\">\n",
       "  <thead>\n",
       "    <tr style=\"text-align: right;\">\n",
       "      <th></th>\n",
       "      <th>helpfulness_cat</th>\n",
       "      <th>imdb_user_review</th>\n",
       "      <th>neg</th>\n",
       "      <th>neu</th>\n",
       "      <th>pos</th>\n",
       "    </tr>\n",
       "  </thead>\n",
       "  <tbody>\n",
       "    <tr>\n",
       "      <th>0</th>\n",
       "      <td>1.0</td>\n",
       "      <td>it is hard to find such delightful and adorabl...</td>\n",
       "      <td>0.072</td>\n",
       "      <td>0.540</td>\n",
       "      <td>0.387</td>\n",
       "    </tr>\n",
       "    <tr>\n",
       "      <th>1</th>\n",
       "      <td>1.0</td>\n",
       "      <td>they don t make films like this faded, hauntin...</td>\n",
       "      <td>0.081</td>\n",
       "      <td>0.854</td>\n",
       "      <td>0.065</td>\n",
       "    </tr>\n",
       "    <tr>\n",
       "      <th>2</th>\n",
       "      <td>1.0</td>\n",
       "      <td>i first viewed this movie in 1924 at age 6 yrs...</td>\n",
       "      <td>0.045</td>\n",
       "      <td>0.749</td>\n",
       "      <td>0.206</td>\n",
       "    </tr>\n",
       "    <tr>\n",
       "      <th>3</th>\n",
       "      <td>1.0</td>\n",
       "      <td>i doubt that i d ever seen anything resembling...</td>\n",
       "      <td>0.116</td>\n",
       "      <td>0.748</td>\n",
       "      <td>0.135</td>\n",
       "    </tr>\n",
       "    <tr>\n",
       "      <th>4</th>\n",
       "      <td>1.0</td>\n",
       "      <td>i was shocked to find myself riveted to this m...</td>\n",
       "      <td>0.058</td>\n",
       "      <td>0.797</td>\n",
       "      <td>0.145</td>\n",
       "    </tr>\n",
       "    <tr>\n",
       "      <th>...</th>\n",
       "      <td>...</td>\n",
       "      <td>...</td>\n",
       "      <td>...</td>\n",
       "      <td>...</td>\n",
       "      <td>...</td>\n",
       "    </tr>\n",
       "    <tr>\n",
       "      <th>95</th>\n",
       "      <td>1.0</td>\n",
       "      <td>i don t know why this movie always hooks me th...</td>\n",
       "      <td>0.135</td>\n",
       "      <td>0.652</td>\n",
       "      <td>0.214</td>\n",
       "    </tr>\n",
       "    <tr>\n",
       "      <th>96</th>\n",
       "      <td>1.0</td>\n",
       "      <td>what a genius joseph l manckiewicz was. a lite...</td>\n",
       "      <td>0.037</td>\n",
       "      <td>0.866</td>\n",
       "      <td>0.097</td>\n",
       "    </tr>\n",
       "    <tr>\n",
       "      <th>97</th>\n",
       "      <td>1.0</td>\n",
       "      <td>when i first saw this movie i didn t think i w...</td>\n",
       "      <td>0.035</td>\n",
       "      <td>0.767</td>\n",
       "      <td>0.198</td>\n",
       "    </tr>\n",
       "    <tr>\n",
       "      <th>98</th>\n",
       "      <td>1.0</td>\n",
       "      <td>bogart stretches his acting muscles and allows...</td>\n",
       "      <td>0.079</td>\n",
       "      <td>0.750</td>\n",
       "      <td>0.171</td>\n",
       "    </tr>\n",
       "    <tr>\n",
       "      <th>99</th>\n",
       "      <td>1.0</td>\n",
       "      <td>very briefly, if you love film noir , excellen...</td>\n",
       "      <td>0.042</td>\n",
       "      <td>0.523</td>\n",
       "      <td>0.435</td>\n",
       "    </tr>\n",
       "  </tbody>\n",
       "</table>\n",
       "<p>100 rows × 5 columns</p>\n",
       "</div>"
      ],
      "text/plain": [
       "    helpfulness_cat                                   imdb_user_review    neg  \\\n",
       "0               1.0  it is hard to find such delightful and adorabl...  0.072   \n",
       "1               1.0  they don t make films like this faded, hauntin...  0.081   \n",
       "2               1.0  i first viewed this movie in 1924 at age 6 yrs...  0.045   \n",
       "3               1.0  i doubt that i d ever seen anything resembling...  0.116   \n",
       "4               1.0  i was shocked to find myself riveted to this m...  0.058   \n",
       "..              ...                                                ...    ...   \n",
       "95              1.0  i don t know why this movie always hooks me th...  0.135   \n",
       "96              1.0  what a genius joseph l manckiewicz was. a lite...  0.037   \n",
       "97              1.0  when i first saw this movie i didn t think i w...  0.035   \n",
       "98              1.0  bogart stretches his acting muscles and allows...  0.079   \n",
       "99              1.0  very briefly, if you love film noir , excellen...  0.042   \n",
       "\n",
       "      neu    pos  \n",
       "0   0.540  0.387  \n",
       "1   0.854  0.065  \n",
       "2   0.749  0.206  \n",
       "3   0.748  0.135  \n",
       "4   0.797  0.145  \n",
       "..    ...    ...  \n",
       "95  0.652  0.214  \n",
       "96  0.866  0.097  \n",
       "97  0.767  0.198  \n",
       "98  0.750  0.171  \n",
       "99  0.523  0.435  \n",
       "\n",
       "[100 rows x 5 columns]"
      ]
     },
     "execution_count": 24,
     "metadata": {},
     "output_type": "execute_result"
    }
   ],
   "source": [
    "# create a small sample of the training data\n",
    "train = train[:100]\n",
    "train"
   ]
  },
  {
   "cell_type": "code",
   "execution_count": 25,
   "metadata": {},
   "outputs": [],
   "source": [
    "# LDA\n",
    "nlp = spacy.load(\"en_core_web_sm\")\n",
    "docs_tokens, tmp_tokens = [], []\n",
    "for item in train.loc[:, \"imdb_user_review\"].to_list():\n",
    "    tmp_tokens = [\n",
    "        token.lemma_\n",
    "        for token in nlp(item)\n",
    "        if not token.is_stop and not token.is_punct and not token.like_num\n",
    "    ]\n",
    "    docs_tokens.append(tmp_tokens)\n",
    "    tmp_tokens = []"
   ]
  },
  {
   "cell_type": "markdown",
   "metadata": {},
   "source": [
    "# model build"
   ]
  },
  {
   "cell_type": "markdown",
   "metadata": {},
   "source": [
    "### Doc2Vec"
   ]
  },
  {
   "cell_type": "code",
   "execution_count": 67,
   "metadata": {},
   "outputs": [],
   "source": [
    "def basic_clean(text):\n",
    "    \"\"\"\n",
    "    Remove \\\\,\\n,\\t,... from text\n",
    "    Remove whitespace from text\n",
    "    change to lowercase\n",
    "    \"\"\"\n",
    "    \n",
    "    # Replacing all the occurrences of \\n,\\\\n,\\t,\\\\ with a space.\n",
    "    Formatted_text = text.replace('\\\\n', ' ').replace('\\n', ' ').replace('\\t',' ').replace('\\'', '').replace('\"',' ')\n",
    "    pattern = re.compile(r'\\s+')\n",
    "    Formatted_text = Formatted_text.lower()\n",
    "    Formatted_text = Formatted_text.replace(r'u00b4','') \n",
    "    Formatted_text = Formatted_text.replace(r'u0085', '')\n",
    "    Formatted_text = Formatted_text.replace('\\\\',' ')\n",
    "    Without_whitespace = re.sub(pattern, ' ', Formatted_text)\n",
    "    Formatted_text = Without_whitespace.replace('?', ' ? ').replace(')', ') ')\n",
    "    without_digit = re.sub(r'[^A-Za-z0-9]+',\" \", Formatted_text)\n",
    "    final_text = ''.join([i for i in without_digit if not i.isdigit()])\n",
    "    return final_text"
   ]
  },
  {
   "cell_type": "code",
   "execution_count": 68,
   "metadata": {},
   "outputs": [],
   "source": [
    "train['imdb_user_review'] = train['imdb_user_review'].apply(basic_clean)"
   ]
  },
  {
   "cell_type": "code",
   "execution_count": 69,
   "metadata": {},
   "outputs": [],
   "source": [
    "# create a new balanced dataset\n",
    "unhelpful = train.loc[train[\"helpfulness_cat\"] == 0, [\"imdb_user_review\", \"helpfulness_cat\"]]\n",
    "helpful = train.loc[train[\"helpfulness_cat\"] == 1, [\"imdb_user_review\", \"helpfulness_cat\"]]\n",
    "helpful = helpful.sample(n=len(unhelpful), random_state=42)\n",
    "s = pd.concat([unhelpful, helpful]) # create a more balanced training set for training the model"
   ]
  },
  {
   "cell_type": "code",
   "execution_count": 27,
   "metadata": {},
   "outputs": [],
   "source": [
    "#import Doc2vec libraries\n",
    "from nltk.tokenize import wordpunct_tokenize\n",
    "from gensim.models.doc2vec import Doc2Vec, TaggedDocument"
   ]
  },
  {
   "cell_type": "code",
   "execution_count": 70,
   "metadata": {},
   "outputs": [
    {
     "name": "stdout",
     "output_type": "stream",
     "text": [
      "(3557,)\n",
      "(3557,)\n",
      "(1525,)\n",
      "(1525,)\n"
     ]
    }
   ],
   "source": [
    "# split the trainaing data into train and test\n",
    "from sklearn.model_selection import train_test_split\n",
    "x_train, x_test, y_train, y_test = train_test_split(s['imdb_user_review'], \n",
    "                                                    s.helpfulness_cat, \n",
    "                                                    random_state=123,\n",
    "                                                    test_size=0.3)\n",
    "\n",
    "print(x_train.shape)\n",
    "print(y_train.shape)\n",
    "print(x_test.shape)\n",
    "print(y_test.shape)"
   ]
  },
  {
   "cell_type": "code",
   "execution_count": 71,
   "metadata": {},
   "outputs": [],
   "source": [
    "#tokenize the quotes for training dataset\n",
    "tkn_quotes_train = [wordpunct_tokenize(quote.lower()) for quote in x_train.to_list()] \n",
    "tgd_quotes_train = [TaggedDocument(d, [i]) for i, d in enumerate(tkn_quotes_train)]"
   ]
  },
  {
   "cell_type": "code",
   "execution_count": 72,
   "metadata": {},
   "outputs": [],
   "source": [
    "#tokenize the quotes for testing dataset\n",
    "tkn_quotes_test= [wordpunct_tokenize(quote.lower()) for quote in x_test.to_list()] \n",
    "tgd_quotes_test = [TaggedDocument(d, [i]) for i, d in enumerate(tkn_quotes_test)]"
   ]
  },
  {
   "cell_type": "code",
   "execution_count": 73,
   "metadata": {},
   "outputs": [],
   "source": [
    "#tokenize the quotes for training dataset\n",
    "tkn_quotes = [wordpunct_tokenize(quote.lower()) for quote in s['imdb_user_review'].to_list()] \n",
    "tgd_quotes= [TaggedDocument(d, [i]) for i, d in enumerate(tkn_quotes)]"
   ]
  },
  {
   "cell_type": "code",
   "execution_count": 74,
   "metadata": {},
   "outputs": [],
   "source": [
    "# build doc2vec model with DBOW approach - using the whole dataset to train the model\n",
    "model_d2v = Doc2Vec(\n",
    "    tgd_quotes, vector_size=300, \n",
    "    window=2, min_count=1, workers=4, \n",
    "    epochs=100,negative=5\n",
    "    )"
   ]
  },
  {
   "cell_type": "code",
   "execution_count": 75,
   "metadata": {},
   "outputs": [],
   "source": [
    "# accessing the doc2vec model\n",
    "#vectorise the training and testing dataset separately\n",
    "quote_vectors_train  = [model_d2v.infer_vector(tgd_quotes_train[i].words) \n",
    "                        for i in range(len(tgd_quotes_train))]\n",
    "\n",
    "quote_vectors_test  = [model_d2v.infer_vector(tgd_quotes_test[i].words) \n",
    "                        for i in range(len(tgd_quotes_test))]"
   ]
  },
  {
   "cell_type": "code",
   "execution_count": 76,
   "metadata": {},
   "outputs": [
    {
     "data": {
      "text/html": [
       "<style>#sk-container-id-7 {color: black;background-color: white;}#sk-container-id-7 pre{padding: 0;}#sk-container-id-7 div.sk-toggleable {background-color: white;}#sk-container-id-7 label.sk-toggleable__label {cursor: pointer;display: block;width: 100%;margin-bottom: 0;padding: 0.3em;box-sizing: border-box;text-align: center;}#sk-container-id-7 label.sk-toggleable__label-arrow:before {content: \"▸\";float: left;margin-right: 0.25em;color: #696969;}#sk-container-id-7 label.sk-toggleable__label-arrow:hover:before {color: black;}#sk-container-id-7 div.sk-estimator:hover label.sk-toggleable__label-arrow:before {color: black;}#sk-container-id-7 div.sk-toggleable__content {max-height: 0;max-width: 0;overflow: hidden;text-align: left;background-color: #f0f8ff;}#sk-container-id-7 div.sk-toggleable__content pre {margin: 0.2em;color: black;border-radius: 0.25em;background-color: #f0f8ff;}#sk-container-id-7 input.sk-toggleable__control:checked~div.sk-toggleable__content {max-height: 200px;max-width: 100%;overflow: auto;}#sk-container-id-7 input.sk-toggleable__control:checked~label.sk-toggleable__label-arrow:before {content: \"▾\";}#sk-container-id-7 div.sk-estimator input.sk-toggleable__control:checked~label.sk-toggleable__label {background-color: #d4ebff;}#sk-container-id-7 div.sk-label input.sk-toggleable__control:checked~label.sk-toggleable__label {background-color: #d4ebff;}#sk-container-id-7 input.sk-hidden--visually {border: 0;clip: rect(1px 1px 1px 1px);clip: rect(1px, 1px, 1px, 1px);height: 1px;margin: -1px;overflow: hidden;padding: 0;position: absolute;width: 1px;}#sk-container-id-7 div.sk-estimator {font-family: monospace;background-color: #f0f8ff;border: 1px dotted black;border-radius: 0.25em;box-sizing: border-box;margin-bottom: 0.5em;}#sk-container-id-7 div.sk-estimator:hover {background-color: #d4ebff;}#sk-container-id-7 div.sk-parallel-item::after {content: \"\";width: 100%;border-bottom: 1px solid gray;flex-grow: 1;}#sk-container-id-7 div.sk-label:hover label.sk-toggleable__label {background-color: #d4ebff;}#sk-container-id-7 div.sk-serial::before {content: \"\";position: absolute;border-left: 1px solid gray;box-sizing: border-box;top: 0;bottom: 0;left: 50%;z-index: 0;}#sk-container-id-7 div.sk-serial {display: flex;flex-direction: column;align-items: center;background-color: white;padding-right: 0.2em;padding-left: 0.2em;position: relative;}#sk-container-id-7 div.sk-item {position: relative;z-index: 1;}#sk-container-id-7 div.sk-parallel {display: flex;align-items: stretch;justify-content: center;background-color: white;position: relative;}#sk-container-id-7 div.sk-item::before, #sk-container-id-7 div.sk-parallel-item::before {content: \"\";position: absolute;border-left: 1px solid gray;box-sizing: border-box;top: 0;bottom: 0;left: 50%;z-index: -1;}#sk-container-id-7 div.sk-parallel-item {display: flex;flex-direction: column;z-index: 1;position: relative;background-color: white;}#sk-container-id-7 div.sk-parallel-item:first-child::after {align-self: flex-end;width: 50%;}#sk-container-id-7 div.sk-parallel-item:last-child::after {align-self: flex-start;width: 50%;}#sk-container-id-7 div.sk-parallel-item:only-child::after {width: 0;}#sk-container-id-7 div.sk-dashed-wrapped {border: 1px dashed gray;margin: 0 0.4em 0.5em 0.4em;box-sizing: border-box;padding-bottom: 0.4em;background-color: white;}#sk-container-id-7 div.sk-label label {font-family: monospace;font-weight: bold;display: inline-block;line-height: 1.2em;}#sk-container-id-7 div.sk-label-container {text-align: center;}#sk-container-id-7 div.sk-container {/* jupyter's `normalize.less` sets `[hidden] { display: none; }` but bootstrap.min.css set `[hidden] { display: none !important; }` so we also need the `!important` here to be able to override the default hidden behavior on the sphinx rendered scikit-learn.org. See: https://github.com/scikit-learn/scikit-learn/issues/21755 */display: inline-block !important;position: relative;}#sk-container-id-7 div.sk-text-repr-fallback {display: none;}</style><div id=\"sk-container-id-7\" class=\"sk-top-container\"><div class=\"sk-text-repr-fallback\"><pre>LogisticRegression()</pre><b>In a Jupyter environment, please rerun this cell to show the HTML representation or trust the notebook. <br />On GitHub, the HTML representation is unable to render, please try loading this page with nbviewer.org.</b></div><div class=\"sk-container\" hidden><div class=\"sk-item\"><div class=\"sk-estimator sk-toggleable\"><input class=\"sk-toggleable__control sk-hidden--visually\" id=\"sk-estimator-id-7\" type=\"checkbox\" checked><label for=\"sk-estimator-id-7\" class=\"sk-toggleable__label sk-toggleable__label-arrow\">LogisticRegression</label><div class=\"sk-toggleable__content\"><pre>LogisticRegression()</pre></div></div></div></div></div>"
      ],
      "text/plain": [
       "LogisticRegression()"
      ]
     },
     "execution_count": 76,
     "metadata": {},
     "output_type": "execute_result"
    }
   ],
   "source": [
    "# fit logistic regression model\n",
    "from sklearn.linear_model import LogisticRegression\n",
    "logreg = LogisticRegression()\n",
    "logreg.fit(quote_vectors_train, y_train)"
   ]
  },
  {
   "cell_type": "code",
   "execution_count": 77,
   "metadata": {},
   "outputs": [
    {
     "name": "stdout",
     "output_type": "stream",
     "text": [
      "0.6255737704918033\n",
      "Testing accuracy 0.6255737704918033\n",
      "              precision    recall  f1-score   support\n",
      "\n",
      "         0.0       0.61      0.69      0.64       752\n",
      "         1.0       0.65      0.56      0.60       773\n",
      "\n",
      "    accuracy                           0.63      1525\n",
      "   macro avg       0.63      0.63      0.62      1525\n",
      "weighted avg       0.63      0.63      0.62      1525\n",
      "\n"
     ]
    }
   ],
   "source": [
    "#evaluate the model\n",
    "from sklearn.metrics import accuracy_score\n",
    "from sklearn.metrics import classification_report\n",
    "\n",
    "print(logreg.score(quote_vectors_test, y_test))\n",
    "y_pred = logreg.predict(quote_vectors_test)\n",
    "print('Testing accuracy %s' % accuracy_score(y_test, y_pred))\n",
    "print(classification_report(y_test, y_pred))"
   ]
  },
  {
   "cell_type": "code",
   "execution_count": 79,
   "metadata": {},
   "outputs": [
    {
     "data": {
      "text/html": [
       "<style>#sk-container-id-9 {color: black;background-color: white;}#sk-container-id-9 pre{padding: 0;}#sk-container-id-9 div.sk-toggleable {background-color: white;}#sk-container-id-9 label.sk-toggleable__label {cursor: pointer;display: block;width: 100%;margin-bottom: 0;padding: 0.3em;box-sizing: border-box;text-align: center;}#sk-container-id-9 label.sk-toggleable__label-arrow:before {content: \"▸\";float: left;margin-right: 0.25em;color: #696969;}#sk-container-id-9 label.sk-toggleable__label-arrow:hover:before {color: black;}#sk-container-id-9 div.sk-estimator:hover label.sk-toggleable__label-arrow:before {color: black;}#sk-container-id-9 div.sk-toggleable__content {max-height: 0;max-width: 0;overflow: hidden;text-align: left;background-color: #f0f8ff;}#sk-container-id-9 div.sk-toggleable__content pre {margin: 0.2em;color: black;border-radius: 0.25em;background-color: #f0f8ff;}#sk-container-id-9 input.sk-toggleable__control:checked~div.sk-toggleable__content {max-height: 200px;max-width: 100%;overflow: auto;}#sk-container-id-9 input.sk-toggleable__control:checked~label.sk-toggleable__label-arrow:before {content: \"▾\";}#sk-container-id-9 div.sk-estimator input.sk-toggleable__control:checked~label.sk-toggleable__label {background-color: #d4ebff;}#sk-container-id-9 div.sk-label input.sk-toggleable__control:checked~label.sk-toggleable__label {background-color: #d4ebff;}#sk-container-id-9 input.sk-hidden--visually {border: 0;clip: rect(1px 1px 1px 1px);clip: rect(1px, 1px, 1px, 1px);height: 1px;margin: -1px;overflow: hidden;padding: 0;position: absolute;width: 1px;}#sk-container-id-9 div.sk-estimator {font-family: monospace;background-color: #f0f8ff;border: 1px dotted black;border-radius: 0.25em;box-sizing: border-box;margin-bottom: 0.5em;}#sk-container-id-9 div.sk-estimator:hover {background-color: #d4ebff;}#sk-container-id-9 div.sk-parallel-item::after {content: \"\";width: 100%;border-bottom: 1px solid gray;flex-grow: 1;}#sk-container-id-9 div.sk-label:hover label.sk-toggleable__label {background-color: #d4ebff;}#sk-container-id-9 div.sk-serial::before {content: \"\";position: absolute;border-left: 1px solid gray;box-sizing: border-box;top: 0;bottom: 0;left: 50%;z-index: 0;}#sk-container-id-9 div.sk-serial {display: flex;flex-direction: column;align-items: center;background-color: white;padding-right: 0.2em;padding-left: 0.2em;position: relative;}#sk-container-id-9 div.sk-item {position: relative;z-index: 1;}#sk-container-id-9 div.sk-parallel {display: flex;align-items: stretch;justify-content: center;background-color: white;position: relative;}#sk-container-id-9 div.sk-item::before, #sk-container-id-9 div.sk-parallel-item::before {content: \"\";position: absolute;border-left: 1px solid gray;box-sizing: border-box;top: 0;bottom: 0;left: 50%;z-index: -1;}#sk-container-id-9 div.sk-parallel-item {display: flex;flex-direction: column;z-index: 1;position: relative;background-color: white;}#sk-container-id-9 div.sk-parallel-item:first-child::after {align-self: flex-end;width: 50%;}#sk-container-id-9 div.sk-parallel-item:last-child::after {align-self: flex-start;width: 50%;}#sk-container-id-9 div.sk-parallel-item:only-child::after {width: 0;}#sk-container-id-9 div.sk-dashed-wrapped {border: 1px dashed gray;margin: 0 0.4em 0.5em 0.4em;box-sizing: border-box;padding-bottom: 0.4em;background-color: white;}#sk-container-id-9 div.sk-label label {font-family: monospace;font-weight: bold;display: inline-block;line-height: 1.2em;}#sk-container-id-9 div.sk-label-container {text-align: center;}#sk-container-id-9 div.sk-container {/* jupyter's `normalize.less` sets `[hidden] { display: none; }` but bootstrap.min.css set `[hidden] { display: none !important; }` so we also need the `!important` here to be able to override the default hidden behavior on the sphinx rendered scikit-learn.org. See: https://github.com/scikit-learn/scikit-learn/issues/21755 */display: inline-block !important;position: relative;}#sk-container-id-9 div.sk-text-repr-fallback {display: none;}</style><div id=\"sk-container-id-9\" class=\"sk-top-container\"><div class=\"sk-text-repr-fallback\"><pre>MultinomialNB()</pre><b>In a Jupyter environment, please rerun this cell to show the HTML representation or trust the notebook. <br />On GitHub, the HTML representation is unable to render, please try loading this page with nbviewer.org.</b></div><div class=\"sk-container\" hidden><div class=\"sk-item\"><div class=\"sk-estimator sk-toggleable\"><input class=\"sk-toggleable__control sk-hidden--visually\" id=\"sk-estimator-id-9\" type=\"checkbox\" checked><label for=\"sk-estimator-id-9\" class=\"sk-toggleable__label sk-toggleable__label-arrow\">MultinomialNB</label><div class=\"sk-toggleable__content\"><pre>MultinomialNB()</pre></div></div></div></div></div>"
      ],
      "text/plain": [
       "MultinomialNB()"
      ]
     },
     "execution_count": 79,
     "metadata": {},
     "output_type": "execute_result"
    }
   ],
   "source": [
    "# naive bayes model\n",
    "from sklearn.naive_bayes import MultinomialNB\n",
    "from sklearn.preprocessing import MinMaxScaler\n",
    "\n",
    "#scale the train data to get rid of negative values before fitting the naive bayes model\n",
    "scaler = MinMaxScaler()\n",
    "scaled_vectors_train = scaler.fit_transform(quote_vectors_train)\n",
    "\n",
    "# fit naive bayes model\n",
    "mnb = MultinomialNB()\n",
    "mnb.fit(scaled_vectors_train, y_train)"
   ]
  },
  {
   "cell_type": "code",
   "execution_count": 80,
   "metadata": {},
   "outputs": [
    {
     "name": "stdout",
     "output_type": "stream",
     "text": [
      "0.6622950819672131\n",
      "Testing accuracy 0.6622950819672131\n",
      "              precision    recall  f1-score   support\n",
      "\n",
      "         0.0       0.62      0.83      0.71       752\n",
      "         1.0       0.75      0.50      0.60       773\n",
      "\n",
      "    accuracy                           0.66      1525\n",
      "   macro avg       0.68      0.66      0.65      1525\n",
      "weighted avg       0.69      0.66      0.65      1525\n",
      "\n"
     ]
    }
   ],
   "source": [
    "#scale the test data\n",
    "scaled_vectors_test = scaler.fit_transform(quote_vectors_test)\n",
    "\n",
    "# naive bayes model evaluation - accuracy and F1 score\n",
    "print(mnb.score(scaled_vectors_test, y_test))\n",
    "y_pred = mnb.predict(scaled_vectors_test)\n",
    "print('Testing accuracy %s' % accuracy_score(y_test, y_pred))\n",
    "print(classification_report(y_test, y_pred))"
   ]
  },
  {
   "cell_type": "code",
   "execution_count": 81,
   "metadata": {},
   "outputs": [],
   "source": [
    "# Doc2Vec with distributed memory approach - use the whole dataset to fit the model\n",
    "model_dm = Doc2Vec(\n",
    "    tgd_quotes, dm = 1, dm_mean = 1,\n",
    "    vector_size=300, window=2, min_count=1, \n",
    "    workers=4, epochs=100,negative=5\n",
    "    )"
   ]
  },
  {
   "cell_type": "code",
   "execution_count": 82,
   "metadata": {},
   "outputs": [],
   "source": [
    "#vectorise the train and test dataset\n",
    "dm_vectors_train  = [model_dm.infer_vector(tgd_quotes_train[i].words) \n",
    "                        for i in range(len(tgd_quotes_train))]\n",
    "\n",
    "dm_vectors_test  = [model_dm.infer_vector(tgd_quotes_test[i].words) \n",
    "                        for i in range(len(tgd_quotes_test))]"
   ]
  },
  {
   "cell_type": "code",
   "execution_count": 83,
   "metadata": {},
   "outputs": [
    {
     "data": {
      "text/html": [
       "<style>#sk-container-id-10 {color: black;background-color: white;}#sk-container-id-10 pre{padding: 0;}#sk-container-id-10 div.sk-toggleable {background-color: white;}#sk-container-id-10 label.sk-toggleable__label {cursor: pointer;display: block;width: 100%;margin-bottom: 0;padding: 0.3em;box-sizing: border-box;text-align: center;}#sk-container-id-10 label.sk-toggleable__label-arrow:before {content: \"▸\";float: left;margin-right: 0.25em;color: #696969;}#sk-container-id-10 label.sk-toggleable__label-arrow:hover:before {color: black;}#sk-container-id-10 div.sk-estimator:hover label.sk-toggleable__label-arrow:before {color: black;}#sk-container-id-10 div.sk-toggleable__content {max-height: 0;max-width: 0;overflow: hidden;text-align: left;background-color: #f0f8ff;}#sk-container-id-10 div.sk-toggleable__content pre {margin: 0.2em;color: black;border-radius: 0.25em;background-color: #f0f8ff;}#sk-container-id-10 input.sk-toggleable__control:checked~div.sk-toggleable__content {max-height: 200px;max-width: 100%;overflow: auto;}#sk-container-id-10 input.sk-toggleable__control:checked~label.sk-toggleable__label-arrow:before {content: \"▾\";}#sk-container-id-10 div.sk-estimator input.sk-toggleable__control:checked~label.sk-toggleable__label {background-color: #d4ebff;}#sk-container-id-10 div.sk-label input.sk-toggleable__control:checked~label.sk-toggleable__label {background-color: #d4ebff;}#sk-container-id-10 input.sk-hidden--visually {border: 0;clip: rect(1px 1px 1px 1px);clip: rect(1px, 1px, 1px, 1px);height: 1px;margin: -1px;overflow: hidden;padding: 0;position: absolute;width: 1px;}#sk-container-id-10 div.sk-estimator {font-family: monospace;background-color: #f0f8ff;border: 1px dotted black;border-radius: 0.25em;box-sizing: border-box;margin-bottom: 0.5em;}#sk-container-id-10 div.sk-estimator:hover {background-color: #d4ebff;}#sk-container-id-10 div.sk-parallel-item::after {content: \"\";width: 100%;border-bottom: 1px solid gray;flex-grow: 1;}#sk-container-id-10 div.sk-label:hover label.sk-toggleable__label {background-color: #d4ebff;}#sk-container-id-10 div.sk-serial::before {content: \"\";position: absolute;border-left: 1px solid gray;box-sizing: border-box;top: 0;bottom: 0;left: 50%;z-index: 0;}#sk-container-id-10 div.sk-serial {display: flex;flex-direction: column;align-items: center;background-color: white;padding-right: 0.2em;padding-left: 0.2em;position: relative;}#sk-container-id-10 div.sk-item {position: relative;z-index: 1;}#sk-container-id-10 div.sk-parallel {display: flex;align-items: stretch;justify-content: center;background-color: white;position: relative;}#sk-container-id-10 div.sk-item::before, #sk-container-id-10 div.sk-parallel-item::before {content: \"\";position: absolute;border-left: 1px solid gray;box-sizing: border-box;top: 0;bottom: 0;left: 50%;z-index: -1;}#sk-container-id-10 div.sk-parallel-item {display: flex;flex-direction: column;z-index: 1;position: relative;background-color: white;}#sk-container-id-10 div.sk-parallel-item:first-child::after {align-self: flex-end;width: 50%;}#sk-container-id-10 div.sk-parallel-item:last-child::after {align-self: flex-start;width: 50%;}#sk-container-id-10 div.sk-parallel-item:only-child::after {width: 0;}#sk-container-id-10 div.sk-dashed-wrapped {border: 1px dashed gray;margin: 0 0.4em 0.5em 0.4em;box-sizing: border-box;padding-bottom: 0.4em;background-color: white;}#sk-container-id-10 div.sk-label label {font-family: monospace;font-weight: bold;display: inline-block;line-height: 1.2em;}#sk-container-id-10 div.sk-label-container {text-align: center;}#sk-container-id-10 div.sk-container {/* jupyter's `normalize.less` sets `[hidden] { display: none; }` but bootstrap.min.css set `[hidden] { display: none !important; }` so we also need the `!important` here to be able to override the default hidden behavior on the sphinx rendered scikit-learn.org. See: https://github.com/scikit-learn/scikit-learn/issues/21755 */display: inline-block !important;position: relative;}#sk-container-id-10 div.sk-text-repr-fallback {display: none;}</style><div id=\"sk-container-id-10\" class=\"sk-top-container\"><div class=\"sk-text-repr-fallback\"><pre>LogisticRegression()</pre><b>In a Jupyter environment, please rerun this cell to show the HTML representation or trust the notebook. <br />On GitHub, the HTML representation is unable to render, please try loading this page with nbviewer.org.</b></div><div class=\"sk-container\" hidden><div class=\"sk-item\"><div class=\"sk-estimator sk-toggleable\"><input class=\"sk-toggleable__control sk-hidden--visually\" id=\"sk-estimator-id-10\" type=\"checkbox\" checked><label for=\"sk-estimator-id-10\" class=\"sk-toggleable__label sk-toggleable__label-arrow\">LogisticRegression</label><div class=\"sk-toggleable__content\"><pre>LogisticRegression()</pre></div></div></div></div></div>"
      ],
      "text/plain": [
       "LogisticRegression()"
      ]
     },
     "execution_count": 83,
     "metadata": {},
     "output_type": "execute_result"
    }
   ],
   "source": [
    "# fit logistic regression model\n",
    "from sklearn.linear_model import LogisticRegression\n",
    "logreg = LogisticRegression()\n",
    "logreg.fit(dm_vectors_train, y_train)"
   ]
  },
  {
   "cell_type": "code",
   "execution_count": 86,
   "metadata": {},
   "outputs": [
    {
     "name": "stdout",
     "output_type": "stream",
     "text": [
      "0.6321311475409837\n",
      "Testing accuracy 0.6321311475409837\n",
      "              precision    recall  f1-score   support\n",
      "\n",
      "         0.0       0.61      0.70      0.65       752\n",
      "         1.0       0.66      0.56      0.61       773\n",
      "\n",
      "    accuracy                           0.63      1525\n",
      "   macro avg       0.64      0.63      0.63      1525\n",
      "weighted avg       0.64      0.63      0.63      1525\n",
      "\n"
     ]
    }
   ],
   "source": [
    "# model evaluation\n",
    "print(logreg.score(dm_vectors_test, y_test))\n",
    "y_pred = logreg.predict(dm_vectors_test)\n",
    "print('Testing accuracy %s' % accuracy_score(y_test, y_pred))\n",
    "print(classification_report(y_test, y_pred))"
   ]
  },
  {
   "cell_type": "code",
   "execution_count": 87,
   "metadata": {},
   "outputs": [
    {
     "data": {
      "text/html": [
       "<style>#sk-container-id-11 {color: black;background-color: white;}#sk-container-id-11 pre{padding: 0;}#sk-container-id-11 div.sk-toggleable {background-color: white;}#sk-container-id-11 label.sk-toggleable__label {cursor: pointer;display: block;width: 100%;margin-bottom: 0;padding: 0.3em;box-sizing: border-box;text-align: center;}#sk-container-id-11 label.sk-toggleable__label-arrow:before {content: \"▸\";float: left;margin-right: 0.25em;color: #696969;}#sk-container-id-11 label.sk-toggleable__label-arrow:hover:before {color: black;}#sk-container-id-11 div.sk-estimator:hover label.sk-toggleable__label-arrow:before {color: black;}#sk-container-id-11 div.sk-toggleable__content {max-height: 0;max-width: 0;overflow: hidden;text-align: left;background-color: #f0f8ff;}#sk-container-id-11 div.sk-toggleable__content pre {margin: 0.2em;color: black;border-radius: 0.25em;background-color: #f0f8ff;}#sk-container-id-11 input.sk-toggleable__control:checked~div.sk-toggleable__content {max-height: 200px;max-width: 100%;overflow: auto;}#sk-container-id-11 input.sk-toggleable__control:checked~label.sk-toggleable__label-arrow:before {content: \"▾\";}#sk-container-id-11 div.sk-estimator input.sk-toggleable__control:checked~label.sk-toggleable__label {background-color: #d4ebff;}#sk-container-id-11 div.sk-label input.sk-toggleable__control:checked~label.sk-toggleable__label {background-color: #d4ebff;}#sk-container-id-11 input.sk-hidden--visually {border: 0;clip: rect(1px 1px 1px 1px);clip: rect(1px, 1px, 1px, 1px);height: 1px;margin: -1px;overflow: hidden;padding: 0;position: absolute;width: 1px;}#sk-container-id-11 div.sk-estimator {font-family: monospace;background-color: #f0f8ff;border: 1px dotted black;border-radius: 0.25em;box-sizing: border-box;margin-bottom: 0.5em;}#sk-container-id-11 div.sk-estimator:hover {background-color: #d4ebff;}#sk-container-id-11 div.sk-parallel-item::after {content: \"\";width: 100%;border-bottom: 1px solid gray;flex-grow: 1;}#sk-container-id-11 div.sk-label:hover label.sk-toggleable__label {background-color: #d4ebff;}#sk-container-id-11 div.sk-serial::before {content: \"\";position: absolute;border-left: 1px solid gray;box-sizing: border-box;top: 0;bottom: 0;left: 50%;z-index: 0;}#sk-container-id-11 div.sk-serial {display: flex;flex-direction: column;align-items: center;background-color: white;padding-right: 0.2em;padding-left: 0.2em;position: relative;}#sk-container-id-11 div.sk-item {position: relative;z-index: 1;}#sk-container-id-11 div.sk-parallel {display: flex;align-items: stretch;justify-content: center;background-color: white;position: relative;}#sk-container-id-11 div.sk-item::before, #sk-container-id-11 div.sk-parallel-item::before {content: \"\";position: absolute;border-left: 1px solid gray;box-sizing: border-box;top: 0;bottom: 0;left: 50%;z-index: -1;}#sk-container-id-11 div.sk-parallel-item {display: flex;flex-direction: column;z-index: 1;position: relative;background-color: white;}#sk-container-id-11 div.sk-parallel-item:first-child::after {align-self: flex-end;width: 50%;}#sk-container-id-11 div.sk-parallel-item:last-child::after {align-self: flex-start;width: 50%;}#sk-container-id-11 div.sk-parallel-item:only-child::after {width: 0;}#sk-container-id-11 div.sk-dashed-wrapped {border: 1px dashed gray;margin: 0 0.4em 0.5em 0.4em;box-sizing: border-box;padding-bottom: 0.4em;background-color: white;}#sk-container-id-11 div.sk-label label {font-family: monospace;font-weight: bold;display: inline-block;line-height: 1.2em;}#sk-container-id-11 div.sk-label-container {text-align: center;}#sk-container-id-11 div.sk-container {/* jupyter's `normalize.less` sets `[hidden] { display: none; }` but bootstrap.min.css set `[hidden] { display: none !important; }` so we also need the `!important` here to be able to override the default hidden behavior on the sphinx rendered scikit-learn.org. See: https://github.com/scikit-learn/scikit-learn/issues/21755 */display: inline-block !important;position: relative;}#sk-container-id-11 div.sk-text-repr-fallback {display: none;}</style><div id=\"sk-container-id-11\" class=\"sk-top-container\"><div class=\"sk-text-repr-fallback\"><pre>MultinomialNB()</pre><b>In a Jupyter environment, please rerun this cell to show the HTML representation or trust the notebook. <br />On GitHub, the HTML representation is unable to render, please try loading this page with nbviewer.org.</b></div><div class=\"sk-container\" hidden><div class=\"sk-item\"><div class=\"sk-estimator sk-toggleable\"><input class=\"sk-toggleable__control sk-hidden--visually\" id=\"sk-estimator-id-11\" type=\"checkbox\" checked><label for=\"sk-estimator-id-11\" class=\"sk-toggleable__label sk-toggleable__label-arrow\">MultinomialNB</label><div class=\"sk-toggleable__content\"><pre>MultinomialNB()</pre></div></div></div></div></div>"
      ],
      "text/plain": [
       "MultinomialNB()"
      ]
     },
     "execution_count": 87,
     "metadata": {},
     "output_type": "execute_result"
    }
   ],
   "source": [
    "#naive bayes model\n",
    "\n",
    "#scale the data to get rid of negative values\n",
    "scaler = MinMaxScaler()\n",
    "scaled_dm_train = scaler.fit_transform(dm_vectors_train)\n",
    "\n",
    "# fit naive bayes model\n",
    "mnb = MultinomialNB()\n",
    "mnb.fit(scaled_dm_train, y_train)"
   ]
  },
  {
   "cell_type": "code",
   "execution_count": 88,
   "metadata": {},
   "outputs": [
    {
     "name": "stdout",
     "output_type": "stream",
     "text": [
      "0.659016393442623\n",
      "Testing accuracy 0.659016393442623\n",
      "              precision    recall  f1-score   support\n",
      "\n",
      "         0.0       0.66      0.63      0.65       752\n",
      "         1.0       0.66      0.69      0.67       773\n",
      "\n",
      "    accuracy                           0.66      1525\n",
      "   macro avg       0.66      0.66      0.66      1525\n",
      "weighted avg       0.66      0.66      0.66      1525\n",
      "\n"
     ]
    }
   ],
   "source": [
    "#scale the test data\n",
    "scaled_dm_test = scaler.fit_transform(dm_vectors_test)\n",
    "\n",
    "# naive bayes model evaluation - accuracy and F1 score\n",
    "print(mnb.score(scaled_dm_test, y_test))\n",
    "y_pred = mnb.predict(scaled_dm_test)\n",
    "print('Testing accuracy %s' % accuracy_score(y_test, y_pred))\n",
    "print(classification_report(y_test, y_pred))"
   ]
  },
  {
   "cell_type": "markdown",
   "metadata": {},
   "source": [
    "### BoW vectorization and LSTM by Pytorch"
   ]
  },
  {
   "cell_type": "code",
   "execution_count": 93,
   "metadata": {},
   "outputs": [],
   "source": [
    "\n",
    "def basic_clean(text):\n",
    "    \"\"\"\n",
    "    Remove \\\\,\\n,\\t,... from text\n",
    "    Remove whitespace from text\n",
    "    change to lowercase\n",
    "    \"\"\"\n",
    "    \n",
    "    # Replacing all the occurrences of \\n,\\\\n,\\t,\\\\ with a space.\n",
    "    Formatted_text = text.replace('\\\\n', ' ').replace('\\n', ' ').replace('\\t',' ').replace('\\'', ' ').replace('\"',' ')\n",
    "    pattern = re.compile(r'\\s+')\n",
    "    Formatted_text = Formatted_text.lower()\n",
    "    Formatted_text = Formatted_text.replace('\\\\u00b4',' ').replace('\\\\',' ')\n",
    "    Without_whitespace = re.sub(pattern, ' ', Formatted_text)\n",
    "    Formatted_text = Without_whitespace.replace('?', ' ? ').replace(')', ') ')\n",
    "    return Formatted_text"
   ]
  },
  {
   "cell_type": "code",
   "execution_count": 95,
   "metadata": {},
   "outputs": [],
   "source": [
    "# cleaning data\n",
    "train['imdb_user_review'] = train['imdb_user_review'].apply(basic_clean)"
   ]
  },
  {
   "cell_type": "code",
   "execution_count": 96,
   "metadata": {},
   "outputs": [
    {
     "name": "stderr",
     "output_type": "stream",
     "text": [
      "[nltk_data] Downloading package stopwords to /home/ash/nltk_data...\n",
      "[nltk_data]   Package stopwords is already up-to-date!\n"
     ]
    }
   ],
   "source": [
    "from sklearn.utils import shuffle\n",
    "import os\n",
    "import nlpaug.augmenter.word as naw\n",
    "import wget\n",
    "from tqdm import tqdm\n",
    "from sklearn.model_selection import train_test_split\n",
    "import nltk\n",
    "nltk.download('stopwords')\n",
    "from nltk.corpus import stopwords\n",
    "from nltk.stem import WordNetLemmatizer"
   ]
  },
  {
   "cell_type": "code",
   "execution_count": 99,
   "metadata": {},
   "outputs": [
    {
     "name": "stderr",
     "output_type": "stream",
     "text": [
      "[nltk_data] Downloading package wordnet to /home/ash/nltk_data...\n"
     ]
    },
    {
     "data": {
      "text/plain": [
       "True"
      ]
     },
     "execution_count": 99,
     "metadata": {},
     "output_type": "execute_result"
    }
   ],
   "source": [
    "#nltk.download('wordnet')"
   ]
  },
  {
   "cell_type": "code",
   "execution_count": 102,
   "metadata": {},
   "outputs": [
    {
     "name": "stderr",
     "output_type": "stream",
     "text": [
      "[nltk_data] Downloading package omw-1.4 to /home/ash/nltk_data...\n"
     ]
    },
    {
     "data": {
      "text/plain": [
       "True"
      ]
     },
     "execution_count": 102,
     "metadata": {},
     "output_type": "execute_result"
    }
   ],
   "source": [
    "nltk.download('omw-1.4')"
   ]
  },
  {
   "cell_type": "code",
   "execution_count": 97,
   "metadata": {},
   "outputs": [
    {
     "data": {
      "text/html": [
       "<div>\n",
       "<style scoped>\n",
       "    .dataframe tbody tr th:only-of-type {\n",
       "        vertical-align: middle;\n",
       "    }\n",
       "\n",
       "    .dataframe tbody tr th {\n",
       "        vertical-align: top;\n",
       "    }\n",
       "\n",
       "    .dataframe thead th {\n",
       "        text-align: right;\n",
       "    }\n",
       "</style>\n",
       "<table border=\"1\" class=\"dataframe\">\n",
       "  <thead>\n",
       "    <tr style=\"text-align: right;\">\n",
       "      <th></th>\n",
       "      <th>helpfulness_cat</th>\n",
       "      <th>imdb_user_review</th>\n",
       "    </tr>\n",
       "  </thead>\n",
       "  <tbody>\n",
       "    <tr>\n",
       "      <th>0</th>\n",
       "      <td>1.0</td>\n",
       "      <td>it is hard to find such delightful and adorabl...</td>\n",
       "    </tr>\n",
       "    <tr>\n",
       "      <th>1</th>\n",
       "      <td>1.0</td>\n",
       "      <td>they don t make films like this faded, hauntin...</td>\n",
       "    </tr>\n",
       "    <tr>\n",
       "      <th>2</th>\n",
       "      <td>1.0</td>\n",
       "      <td>i first viewed this movie in 1924 at age 6 yrs...</td>\n",
       "    </tr>\n",
       "    <tr>\n",
       "      <th>3</th>\n",
       "      <td>1.0</td>\n",
       "      <td>i doubt that i d ever seen anything resembling...</td>\n",
       "    </tr>\n",
       "    <tr>\n",
       "      <th>4</th>\n",
       "      <td>1.0</td>\n",
       "      <td>i was shocked to find myself riveted to this m...</td>\n",
       "    </tr>\n",
       "  </tbody>\n",
       "</table>\n",
       "</div>"
      ],
      "text/plain": [
       "   helpfulness_cat                                   imdb_user_review\n",
       "0              1.0  it is hard to find such delightful and adorabl...\n",
       "1              1.0  they don t make films like this faded, hauntin...\n",
       "2              1.0  i first viewed this movie in 1924 at age 6 yrs...\n",
       "3              1.0  i doubt that i d ever seen anything resembling...\n",
       "4              1.0  i was shocked to find myself riveted to this m..."
      ]
     },
     "execution_count": 97,
     "metadata": {},
     "output_type": "execute_result"
    }
   ],
   "source": [
    "train_bow = train.copy()\n",
    "train_bow.head()"
   ]
  },
  {
   "cell_type": "code",
   "execution_count": 103,
   "metadata": {},
   "outputs": [],
   "source": [
    "## Further data cleaning for BoW\n",
    "# step 1: remove stop words \n",
    "stop = stopwords.words('english')\n",
    "train_bow[\"imdb_user_review\"] = list(map(lambda x: ' '.join([word for word in x.split() if word not in stop]),train_bow[\"imdb_user_review\"]))\n",
    "\n",
    "# step 2: lemmatize the words\n",
    "lemmatizer = WordNetLemmatizer()\n",
    "# see = lemmatizer.lemmatize(comments)\n",
    "train_bow[\"imdb_user_review\"] = list(map(lambda x: ' '.join([lemmatizer.lemmatize(word, pos=\"v\") for word in x.split()]),train_bow[\"imdb_user_review\"]))"
   ]
  },
  {
   "cell_type": "code",
   "execution_count": 105,
   "metadata": {},
   "outputs": [],
   "source": [
    "# create a new balanced dataset\n",
    "unhelpful = train_bow.loc[train[\"helpfulness_cat\"] == 0, [\"imdb_user_review\", \"helpfulness_cat\"]]\n",
    "helpful = train_bow.loc[train_bow[\"helpfulness_cat\"] == 1, [\"imdb_user_review\", \"helpfulness_cat\"]]\n",
    "helpful = helpful.sample(n=len(unhelpful), random_state=42)\n",
    "s = pd.concat([unhelpful, helpful]) # create a more balanced training set for training the model"
   ]
  },
  {
   "cell_type": "code",
   "execution_count": 115,
   "metadata": {},
   "outputs": [],
   "source": [
    "# split the trainaing data into train and test\n",
    "from sklearn.model_selection import train_test_split\n",
    "X_train = s.drop([\"helpfulness_cat\"], axis=1)\n",
    "y_train = s[\"helpfulness_cat\"]\n",
    "X_train_bow, X_test_bow, y_train_bow, y_test_bow = train_test_split(X_train, \n",
    "                                                    y_train, \n",
    "                                                    random_state=123,\n",
    "                                                    test_size=0.3)"
   ]
  },
  {
   "cell_type": "code",
   "execution_count": 107,
   "metadata": {},
   "outputs": [],
   "source": [
    "# load libraries\n",
    "from collections import Counter, OrderedDict, defaultdict\n",
    "from typing import Dict, List, Tuple\n",
    "import numpy as np\n",
    "from nltk.tokenize import TreebankWordTokenizer\n",
    "import spacy\n",
    "import pandas as pd"
   ]
  },
  {
   "cell_type": "code",
   "execution_count": 109,
   "metadata": {},
   "outputs": [
    {
     "name": "stdout",
     "output_type": "stream",
     "text": [
      "Pipeline after: [('tok2vec', <spacy.pipeline.tok2vec.Tok2Vec object at 0x7fe02ce02280>), ('parser', <spacy.pipeline.dep_parser.DependencyParser object at 0x7fe015bd7510>), ('lemmatizer', <spacy.lang.en.lemmatizer.EnglishLemmatizer object at 0x7fdfb0967540>), ('ner', <spacy.pipeline.ner.EntityRecognizer object at 0x7fe0904dd190>)]\n"
     ]
    }
   ],
   "source": [
    "# initialise a pipeline\n",
    "nlp = spacy.load(\"en_core_web_sm\")\n",
    "\n",
    "# Disabling components in the nlp pipeline to speed up pre-processing\n",
    "nlp.disable_pipes('tagger','attribute_ruler')\n",
    "print('Pipeline after:', nlp.pipeline)"
   ]
  },
  {
   "cell_type": "code",
   "execution_count": 117,
   "metadata": {},
   "outputs": [
    {
     "name": "stderr",
     "output_type": "stream",
     "text": [
      "/home/ash/miniconda3/envs/nlp/lib/python3.9/site-packages/spacy/pipeline/lemmatizer.py:211: UserWarning: [W108] The rule-based lemmatizer did not find POS annotation for one or more tokens. Check that your pipeline includes components that assign token.pos, typically 'tagger'+'attribute_ruler' or 'morphologizer'.\n",
      "  warnings.warn(Warnings.W108)\n"
     ]
    }
   ],
   "source": [
    "# Step 1: Tokenize the words in each moview review\n",
    "docs_tokens_train, docs_tokens_test = [], []\n",
    "# train set\n",
    "for item in X_train_bow[\"imdb_user_review\"]:\n",
    "    tmp_tokens = [\n",
    "        token.lemma_\n",
    "        for token in nlp(item)\n",
    "        if not token.is_stop and not token.is_punct and token.is_alpha\n",
    "    ]\n",
    "    docs_tokens_train.append(tmp_tokens)\n",
    "    del tmp_tokens\n",
    "\n",
    "# test set\n",
    "for item in X_test_bow[\"imdb_user_review\"]:\n",
    "    tmp_tokens = [\n",
    "        token.lemma_\n",
    "        for token in nlp(item)\n",
    "        if not token.is_stop and not token.is_punct and token.is_alpha\n",
    "    ]\n",
    "    docs_tokens_test.append(tmp_tokens)\n",
    "    del tmp_tokens"
   ]
  },
  {
   "cell_type": "code",
   "execution_count": null,
   "metadata": {},
   "outputs": [],
   "source": [
    "# Step 2: building a dictionary collection where the keys are tokenized words \n",
    "# the larger the number, the lower the word frequency \n",
    "# The dictionary key-value pairs are also written to a text file named vocab_file.txt \n",
    "# so they can be used later by an NLP system.\n",
    "def make_vocab(document_tokens,output_file):\n",
    "    word_freq_dict = {}   # key = word, value = frequency\n",
    "\n",
    "    for i in range(len(document_tokens)):\n",
    "        reviews = document_tokens[i]\n",
    "        for review in reviews:\n",
    "            if review in word_freq_dict:\n",
    "                word_freq_dict[review] += 1\n",
    "            else:\n",
    "                word_freq_dict[review] = 1\n",
    "\n",
    "    kv_list = []  # list of word-freq tuples so can sort\n",
    "    for (k,v) in word_freq_dict.items():\n",
    "        kv_list.append((k,v))\n",
    "    \n",
    "        # list of tuples index is 0-based rank, val is (word,freq)\n",
    "    sorted_kv_list = \\\n",
    "        sorted(kv_list, key=lambda x: x[1], \\\n",
    "            reverse=True)  # sort by freq\n",
    "\n",
    "    f = open(output_file, \"w\", encoding=\"utf8\")\n",
    "    vocab_dict = {}  \n",
    "            # key = word, value = 1-based rank \n",
    "            # ('the' = 1, 'a' = 2, etc.)\n",
    "    for i in range(len(sorted_kv_list)):  # filter here . . \n",
    "        w = sorted_kv_list[i][0]  # word is at [0]\n",
    "        vocab_dict[w] = i+1       # 1-based as in Keras dataset\n",
    "        f.write(w + \" \" + str(i+1) + \"\\n\")  # save word-space-index\n",
    "    f.close()"
   ]
  },
  {
   "cell_type": "markdown",
   "metadata": {},
   "source": [
    "### sentiment + naive bayesian classifier"
   ]
  },
  {
   "cell_type": "code",
   "execution_count": 29,
   "metadata": {},
   "outputs": [
    {
     "data": {
      "text/html": [
       "<div>\n",
       "<style scoped>\n",
       "    .dataframe tbody tr th:only-of-type {\n",
       "        vertical-align: middle;\n",
       "    }\n",
       "\n",
       "    .dataframe tbody tr th {\n",
       "        vertical-align: top;\n",
       "    }\n",
       "\n",
       "    .dataframe thead th {\n",
       "        text-align: right;\n",
       "    }\n",
       "</style>\n",
       "<table border=\"1\" class=\"dataframe\">\n",
       "  <thead>\n",
       "    <tr style=\"text-align: right;\">\n",
       "      <th></th>\n",
       "      <th>helpfulness_cat</th>\n",
       "      <th>imdb_user_review</th>\n",
       "      <th>neg</th>\n",
       "      <th>neu</th>\n",
       "      <th>pos</th>\n",
       "    </tr>\n",
       "  </thead>\n",
       "  <tbody>\n",
       "    <tr>\n",
       "      <th>0</th>\n",
       "      <td>1.0</td>\n",
       "      <td>it is hard to find such delightful and adorabl...</td>\n",
       "      <td>0.072</td>\n",
       "      <td>0.540</td>\n",
       "      <td>0.387</td>\n",
       "    </tr>\n",
       "    <tr>\n",
       "      <th>1</th>\n",
       "      <td>1.0</td>\n",
       "      <td>they don t make films like this faded, hauntin...</td>\n",
       "      <td>0.081</td>\n",
       "      <td>0.854</td>\n",
       "      <td>0.065</td>\n",
       "    </tr>\n",
       "    <tr>\n",
       "      <th>2</th>\n",
       "      <td>1.0</td>\n",
       "      <td>i first viewed this movie in 1924 at age 6 yrs...</td>\n",
       "      <td>0.045</td>\n",
       "      <td>0.749</td>\n",
       "      <td>0.206</td>\n",
       "    </tr>\n",
       "    <tr>\n",
       "      <th>3</th>\n",
       "      <td>1.0</td>\n",
       "      <td>i doubt that i d ever seen anything resembling...</td>\n",
       "      <td>0.116</td>\n",
       "      <td>0.748</td>\n",
       "      <td>0.135</td>\n",
       "    </tr>\n",
       "    <tr>\n",
       "      <th>4</th>\n",
       "      <td>1.0</td>\n",
       "      <td>i was shocked to find myself riveted to this m...</td>\n",
       "      <td>0.058</td>\n",
       "      <td>0.797</td>\n",
       "      <td>0.145</td>\n",
       "    </tr>\n",
       "  </tbody>\n",
       "</table>\n",
       "</div>"
      ],
      "text/plain": [
       "   helpfulness_cat                                   imdb_user_review    neg  \\\n",
       "0              1.0  it is hard to find such delightful and adorabl...  0.072   \n",
       "1              1.0  they don t make films like this faded, hauntin...  0.081   \n",
       "2              1.0  i first viewed this movie in 1924 at age 6 yrs...  0.045   \n",
       "3              1.0  i doubt that i d ever seen anything resembling...  0.116   \n",
       "4              1.0  i was shocked to find myself riveted to this m...  0.058   \n",
       "\n",
       "     neu    pos  \n",
       "0  0.540  0.387  \n",
       "1  0.854  0.065  \n",
       "2  0.749  0.206  \n",
       "3  0.748  0.135  \n",
       "4  0.797  0.145  "
      ]
     },
     "execution_count": 29,
     "metadata": {},
     "output_type": "execute_result"
    }
   ],
   "source": [
    "# read the data into a pandas dataframe\n",
    "train_sent = pd.read_csv('train_pos_neg_sentiment_score.csv')\n",
    "train_sent.head()"
   ]
  },
  {
   "cell_type": "code",
   "execution_count": 160,
   "metadata": {},
   "outputs": [
    {
     "data": {
      "text/html": [
       "<div>\n",
       "<style scoped>\n",
       "    .dataframe tbody tr th:only-of-type {\n",
       "        vertical-align: middle;\n",
       "    }\n",
       "\n",
       "    .dataframe tbody tr th {\n",
       "        vertical-align: top;\n",
       "    }\n",
       "\n",
       "    .dataframe thead th {\n",
       "        text-align: right;\n",
       "    }\n",
       "</style>\n",
       "<table border=\"1\" class=\"dataframe\">\n",
       "  <thead>\n",
       "    <tr style=\"text-align: right;\">\n",
       "      <th></th>\n",
       "      <th>helpfulness_cat</th>\n",
       "      <th>imdb_user_review</th>\n",
       "      <th>neg</th>\n",
       "      <th>neu</th>\n",
       "      <th>pos</th>\n",
       "      <th>CONTRADITON</th>\n",
       "      <th>ENTAILMENT</th>\n",
       "      <th>Subjective</th>\n",
       "    </tr>\n",
       "  </thead>\n",
       "  <tbody>\n",
       "    <tr>\n",
       "      <th>0</th>\n",
       "      <td>1.0</td>\n",
       "      <td>it is hard to find such delightful and adorabl...</td>\n",
       "      <td>0.072</td>\n",
       "      <td>0.540</td>\n",
       "      <td>0.387</td>\n",
       "      <td>0.301088</td>\n",
       "      <td>0.028153</td>\n",
       "      <td>0.637457</td>\n",
       "    </tr>\n",
       "    <tr>\n",
       "      <th>1</th>\n",
       "      <td>1.0</td>\n",
       "      <td>they don t make films like this faded, hauntin...</td>\n",
       "      <td>0.081</td>\n",
       "      <td>0.854</td>\n",
       "      <td>0.065</td>\n",
       "      <td>0.031557</td>\n",
       "      <td>0.009301</td>\n",
       "      <td>0.376882</td>\n",
       "    </tr>\n",
       "    <tr>\n",
       "      <th>2</th>\n",
       "      <td>1.0</td>\n",
       "      <td>i first viewed this movie in 1924 at age 6 yrs...</td>\n",
       "      <td>0.045</td>\n",
       "      <td>0.749</td>\n",
       "      <td>0.206</td>\n",
       "      <td>0.000880</td>\n",
       "      <td>0.004172</td>\n",
       "      <td>0.601871</td>\n",
       "    </tr>\n",
       "    <tr>\n",
       "      <th>3</th>\n",
       "      <td>1.0</td>\n",
       "      <td>i doubt that i d ever seen anything resembling...</td>\n",
       "      <td>0.116</td>\n",
       "      <td>0.748</td>\n",
       "      <td>0.135</td>\n",
       "      <td>0.441404</td>\n",
       "      <td>0.012929</td>\n",
       "      <td>0.588847</td>\n",
       "    </tr>\n",
       "    <tr>\n",
       "      <th>4</th>\n",
       "      <td>1.0</td>\n",
       "      <td>i was shocked to find myself riveted to this m...</td>\n",
       "      <td>0.058</td>\n",
       "      <td>0.797</td>\n",
       "      <td>0.145</td>\n",
       "      <td>0.083177</td>\n",
       "      <td>0.030290</td>\n",
       "      <td>0.409792</td>\n",
       "    </tr>\n",
       "  </tbody>\n",
       "</table>\n",
       "</div>"
      ],
      "text/plain": [
       "   helpfulness_cat                                   imdb_user_review    neg  \\\n",
       "0              1.0  it is hard to find such delightful and adorabl...  0.072   \n",
       "1              1.0  they don t make films like this faded, hauntin...  0.081   \n",
       "2              1.0  i first viewed this movie in 1924 at age 6 yrs...  0.045   \n",
       "3              1.0  i doubt that i d ever seen anything resembling...  0.116   \n",
       "4              1.0  i was shocked to find myself riveted to this m...  0.058   \n",
       "\n",
       "     neu    pos  CONTRADITON  ENTAILMENT  Subjective  \n",
       "0  0.540  0.387     0.301088    0.028153    0.637457  \n",
       "1  0.854  0.065     0.031557    0.009301    0.376882  \n",
       "2  0.749  0.206     0.000880    0.004172    0.601871  \n",
       "3  0.748  0.135     0.441404    0.012929    0.588847  \n",
       "4  0.797  0.145     0.083177    0.030290    0.409792  "
      ]
     },
     "execution_count": 160,
     "metadata": {},
     "output_type": "execute_result"
    }
   ],
   "source": [
    "# combine two sentiment model into one data frame\n",
    "train_sent['CONTRADITON'] = train_sentiment['CONTRADICTION']\n",
    "train_sent['ENTAILMENT'] = train_sentiment['ENTAILMENT']\n",
    "train_sent['Subjective'] = train['subjective_score']\n",
    "train_sent.head()"
   ]
  },
  {
   "cell_type": "code",
   "execution_count": 161,
   "metadata": {},
   "outputs": [
    {
     "data": {
      "text/html": [
       "<div>\n",
       "<style scoped>\n",
       "    .dataframe tbody tr th:only-of-type {\n",
       "        vertical-align: middle;\n",
       "    }\n",
       "\n",
       "    .dataframe tbody tr th {\n",
       "        vertical-align: top;\n",
       "    }\n",
       "\n",
       "    .dataframe thead th {\n",
       "        text-align: right;\n",
       "    }\n",
       "</style>\n",
       "<table border=\"1\" class=\"dataframe\">\n",
       "  <thead>\n",
       "    <tr style=\"text-align: right;\">\n",
       "      <th></th>\n",
       "      <th>helpfulness_cat</th>\n",
       "      <th>neg</th>\n",
       "      <th>pos</th>\n",
       "      <th>CONTRADITON</th>\n",
       "      <th>ENTAILMENT</th>\n",
       "      <th>Subjective</th>\n",
       "    </tr>\n",
       "  </thead>\n",
       "  <tbody>\n",
       "    <tr>\n",
       "      <th>0</th>\n",
       "      <td>1.0</td>\n",
       "      <td>0.072</td>\n",
       "      <td>0.387</td>\n",
       "      <td>0.301088</td>\n",
       "      <td>0.028153</td>\n",
       "      <td>0.637457</td>\n",
       "    </tr>\n",
       "    <tr>\n",
       "      <th>1</th>\n",
       "      <td>1.0</td>\n",
       "      <td>0.081</td>\n",
       "      <td>0.065</td>\n",
       "      <td>0.031557</td>\n",
       "      <td>0.009301</td>\n",
       "      <td>0.376882</td>\n",
       "    </tr>\n",
       "    <tr>\n",
       "      <th>2</th>\n",
       "      <td>1.0</td>\n",
       "      <td>0.045</td>\n",
       "      <td>0.206</td>\n",
       "      <td>0.000880</td>\n",
       "      <td>0.004172</td>\n",
       "      <td>0.601871</td>\n",
       "    </tr>\n",
       "    <tr>\n",
       "      <th>3</th>\n",
       "      <td>1.0</td>\n",
       "      <td>0.116</td>\n",
       "      <td>0.135</td>\n",
       "      <td>0.441404</td>\n",
       "      <td>0.012929</td>\n",
       "      <td>0.588847</td>\n",
       "    </tr>\n",
       "    <tr>\n",
       "      <th>4</th>\n",
       "      <td>1.0</td>\n",
       "      <td>0.058</td>\n",
       "      <td>0.145</td>\n",
       "      <td>0.083177</td>\n",
       "      <td>0.030290</td>\n",
       "      <td>0.409792</td>\n",
       "    </tr>\n",
       "  </tbody>\n",
       "</table>\n",
       "</div>"
      ],
      "text/plain": [
       "   helpfulness_cat    neg    pos  CONTRADITON  ENTAILMENT  Subjective\n",
       "0              1.0  0.072  0.387     0.301088    0.028153    0.637457\n",
       "1              1.0  0.081  0.065     0.031557    0.009301    0.376882\n",
       "2              1.0  0.045  0.206     0.000880    0.004172    0.601871\n",
       "3              1.0  0.116  0.135     0.441404    0.012929    0.588847\n",
       "4              1.0  0.058  0.145     0.083177    0.030290    0.409792"
      ]
     },
     "execution_count": 161,
     "metadata": {},
     "output_type": "execute_result"
    }
   ],
   "source": [
    "# drop the review and neu columns\n",
    "train_sent.drop(['imdb_user_review', 'neu'], axis=1, inplace=True)\n",
    "train_sent.head()"
   ]
  },
  {
   "cell_type": "code",
   "execution_count": 162,
   "metadata": {},
   "outputs": [],
   "source": [
    "train_sent.to_csv('train_contra_senti_sub_score.csv', index=False)"
   ]
  },
  {
   "cell_type": "code",
   "execution_count": 30,
   "metadata": {},
   "outputs": [
    {
     "data": {
      "text/html": [
       "<div>\n",
       "<style scoped>\n",
       "    .dataframe tbody tr th:only-of-type {\n",
       "        vertical-align: middle;\n",
       "    }\n",
       "\n",
       "    .dataframe tbody tr th {\n",
       "        vertical-align: top;\n",
       "    }\n",
       "\n",
       "    .dataframe thead th {\n",
       "        text-align: right;\n",
       "    }\n",
       "</style>\n",
       "<table border=\"1\" class=\"dataframe\">\n",
       "  <thead>\n",
       "    <tr style=\"text-align: right;\">\n",
       "      <th></th>\n",
       "      <th>helpfulness_cat</th>\n",
       "      <th>neg</th>\n",
       "      <th>pos</th>\n",
       "      <th>CONTRADITON</th>\n",
       "      <th>ENTAILMENT</th>\n",
       "      <th>Subjective</th>\n",
       "    </tr>\n",
       "  </thead>\n",
       "  <tbody>\n",
       "    <tr>\n",
       "      <th>0</th>\n",
       "      <td>1.0</td>\n",
       "      <td>0.072</td>\n",
       "      <td>0.387</td>\n",
       "      <td>0.301088</td>\n",
       "      <td>0.028153</td>\n",
       "      <td>0.637457</td>\n",
       "    </tr>\n",
       "    <tr>\n",
       "      <th>1</th>\n",
       "      <td>1.0</td>\n",
       "      <td>0.081</td>\n",
       "      <td>0.065</td>\n",
       "      <td>0.031557</td>\n",
       "      <td>0.009301</td>\n",
       "      <td>0.376882</td>\n",
       "    </tr>\n",
       "    <tr>\n",
       "      <th>2</th>\n",
       "      <td>1.0</td>\n",
       "      <td>0.045</td>\n",
       "      <td>0.206</td>\n",
       "      <td>0.000880</td>\n",
       "      <td>0.004172</td>\n",
       "      <td>0.601871</td>\n",
       "    </tr>\n",
       "    <tr>\n",
       "      <th>3</th>\n",
       "      <td>1.0</td>\n",
       "      <td>0.116</td>\n",
       "      <td>0.135</td>\n",
       "      <td>0.441404</td>\n",
       "      <td>0.012929</td>\n",
       "      <td>0.588847</td>\n",
       "    </tr>\n",
       "    <tr>\n",
       "      <th>4</th>\n",
       "      <td>1.0</td>\n",
       "      <td>0.058</td>\n",
       "      <td>0.145</td>\n",
       "      <td>0.083177</td>\n",
       "      <td>0.030290</td>\n",
       "      <td>0.409792</td>\n",
       "    </tr>\n",
       "  </tbody>\n",
       "</table>\n",
       "</div>"
      ],
      "text/plain": [
       "   helpfulness_cat    neg    pos  CONTRADITON  ENTAILMENT  Subjective\n",
       "0              1.0  0.072  0.387     0.301088    0.028153    0.637457\n",
       "1              1.0  0.081  0.065     0.031557    0.009301    0.376882\n",
       "2              1.0  0.045  0.206     0.000880    0.004172    0.601871\n",
       "3              1.0  0.116  0.135     0.441404    0.012929    0.588847\n",
       "4              1.0  0.058  0.145     0.083177    0.030290    0.409792"
      ]
     },
     "execution_count": 30,
     "metadata": {},
     "output_type": "execute_result"
    }
   ],
   "source": [
    "# build logistic regression model\n",
    "train_sent = pd.read_csv('train_contra_senti_sub_score.csv')\n",
    "train_sent.head()"
   ]
  },
  {
   "cell_type": "code",
   "execution_count": 31,
   "metadata": {},
   "outputs": [],
   "source": [
    "# build logistic regression model\n",
    "from sklearn.linear_model import LogisticRegression\n",
    "from sklearn.model_selection import train_test_split\n",
    "from sklearn.metrics import accuracy_score\n",
    "X = train_sent.drop(['helpfulness_cat'], axis=1)\n",
    "y = train_sent.loc[:, 'helpfulness_cat']\n",
    "X_train, X_test, y_train, y_test = train_test_split(X, y, test_size=0.2, random_state=42)\n"
   ]
  },
  {
   "cell_type": "code",
   "execution_count": 32,
   "metadata": {},
   "outputs": [
    {
     "name": "stdout",
     "output_type": "stream",
     "text": [
      "Accuracy of logistic regression model: 0.7661552766155276\n"
     ]
    }
   ],
   "source": [
    "# logistic regression model\n",
    "logreg = LogisticRegression()\n",
    "logreg.fit(X_train, y_train)\n",
    "y_pred = logreg.predict(X_test)\n",
    "print(\"Accuracy of logistic regression model: {}\".format(accuracy_score(y_test, y_pred)))"
   ]
  },
  {
   "cell_type": "code",
   "execution_count": 33,
   "metadata": {},
   "outputs": [
    {
     "name": "stdout",
     "output_type": "stream",
     "text": [
      "F1 score of logistic regression model: 0.8666136303367807\n"
     ]
    }
   ],
   "source": [
    "# f1 score\n",
    "from sklearn.metrics import f1_score\n",
    "print(\"F1 score of logistic regression model: {}\".format(f1_score(y_test, y_pred)))"
   ]
  },
  {
   "cell_type": "code",
   "execution_count": 34,
   "metadata": {},
   "outputs": [
    {
     "name": "stdout",
     "output_type": "stream",
     "text": [
      "              precision    recall  f1-score   support\n",
      "\n",
      "         0.0       0.47      0.03      0.05       501\n",
      "         1.0       0.77      0.99      0.87      1650\n",
      "\n",
      "    accuracy                           0.77      2151\n",
      "   macro avg       0.62      0.51      0.46      2151\n",
      "weighted avg       0.70      0.77      0.68      2151\n",
      "\n"
     ]
    }
   ],
   "source": [
    "# classification report\n",
    "from sklearn.metrics import classification_report\n",
    "print(classification_report(y_test, y_pred))"
   ]
  },
  {
   "cell_type": "code",
   "execution_count": 35,
   "metadata": {},
   "outputs": [],
   "source": [
    "# build naive bayesian classifier\n",
    "from sklearn.naive_bayes import MultinomialNB\n",
    "from sklearn.model_selection import train_test_split\n",
    "from sklearn.metrics import accuracy_score\n",
    "\n",
    "X = train_sent.drop(['helpfulness_cat'], axis=1)\n",
    "y = train_sent.loc[:, 'helpfulness_cat']\n",
    "X_train, X_test, y_train, y_test = train_test_split(X, y, test_size=0.2, random_state=42)\n"
   ]
  },
  {
   "cell_type": "code",
   "execution_count": 36,
   "metadata": {},
   "outputs": [
    {
     "data": {
      "text/html": [
       "<style>#sk-container-id-1 {color: black;background-color: white;}#sk-container-id-1 pre{padding: 0;}#sk-container-id-1 div.sk-toggleable {background-color: white;}#sk-container-id-1 label.sk-toggleable__label {cursor: pointer;display: block;width: 100%;margin-bottom: 0;padding: 0.3em;box-sizing: border-box;text-align: center;}#sk-container-id-1 label.sk-toggleable__label-arrow:before {content: \"▸\";float: left;margin-right: 0.25em;color: #696969;}#sk-container-id-1 label.sk-toggleable__label-arrow:hover:before {color: black;}#sk-container-id-1 div.sk-estimator:hover label.sk-toggleable__label-arrow:before {color: black;}#sk-container-id-1 div.sk-toggleable__content {max-height: 0;max-width: 0;overflow: hidden;text-align: left;background-color: #f0f8ff;}#sk-container-id-1 div.sk-toggleable__content pre {margin: 0.2em;color: black;border-radius: 0.25em;background-color: #f0f8ff;}#sk-container-id-1 input.sk-toggleable__control:checked~div.sk-toggleable__content {max-height: 200px;max-width: 100%;overflow: auto;}#sk-container-id-1 input.sk-toggleable__control:checked~label.sk-toggleable__label-arrow:before {content: \"▾\";}#sk-container-id-1 div.sk-estimator input.sk-toggleable__control:checked~label.sk-toggleable__label {background-color: #d4ebff;}#sk-container-id-1 div.sk-label input.sk-toggleable__control:checked~label.sk-toggleable__label {background-color: #d4ebff;}#sk-container-id-1 input.sk-hidden--visually {border: 0;clip: rect(1px 1px 1px 1px);clip: rect(1px, 1px, 1px, 1px);height: 1px;margin: -1px;overflow: hidden;padding: 0;position: absolute;width: 1px;}#sk-container-id-1 div.sk-estimator {font-family: monospace;background-color: #f0f8ff;border: 1px dotted black;border-radius: 0.25em;box-sizing: border-box;margin-bottom: 0.5em;}#sk-container-id-1 div.sk-estimator:hover {background-color: #d4ebff;}#sk-container-id-1 div.sk-parallel-item::after {content: \"\";width: 100%;border-bottom: 1px solid gray;flex-grow: 1;}#sk-container-id-1 div.sk-label:hover label.sk-toggleable__label {background-color: #d4ebff;}#sk-container-id-1 div.sk-serial::before {content: \"\";position: absolute;border-left: 1px solid gray;box-sizing: border-box;top: 0;bottom: 0;left: 50%;z-index: 0;}#sk-container-id-1 div.sk-serial {display: flex;flex-direction: column;align-items: center;background-color: white;padding-right: 0.2em;padding-left: 0.2em;position: relative;}#sk-container-id-1 div.sk-item {position: relative;z-index: 1;}#sk-container-id-1 div.sk-parallel {display: flex;align-items: stretch;justify-content: center;background-color: white;position: relative;}#sk-container-id-1 div.sk-item::before, #sk-container-id-1 div.sk-parallel-item::before {content: \"\";position: absolute;border-left: 1px solid gray;box-sizing: border-box;top: 0;bottom: 0;left: 50%;z-index: -1;}#sk-container-id-1 div.sk-parallel-item {display: flex;flex-direction: column;z-index: 1;position: relative;background-color: white;}#sk-container-id-1 div.sk-parallel-item:first-child::after {align-self: flex-end;width: 50%;}#sk-container-id-1 div.sk-parallel-item:last-child::after {align-self: flex-start;width: 50%;}#sk-container-id-1 div.sk-parallel-item:only-child::after {width: 0;}#sk-container-id-1 div.sk-dashed-wrapped {border: 1px dashed gray;margin: 0 0.4em 0.5em 0.4em;box-sizing: border-box;padding-bottom: 0.4em;background-color: white;}#sk-container-id-1 div.sk-label label {font-family: monospace;font-weight: bold;display: inline-block;line-height: 1.2em;}#sk-container-id-1 div.sk-label-container {text-align: center;}#sk-container-id-1 div.sk-container {/* jupyter's `normalize.less` sets `[hidden] { display: none; }` but bootstrap.min.css set `[hidden] { display: none !important; }` so we also need the `!important` here to be able to override the default hidden behavior on the sphinx rendered scikit-learn.org. See: https://github.com/scikit-learn/scikit-learn/issues/21755 */display: inline-block !important;position: relative;}#sk-container-id-1 div.sk-text-repr-fallback {display: none;}</style><div id=\"sk-container-id-1\" class=\"sk-top-container\"><div class=\"sk-text-repr-fallback\"><pre>MultinomialNB()</pre><b>In a Jupyter environment, please rerun this cell to show the HTML representation or trust the notebook. <br />On GitHub, the HTML representation is unable to render, please try loading this page with nbviewer.org.</b></div><div class=\"sk-container\" hidden><div class=\"sk-item\"><div class=\"sk-estimator sk-toggleable\"><input class=\"sk-toggleable__control sk-hidden--visually\" id=\"sk-estimator-id-1\" type=\"checkbox\" checked><label for=\"sk-estimator-id-1\" class=\"sk-toggleable__label sk-toggleable__label-arrow\">MultinomialNB</label><div class=\"sk-toggleable__content\"><pre>MultinomialNB()</pre></div></div></div></div></div>"
      ],
      "text/plain": [
       "MultinomialNB()"
      ]
     },
     "execution_count": 36,
     "metadata": {},
     "output_type": "execute_result"
    }
   ],
   "source": [
    "mnb = MultinomialNB()\n",
    "mnb.fit(X_train, y_train)"
   ]
  },
  {
   "cell_type": "code",
   "execution_count": 37,
   "metadata": {},
   "outputs": [
    {
     "name": "stdout",
     "output_type": "stream",
     "text": [
      "Multinomial Naive Bayes model accuracy(in %): 76.70850767085076\n"
     ]
    }
   ],
   "source": [
    "# making predictions on the testing set\n",
    "y_pred = mnb.predict(X_test)\n",
    " \n",
    "# comparing actual response values (y_test) with predicted response values (y_pred)\n",
    "from sklearn import metrics\n",
    "print(\"Multinomial Naive Bayes model accuracy(in %):\", metrics.accuracy_score(y_test, y_pred)*100)"
   ]
  },
  {
   "cell_type": "code",
   "execution_count": 38,
   "metadata": {},
   "outputs": [
    {
     "name": "stdout",
     "output_type": "stream",
     "text": [
      "F1 score of Multinomial Naive Bayes model: 0.8681925808997631\n"
     ]
    }
   ],
   "source": [
    "# f1 score\n",
    "print(\"F1 score of Multinomial Naive Bayes model:\", metrics.f1_score(y_test, y_pred))"
   ]
  },
  {
   "cell_type": "code",
   "execution_count": 39,
   "metadata": {},
   "outputs": [
    {
     "name": "stdout",
     "output_type": "stream",
     "text": [
      "              precision    recall  f1-score   support\n",
      "\n",
      "         0.0       0.00      0.00      0.00       501\n",
      "         1.0       0.77      1.00      0.87      1650\n",
      "\n",
      "    accuracy                           0.77      2151\n",
      "   macro avg       0.38      0.50      0.43      2151\n",
      "weighted avg       0.59      0.77      0.67      2151\n",
      "\n"
     ]
    },
    {
     "name": "stderr",
     "output_type": "stream",
     "text": [
      "/home/ash/miniconda3/envs/nlp/lib/python3.9/site-packages/sklearn/metrics/_classification.py:1327: UndefinedMetricWarning: Precision and F-score are ill-defined and being set to 0.0 in labels with no predicted samples. Use `zero_division` parameter to control this behavior.\n",
      "  _warn_prf(average, modifier, msg_start, len(result))\n",
      "/home/ash/miniconda3/envs/nlp/lib/python3.9/site-packages/sklearn/metrics/_classification.py:1327: UndefinedMetricWarning: Precision and F-score are ill-defined and being set to 0.0 in labels with no predicted samples. Use `zero_division` parameter to control this behavior.\n",
      "  _warn_prf(average, modifier, msg_start, len(result))\n",
      "/home/ash/miniconda3/envs/nlp/lib/python3.9/site-packages/sklearn/metrics/_classification.py:1327: UndefinedMetricWarning: Precision and F-score are ill-defined and being set to 0.0 in labels with no predicted samples. Use `zero_division` parameter to control this behavior.\n",
      "  _warn_prf(average, modifier, msg_start, len(result))\n"
     ]
    }
   ],
   "source": [
    "# classification report\n",
    "print(classification_report(y_test, y_pred))"
   ]
  },
  {
   "cell_type": "markdown",
   "metadata": {},
   "source": [
    "### neural network"
   ]
  },
  {
   "cell_type": "markdown",
   "metadata": {},
   "source": [
    "### tensorflow"
   ]
  },
  {
   "cell_type": "code",
   "execution_count": 13,
   "metadata": {},
   "outputs": [],
   "source": [
    "# import libraries\n",
    "import tensorflow as tf\n",
    "from tensorflow import keras\n",
    "from tensorflow.keras import layers\n",
    "from tensorflow.keras import callbacks\n",
    "import keras_tuner as kt\n",
    "from sklearn.model_selection import train_test_split"
   ]
  },
  {
   "cell_type": "code",
   "execution_count": 14,
   "metadata": {},
   "outputs": [],
   "source": [
    "# split train dataset into train and validation dataset\n",
    "train_sent = pd.read_csv('train_contra_senti_sub_score.csv')\n",
    "X_train = train_sent.drop(['helpfulness_cat'], axis=1)\n",
    "y_train = train_sent.loc[:, 'helpfulness_cat']\n",
    "X_train, X_valid, y_train, y_valid = train_test_split(X_train, y_train, test_size=0.2, random_state=42)"
   ]
  },
  {
   "cell_type": "code",
   "execution_count": 166,
   "metadata": {},
   "outputs": [
    {
     "name": "stdout",
     "output_type": "stream",
     "text": [
      "Epoch 1/30\n"
     ]
    },
    {
     "name": "stderr",
     "output_type": "stream",
     "text": [
      "2022-07-12 15:40:03.071391: W tensorflow/stream_executor/platform/default/dso_loader.cc:64] Could not load dynamic library 'libcuda.so.1'; dlerror: libcuda.so.1: cannot open shared object file: No such file or directory\n",
      "2022-07-12 15:40:03.071440: W tensorflow/stream_executor/cuda/cuda_driver.cc:269] failed call to cuInit: UNKNOWN ERROR (303)\n",
      "2022-07-12 15:40:03.071498: I tensorflow/stream_executor/cuda/cuda_diagnostics.cc:156] kernel driver does not appear to be running on this host (ashubuntu): /proc/driver/nvidia/version does not exist\n",
      "2022-07-12 15:40:03.071840: I tensorflow/core/platform/cpu_feature_guard.cc:193] This TensorFlow binary is optimized with oneAPI Deep Neural Network Library (oneDNN) to use the following CPU instructions in performance-critical operations:  AVX2 FMA\n",
      "To enable them in other operations, rebuild TensorFlow with the appropriate compiler flags.\n"
     ]
    },
    {
     "name": "stdout",
     "output_type": "stream",
     "text": [
      "269/269 [==============================] - 1s 2ms/step - loss: 0.2487 - Acc: 0.6712 - val_loss: 0.1764 - val_Acc: 0.7652\n",
      "Epoch 2/30\n",
      "269/269 [==============================] - 0s 2ms/step - loss: 0.1785 - Acc: 0.7621 - val_loss: 0.1731 - val_Acc: 0.7671\n",
      "Epoch 3/30\n",
      "269/269 [==============================] - 0s 1ms/step - loss: 0.1764 - Acc: 0.7622 - val_loss: 0.1710 - val_Acc: 0.7694\n",
      "Epoch 4/30\n",
      "269/269 [==============================] - 0s 1ms/step - loss: 0.1752 - Acc: 0.7628 - val_loss: 0.1710 - val_Acc: 0.7680\n",
      "Epoch 5/30\n",
      "269/269 [==============================] - 0s 2ms/step - loss: 0.1756 - Acc: 0.7628 - val_loss: 0.1706 - val_Acc: 0.7675\n",
      "Epoch 6/30\n",
      "269/269 [==============================] - 0s 1ms/step - loss: 0.1748 - Acc: 0.7626 - val_loss: 0.1716 - val_Acc: 0.7666\n",
      "Epoch 7/30\n",
      "269/269 [==============================] - 0s 1ms/step - loss: 0.1743 - Acc: 0.7626 - val_loss: 0.1697 - val_Acc: 0.7685\n",
      "Epoch 8/30\n",
      "269/269 [==============================] - 0s 1ms/step - loss: 0.1743 - Acc: 0.7626 - val_loss: 0.1796 - val_Acc: 0.7564\n",
      "Epoch 9/30\n",
      "269/269 [==============================] - 0s 1ms/step - loss: 0.1743 - Acc: 0.7631 - val_loss: 0.1704 - val_Acc: 0.7662\n",
      "Epoch 10/30\n",
      "269/269 [==============================] - 0s 1ms/step - loss: 0.1747 - Acc: 0.7631 - val_loss: 0.1696 - val_Acc: 0.7671\n",
      "Epoch 11/30\n",
      "269/269 [==============================] - 0s 1ms/step - loss: 0.1739 - Acc: 0.7624 - val_loss: 0.1695 - val_Acc: 0.7671\n",
      "Epoch 12/30\n",
      "269/269 [==============================] - 0s 1ms/step - loss: 0.1741 - Acc: 0.7623 - val_loss: 0.1696 - val_Acc: 0.7675\n",
      "Epoch 13/30\n",
      "269/269 [==============================] - 0s 1ms/step - loss: 0.1737 - Acc: 0.7626 - val_loss: 0.1718 - val_Acc: 0.7675\n",
      "Epoch 14/30\n",
      "269/269 [==============================] - 0s 1ms/step - loss: 0.1735 - Acc: 0.7629 - val_loss: 0.1722 - val_Acc: 0.7629\n",
      "Epoch 15/30\n",
      "269/269 [==============================] - 0s 1ms/step - loss: 0.1735 - Acc: 0.7630 - val_loss: 0.1694 - val_Acc: 0.7671\n",
      "Epoch 16/30\n",
      "269/269 [==============================] - 0s 1ms/step - loss: 0.1737 - Acc: 0.7634 - val_loss: 0.1703 - val_Acc: 0.7671\n",
      "Epoch 17/30\n",
      "269/269 [==============================] - 0s 1ms/step - loss: 0.1733 - Acc: 0.7631 - val_loss: 0.1699 - val_Acc: 0.7638\n",
      "Epoch 18/30\n",
      "269/269 [==============================] - 0s 1ms/step - loss: 0.1734 - Acc: 0.7632 - val_loss: 0.1693 - val_Acc: 0.7685\n",
      "Epoch 19/30\n",
      "269/269 [==============================] - 0s 1ms/step - loss: 0.1729 - Acc: 0.7636 - val_loss: 0.1783 - val_Acc: 0.7629\n",
      "Epoch 20/30\n",
      "269/269 [==============================] - 0s 1ms/step - loss: 0.1729 - Acc: 0.7624 - val_loss: 0.1699 - val_Acc: 0.7671\n",
      "Epoch 21/30\n",
      "269/269 [==============================] - 0s 1ms/step - loss: 0.1733 - Acc: 0.7626 - val_loss: 0.1688 - val_Acc: 0.7685\n",
      "Epoch 22/30\n",
      "269/269 [==============================] - 0s 1ms/step - loss: 0.1729 - Acc: 0.7626 - val_loss: 0.1690 - val_Acc: 0.7671\n",
      "Epoch 23/30\n",
      "269/269 [==============================] - 0s 1ms/step - loss: 0.1727 - Acc: 0.7636 - val_loss: 0.1727 - val_Acc: 0.7675\n",
      "Epoch 24/30\n",
      "269/269 [==============================] - 0s 1ms/step - loss: 0.1725 - Acc: 0.7617 - val_loss: 0.1690 - val_Acc: 0.7694\n",
      "Epoch 25/30\n",
      "269/269 [==============================] - 0s 1ms/step - loss: 0.1724 - Acc: 0.7637 - val_loss: 0.1714 - val_Acc: 0.7680\n",
      "Epoch 26/30\n",
      "269/269 [==============================] - 0s 1ms/step - loss: 0.1728 - Acc: 0.7626 - val_loss: 0.1697 - val_Acc: 0.7685\n",
      "Epoch 27/30\n",
      "269/269 [==============================] - 0s 1ms/step - loss: 0.1721 - Acc: 0.7642 - val_loss: 0.1730 - val_Acc: 0.7643\n",
      "Epoch 28/30\n",
      "269/269 [==============================] - 0s 1ms/step - loss: 0.1721 - Acc: 0.7643 - val_loss: 0.1696 - val_Acc: 0.7680\n",
      "Epoch 29/30\n",
      "269/269 [==============================] - 0s 1ms/step - loss: 0.1723 - Acc: 0.7626 - val_loss: 0.1741 - val_Acc: 0.7662\n",
      "Epoch 30/30\n",
      "269/269 [==============================] - 0s 1ms/step - loss: 0.1724 - Acc: 0.7638 - val_loss: 0.1714 - val_Acc: 0.7666\n"
     ]
    }
   ],
   "source": [
    "# set up a basic deep learning model\n",
    "#    Sequential model: one input and one output layer\n",
    "model = keras.models.Sequential([\n",
    "    keras.layers.Dense(64, activation='relu', input_shape=X_train.shape[1:]),\n",
    "    keras.layers.Dense(32,activation='relu'),\n",
    "    keras.layers.Dense(16,activation='relu'),\n",
    "    keras.layers.Dense(1)\n",
    "])\n",
    "optimizer = tf.keras.optimizers.Adam(learning_rate=0.001)\n",
    "model.compile(loss='mean_squared_error', optimizer=optimizer,metrics=['Acc'])\n",
    "history = model.fit(X_train, y_train, epochs=30,\n",
    "                   validation_data=(X_valid, y_valid))"
   ]
  },
  {
   "cell_type": "code",
   "execution_count": 167,
   "metadata": {},
   "outputs": [
    {
     "data": {
      "image/png": "[encoded data removed]",
      "text/plain": [
       "<Figure size 432x288 with 1 Axes>"
      ]
     },
     "metadata": {
      "needs_background": "light"
     },
     "output_type": "display_data"
    }
   ],
   "source": [
    "plt.plot(history.history['loss'],label = \"training loss\")\n",
    "plt.plot(history.history['val_loss'], label = \"validation loss\")\n",
    "plt.legend()\n",
    "plt.show()"
   ]
  },
  {
   "cell_type": "code",
   "execution_count": 168,
   "metadata": {},
   "outputs": [
    {
     "data": {
      "image/png": "[encoded data removed]",
      "text/plain": [
       "<Figure size 432x288 with 1 Axes>"
      ]
     },
     "metadata": {
      "needs_background": "light"
     },
     "output_type": "display_data"
    }
   ],
   "source": [
    "plt.plot(history.history['Acc'],label = \"training acc\")\n",
    "plt.plot(history.history['val_Acc'], label = \"validation acc\")\n",
    "plt.legend()\n",
    "plt.show()"
   ]
  },
  {
   "cell_type": "markdown",
   "metadata": {},
   "source": [
    "### pytorch"
   ]
  },
  {
   "cell_type": "code",
   "execution_count": 7,
   "metadata": {},
   "outputs": [],
   "source": [
    "# load libraries\n",
    "import torch\n",
    "from torch.utils.data import DataLoader\n",
    "# set device\n",
    "device = torch.device(\"cuda\" if torch.cuda.is_available() else \"cpu\")"
   ]
  },
  {
   "cell_type": "code",
   "execution_count": 170,
   "metadata": {},
   "outputs": [],
   "source": [
    "from torchtext.data.utils import get_tokenizer\n",
    "from torchtext.vocab import build_vocab_from_iterator"
   ]
  },
  {
   "cell_type": "code",
   "execution_count": 171,
   "metadata": {},
   "outputs": [],
   "source": [
    "# convert train data to list with labels\n",
    "train_data = []\n",
    "for i in range(len(train)):\n",
    "    train_data.append((int(train['helpfulness_cat'][i]), train['imdb_user_review'][i]))"
   ]
  },
  {
   "cell_type": "code",
   "execution_count": 172,
   "metadata": {},
   "outputs": [
    {
     "name": "stdout",
     "output_type": "stream",
     "text": [
      "Null values in train_data: 0\n"
     ]
    }
   ],
   "source": [
    "# check null values in train_data\n",
    "null_count = 0\n",
    "for i in range(len(train_data)):\n",
    "    if train_data[i][0] == 'nan':\n",
    "        null_count += 1\n",
    "print(\"Null values in train_data:\", null_count)\n"
   ]
  },
  {
   "cell_type": "code",
   "execution_count": 173,
   "metadata": {},
   "outputs": [],
   "source": [
    "# convert train_data to iterator\n",
    "train_data_iter = iter(train_data)"
   ]
  },
  {
   "cell_type": "code",
   "execution_count": 174,
   "metadata": {},
   "outputs": [],
   "source": [
    "# tokenization\n",
    "tokenizer = get_tokenizer('basic_english')\n",
    "# apply the tokenizer\n",
    "# --+ custom function\n",
    "def yield_tokens(data_iter):\n",
    "    for _, text in data_iter:\n",
    "        yield tokenizer(text)\n",
    "# --+ deploy the tokenizer to get the vocabulary\n",
    "vocab = build_vocab_from_iterator(yield_tokens(train_data_iter), specials=[\"<unk>\"])\n",
    "vocab.set_default_index(vocab[\"<unk>\"])"
   ]
  },
  {
   "cell_type": "code",
   "execution_count": 175,
   "metadata": {},
   "outputs": [],
   "source": [
    "# tokenize Yelp reviews \n",
    "text_pipeline = lambda x: vocab(tokenizer(x))\n",
    "# encode review labels\n",
    "label_pipeline = lambda x: int(x)"
   ]
  },
  {
   "cell_type": "code",
   "execution_count": 176,
   "metadata": {},
   "outputs": [],
   "source": [
    "train_data_iter = iter(train_data)"
   ]
  },
  {
   "cell_type": "code",
   "execution_count": 177,
   "metadata": {},
   "outputs": [],
   "source": [
    "# custom function\n",
    "def collate_batch(batch):\n",
    "    label_list, text_list, offsets = [], [], [0]\n",
    "    for (_label, _text) in batch:\n",
    "         label_list.append(label_pipeline(_label))\n",
    "         processed_text = torch.tensor(text_pipeline(_text), dtype=torch.int64)\n",
    "         text_list.append(processed_text)\n",
    "         offsets.append(processed_text.size(0))\n",
    "    label_list = torch.tensor(label_list, dtype=torch.int64)\n",
    "    offsets = torch.tensor(offsets[:-1]).cumsum(dim=0)\n",
    "    text_list = torch.cat(text_list)\n",
    "    return label_list.to(device), text_list.to(device), offsets.to(device)\n",
    "# deploy the function\n",
    "dataloader = DataLoader(train_data_iter, batch_size=8, shuffle=False, collate_fn=collate_batch)"
   ]
  },
  {
   "cell_type": "code",
   "execution_count": 178,
   "metadata": {},
   "outputs": [],
   "source": [
    "train_data_iter = iter(train_data)"
   ]
  },
  {
   "cell_type": "code",
   "execution_count": 179,
   "metadata": {},
   "outputs": [],
   "source": [
    "# %%\n",
    "# model creation\n",
    "\n",
    "# load libraries\n",
    "from torch import nn\n",
    "# the class associated with the module\n",
    "class TextClassificationModel(nn.Module):\n",
    "\n",
    "    def __init__(self, vocab_size, embed_dim, num_class):\n",
    "        super(TextClassificationModel, self).__init__()\n",
    "        self.embedding = nn.EmbeddingBag(vocab_size, embed_dim, sparse=True)\n",
    "        self.fc = nn.Linear(embed_dim, num_class)\n",
    "        self.init_weights()\n",
    "\n",
    "    def init_weights(self):\n",
    "        initrange = 0.5\n",
    "        self.embedding.weight.data.uniform_(-initrange, initrange)\n",
    "        self.fc.weight.data.uniform_(-initrange, initrange)\n",
    "        self.fc.bias.data.zero_()\n",
    "\n",
    "    def forward(self, text, offsets):\n",
    "        embedded = self.embedding(text, offsets)\n",
    "        return self.fc(embedded)"
   ]
  },
  {
   "cell_type": "code",
   "execution_count": 180,
   "metadata": {},
   "outputs": [],
   "source": [
    "# %%\n",
    "# model set up\n",
    "train_data_iter = iter(train_data)\n",
    "# examples\n",
    "# classes\n",
    "num_class = len(set([label for (label, text) in train_data_iter]))\n",
    "# vocabulary size\n",
    "vocab_size = len(vocab)\n",
    "# ebedding bag size\n",
    "emsize = 64\n",
    "# model instantiation\n",
    "model = TextClassificationModel(vocab_size, emsize, num_class).to(device)"
   ]
  },
  {
   "cell_type": "code",
   "execution_count": 137,
   "metadata": {},
   "outputs": [],
   "source": [
    "train_data_iter = iter(train_data)"
   ]
  },
  {
   "cell_type": "code",
   "execution_count": 182,
   "metadata": {},
   "outputs": [],
   "source": [
    "# load library \n",
    "import time\n",
    "# custom function for training \n",
    "def train(dataloader):\n",
    "    model.train()\n",
    "    total_acc, total_count = 0, 0\n",
    "    log_interval = 500\n",
    "    start_time = time.time()\n",
    "\n",
    "    for idx, (label, text, offsets) in enumerate(dataloader):\n",
    "        optimizer.zero_grad()\n",
    "        predicted_label = model(text, offsets)\n",
    "        loss = criterion(predicted_label, label)\n",
    "        loss.backward()\n",
    "        torch.nn.utils.clip_grad_norm_(model.parameters(), 0.1)\n",
    "        optimizer.step()\n",
    "        total_acc += (predicted_label.argmax(1) == label).sum().item()\n",
    "        total_count += label.size(0)\n",
    "        if idx % log_interval == 0 and idx > 0:\n",
    "            elapsed = time.time() - start_time\n",
    "            print('| epoch {:3d} | {:5d}/{:5d} batches '\n",
    "                  '| accuracy {:8.3f}'.format(epoch, idx, len(dataloader),\n",
    "                                              total_acc/total_count))\n",
    "            total_acc, total_count = 0, 0\n",
    "            start_time = time.time()"
   ]
  },
  {
   "cell_type": "code",
   "execution_count": 183,
   "metadata": {},
   "outputs": [],
   "source": [
    "# custom function for evaluation\n",
    "def evaluate(dataloader):\n",
    "    model.eval()\n",
    "    total_acc, total_count = 0, 0\n",
    "\n",
    "    with torch.no_grad():\n",
    "        for idx, (label, text, offsets) in enumerate(dataloader):\n",
    "            predicted_label = model(text, offsets)\n",
    "            loss = criterion(predicted_label, label)\n",
    "            total_acc += (predicted_label.argmax(1) == label).sum().item()\n",
    "            total_count += label.size(0)\n",
    "    return total_acc/total_count"
   ]
  },
  {
   "cell_type": "code",
   "execution_count": 184,
   "metadata": {},
   "outputs": [],
   "source": [
    "train_data_iter = iter(train_data)"
   ]
  },
  {
   "cell_type": "code",
   "execution_count": 185,
   "metadata": {},
   "outputs": [],
   "source": [
    "# load libraries \n",
    "from torch.utils.data.dataset import random_split\n",
    "from torchtext.data.functional import to_map_style_dataset\n",
    "# hyperparameters for the search\n",
    "# --+ epoch\n",
    "EPOCHS = 10 \n",
    "# --+ learning rate\n",
    "LR = 5  \n",
    "# --+ batch size for training\n",
    "BATCH_SIZE = 64 \n",
    "# optimization\n",
    "criterion = torch.nn.CrossEntropyLoss()\n",
    "optimizer = torch.optim.SGD(model.parameters(), lr=LR)\n",
    "scheduler = torch.optim.lr_scheduler.StepLR(optimizer, 1.0, gamma=0.1)\n",
    "total_accu = None\n",
    "# data handling\n",
    "train_dataset = to_map_style_dataset(train_data_iter)\n",
    "#test_dataset = to_map_style_dataset(test_iter)\n",
    "num_train = int(len(train_dataset) * 0.95)\n",
    "split_train_, split_valid_ = \\\n",
    "    random_split(train_dataset, [num_train, len(train_dataset) - num_train])\n",
    "\n",
    "train_dataloader = DataLoader(split_train_, batch_size=BATCH_SIZE,\n",
    "                              shuffle=True, collate_fn=collate_batch)\n",
    "valid_dataloader = DataLoader(split_valid_, batch_size=BATCH_SIZE,\n",
    "                              shuffle=True, collate_fn=collate_batch)\n",
    "#test_dataloader = DataLoader(test_dataset, batch_size=BATCH_SIZE,\n",
    "                             #shuffle=True, collate_fn=collate_batch)"
   ]
  },
  {
   "cell_type": "code",
   "execution_count": 186,
   "metadata": {},
   "outputs": [
    {
     "name": "stdout",
     "output_type": "stream",
     "text": [
      "(tensor([1, 1, 0, 1, 1, 1, 1, 1, 1, 1, 1, 1, 0, 1, 0, 1, 1, 1, 0, 1, 0, 1, 0, 1,\n",
      "        0, 1, 1, 1, 1, 1, 1, 0, 0, 1, 1, 1, 0, 1, 1, 1, 1, 1, 1, 1, 1, 1, 1, 0,\n",
      "        0, 0, 1, 1, 1, 1, 1, 0, 1, 1, 1, 0, 1, 1, 1, 1]), tensor([  95,    6,   33,  ..., 1047,  152,    1]), tensor([    0,   176,   341,   355,   505,   550,   652,   819,  2021,  2685,\n",
      "         2801,  3010,  3730,  3859,  4011,  4208,  4322,  4449,  4606,  4634,\n",
      "         4990,  5317,  5911,  5936,  6703,  6815,  6887,  7031,  7459,  7711,\n",
      "         7918,  8073,  8169,  8206,  8309,  8433,  8607,  8751,  8955,  9008,\n",
      "         9105,  9241,  9382,  9549,  9561,  9577, 10450, 10863, 11005, 11034,\n",
      "        11205, 11399, 11972, 12010, 12176, 12805, 12920, 12946, 13013, 13065,\n",
      "        13109, 13231, 13382, 13627]))\n"
     ]
    }
   ],
   "source": [
    "# check the train_dataloader\n",
    "for batch in train_dataloader:\n",
    "    print(batch)\n",
    "    break"
   ]
  },
  {
   "cell_type": "code",
   "execution_count": 187,
   "metadata": {},
   "outputs": [
    {
     "name": "stdout",
     "output_type": "stream",
     "text": [
      "-----------------------------------------------------------\n",
      "| end of epoch   1 | time:  2.34s | valid accuracy    0.768 \n",
      "-----------------------------------------------------------\n",
      "-----------------------------------------------------------\n",
      "| end of epoch   2 | time:  2.29s | valid accuracy    0.768 \n",
      "-----------------------------------------------------------\n",
      "-----------------------------------------------------------\n",
      "| end of epoch   3 | time:  2.33s | valid accuracy    0.755 \n",
      "-----------------------------------------------------------\n",
      "-----------------------------------------------------------\n",
      "| end of epoch   4 | time:  2.31s | valid accuracy    0.770 \n",
      "-----------------------------------------------------------\n",
      "-----------------------------------------------------------\n",
      "| end of epoch   5 | time:  2.37s | valid accuracy    0.764 \n",
      "-----------------------------------------------------------\n",
      "-----------------------------------------------------------\n",
      "| end of epoch   6 | time:  2.39s | valid accuracy    0.768 \n",
      "-----------------------------------------------------------\n",
      "-----------------------------------------------------------\n",
      "| end of epoch   7 | time:  2.36s | valid accuracy    0.768 \n",
      "-----------------------------------------------------------\n",
      "-----------------------------------------------------------\n",
      "| end of epoch   8 | time:  2.51s | valid accuracy    0.768 \n",
      "-----------------------------------------------------------\n",
      "-----------------------------------------------------------\n",
      "| end of epoch   9 | time:  2.35s | valid accuracy    0.768 \n",
      "-----------------------------------------------------------\n",
      "-----------------------------------------------------------\n",
      "| end of epoch  10 | time:  2.51s | valid accuracy    0.768 \n",
      "-----------------------------------------------------------\n"
     ]
    }
   ],
   "source": [
    "# logging\n",
    "for epoch in range(1, EPOCHS + 1):\n",
    "    epoch_start_time = time.time()\n",
    "    train(train_dataloader)\n",
    "    accu_val = evaluate(valid_dataloader)\n",
    "    if total_accu is not None and total_accu > accu_val:\n",
    "      scheduler.step()\n",
    "    else:\n",
    "       total_accu = accu_val\n",
    "    print('-' * 59)\n",
    "    print('| end of epoch {:3d} | time: {:5.2f}s | '\n",
    "          'valid accuracy {:8.3f} '.format(epoch,\n",
    "                                           time.time() - epoch_start_time,\n",
    "                                           accu_val))\n",
    "    print('-' * 59)\n"
   ]
  },
  {
   "cell_type": "code",
   "execution_count": 199,
   "metadata": {},
   "outputs": [
    {
     "name": "stdout",
     "output_type": "stream",
     "text": [
      "This is a helpful movie review\n"
     ]
    }
   ],
   "source": [
    "# test on random unseen review\n",
    "\n",
    "# labels\n",
    "review_label = {1: \"helpful\",\n",
    "                0: \"unhelpful\"}\n",
    "\n",
    "def predict(text, text_pipeline):\n",
    "    with torch.no_grad():\n",
    "        text = torch.tensor(text_pipeline(text))\n",
    "        output = model(text, torch.tensor([0]))\n",
    "        return output.argmax(1).item() + 1\n",
    "\n",
    "ex_text_str = \"yes\"\n",
    "\n",
    "model = model.to(\"cpu\")\n",
    "\n",
    "print(\"This is a %s movie review\" %review_label[predict(ex_text_str, text_pipeline)])"
   ]
  },
  {
   "cell_type": "markdown",
   "metadata": {},
   "source": [
    "### bert pretrained model"
   ]
  },
  {
   "cell_type": "code",
   "execution_count": 1,
   "metadata": {},
   "outputs": [
    {
     "name": "stdout",
     "output_type": "stream",
     "text": [
      "Collecting pytorch-nlp\n",
      "  Downloading pytorch_nlp-0.5.0-py3-none-any.whl (90 kB)\n",
      "\u001b[K     |████████████████████████████████| 90 kB 4.1 MB/s eta 0:00:011\n",
      "\u001b[?25hRequirement already satisfied: numpy in /home/ash/miniconda3/envs/nlp/lib/python3.9/site-packages (from pytorch-nlp) (1.22.3)\n",
      "Requirement already satisfied: tqdm in /home/ash/miniconda3/envs/nlp/lib/python3.9/site-packages (from pytorch-nlp) (4.64.0)\n",
      "Installing collected packages: pytorch-nlp\n",
      "Successfully installed pytorch-nlp-0.5.0\n"
     ]
    }
   ],
   "source": [
    "# !pip install pytorch-nlp\n",
    "# !pip install pytorch-pretrained-bert"
   ]
  },
  {
   "cell_type": "code",
   "execution_count": 5,
   "metadata": {},
   "outputs": [],
   "source": [
    "# import libraries\n",
    "from pytorch_pretrained_bert import BertModel\n",
    "from pytorch_pretrained_bert import BertTokenizer\n",
    "from torch import nn\n",
    "from keras_preprocessing.sequence import pad_sequences\n",
    "from torch.utils.data import TensorDataset, DataLoader, RandomSampler, SequentialSampler\n",
    "from torch.optim import Adam\n",
    "from torch.nn.utils import clip_grad_norm_"
   ]
  },
  {
   "cell_type": "code",
   "execution_count": 6,
   "metadata": {},
   "outputs": [
    {
     "ename": "NameError",
     "evalue": "name 'train_test_split' is not defined",
     "output_type": "error",
     "traceback": [
      "\u001b[0;31m---------------------------------------------------------------------------\u001b[0m",
      "\u001b[0;31mNameError\u001b[0m                                 Traceback (most recent call last)",
      "\u001b[1;32m/home/ash/Documents/movie-review-classifier/NLP_FCP.ipynb Cell 88\u001b[0m in \u001b[0;36m<cell line: 4>\u001b[0;34m()\u001b[0m\n\u001b[1;32m      <a href='vscode-notebook-cell:/home/ash/Documents/movie-review-classifier/NLP_FCP.ipynb#ch0000087?line=1'>2</a>\u001b[0m X_train \u001b[39m=\u001b[39m train\u001b[39m.\u001b[39mdrop([\u001b[39m'\u001b[39m\u001b[39mhelpfulness_cat\u001b[39m\u001b[39m'\u001b[39m], axis\u001b[39m=\u001b[39m\u001b[39m1\u001b[39m)\n\u001b[1;32m      <a href='vscode-notebook-cell:/home/ash/Documents/movie-review-classifier/NLP_FCP.ipynb#ch0000087?line=2'>3</a>\u001b[0m y_train \u001b[39m=\u001b[39m train\u001b[39m.\u001b[39mloc[:, \u001b[39m'\u001b[39m\u001b[39mhelpfulness_cat\u001b[39m\u001b[39m'\u001b[39m]\n\u001b[0;32m----> <a href='vscode-notebook-cell:/home/ash/Documents/movie-review-classifier/NLP_FCP.ipynb#ch0000087?line=3'>4</a>\u001b[0m X_train, X_valid, y_train, y_valid \u001b[39m=\u001b[39m train_test_split(X_train, y_train, test_size\u001b[39m=\u001b[39m\u001b[39m0.2\u001b[39m, random_state\u001b[39m=\u001b[39m\u001b[39m42\u001b[39m)\n",
      "\u001b[0;31mNameError\u001b[0m: name 'train_test_split' is not defined"
     ]
    }
   ],
   "source": [
    "# split data set\n",
    "X_train = train.drop(['helpfulness_cat'], axis=1)\n",
    "y_train = train.loc[:, 'helpfulness_cat']\n",
    "X_train, X_valid, y_train, y_valid = train_test_split(X_train, y_train, test_size=0.2, random_state=42)"
   ]
  },
  {
   "cell_type": "code",
   "execution_count": 24,
   "metadata": {},
   "outputs": [
    {
     "data": {
      "text/plain": [
       "(8604, 8604, 2151, 2151)"
      ]
     },
     "execution_count": 24,
     "metadata": {},
     "output_type": "execute_result"
    }
   ],
   "source": [
    "# combine x train and y trian in to new pd dataframe\n",
    "train_df = pd.concat([X_train, y_train], axis=1)\n",
    "valid_df = pd.concat([X_valid, y_valid], axis=1)\n",
    "\n",
    "# reformat the data into pytorch dataset\n",
    "train_data = train_df.to_dict(orient='records')\n",
    "test_data = valid_df.to_dict(orient='records')\n",
    "\n",
    "train_texts, train_labels = list(zip(*map(lambda d: (d['imdb_user_review'], d['helpfulness_cat']), train_data)))\n",
    "test_texts, test_labels = list(zip(*map(lambda d: (d['imdb_user_review'], d['helpfulness_cat']), test_data)))\n",
    "\n",
    "len(train_texts), len(train_labels), len(test_texts), len(test_labels)"
   ]
  },
  {
   "cell_type": "code",
   "execution_count": 25,
   "metadata": {},
   "outputs": [
    {
     "name": "stderr",
     "output_type": "stream",
     "text": [
      "100%|██████████| 231508/231508 [00:00<00:00, 659891.34B/s]\n"
     ]
    }
   ],
   "source": [
    "tokenizer = BertTokenizer.from_pretrained('bert-base-uncased', do_lower_case=True)"
   ]
  },
  {
   "cell_type": "code",
   "execution_count": 26,
   "metadata": {},
   "outputs": [],
   "source": [
    "# prepare token embedding\n",
    "train_tokens = list(map(lambda t: ['[CLS]'] + tokenizer.tokenize(t)[:510] + ['[SEP]'], train_texts))\n",
    "test_tokens = list(map(lambda t: ['[CLS]'] + tokenizer.tokenize(t)[:510] + ['[SEP]'], test_texts))"
   ]
  },
  {
   "cell_type": "code",
   "execution_count": 27,
   "metadata": {},
   "outputs": [
    {
     "data": {
      "text/plain": [
       "(8604, 2151)"
      ]
     },
     "execution_count": 27,
     "metadata": {},
     "output_type": "execute_result"
    }
   ],
   "source": [
    "len(train_tokens), len(test_tokens)"
   ]
  },
  {
   "cell_type": "code",
   "execution_count": 30,
   "metadata": {},
   "outputs": [],
   "source": [
    "train_tokens_ids = pad_sequences(list(map(tokenizer.convert_tokens_to_ids, train_tokens)), maxlen=512, truncating=\"post\", padding=\"post\", dtype=\"int\")\n",
    "test_tokens_ids = pad_sequences(list(map(tokenizer.convert_tokens_to_ids, test_tokens)), maxlen=512, truncating=\"post\", padding=\"post\", dtype=\"int\")"
   ]
  },
  {
   "cell_type": "code",
   "execution_count": 31,
   "metadata": {},
   "outputs": [],
   "source": [
    "train_y = np.array(train_labels)\n",
    "test_y = np.array(test_labels)"
   ]
  },
  {
   "cell_type": "code",
   "execution_count": 32,
   "metadata": {},
   "outputs": [
    {
     "data": {
      "text/plain": [
       "((8604,), (2151,), 0.7629009762900977, 0.7670850767085077)"
      ]
     },
     "execution_count": 32,
     "metadata": {},
     "output_type": "execute_result"
    }
   ],
   "source": [
    "train_y.shape, test_y.shape, np.mean(train_y), np.mean(test_y)"
   ]
  },
  {
   "cell_type": "code",
   "execution_count": 33,
   "metadata": {},
   "outputs": [],
   "source": [
    "train_masks = [[float(i > 0) for i in ii] for ii in train_tokens_ids]\n",
    "test_masks = [[float(i > 0) for i in ii] for ii in test_tokens_ids]"
   ]
  },
  {
   "cell_type": "code",
   "execution_count": 34,
   "metadata": {},
   "outputs": [],
   "source": [
    "from sklearn.feature_extraction.text import CountVectorizer\n",
    "from sklearn.linear_model import LogisticRegression\n",
    "from sklearn.pipeline import make_pipeline\n",
    "from sklearn.metrics import classification_report"
   ]
  },
  {
   "cell_type": "code",
   "execution_count": 35,
   "metadata": {},
   "outputs": [
    {
     "name": "stderr",
     "output_type": "stream",
     "text": [
      "/home/ash/miniconda3/envs/nlp/lib/python3.9/site-packages/sklearn/linear_model/_logistic.py:444: ConvergenceWarning: lbfgs failed to converge (status=1):\n",
      "STOP: TOTAL NO. of ITERATIONS REACHED LIMIT.\n",
      "\n",
      "Increase the number of iterations (max_iter) or scale the data as shown in:\n",
      "    https://scikit-learn.org/stable/modules/preprocessing.html\n",
      "Please also refer to the documentation for alternative solver options:\n",
      "    https://scikit-learn.org/stable/modules/linear_model.html#logistic-regression\n",
      "  n_iter_i = _check_optimize_result(\n"
     ]
    }
   ],
   "source": [
    "baseline_model = make_pipeline(CountVectorizer(ngram_range=(1,3)), LogisticRegression()).fit(train_texts, train_labels)"
   ]
  },
  {
   "cell_type": "code",
   "execution_count": 36,
   "metadata": {},
   "outputs": [],
   "source": [
    "baseline_predicted = baseline_model.predict(test_texts)"
   ]
  },
  {
   "cell_type": "code",
   "execution_count": 37,
   "metadata": {},
   "outputs": [
    {
     "name": "stdout",
     "output_type": "stream",
     "text": [
      "              precision    recall  f1-score   support\n",
      "\n",
      "         0.0       0.60      0.27      0.37       501\n",
      "         1.0       0.81      0.94      0.87      1650\n",
      "\n",
      "    accuracy                           0.79      2151\n",
      "   macro avg       0.70      0.61      0.62      2151\n",
      "weighted avg       0.76      0.79      0.76      2151\n",
      "\n"
     ]
    }
   ],
   "source": [
    "print(classification_report(test_labels, baseline_predicted))"
   ]
  },
  {
   "cell_type": "code",
   "execution_count": 7,
   "metadata": {},
   "outputs": [],
   "source": [
    "import tensorflow as tf\n",
    "import tensorflow_hub as hub\n",
    "import tensorflow_text\n",
    "import matplotlib.pyplot as plt\n",
    "import nlpaug.augmenter.word as naw\n",
    "from tqdm import tqdm\n",
    "from nlpaug.util import Action\n",
    "import gzip\n",
    "from sklearn.model_selection import train_test_split\n",
    "from sklearn.utils import shuffle"
   ]
  },
  {
   "cell_type": "markdown",
   "metadata": {},
   "source": [
    "### tensorflow BERT"
   ]
  },
  {
   "cell_type": "code",
   "execution_count": null,
   "metadata": {},
   "outputs": [],
   "source": [
    "#!pip install nlpaug"
   ]
  },
  {
   "cell_type": "code",
   "execution_count": 8,
   "metadata": {},
   "outputs": [],
   "source": [
    "Train_df, Valid_df = train_test_split(train, test_size=0.2, random_state=42)"
   ]
  },
  {
   "cell_type": "code",
   "execution_count": 9,
   "metadata": {},
   "outputs": [
    {
     "data": {
      "text/html": [
       "<div>\n",
       "<style scoped>\n",
       "    .dataframe tbody tr th:only-of-type {\n",
       "        vertical-align: middle;\n",
       "    }\n",
       "\n",
       "    .dataframe tbody tr th {\n",
       "        vertical-align: top;\n",
       "    }\n",
       "\n",
       "    .dataframe thead th {\n",
       "        text-align: right;\n",
       "    }\n",
       "</style>\n",
       "<table border=\"1\" class=\"dataframe\">\n",
       "  <thead>\n",
       "    <tr style=\"text-align: right;\">\n",
       "      <th></th>\n",
       "      <th>imdb_user_review</th>\n",
       "    </tr>\n",
       "    <tr>\n",
       "      <th>helpfulness_cat</th>\n",
       "      <th></th>\n",
       "    </tr>\n",
       "  </thead>\n",
       "  <tbody>\n",
       "    <tr>\n",
       "      <th>0.0</th>\n",
       "      <td>0.189679</td>\n",
       "    </tr>\n",
       "    <tr>\n",
       "      <th>1.0</th>\n",
       "      <td>0.610321</td>\n",
       "    </tr>\n",
       "  </tbody>\n",
       "</table>\n",
       "</div>"
      ],
      "text/plain": [
       "                 imdb_user_review\n",
       "helpfulness_cat                  \n",
       "0.0                      0.189679\n",
       "1.0                      0.610321"
      ]
     },
     "execution_count": 9,
     "metadata": {},
     "output_type": "execute_result"
    }
   ],
   "source": [
    "# nlp data augmentation\n",
    "# check the percentage of each label in the data set\n",
    "Train_df.groupby('helpfulness_cat').count()/len(train)"
   ]
  },
  {
   "cell_type": "code",
   "execution_count": 15,
   "metadata": {},
   "outputs": [
    {
     "data": {
      "text/html": [
       "<div>\n",
       "<style scoped>\n",
       "    .dataframe tbody tr th:only-of-type {\n",
       "        vertical-align: middle;\n",
       "    }\n",
       "\n",
       "    .dataframe tbody tr th {\n",
       "        vertical-align: top;\n",
       "    }\n",
       "\n",
       "    .dataframe thead th {\n",
       "        text-align: right;\n",
       "    }\n",
       "</style>\n",
       "<table border=\"1\" class=\"dataframe\">\n",
       "  <thead>\n",
       "    <tr style=\"text-align: right;\">\n",
       "      <th></th>\n",
       "      <th>imdb_user_review</th>\n",
       "    </tr>\n",
       "    <tr>\n",
       "      <th>helpfulness_cat</th>\n",
       "      <th></th>\n",
       "    </tr>\n",
       "  </thead>\n",
       "  <tbody>\n",
       "    <tr>\n",
       "      <th>0.0</th>\n",
       "      <td>2040</td>\n",
       "    </tr>\n",
       "    <tr>\n",
       "      <th>1.0</th>\n",
       "      <td>6564</td>\n",
       "    </tr>\n",
       "  </tbody>\n",
       "</table>\n",
       "</div>"
      ],
      "text/plain": [
       "                 imdb_user_review\n",
       "helpfulness_cat                  \n",
       "0.0                          2040\n",
       "1.0                          6564"
      ]
     },
     "execution_count": 15,
     "metadata": {},
     "output_type": "execute_result"
    }
   ],
   "source": [
    "Train_df.groupby('helpfulness_cat').count()"
   ]
  },
  {
   "cell_type": "code",
   "execution_count": 10,
   "metadata": {},
   "outputs": [],
   "source": [
    "#!pip install wget\n",
    "# download model from: https://drive.google.com/file/d/0B7XkCwpI5KDYNlNUTTlSS21pQmM/edit?resourcekey=0-wjGZdNAUop6WykTtMip30g\n",
    "# import wget\n",
    "# url = 'https://s3.amazonaws.com/dl4j-distribution/GoogleNews-vectors-negative300.bin.gz'\n",
    "# filename = wget.download(url)\n",
    "# gzip -d GoogleNews-vectors-negative300.bin.gz\n",
    "# get current path\n",
    "import os\n",
    "current_path = os.getcwd()\n",
    "# load the google model path\n",
    "google_model_path = os.path.join(current_path, 'GoogleNews-vectors-negative300.bin')"
   ]
  },
  {
   "cell_type": "code",
   "execution_count": 11,
   "metadata": {},
   "outputs": [],
   "source": [
    "aug = naw.WordEmbsAug(\n",
    "    model_type='word2vec', model_path=google_model_path,\n",
    "    action=\"insert\")"
   ]
  },
  {
   "cell_type": "code",
   "execution_count": 12,
   "metadata": {},
   "outputs": [],
   "source": [
    "# augmente the unhelpful reviews\n",
    "unhelpful_reviews = Train_df[Train_df['helpfulness_cat'] == 0].reset_index(drop=True)\n",
    "\n",
    "def augment_text(df_train,df_unhelpful,num,pr=0.2):\n",
    "    aug.aug_p=pr\n",
    "    new_text=[]\n",
    "\n",
    "    ## data augmentation loop\n",
    "    for i in tqdm(np.random.randint(0,len(df_unhelpful),num)):\n",
    "            text = unhelpful_reviews.iloc[i]['imdb_user_review']\n",
    "            augmented_text = aug.augment(text)\n",
    "            new_text.append(augmented_text)\n",
    "    \n",
    "    \n",
    "    ## dataframe\n",
    "    new=pd.DataFrame({'imdb_user_review':new_text,'helpfulness_cat':0})\n",
    "    new['imdb_user_review'] = new['imdb_user_review'].apply(lambda x: ' '.join(x))\n",
    "    df_new=shuffle(df_train.append(new).reset_index(drop=True))\n",
    "    return df_new\n",
    "   "
   ]
  },
  {
   "cell_type": "code",
   "execution_count": 13,
   "metadata": {},
   "outputs": [
    {
     "name": "stderr",
     "output_type": "stream",
     "text": [
      "100%|██████████| 4524/4524 [00:03<00:00, 1148.91it/s]\n",
      "/tmp/ipykernel_18306/1635099116.py:18: FutureWarning: The frame.append method is deprecated and will be removed from pandas in a future version. Use pandas.concat instead.\n",
      "  df_new=shuffle(df_train.append(new).reset_index(drop=True))\n"
     ]
    }
   ],
   "source": [
    "Train_df = augment_text(Train_df,unhelpful_reviews,4524)"
   ]
  },
  {
   "cell_type": "code",
   "execution_count": 11,
   "metadata": {},
   "outputs": [
    {
     "data": {
      "text/html": [
       "<div>\n",
       "<style scoped>\n",
       "    .dataframe tbody tr th:only-of-type {\n",
       "        vertical-align: middle;\n",
       "    }\n",
       "\n",
       "    .dataframe tbody tr th {\n",
       "        vertical-align: top;\n",
       "    }\n",
       "\n",
       "    .dataframe thead th {\n",
       "        text-align: right;\n",
       "    }\n",
       "</style>\n",
       "<table border=\"1\" class=\"dataframe\">\n",
       "  <thead>\n",
       "    <tr style=\"text-align: right;\">\n",
       "      <th></th>\n",
       "      <th>helpfulness_cat</th>\n",
       "      <th>imdb_user_review</th>\n",
       "    </tr>\n",
       "  </thead>\n",
       "  <tbody>\n",
       "    <tr>\n",
       "      <th>12261</th>\n",
       "      <td>0.0</td>\n",
       "      <td>boring movie, the acting Sadrist is fine but t...</td>\n",
       "    </tr>\n",
       "    <tr>\n",
       "      <th>3356</th>\n",
       "      <td>1.0</td>\n",
       "      <td>my title says it up pretty well, the acting is...</td>\n",
       "    </tr>\n",
       "    <tr>\n",
       "      <th>11011</th>\n",
       "      <td>0.0</td>\n",
       "      <td>worst movie i ve seen in ages. high school kid...</td>\n",
       "    </tr>\n",
       "    <tr>\n",
       "      <th>3531</th>\n",
       "      <td>1.0</td>\n",
       "      <td>as a former submarine sailor i watch every sub...</td>\n",
       "    </tr>\n",
       "    <tr>\n",
       "      <th>12114</th>\n",
       "      <td>0.0</td>\n",
       "      <td>i could not believe i spent over 2 hours watch...</td>\n",
       "    </tr>\n",
       "  </tbody>\n",
       "</table>\n",
       "</div>"
      ],
      "text/plain": [
       "       helpfulness_cat                                   imdb_user_review\n",
       "12261              0.0  boring movie, the acting Sadrist is fine but t...\n",
       "3356               1.0  my title says it up pretty well, the acting is...\n",
       "11011              0.0  worst movie i ve seen in ages. high school kid...\n",
       "3531               1.0  as a former submarine sailor i watch every sub...\n",
       "12114              0.0  i could not believe i spent over 2 hours watch..."
      ]
     },
     "execution_count": 11,
     "metadata": {},
     "output_type": "execute_result"
    }
   ],
   "source": [
    "Train_df.head()"
   ]
  },
  {
   "cell_type": "code",
   "execution_count": 12,
   "metadata": {},
   "outputs": [
    {
     "data": {
      "text/html": [
       "<div>\n",
       "<style scoped>\n",
       "    .dataframe tbody tr th:only-of-type {\n",
       "        vertical-align: middle;\n",
       "    }\n",
       "\n",
       "    .dataframe tbody tr th {\n",
       "        vertical-align: top;\n",
       "    }\n",
       "\n",
       "    .dataframe thead th {\n",
       "        text-align: right;\n",
       "    }\n",
       "</style>\n",
       "<table border=\"1\" class=\"dataframe\">\n",
       "  <thead>\n",
       "    <tr style=\"text-align: right;\">\n",
       "      <th></th>\n",
       "      <th>imdb_user_review</th>\n",
       "    </tr>\n",
       "    <tr>\n",
       "      <th>helpfulness_cat</th>\n",
       "      <th></th>\n",
       "    </tr>\n",
       "  </thead>\n",
       "  <tbody>\n",
       "    <tr>\n",
       "      <th>0.0</th>\n",
       "      <td>0.5</td>\n",
       "    </tr>\n",
       "    <tr>\n",
       "      <th>1.0</th>\n",
       "      <td>0.5</td>\n",
       "    </tr>\n",
       "  </tbody>\n",
       "</table>\n",
       "</div>"
      ],
      "text/plain": [
       "                 imdb_user_review\n",
       "helpfulness_cat                  \n",
       "0.0                           0.5\n",
       "1.0                           0.5"
      ]
     },
     "execution_count": 12,
     "metadata": {},
     "output_type": "execute_result"
    }
   ],
   "source": [
    "# check the percentage of each label in the data set\n",
    "Train_df.groupby('helpfulness_cat').count()/len(Train_df)"
   ]
  },
  {
   "cell_type": "code",
   "execution_count": 14,
   "metadata": {},
   "outputs": [],
   "source": [
    "X_train = Train_df.drop(['helpfulness_cat'], axis=1)\n",
    "y_train = Train_df.loc[:, 'helpfulness_cat']\n",
    "X_valid = Valid_df.drop(['helpfulness_cat'], axis=1)\n",
    "y_valid = Valid_df.loc[:, 'helpfulness_cat']"
   ]
  },
  {
   "cell_type": "code",
   "execution_count": 40,
   "metadata": {},
   "outputs": [
    {
     "ename": "TypeError",
     "evalue": "str() argument 2 must be str, not tuple",
     "output_type": "error",
     "traceback": [
      "\u001b[0;31m---------------------------------------------------------------------------\u001b[0m",
      "\u001b[0;31mTypeError\u001b[0m                                 Traceback (most recent call last)",
      "\u001b[1;32m/home/ash/Documents/movie-review-classifier/NLP_FCP.ipynb Cell 114\u001b[0m in \u001b[0;36m<cell line: 1>\u001b[0;34m()\u001b[0m\n\u001b[0;32m----> <a href='vscode-notebook-cell:/home/ash/Documents/movie-review-classifier/NLP_FCP.ipynb#ch0000106?line=0'>1</a>\u001b[0m \u001b[39mclass\u001b[39;00m \u001b[39mbuild_bert_model\u001b[39;00m(bert_model_name):\n\u001b[1;32m      <a href='vscode-notebook-cell:/home/ash/Documents/movie-review-classifier/NLP_FCP.ipynb#ch0000106?line=2'>3</a>\u001b[0m     \u001b[39mdef\u001b[39;00m \u001b[39m__init__\u001b[39m(\u001b[39mself\u001b[39m, bert_model_name, max_len, num_classes):\n\u001b[1;32m      <a href='vscode-notebook-cell:/home/ash/Documents/movie-review-classifier/NLP_FCP.ipynb#ch0000106?line=3'>4</a>\u001b[0m         \u001b[39mself\u001b[39m\u001b[39m.\u001b[39mbert_model_name \u001b[39m=\u001b[39m bert_model_name\n",
      "\u001b[0;31mTypeError\u001b[0m: str() argument 2 must be str, not tuple"
     ]
    }
   ],
   "source": [
    "# class build_bert_model(bert_model_name):\n",
    "    \n",
    "#     def __init__(self, bert_model_name, max_len, num_classes):\n",
    "#         self.bert_model_name = bert_model_name\n",
    "#         self.encoder = map_name_to_handle[self.bert_model_name]\n",
    "#         self.preprocess = map_name_to_handle[self.bert_model_name]\n",
    "        \n",
    "#         return self.__init__()\n",
    "    \n",
    "#     def preprocess_model(self):\n",
    "#         bert_preprocess_model = hub.KerasLayer(self.preprocess)\n",
    "#         return bert_preprocess_model\n",
    "    \n",
    "#     def bert_model(self):\n",
    "#         bert_model = hub.KerasLayer(self.encoder)\n",
    "#         return bert_model\n"
   ]
  },
  {
   "cell_type": "code",
   "execution_count": 15,
   "metadata": {},
   "outputs": [
    {
     "name": "stderr",
     "output_type": "stream",
     "text": [
      "2022-07-15 13:49:13.323288: W tensorflow/stream_executor/platform/default/dso_loader.cc:64] Could not load dynamic library 'libcuda.so.1'; dlerror: libcuda.so.1: cannot open shared object file: No such file or directory\n",
      "2022-07-15 13:49:13.323312: W tensorflow/stream_executor/cuda/cuda_driver.cc:269] failed call to cuInit: UNKNOWN ERROR (303)\n",
      "2022-07-15 13:49:13.323326: I tensorflow/stream_executor/cuda/cuda_diagnostics.cc:156] kernel driver does not appear to be running on this host (ashubuntu): /proc/driver/nvidia/version does not exist\n",
      "2022-07-15 13:49:13.324332: I tensorflow/core/platform/cpu_feature_guard.cc:193] This TensorFlow binary is optimized with oneAPI Deep Neural Network Library (oneDNN) to use the following CPU instructions in performance-critical operations:  AVX2 FMA\n",
      "To enable them in other operations, rebuild TensorFlow with the appropriate compiler flags.\n",
      "2022-07-15 13:49:17.959723: W tensorflow/core/framework/cpu_allocator_impl.cc:82] Allocation of 62509056 exceeds 10% of free system memory.\n"
     ]
    }
   ],
   "source": [
    "bert_model_name = 'small_bert/bert_en_uncased_L-4_H-512_A-8'\n",
    "map_name_to_handle = {\n",
    "    'bert_en_uncased_L-12_H-768_A-12':\n",
    "        'https://tfhub.dev/tensorflow/bert_en_uncased_L-12_H-768_A-12/3',\n",
    "    'bert_en_cased_L-12_H-768_A-12':\n",
    "        'https://tfhub.dev/tensorflow/bert_en_cased_L-12_H-768_A-12/3',\n",
    "    'bert_multi_cased_L-12_H-768_A-12':\n",
    "        'https://tfhub.dev/tensorflow/bert_multi_cased_L-12_H-768_A-12/3',\n",
    "    'small_bert/bert_en_uncased_L-2_H-128_A-2':\n",
    "        'https://tfhub.dev/tensorflow/small_bert/bert_en_uncased_L-2_H-128_A-2/1',\n",
    "    'small_bert/bert_en_uncased_L-2_H-256_A-4':\n",
    "        'https://tfhub.dev/tensorflow/small_bert/bert_en_uncased_L-2_H-256_A-4/1',\n",
    "    'small_bert/bert_en_uncased_L-2_H-512_A-8':\n",
    "        'https://tfhub.dev/tensorflow/small_bert/bert_en_uncased_L-2_H-512_A-8/1',\n",
    "    'small_bert/bert_en_uncased_L-2_H-768_A-12':\n",
    "        'https://tfhub.dev/tensorflow/small_bert/bert_en_uncased_L-2_H-768_A-12/1',\n",
    "    'small_bert/bert_en_uncased_L-4_H-128_A-2':\n",
    "        'https://tfhub.dev/tensorflow/small_bert/bert_en_uncased_L-4_H-128_A-2/1',\n",
    "    'small_bert/bert_en_uncased_L-4_H-256_A-4':\n",
    "        'https://tfhub.dev/tensorflow/small_bert/bert_en_uncased_L-4_H-256_A-4/1',\n",
    "    'small_bert/bert_en_uncased_L-4_H-512_A-8':\n",
    "        'https://tfhub.dev/tensorflow/small_bert/bert_en_uncased_L-4_H-512_A-8/1',\n",
    "    'small_bert/bert_en_uncased_L-4_H-768_A-12':\n",
    "        'https://tfhub.dev/tensorflow/small_bert/bert_en_uncased_L-4_H-768_A-12/1',\n",
    "    'small_bert/bert_en_uncased_L-6_H-128_A-2':\n",
    "        'https://tfhub.dev/tensorflow/small_bert/bert_en_uncased_L-6_H-128_A-2/1',\n",
    "    'small_bert/bert_en_uncased_L-6_H-256_A-4':\n",
    "        'https://tfhub.dev/tensorflow/small_bert/bert_en_uncased_L-6_H-256_A-4/1',\n",
    "    'small_bert/bert_en_uncased_L-6_H-512_A-8':\n",
    "        'https://tfhub.dev/tensorflow/small_bert/bert_en_uncased_L-6_H-512_A-8/1',\n",
    "    'small_bert/bert_en_uncased_L-6_H-768_A-12':\n",
    "        'https://tfhub.dev/tensorflow/small_bert/bert_en_uncased_L-6_H-768_A-12/1',\n",
    "    'small_bert/bert_en_uncased_L-8_H-128_A-2':\n",
    "        'https://tfhub.dev/tensorflow/small_bert/bert_en_uncased_L-8_H-128_A-2/1',\n",
    "    'small_bert/bert_en_uncased_L-8_H-256_A-4':\n",
    "        'https://tfhub.dev/tensorflow/small_bert/bert_en_uncased_L-8_H-256_A-4/1',\n",
    "    'small_bert/bert_en_uncased_L-8_H-512_A-8':\n",
    "        'https://tfhub.dev/tensorflow/small_bert/bert_en_uncased_L-8_H-512_A-8/1',\n",
    "    'small_bert/bert_en_uncased_L-8_H-768_A-12':\n",
    "        'https://tfhub.dev/tensorflow/small_bert/bert_en_uncased_L-8_H-768_A-12/1',\n",
    "    'small_bert/bert_en_uncased_L-10_H-128_A-2':\n",
    "        'https://tfhub.dev/tensorflow/small_bert/bert_en_uncased_L-10_H-128_A-2/1',\n",
    "    'small_bert/bert_en_uncased_L-10_H-256_A-4':\n",
    "        'https://tfhub.dev/tensorflow/small_bert/bert_en_uncased_L-10_H-256_A-4/1',\n",
    "    'small_bert/bert_en_uncased_L-10_H-512_A-8':\n",
    "        'https://tfhub.dev/tensorflow/small_bert/bert_en_uncased_L-10_H-512_A-8/1',\n",
    "    'small_bert/bert_en_uncased_L-10_H-768_A-12':\n",
    "        'https://tfhub.dev/tensorflow/small_bert/bert_en_uncased_L-10_H-768_A-12/1',\n",
    "    'small_bert/bert_en_uncased_L-12_H-128_A-2':\n",
    "        'https://tfhub.dev/tensorflow/small_bert/bert_en_uncased_L-12_H-128_A-2/1',\n",
    "    'small_bert/bert_en_uncased_L-12_H-256_A-4':\n",
    "        'https://tfhub.dev/tensorflow/small_bert/bert_en_uncased_L-12_H-256_A-4/1',\n",
    "    'small_bert/bert_en_uncased_L-12_H-512_A-8':\n",
    "        'https://tfhub.dev/tensorflow/small_bert/bert_en_uncased_L-12_H-512_A-8/1',\n",
    "    'small_bert/bert_en_uncased_L-12_H-768_A-12':\n",
    "        'https://tfhub.dev/tensorflow/small_bert/bert_en_uncased_L-12_H-768_A-12/1',\n",
    "    'albert_en_base':\n",
    "        'https://tfhub.dev/tensorflow/albert_en_base/2',\n",
    "    'electra_small':\n",
    "        'https://tfhub.dev/google/electra_small/2',\n",
    "    'electra_base':\n",
    "        'https://tfhub.dev/google/electra_base/2',\n",
    "    'experts_pubmed':\n",
    "        'https://tfhub.dev/google/experts/bert/pubmed/2',\n",
    "    'experts_wiki_books':\n",
    "        'https://tfhub.dev/google/experts/bert/wiki_books/2',\n",
    "    'talking-heads_base':\n",
    "        'https://tfhub.dev/tensorflow/talkheads_ggelu_bert_en_base/1',\n",
    "}\n",
    "\n",
    "map_model_to_preprocess = {\n",
    "    'bert_en_uncased_L-12_H-768_A-12':\n",
    "        'https://tfhub.dev/tensorflow/bert_en_uncased_preprocess/3',\n",
    "    'bert_en_cased_L-12_H-768_A-12':\n",
    "        'https://tfhub.dev/tensorflow/bert_en_cased_preprocess/3',\n",
    "    'small_bert/bert_en_uncased_L-2_H-128_A-2':\n",
    "        'https://tfhub.dev/tensorflow/bert_en_uncased_preprocess/3',\n",
    "    'small_bert/bert_en_uncased_L-2_H-256_A-4':\n",
    "        'https://tfhub.dev/tensorflow/bert_en_uncased_preprocess/3',\n",
    "    'small_bert/bert_en_uncased_L-2_H-512_A-8':\n",
    "        'https://tfhub.dev/tensorflow/bert_en_uncased_preprocess/3',\n",
    "    'small_bert/bert_en_uncased_L-2_H-768_A-12':\n",
    "        'https://tfhub.dev/tensorflow/bert_en_uncased_preprocess/3',\n",
    "    'small_bert/bert_en_uncased_L-4_H-128_A-2':\n",
    "        'https://tfhub.dev/tensorflow/bert_en_uncased_preprocess/3',\n",
    "    'small_bert/bert_en_uncased_L-4_H-256_A-4':\n",
    "        'https://tfhub.dev/tensorflow/bert_en_uncased_preprocess/3',\n",
    "    'small_bert/bert_en_uncased_L-4_H-512_A-8':\n",
    "        'https://tfhub.dev/tensorflow/bert_en_uncased_preprocess/3',\n",
    "    'small_bert/bert_en_uncased_L-4_H-768_A-12':\n",
    "        'https://tfhub.dev/tensorflow/bert_en_uncased_preprocess/3',\n",
    "    'small_bert/bert_en_uncased_L-6_H-128_A-2':\n",
    "        'https://tfhub.dev/tensorflow/bert_en_uncased_preprocess/3',\n",
    "    'small_bert/bert_en_uncased_L-6_H-256_A-4':\n",
    "        'https://tfhub.dev/tensorflow/bert_en_uncased_preprocess/3',\n",
    "    'small_bert/bert_en_uncased_L-6_H-512_A-8':\n",
    "        'https://tfhub.dev/tensorflow/bert_en_uncased_preprocess/3',\n",
    "    'small_bert/bert_en_uncased_L-6_H-768_A-12':\n",
    "        'https://tfhub.dev/tensorflow/bert_en_uncased_preprocess/3',\n",
    "    'small_bert/bert_en_uncased_L-8_H-128_A-2':\n",
    "        'https://tfhub.dev/tensorflow/bert_en_uncased_preprocess/3',\n",
    "    'small_bert/bert_en_uncased_L-8_H-256_A-4':\n",
    "        'https://tfhub.dev/tensorflow/bert_en_uncased_preprocess/3',\n",
    "    'small_bert/bert_en_uncased_L-8_H-512_A-8':\n",
    "        'https://tfhub.dev/tensorflow/bert_en_uncased_preprocess/3',\n",
    "    'small_bert/bert_en_uncased_L-8_H-768_A-12':\n",
    "        'https://tfhub.dev/tensorflow/bert_en_uncased_preprocess/3',\n",
    "    'small_bert/bert_en_uncased_L-10_H-128_A-2':\n",
    "        'https://tfhub.dev/tensorflow/bert_en_uncased_preprocess/3',\n",
    "    'small_bert/bert_en_uncased_L-10_H-256_A-4':\n",
    "        'https://tfhub.dev/tensorflow/bert_en_uncased_preprocess/3',\n",
    "    'small_bert/bert_en_uncased_L-10_H-512_A-8':\n",
    "        'https://tfhub.dev/tensorflow/bert_en_uncased_preprocess/3',\n",
    "    'small_bert/bert_en_uncased_L-10_H-768_A-12':\n",
    "        'https://tfhub.dev/tensorflow/bert_en_uncased_preprocess/3',\n",
    "    'small_bert/bert_en_uncased_L-12_H-128_A-2':\n",
    "        'https://tfhub.dev/tensorflow/bert_en_uncased_preprocess/3',\n",
    "    'small_bert/bert_en_uncased_L-12_H-256_A-4':\n",
    "        'https://tfhub.dev/tensorflow/bert_en_uncased_preprocess/3',\n",
    "    'small_bert/bert_en_uncased_L-12_H-512_A-8':\n",
    "        'https://tfhub.dev/tensorflow/bert_en_uncased_preprocess/3',\n",
    "    'small_bert/bert_en_uncased_L-12_H-768_A-12':\n",
    "        'https://tfhub.dev/tensorflow/bert_en_uncased_preprocess/3',\n",
    "    'bert_multi_cased_L-12_H-768_A-12':\n",
    "        'https://tfhub.dev/tensorflow/bert_multi_cased_preprocess/3',\n",
    "    'albert_en_base':\n",
    "        'https://tfhub.dev/tensorflow/albert_en_preprocess/3',\n",
    "    'electra_small':\n",
    "        'https://tfhub.dev/tensorflow/bert_en_uncased_preprocess/3',\n",
    "    'electra_base':\n",
    "        'https://tfhub.dev/tensorflow/bert_en_uncased_preprocess/3',\n",
    "    'experts_pubmed':\n",
    "        'https://tfhub.dev/tensorflow/bert_en_uncased_preprocess/3',\n",
    "    'experts_wiki_books':\n",
    "        'https://tfhub.dev/tensorflow/bert_en_uncased_preprocess/3',\n",
    "    'talking-heads_base':\n",
    "        'https://tfhub.dev/tensorflow/bert_en_uncased_preprocess/3',\n",
    "}\n",
    "\n",
    "tfhub_handle_encoder = map_name_to_handle[bert_model_name]\n",
    "tfhub_handle_preprocess = map_model_to_preprocess[bert_model_name]\n",
    "bert_preprocess_model = hub.KerasLayer(tfhub_handle_preprocess)\n",
    "bert_model = hub.KerasLayer(tfhub_handle_encoder)"
   ]
  },
  {
   "cell_type": "code",
   "execution_count": 16,
   "metadata": {},
   "outputs": [],
   "source": [
    "# Bert layers\n",
    "text_input = tf.keras.layers.Input(shape=(), dtype=tf.string, name='text')\n",
    "preprocessed_text = bert_preprocess_model(text_input)\n",
    "outputs = bert_model(preprocessed_text)\n",
    "# Neural network layers\n",
    "l = tf.keras.layers.Dropout(0.1, name=\"dropout\")(outputs['pooled_output'])\n",
    "l = tf.keras.layers.Dense(1, activation='sigmoid', name=\"output\")(l)\n",
    "# Use inputs and outputs to construct a final model\n",
    "model = tf.keras.Model(inputs=[text_input], outputs = [l])"
   ]
  },
  {
   "cell_type": "code",
   "execution_count": 17,
   "metadata": {},
   "outputs": [
    {
     "name": "stdout",
     "output_type": "stream",
     "text": [
      "Epoch 1/5\n"
     ]
    },
    {
     "name": "stderr",
     "output_type": "stream",
     "text": [
      "2022-07-15 13:49:26.085316: W tensorflow/core/framework/cpu_allocator_impl.cc:82] Allocation of 16777216 exceeds 10% of free system memory.\n",
      "2022-07-15 13:49:26.098278: W tensorflow/core/framework/cpu_allocator_impl.cc:82] Allocation of 16777216 exceeds 10% of free system memory.\n",
      "2022-07-15 13:49:26.132254: W tensorflow/core/framework/cpu_allocator_impl.cc:82] Allocation of 33554432 exceeds 10% of free system memory.\n",
      "2022-07-15 13:49:26.155356: W tensorflow/core/framework/cpu_allocator_impl.cc:82] Allocation of 33554432 exceeds 10% of free system memory.\n"
     ]
    },
    {
     "name": "stdout",
     "output_type": "stream",
     "text": [
      "411/411 [==============================] - 271s 654ms/step - loss: 0.5975 - accuracy: 0.6807 - val_loss: 0.5799 - val_accuracy: 0.6894\n",
      "Epoch 2/5\n",
      "411/411 [==============================] - 264s 642ms/step - loss: 0.5442 - accuracy: 0.7259 - val_loss: 0.5584 - val_accuracy: 0.7108\n",
      "Epoch 3/5\n",
      "411/411 [==============================] - 264s 644ms/step - loss: 0.5276 - accuracy: 0.7406 - val_loss: 0.6165 - val_accuracy: 0.6620\n",
      "Epoch 4/5\n",
      "411/411 [==============================] - 261s 636ms/step - loss: 0.5207 - accuracy: 0.7447 - val_loss: 0.6002 - val_accuracy: 0.6746\n",
      "Epoch 5/5\n",
      "411/411 [==============================] - 262s 638ms/step - loss: 0.5155 - accuracy: 0.7474 - val_loss: 0.5975 - val_accuracy: 0.6722\n"
     ]
    }
   ],
   "source": [
    "model.compile(optimizer='adam', loss='binary_crossentropy', metrics=['accuracy'])\n",
    "log = model.fit(X_train, y_train, epochs=5, batch_size = 32,validation_data=(X_valid, y_valid))"
   ]
  },
  {
   "cell_type": "code",
   "execution_count": 18,
   "metadata": {},
   "outputs": [
    {
     "data": {
      "image/png": "[encoded data removed]",
      "text/plain": [
       "<Figure size 432x288 with 1 Axes>"
      ]
     },
     "metadata": {
      "needs_background": "light"
     },
     "output_type": "display_data"
    }
   ],
   "source": [
    "plt.plot(log.history['loss'],label = \"training loss\")\n",
    "plt.plot(log.history['val_loss'], label = \"validation loss\")\n",
    "plt.legend()\n",
    "plt.show()"
   ]
  },
  {
   "cell_type": "code",
   "execution_count": 19,
   "metadata": {},
   "outputs": [
    {
     "data": {
      "image/png": "[encoded data removed]",
      "text/plain": [
       "<Figure size 432x288 with 1 Axes>"
      ]
     },
     "metadata": {
      "needs_background": "light"
     },
     "output_type": "display_data"
    }
   ],
   "source": [
    "plt.plot(log.history['accuracy'],label = \"training acc\")\n",
    "plt.plot(log.history['val_accuracy'], label = \"validation acc\")\n",
    "plt.legend()\n",
    "plt.show()"
   ]
  },
  {
   "cell_type": "code",
   "execution_count": 20,
   "metadata": {},
   "outputs": [
    {
     "name": "stdout",
     "output_type": "stream",
     "text": [
      "68/68 [==============================] - 37s 538ms/step\n",
      "              precision    recall  f1-score   support\n",
      "\n",
      "         0.0       0.33      0.41      0.37       501\n",
      "         1.0       0.81      0.75      0.78      1650\n",
      "\n",
      "    accuracy                           0.67      2151\n",
      "   macro avg       0.57      0.58      0.57      2151\n",
      "weighted avg       0.70      0.67      0.68      2151\n",
      "\n"
     ]
    }
   ],
   "source": [
    "from sklearn.metrics import classification_report\n",
    "# predict on test data\n",
    "y_pred = model.predict(X_valid)\n",
    "# get F1 score\n",
    "print(classification_report(y_valid, y_pred.round()))"
   ]
  },
  {
   "cell_type": "code",
   "execution_count": 21,
   "metadata": {},
   "outputs": [],
   "source": [
    "# get the f-1 score\n",
    "from sklearn.metrics import f1_score\n",
    "f1_score = f1_score(y_valid, y_pred.round())"
   ]
  },
  {
   "cell_type": "code",
   "execution_count": 22,
   "metadata": {},
   "outputs": [
    {
     "data": {
      "text/plain": [
       "0.7786499215070645"
      ]
     },
     "execution_count": 22,
     "metadata": {},
     "output_type": "execute_result"
    }
   ],
   "source": [
    "f1_score"
   ]
  }
 ],
 "metadata": {
  "kernelspec": {
   "display_name": "Python 3.9.12 ('nlp')",
   "language": "python",
   "name": "python3"
  },
  "language_info": {
   "codemirror_mode": {
    "name": "ipython",
    "version": 3
   },
   "file_extension": ".py",
   "mimetype": "text/x-python",
   "name": "python",
   "nbconvert_exporter": "python",
   "pygments_lexer": "ipython3",
   "version": "3.9.12"
  },
  "orig_nbformat": 4,
  "vscode": {
   "interpreter": {
    "hash": "2b151a8724a8630c715aba25a3cf7cb2f7af7cba7393c1f72aa0ec5abc753039"
   }
  }
 },
 "nbformat": 4,
 "nbformat_minor": 2
}
