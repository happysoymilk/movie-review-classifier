{
  "cells": [
    {
      "cell_type": "code",
      "execution_count": 46,
      "metadata": {
        "id": "wjOpMZeYMif8"
      },
      "outputs": [],
      "source": [
        "# import libraries\n",
        "import pandas as pd\n",
        "import spacy\n",
        "import numpy as np\n",
        "import matplotlib.pyplot as plt\n",
        "import seaborn as sns\n",
        "import tomotopy as tp\n",
        "import re"
      ]
    },
    {
      "cell_type": "code",
      "execution_count": 47,
      "metadata": {
        "id": "x30XlULhMif-"
      },
      "outputs": [],
      "source": [
        "# import data\n",
        "train = pd.read_csv(\"train.csv\")\n",
        "test = pd.read_csv(\"test.csv\")"
      ]
    },
    {
      "cell_type": "code",
      "execution_count": 48,
      "metadata": {
        "id": "KHjRZhkHMif_",
        "outputId": "4f06a249-da77-4b15-c4a9-5e7f76ac1d70"
      },
      "outputs": [
        {
          "data": {
            "text/html": [
              "<div>\n",
              "<style scoped>\n",
              "    .dataframe tbody tr th:only-of-type {\n",
              "        vertical-align: middle;\n",
              "    }\n",
              "\n",
              "    .dataframe tbody tr th {\n",
              "        vertical-align: top;\n",
              "    }\n",
              "\n",
              "    .dataframe thead th {\n",
              "        text-align: right;\n",
              "    }\n",
              "</style>\n",
              "<table border=\"1\" class=\"dataframe\">\n",
              "  <thead>\n",
              "    <tr style=\"text-align: right;\">\n",
              "      <th></th>\n",
              "      <th>helpfulness_cat</th>\n",
              "      <th>imdb_user_review</th>\n",
              "    </tr>\n",
              "  </thead>\n",
              "  <tbody>\n",
              "    <tr>\n",
              "      <th>0</th>\n",
              "      <td>1.0</td>\n",
              "      <td>It is hard to find such delightful and adorabl...</td>\n",
              "    </tr>\n",
              "    <tr>\n",
              "      <th>1</th>\n",
              "      <td>1.0</td>\n",
              "      <td>They don't make films like this faded, hauntin...</td>\n",
              "    </tr>\n",
              "    <tr>\n",
              "      <th>2</th>\n",
              "      <td>1.0</td>\n",
              "      <td>I first viewed this movie in 1924 at age 6 yrs...</td>\n",
              "    </tr>\n",
              "    <tr>\n",
              "      <th>3</th>\n",
              "      <td>1.0</td>\n",
              "      <td>I doubt that I'd ever seen anything resembling...</td>\n",
              "    </tr>\n",
              "    <tr>\n",
              "      <th>4</th>\n",
              "      <td>1.0</td>\n",
              "      <td>I was shocked to find myself riveted to this m...</td>\n",
              "    </tr>\n",
              "  </tbody>\n",
              "</table>\n",
              "</div>"
            ],
            "text/plain": [
              "   helpfulness_cat                                   imdb_user_review\n",
              "0              1.0  It is hard to find such delightful and adorabl...\n",
              "1              1.0  They don't make films like this faded, hauntin...\n",
              "2              1.0  I first viewed this movie in 1924 at age 6 yrs...\n",
              "3              1.0  I doubt that I'd ever seen anything resembling...\n",
              "4              1.0  I was shocked to find myself riveted to this m..."
            ]
          },
          "execution_count": 48,
          "metadata": {},
          "output_type": "execute_result"
        }
      ],
      "source": [
        "train.head()"
      ]
    },
    {
      "cell_type": "code",
      "execution_count": 49,
      "metadata": {
        "id": "3BiOoq1sMigB",
        "outputId": "104b8b3a-df8f-4fa0-fbe9-18de293c9965"
      },
      "outputs": [
        {
          "name": "stdout",
          "output_type": "stream",
          "text": [
            "0.7637377963737796\n"
          ]
        }
      ],
      "source": [
        "print(sum(train['helpfulness_cat'])/len(train))\n"
      ]
    },
    {
      "cell_type": "code",
      "execution_count": 50,
      "metadata": {
        "id": "n2OaTMAhMigB",
        "outputId": "01454b9a-4bc4-4090-dc2a-f533600057c2"
      },
      "outputs": [
        {
          "name": "stdout",
          "output_type": "stream",
          "text": [
            "The average number of words in a document is: 175.48888888888888.\n",
            "The minimum number of words in a document is: 6.\n",
            "The maximum number of words in a document is: 3954.\n"
          ]
        }
      ],
      "source": [
        "document_lengths = np.array(list(map(len, train['imdb_user_review'].str.split(' '))))\n",
        "\n",
        "print(\"The average number of words in a document is: {}.\".format(np.mean(document_lengths)))\n",
        "print(\"The minimum number of words in a document is: {}.\".format(min(document_lengths)))\n",
        "print(\"The maximum number of words in a document is: {}.\".format(max(document_lengths)))"
      ]
    },
    {
      "cell_type": "code",
      "execution_count": 51,
      "metadata": {
        "id": "6pv3995hMigB",
        "outputId": "33024796-81ae-4d04-a2f2-fdd9d25c47c0"
      },
      "outputs": [
        {
          "name": "stderr",
          "output_type": "stream",
          "text": [
            "/opt/anaconda3/envs/newfiat/lib/python3.9/site-packages/seaborn/distributions.py:2619: FutureWarning: `distplot` is a deprecated function and will be removed in a future version. Please adapt your code to use either `displot` (a figure-level function with similar flexibility) or `histplot` (an axes-level function for histograms).\n",
            "  warnings.warn(msg, FutureWarning)\n"
          ]
        },
        {
          "data": {
            "text/plain": [
              "<AxesSubplot:title={'center':'Distribution of number of words'}, xlabel='Number of words', ylabel='Density'>"
            ]
          },
          "execution_count": 51,
          "metadata": {},
          "output_type": "execute_result"
        },
        {
          "data": {
            "image/png": "[encoded data removed]",
            "text/plain": [
              "<Figure size 1080x432 with 1 Axes>"
            ]
          },
          "metadata": {
            "needs_background": "light"
          },
          "output_type": "display_data"
        }
      ],
      "source": [
        "fig, ax = plt.subplots(figsize=(15,6))\n",
        "\n",
        "ax.set_title(\"Distribution of number of words\", fontsize=16)\n",
        "ax.set_xlabel(\"Number of words\")\n",
        "sns.distplot(document_lengths, bins=50, ax=ax)"
      ]
    },
    {
      "cell_type": "code",
      "execution_count": 52,
      "metadata": {
        "id": "_KBgfYA5MigB",
        "outputId": "ac43fb72-d269-4285-db06-bed5c4eca7f0"
      },
      "outputs": [
        {
          "name": "stdout",
          "output_type": "stream",
          "text": [
            "There are 9 documents with over 1500 words.\n",
            "There are 2 documents with max 6 words.\n"
          ]
        }
      ],
      "source": [
        "print(\"There are {} documents with over 1500 words.\".format(sum(document_lengths > 1500)))\n",
        "print(\"There are {} documents with max 6 words.\".format(sum(document_lengths <= 6)))"
      ]
    },
    {
      "cell_type": "markdown",
      "metadata": {
        "id": "CTCaam_tMigC"
      },
      "source": [
        "### 2. Basic Data Cleansing"
      ]
    },
    {
      "cell_type": "code",
      "execution_count": 53,
      "metadata": {
        "id": "cE0ww2FwMigC",
        "outputId": "d994b2f1-8279-4190-ffd1-e800b0b19b2e"
      },
      "outputs": [
        {
          "data": {
            "text/plain": [
              "'It is hard to find such delightful and adorable movies these days as \\\\\"The Kid\\\\\". It is a silent movie but so rich, winning and beautiful that you don\\\\u00b4t nead words. Chaplin and 6-year old Coogan are possibly the most charming pair I have ever seen in my life. The film succees to be nicely light and full of joy but also overwhelmingly sad and sentimental. I always get my eyes full with tears of saddness and happiness. And I really never cry in movies. And the music...its simply Oscar-level! The movie is sympathetic, full of feeling, touchingly funny moments. It is truly a masterpiece showing how extraordinary talented person Charlie Chaplin was considering this film is respectively over 80 years old! So don\\\\u00b4t you miss it because of it\\\\u00b4s age, don\\\\u00b4t miss it.'"
            ]
          },
          "execution_count": 53,
          "metadata": {},
          "output_type": "execute_result"
        }
      ],
      "source": [
        "# data sample\n",
        "train['imdb_user_review'][0]"
      ]
    },
    {
      "cell_type": "code",
      "execution_count": 54,
      "metadata": {
        "id": "vWLZpm5oMigD"
      },
      "outputs": [],
      "source": [
        "def basic_clean(text):\n",
        "    \"\"\"\n",
        "    Remove \\\\,\\n,\\t,... from text\n",
        "    Remove whitespace from text\n",
        "    change to lowercase\n",
        "    \"\"\"\n",
        "    \n",
        "    # Replacing all the occurrences of \\n,\\\\n,\\t,\\\\ with a space.\n",
        "    Formatted_text = text.replace('\\\\n', ' ').replace('\\n', ' ').replace('\\t',' ').replace('\\'', ' ').replace('\"',' ')\n",
        "    pattern = re.compile(r'\\s+')\n",
        "    Formatted_text = Formatted_text.lower()\n",
        "    Formatted_text = Formatted_text.replace('\\\\u00b4',' ').replace('\\\\',' ')\n",
        "    Without_whitespace = re.sub(pattern, ' ', Formatted_text)\n",
        "    Formatted_text = Without_whitespace.replace('?', ' ? ').replace(')', ') ')\n",
        "    return Formatted_text"
      ]
    },
    {
      "cell_type": "code",
      "execution_count": 55,
      "metadata": {
        "id": "QTbEKBoiMigD"
      },
      "outputs": [],
      "source": [
        "# cleaning data\n",
        "train['imdb_user_review'] = train['imdb_user_review'].apply(basic_clean)"
      ]
    },
    {
      "cell_type": "code",
      "execution_count": 56,
      "metadata": {
        "id": "cLVEbOTYMigD",
        "outputId": "79d290c4-4acc-4673-8e3b-8cef12d0d4da"
      },
      "outputs": [
        {
          "data": {
            "text/plain": [
              "'it is hard to find such delightful and adorable movies these days as the kid . it is a silent movie but so rich, winning and beautiful that you don t nead words. chaplin and 6-year old coogan are possibly the most charming pair i have ever seen in my life. the film succees to be nicely light and full of joy but also overwhelmingly sad and sentimental. i always get my eyes full with tears of saddness and happiness. and i really never cry in movies. and the music...its simply oscar-level! the movie is sympathetic, full of feeling, touchingly funny moments. it is truly a masterpiece showing how extraordinary talented person charlie chaplin was considering this film is respectively over 80 years old! so don t you miss it because of it s age, don t miss it.'"
            ]
          },
          "execution_count": 56,
          "metadata": {},
          "output_type": "execute_result"
        }
      ],
      "source": [
        "train['imdb_user_review'][0]"
      ]
    },
    {
      "cell_type": "markdown",
      "metadata": {
        "id": "S3x39PqNMigE"
      },
      "source": [
        "### 2.1 Sentiment Analysis"
      ]
    },
    {
      "cell_type": "code",
      "execution_count": null,
      "metadata": {
        "id": "n41MmgR-MigE"
      },
      "outputs": [],
      "source": [
        "# install transformers\n",
        "#!pip install -q transformers"
      ]
    },
    {
      "cell_type": "code",
      "execution_count": null,
      "metadata": {
        "colab": {
          "referenced_widgets": [
            "2b96e24174724791b78d37e9d09257ee"
          ]
        },
        "id": "zQOqqlT_MigE",
        "outputId": "5d0f0957-765d-4be5-a9fb-61e4c781bb11"
      },
      "outputs": [
        {
          "data": {
            "application/vnd.jupyter.widget-view+json": {
              "model_id": "2b96e24174724791b78d37e9d09257ee",
              "version_major": 2,
              "version_minor": 0
            },
            "text/plain": [
              "Downloading:   0%|          | 0.00/1.13k [00:00<?, ?B/s]"
            ]
          },
          "metadata": {},
          "output_type": "display_data"
        },
        {
          "name": "stderr",
          "output_type": "stream",
          "text": [
            "emoji is not installed, thus not converting emoticons or emojis into text. Install emoji: pip3 install emoji==0.6.0\n"
          ]
        }
      ],
      "source": [
        "# # using fine tuned bertmodel based on tweet dataset to analyse sentiment\n",
        "# from transformers import pipeline\n",
        " \n",
        "# # Set up the inference pipeline using a model from the 🤗 Hub\n",
        "# sentiment_analysis = pipeline(model=\"finiteautomata/bertweet-base-sentiment-analysis\")"
      ]
    },
    {
      "cell_type": "code",
      "execution_count": null,
      "metadata": {
        "id": "QOPF69stMigP"
      },
      "outputs": [],
      "source": [
        "# # update sentiment analysis model config\n",
        "# sentiment_analysis.model.config.update({\"max_position_embeddings\":1000,\"max_seq_length\":512})"
      ]
    },
    {
      "cell_type": "code",
      "execution_count": null,
      "metadata": {
        "id": "HU31rIuQMigQ"
      },
      "outputs": [],
      "source": [
        "# from transformers import pipeline\n",
        " \n",
        "# # Set up the inference pipeline using a model from the 🤗 Hub\n",
        "# sentiment_analysis = pipeline(model=\"finiteautomata/bertweet-base-sentiment-analysis\")\n",
        " \n",
        "# # Let's run the sentiment analysis on each tweet\n",
        "# sentiment = []\n",
        "# for review in train['imdb_user_review']:\n",
        "#    try:\n",
        "#      content = [review]\n",
        "#      sentiment = sentiment_analysis(content)\n",
        "#      review.append({'tweet': content, 'sentiment': sentiment[0]['label']})\n",
        " \n",
        "#    except:\n",
        "#      pass"
      ]
    },
    {
      "cell_type": "code",
      "execution_count": null,
      "metadata": {
        "id": "ssbtPYrxMigR"
      },
      "outputs": [],
      "source": [
        "'''\n",
        "index error: \n",
        "Token indices sequence length is longer than the specified maximum sequence length for this model (176 > 128)\n",
        "Due to the length of reviews, the model cannot handle them.\n",
        "'''"
      ]
    },
    {
      "cell_type": "code",
      "execution_count": null,
      "metadata": {
        "colab": {
          "referenced_widgets": [
            "57c39952732b45669999891756d7f970"
          ]
        },
        "id": "NZpz2M3FMigR",
        "outputId": "fdd0b4a9-2194-4da0-dab4-ab8b685067ca"
      },
      "outputs": [
        {
          "data": {
            "application/vnd.jupyter.widget-view+json": {
              "model_id": "57c39952732b45669999891756d7f970",
              "version_major": 2,
              "version_minor": 0
            },
            "text/plain": [
              "Downloading:   0%|          | 0.00/1.02k [00:00<?, ?B/s]"
            ]
          },
          "metadata": {},
          "output_type": "display_data"
        },
        {
          "name": "stderr",
          "output_type": "stream",
          "text": [
            "Some weights of the model checkpoint at roberta-large-mnli were not used when initializing RobertaForSequenceClassification: ['roberta.pooler.dense.bias', 'roberta.pooler.dense.weight']\n",
            "- This IS expected if you are initializing RobertaForSequenceClassification from the checkpoint of a model trained on another task or with another architecture (e.g. initializing a BertForSequenceClassification model from a BertForPreTraining model).\n",
            "- This IS NOT expected if you are initializing RobertaForSequenceClassification from the checkpoint of a model that you expect to be exactly identical (initializing a BertForSequenceClassification model from a BertForSequenceClassification model).\n"
          ]
        }
      ],
      "source": [
        "# using roberta-large-mnli model to analyse sentiment\n",
        "from transformers import pipeline\n",
        "pipe = pipeline(model=\"roberta-large-mnli\",return_all_scores=True)"
      ]
    },
    {
      "cell_type": "code",
      "execution_count": null,
      "metadata": {
        "id": "32zFH-eMMigS"
      },
      "outputs": [],
      "source": [
        "CONTRADICTION = []\n",
        "NEUTRAL = []\n",
        "ENTAILMENT = []\n",
        "\n",
        "for review in train['imdb_user_review']:\n",
        "   try:\n",
        "    temp = 0\n",
        "    temp = pipe(review)[0][0]['score']\n",
        "    CONTRADICTION.append(temp)\n",
        "\n",
        "    temp = pipe(review)[0][1]['score']\n",
        "    NEUTRAL.append(temp)\n",
        "\n",
        "    temp = pipe(review)[0][2]['score']\n",
        "    ENTAILMENT.append(temp)\n",
        "   except:\n",
        "     temp = 0\n",
        "     CONTRADICTION.append(temp)\n",
        "     NEUTRAL.append(temp)\n",
        "     ENTAILMENT.append(temp)"
      ]
    },
    {
      "cell_type": "code",
      "execution_count": null,
      "metadata": {
        "id": "Cz1Pvw41MigT"
      },
      "outputs": [],
      "source": [
        "# combine contradiction, neutral and entailment into a data frame\n",
        "train_sentiment = pd.DataFrame({'CONTRADICTION': CONTRADICTION, 'NEUTRAL': NEUTRAL, 'ENTAILMENT': ENTAILMENT})\n",
        "train_sentiment.to_csv('train_sentiment.csv', index=False)"
      ]
    },
    {
      "cell_type": "code",
      "execution_count": null,
      "metadata": {
        "id": "v3YVQzd1MigT"
      },
      "outputs": [],
      "source": [
        "# load the sentiment dataframe\n",
        "train_sentiment = pd.read_csv('train_sentiment.csv')"
      ]
    },
    {
      "cell_type": "code",
      "execution_count": null,
      "metadata": {
        "id": "c2Spr6O_MigU"
      },
      "outputs": [],
      "source": [
        "# combine healpfulness and sentiment into a data frame\n",
        "train_sentiment['helpfulness_cat'] = train['helpfulness_cat']"
      ]
    },
    {
      "cell_type": "code",
      "execution_count": null,
      "metadata": {
        "id": "YVa0LtIvMigU",
        "outputId": "6e3056b4-20fb-4651-dd3c-cd2d091ff92d"
      },
      "outputs": [
        {
          "data": {
            "text/html": [
              "<div>\n",
              "<style scoped>\n",
              "    .dataframe tbody tr th:only-of-type {\n",
              "        vertical-align: middle;\n",
              "    }\n",
              "\n",
              "    .dataframe tbody tr th {\n",
              "        vertical-align: top;\n",
              "    }\n",
              "\n",
              "    .dataframe thead th {\n",
              "        text-align: right;\n",
              "    }\n",
              "</style>\n",
              "<table border=\"1\" class=\"dataframe\">\n",
              "  <thead>\n",
              "    <tr style=\"text-align: right;\">\n",
              "      <th></th>\n",
              "      <th>CONTRADICTION</th>\n",
              "      <th>NEUTRAL</th>\n",
              "      <th>ENTAILMENT</th>\n",
              "      <th>helpfulness_cat</th>\n",
              "    </tr>\n",
              "  </thead>\n",
              "  <tbody>\n",
              "    <tr>\n",
              "      <th>0</th>\n",
              "      <td>0.301088</td>\n",
              "      <td>0.670759</td>\n",
              "      <td>0.028153</td>\n",
              "      <td>1.0</td>\n",
              "    </tr>\n",
              "    <tr>\n",
              "      <th>1</th>\n",
              "      <td>0.031557</td>\n",
              "      <td>0.959142</td>\n",
              "      <td>0.009301</td>\n",
              "      <td>1.0</td>\n",
              "    </tr>\n",
              "    <tr>\n",
              "      <th>2</th>\n",
              "      <td>0.000880</td>\n",
              "      <td>0.994948</td>\n",
              "      <td>0.004172</td>\n",
              "      <td>1.0</td>\n",
              "    </tr>\n",
              "    <tr>\n",
              "      <th>3</th>\n",
              "      <td>0.441404</td>\n",
              "      <td>0.545666</td>\n",
              "      <td>0.012929</td>\n",
              "      <td>1.0</td>\n",
              "    </tr>\n",
              "    <tr>\n",
              "      <th>4</th>\n",
              "      <td>0.083177</td>\n",
              "      <td>0.886534</td>\n",
              "      <td>0.030290</td>\n",
              "      <td>1.0</td>\n",
              "    </tr>\n",
              "  </tbody>\n",
              "</table>\n",
              "</div>"
            ],
            "text/plain": [
              "   CONTRADICTION   NEUTRAL  ENTAILMENT  helpfulness_cat\n",
              "0       0.301088  0.670759    0.028153              1.0\n",
              "1       0.031557  0.959142    0.009301              1.0\n",
              "2       0.000880  0.994948    0.004172              1.0\n",
              "3       0.441404  0.545666    0.012929              1.0\n",
              "4       0.083177  0.886534    0.030290              1.0"
            ]
          },
          "execution_count": 21,
          "metadata": {},
          "output_type": "execute_result"
        }
      ],
      "source": [
        "train_sentiment.head()"
      ]
    },
    {
      "cell_type": "code",
      "execution_count": null,
      "metadata": {
        "id": "wPz8aXpEMigV",
        "outputId": "a3faac25-5a9c-4465-f9e9-1fb100513aa7"
      },
      "outputs": [
        {
          "name": "stdout",
          "output_type": "stream",
          "text": [
            "The average contradiction score for unhelpful reviews is: 0.12952283451497476.\n",
            "The average contradiction score for helpful reviews is: 0.10519036463656863.\n",
            "The average neutral score for unhelpful reviews is: 0.7467805991370402.\n",
            "The average neutral score for helpful reviews is: 0.7229228923420817.\n",
            "The average entailment score for unhelpful reviews is: 0.07568397245021018.\n",
            "The average entailment score for helpful reviews is: 0.054647882621228404.\n"
          ]
        }
      ],
      "source": [
        "# get the avg score for reviews\n",
        "print(\"The average contradiction score for unhelpful reviews is: {}.\".format(np.mean(train_sentiment['CONTRADICTION'][train_sentiment['helpfulness_cat'] == 0])))\n",
        "print(\"The average contradiction score for helpful reviews is: {}.\".format(np.mean(train_sentiment['CONTRADICTION'][train_sentiment['helpfulness_cat'] == 1])))\n",
        "print(\"The average neutral score for unhelpful reviews is: {}.\".format(np.mean(train_sentiment['NEUTRAL'][train_sentiment['helpfulness_cat'] == 0])))\n",
        "print(\"The average neutral score for helpful reviews is: {}.\".format(np.mean(train_sentiment['NEUTRAL'][train_sentiment['helpfulness_cat'] == 1])))\n",
        "print(\"The average entailment score for unhelpful reviews is: {}.\".format(np.mean(train_sentiment['ENTAILMENT'][train_sentiment['helpfulness_cat'] == 0])))\n",
        "print(\"The average entailment score for helpful reviews is: {}.\".format(np.mean(train_sentiment['ENTAILMENT'][train_sentiment['helpfulness_cat'] == 1])))\n"
      ]
    },
    {
      "cell_type": "code",
      "execution_count": null,
      "metadata": {
        "id": "eG6Yz0XbMiga",
        "outputId": "eb2f9266-b192-408b-9706-fe41bfeb4362"
      },
      "outputs": [
        {
          "name": "stderr",
          "output_type": "stream",
          "text": [
            "/home/ash/miniconda3/envs/nlp/lib/python3.9/site-packages/seaborn/distributions.py:2619: FutureWarning: `distplot` is a deprecated function and will be removed in a future version. Please adapt your code to use either `displot` (a figure-level function with similar flexibility) or `histplot` (an axes-level function for histograms).\n",
            "  warnings.warn(msg, FutureWarning)\n",
            "/home/ash/miniconda3/envs/nlp/lib/python3.9/site-packages/seaborn/distributions.py:2619: FutureWarning: `distplot` is a deprecated function and will be removed in a future version. Please adapt your code to use either `displot` (a figure-level function with similar flexibility) or `histplot` (an axes-level function for histograms).\n",
            "  warnings.warn(msg, FutureWarning)\n",
            "/home/ash/miniconda3/envs/nlp/lib/python3.9/site-packages/seaborn/distributions.py:2619: FutureWarning: `distplot` is a deprecated function and will be removed in a future version. Please adapt your code to use either `displot` (a figure-level function with similar flexibility) or `histplot` (an axes-level function for histograms).\n",
            "  warnings.warn(msg, FutureWarning)\n"
          ]
        },
        {
          "data": {
            "text/plain": [
              "Text(0.5, 0, 'Sentiment score')"
            ]
          },
          "execution_count": 14,
          "metadata": {},
          "output_type": "execute_result"
        },
        {
          "data": {
            "image/png": "[encoded data removed]",
            "text/plain": [
              "<Figure size 1080x432 with 1 Axes>"
            ]
          },
          "metadata": {
            "needs_background": "light"
          },
          "output_type": "display_data"
        }
      ],
      "source": [
        "# plot the distribution for each sentiment score based on helpfulness_cat\n",
        "fig, ax = plt.subplots(figsize=(15,6))\n",
        "ax.set_title(\"Distribution of sentiment score\", fontsize=16)\n",
        "sns.distplot(train_sentiment['CONTRADICTION'][train_sentiment['helpfulness_cat'] == 1], bins=50, ax=ax)\n",
        "sns.distplot(train_sentiment['NEUTRAL'][train_sentiment['helpfulness_cat'] == 1], bins=50, ax=ax)\n",
        "sns.distplot(train_sentiment['ENTAILMENT'][train_sentiment['helpfulness_cat'] == 1], bins=50, ax=ax)\n",
        "# plot legend\n",
        "ax.legend(['CONTRADICTION', 'NEUTRAL', 'ENTAILMENT'])\n",
        "ax.set_xlabel(\"Sentiment score\")\n"
      ]
    },
    {
      "cell_type": "code",
      "execution_count": null,
      "metadata": {
        "id": "sLz4R-A8Migb",
        "outputId": "67fde6d2-e42e-4f55-9f42-eb3d232f6932"
      },
      "outputs": [
        {
          "name": "stderr",
          "output_type": "stream",
          "text": [
            "/home/ash/miniconda3/envs/nlp/lib/python3.9/site-packages/seaborn/distributions.py:2619: FutureWarning: `distplot` is a deprecated function and will be removed in a future version. Please adapt your code to use either `displot` (a figure-level function with similar flexibility) or `histplot` (an axes-level function for histograms).\n",
            "  warnings.warn(msg, FutureWarning)\n",
            "/home/ash/miniconda3/envs/nlp/lib/python3.9/site-packages/seaborn/distributions.py:2619: FutureWarning: `distplot` is a deprecated function and will be removed in a future version. Please adapt your code to use either `displot` (a figure-level function with similar flexibility) or `histplot` (an axes-level function for histograms).\n",
            "  warnings.warn(msg, FutureWarning)\n",
            "/home/ash/miniconda3/envs/nlp/lib/python3.9/site-packages/seaborn/distributions.py:2619: FutureWarning: `distplot` is a deprecated function and will be removed in a future version. Please adapt your code to use either `displot` (a figure-level function with similar flexibility) or `histplot` (an axes-level function for histograms).\n",
            "  warnings.warn(msg, FutureWarning)\n"
          ]
        },
        {
          "data": {
            "text/plain": [
              "Text(0.5, 0, 'Sentiment score')"
            ]
          },
          "execution_count": 15,
          "metadata": {},
          "output_type": "execute_result"
        },
        {
          "data": {
            "image/png": "[encoded data removed]",
            "text/plain": [
              "<Figure size 1080x432 with 1 Axes>"
            ]
          },
          "metadata": {
            "needs_background": "light"
          },
          "output_type": "display_data"
        }
      ],
      "source": [
        "# plot the distribution for each sentiment score based on helpfulness_cat\n",
        "fig, ax = plt.subplots(figsize=(15,6))\n",
        "ax.set_title(\"Distribution of sentiment score\", fontsize=16)\n",
        "sns.distplot(train_sentiment['CONTRADICTION'][train_sentiment['helpfulness_cat'] == 0], bins=50, ax=ax)\n",
        "sns.distplot(train_sentiment['NEUTRAL'][train_sentiment['helpfulness_cat'] == 0], bins=50, ax=ax)\n",
        "sns.distplot(train_sentiment['ENTAILMENT'][train_sentiment['helpfulness_cat'] == 0], bins=50, ax=ax)\n",
        "# plot legend\n",
        "ax.legend(['CONTRADICTION', 'NEUTRAL', 'ENTAILMENT'])\n",
        "ax.set_xlabel(\"Sentiment score\")"
      ]
    },
    {
      "cell_type": "code",
      "execution_count": null,
      "metadata": {
        "id": "mahqp40jMigb",
        "outputId": "284cb54f-490e-4657-8b9b-eb2199d2af9d"
      },
      "outputs": [
        {
          "name": "stderr",
          "output_type": "stream",
          "text": [
            "[nltk_data] Downloading package vader_lexicon to\n",
            "[nltk_data]     /home/ash/nltk_data...\n",
            "[nltk_data]   Package vader_lexicon is already up-to-date!\n"
          ]
        }
      ],
      "source": [
        "# using nltk vader to carry out sentiment analysis\n",
        "import nltk\n",
        "#nltk.download(\"vader_lexicon\")\n",
        "from nltk.sentiment.vader import SentimentIntensityAnalyzer"
      ]
    },
    {
      "cell_type": "code",
      "execution_count": null,
      "metadata": {
        "id": "JMLI7QCYMigc"
      },
      "outputs": [],
      "source": [
        "# create a function to calculate the sentiment score\n",
        "sent_analyzer = SentimentIntensityAnalyzer()\n",
        "def sentiment_score(text):\n",
        "    score = sent_analyzer.polarity_scores(text)\n",
        "    score.pop('compound')\n",
        "    return score"
      ]
    },
    {
      "cell_type": "code",
      "execution_count": null,
      "metadata": {
        "id": "buhOSpEKMigc",
        "outputId": "d9b1bdde-0d75-42fe-a926-2113b0138961"
      },
      "outputs": [
        {
          "data": {
            "text/html": [
              "<div>\n",
              "<style scoped>\n",
              "    .dataframe tbody tr th:only-of-type {\n",
              "        vertical-align: middle;\n",
              "    }\n",
              "\n",
              "    .dataframe tbody tr th {\n",
              "        vertical-align: top;\n",
              "    }\n",
              "\n",
              "    .dataframe thead th {\n",
              "        text-align: right;\n",
              "    }\n",
              "</style>\n",
              "<table border=\"1\" class=\"dataframe\">\n",
              "  <thead>\n",
              "    <tr style=\"text-align: right;\">\n",
              "      <th></th>\n",
              "      <th>helpfulness_cat</th>\n",
              "      <th>imdb_user_review</th>\n",
              "      <th>neg</th>\n",
              "      <th>neu</th>\n",
              "      <th>pos</th>\n",
              "    </tr>\n",
              "  </thead>\n",
              "  <tbody>\n",
              "    <tr>\n",
              "      <th>0</th>\n",
              "      <td>1.0</td>\n",
              "      <td>it is hard to find such delightful and adorabl...</td>\n",
              "      <td>0.072</td>\n",
              "      <td>0.540</td>\n",
              "      <td>0.387</td>\n",
              "    </tr>\n",
              "    <tr>\n",
              "      <th>1</th>\n",
              "      <td>1.0</td>\n",
              "      <td>they don t make films like this faded, hauntin...</td>\n",
              "      <td>0.081</td>\n",
              "      <td>0.854</td>\n",
              "      <td>0.065</td>\n",
              "    </tr>\n",
              "    <tr>\n",
              "      <th>2</th>\n",
              "      <td>1.0</td>\n",
              "      <td>i first viewed this movie in 1924 at age 6 yrs...</td>\n",
              "      <td>0.045</td>\n",
              "      <td>0.749</td>\n",
              "      <td>0.206</td>\n",
              "    </tr>\n",
              "    <tr>\n",
              "      <th>3</th>\n",
              "      <td>1.0</td>\n",
              "      <td>i doubt that i d ever seen anything resembling...</td>\n",
              "      <td>0.116</td>\n",
              "      <td>0.748</td>\n",
              "      <td>0.135</td>\n",
              "    </tr>\n",
              "    <tr>\n",
              "      <th>4</th>\n",
              "      <td>1.0</td>\n",
              "      <td>i was shocked to find myself riveted to this m...</td>\n",
              "      <td>0.058</td>\n",
              "      <td>0.797</td>\n",
              "      <td>0.145</td>\n",
              "    </tr>\n",
              "  </tbody>\n",
              "</table>\n",
              "</div>"
            ],
            "text/plain": [
              "   helpfulness_cat                                   imdb_user_review    neg  \\\n",
              "0              1.0  it is hard to find such delightful and adorabl...  0.072   \n",
              "1              1.0  they don t make films like this faded, hauntin...  0.081   \n",
              "2              1.0  i first viewed this movie in 1924 at age 6 yrs...  0.045   \n",
              "3              1.0  i doubt that i d ever seen anything resembling...  0.116   \n",
              "4              1.0  i was shocked to find myself riveted to this m...  0.058   \n",
              "\n",
              "     neu    pos  \n",
              "0  0.540  0.387  \n",
              "1  0.854  0.065  \n",
              "2  0.749  0.206  \n",
              "3  0.748  0.135  \n",
              "4  0.797  0.145  "
            ]
          },
          "execution_count": 21,
          "metadata": {},
          "output_type": "execute_result"
        }
      ],
      "source": [
        "# calculate the sentiment score for each review and create neg, neu and pos columns\n",
        "train['neg'] = train['imdb_user_review'].apply(sentiment_score).apply(lambda x: x['neg'])\n",
        "train['neu'] = train['imdb_user_review'].apply(sentiment_score).apply(lambda x: x['neu'])\n",
        "train['pos'] = train['imdb_user_review'].apply(sentiment_score).apply(lambda x: x['pos'])\n",
        "train.head()\n"
      ]
    },
    {
      "cell_type": "code",
      "execution_count": null,
      "metadata": {
        "id": "dSWx37-1Migc"
      },
      "outputs": [],
      "source": [
        "# export the sentiment score to csv\n",
        "train.to_csv('train_pos_neg_sentiment_score.csv', index=False)"
      ]
    },
    {
      "cell_type": "code",
      "execution_count": null,
      "metadata": {
        "id": "5hWNx4AcMigd",
        "outputId": "41b2b345-9a0a-43d9-e6ce-3ce1005240d6"
      },
      "outputs": [
        {
          "name": "stdout",
          "output_type": "stream",
          "text": [
            "The average negative score for unhelpful reviews is: 0.11789925226288862.\n",
            "The average negative score for helpful reviews is: 0.09155953250547828.\n",
            "The average neutral score for unhelpful reviews is: 0.7268256591892942.\n",
            "The average neutral score for helpful reviews is: 0.7353839785731674.\n",
            "The average positive score for unhelpful reviews is: 0.15527902400629673.\n",
            "The average positive score for helpful reviews is: 0.17305028000973946.\n"
          ]
        }
      ],
      "source": [
        "# get the avg score for reviews\n",
        "print(\"The average negative score for unhelpful reviews is: {}.\".format(np.mean(train['neg'][train['helpfulness_cat'] == 0])))\n",
        "print(\"The average negative score for helpful reviews is: {}.\".format(np.mean(train['neg'][train['helpfulness_cat'] == 1])))\n",
        "print(\"The average neutral score for unhelpful reviews is: {}.\".format(np.mean(train['neu'][train['helpfulness_cat'] == 0])))\n",
        "print(\"The average neutral score for helpful reviews is: {}.\".format(np.mean(train['neu'][train['helpfulness_cat'] == 1])))\n",
        "print(\"The average positive score for unhelpful reviews is: {}.\".format(np.mean(train['pos'][train['helpfulness_cat'] == 0])))\n",
        "print(\"The average positive score for helpful reviews is: {}.\".format(np.mean(train['pos'][train['helpfulness_cat'] == 1])))\n"
      ]
    },
    {
      "cell_type": "code",
      "execution_count": null,
      "metadata": {
        "id": "AOAc-o4eMigd",
        "outputId": "750f1971-a657-4a2f-d93d-21f9ae725ed8"
      },
      "outputs": [
        {
          "name": "stderr",
          "output_type": "stream",
          "text": [
            "/home/ash/miniconda3/envs/nlp/lib/python3.9/site-packages/seaborn/distributions.py:2619: FutureWarning: `distplot` is a deprecated function and will be removed in a future version. Please adapt your code to use either `displot` (a figure-level function with similar flexibility) or `histplot` (an axes-level function for histograms).\n",
            "  warnings.warn(msg, FutureWarning)\n",
            "/home/ash/miniconda3/envs/nlp/lib/python3.9/site-packages/seaborn/distributions.py:2619: FutureWarning: `distplot` is a deprecated function and will be removed in a future version. Please adapt your code to use either `displot` (a figure-level function with similar flexibility) or `histplot` (an axes-level function for histograms).\n",
            "  warnings.warn(msg, FutureWarning)\n",
            "/home/ash/miniconda3/envs/nlp/lib/python3.9/site-packages/seaborn/distributions.py:2619: FutureWarning: `distplot` is a deprecated function and will be removed in a future version. Please adapt your code to use either `displot` (a figure-level function with similar flexibility) or `histplot` (an axes-level function for histograms).\n",
            "  warnings.warn(msg, FutureWarning)\n"
          ]
        },
        {
          "data": {
            "text/plain": [
              "Text(0.5, 0, 'Sentiment score')"
            ]
          },
          "execution_count": 146,
          "metadata": {},
          "output_type": "execute_result"
        },
        {
          "data": {
            "image/png": "[encoded data removed]",
            "text/plain": [
              "<Figure size 1080x432 with 1 Axes>"
            ]
          },
          "metadata": {
            "needs_background": "light"
          },
          "output_type": "display_data"
        }
      ],
      "source": [
        "# plot the distribution for each sentiment score based on helpfulness_cat\n",
        "fig, ax = plt.subplots(figsize=(15,6))\n",
        "ax.set_title(\"Distribution of sentiment score\", fontsize=16)\n",
        "sns.distplot(train['pos'][train['helpfulness_cat'] == 1], bins=50, ax=ax)\n",
        "sns.distplot(train['neu'][train['helpfulness_cat'] == 1], bins=50, ax=ax)\n",
        "sns.distplot(train['neg'][train['helpfulness_cat'] == 1], bins=50, ax=ax)\n",
        "# plot legend\n",
        "ax.legend(['Positive', 'Neutral', 'Negative'])\n",
        "ax.set_xlabel(\"Sentiment score\")\n"
      ]
    },
    {
      "cell_type": "code",
      "execution_count": null,
      "metadata": {
        "id": "fUgg6KmvMigd",
        "outputId": "368d301c-85dd-4c9b-eec4-1bc7ed755710"
      },
      "outputs": [
        {
          "name": "stderr",
          "output_type": "stream",
          "text": [
            "/home/ash/miniconda3/envs/nlp/lib/python3.9/site-packages/seaborn/distributions.py:2619: FutureWarning: `distplot` is a deprecated function and will be removed in a future version. Please adapt your code to use either `displot` (a figure-level function with similar flexibility) or `histplot` (an axes-level function for histograms).\n",
            "  warnings.warn(msg, FutureWarning)\n",
            "/home/ash/miniconda3/envs/nlp/lib/python3.9/site-packages/seaborn/distributions.py:2619: FutureWarning: `distplot` is a deprecated function and will be removed in a future version. Please adapt your code to use either `displot` (a figure-level function with similar flexibility) or `histplot` (an axes-level function for histograms).\n",
            "  warnings.warn(msg, FutureWarning)\n",
            "/home/ash/miniconda3/envs/nlp/lib/python3.9/site-packages/seaborn/distributions.py:2619: FutureWarning: `distplot` is a deprecated function and will be removed in a future version. Please adapt your code to use either `displot` (a figure-level function with similar flexibility) or `histplot` (an axes-level function for histograms).\n",
            "  warnings.warn(msg, FutureWarning)\n"
          ]
        },
        {
          "data": {
            "text/plain": [
              "Text(0.5, 0, 'Sentiment score')"
            ]
          },
          "execution_count": 147,
          "metadata": {},
          "output_type": "execute_result"
        },
        {
          "data": {
            "image/png": "[encoded data removed]",
            "text/plain": [
              "<Figure size 1080x432 with 1 Axes>"
            ]
          },
          "metadata": {
            "needs_background": "light"
          },
          "output_type": "display_data"
        }
      ],
      "source": [
        "# plot the distribution for each sentiment score based on helpfulness_cat\n",
        "fig, ax = plt.subplots(figsize=(15,6))\n",
        "ax.set_title(\"Distribution of sentiment score\", fontsize=16)\n",
        "sns.distplot(train['pos'][train['helpfulness_cat'] == 0], bins=50, ax=ax)\n",
        "sns.distplot(train['neu'][train['helpfulness_cat'] == 0], bins=50, ax=ax)\n",
        "sns.distplot(train['neg'][train['helpfulness_cat'] == 0], bins=50, ax=ax)\n",
        "# plot legend\n",
        "ax.legend(['Positive', 'Neutral', 'Negative'])\n",
        "ax.set_xlabel(\"Sentiment score\")"
      ]
    },
    {
      "cell_type": "code",
      "execution_count": null,
      "metadata": {
        "id": "WR2QS6qNMige",
        "outputId": "ac5a06bd-8763-4da9-9202-e4aaac752543"
      },
      "outputs": [
        {
          "data": {
            "text/html": [
              "<div>\n",
              "<style scoped>\n",
              "    .dataframe tbody tr th:only-of-type {\n",
              "        vertical-align: middle;\n",
              "    }\n",
              "\n",
              "    .dataframe tbody tr th {\n",
              "        vertical-align: top;\n",
              "    }\n",
              "\n",
              "    .dataframe thead th {\n",
              "        text-align: right;\n",
              "    }\n",
              "</style>\n",
              "<table border=\"1\" class=\"dataframe\">\n",
              "  <thead>\n",
              "    <tr style=\"text-align: right;\">\n",
              "      <th></th>\n",
              "      <th>helpfulness_cat</th>\n",
              "      <th>imdb_user_review</th>\n",
              "      <th>subjective_score</th>\n",
              "    </tr>\n",
              "  </thead>\n",
              "  <tbody>\n",
              "    <tr>\n",
              "      <th>0</th>\n",
              "      <td>1.0</td>\n",
              "      <td>it is hard to find such delightful and adorabl...</td>\n",
              "      <td>0.637457</td>\n",
              "    </tr>\n",
              "    <tr>\n",
              "      <th>1</th>\n",
              "      <td>1.0</td>\n",
              "      <td>they don t make films like this faded, hauntin...</td>\n",
              "      <td>0.376882</td>\n",
              "    </tr>\n",
              "    <tr>\n",
              "      <th>2</th>\n",
              "      <td>1.0</td>\n",
              "      <td>i first viewed this movie in 1924 at age 6 yrs...</td>\n",
              "      <td>0.601871</td>\n",
              "    </tr>\n",
              "    <tr>\n",
              "      <th>3</th>\n",
              "      <td>1.0</td>\n",
              "      <td>i doubt that i d ever seen anything resembling...</td>\n",
              "      <td>0.588847</td>\n",
              "    </tr>\n",
              "    <tr>\n",
              "      <th>4</th>\n",
              "      <td>1.0</td>\n",
              "      <td>i was shocked to find myself riveted to this m...</td>\n",
              "      <td>0.409792</td>\n",
              "    </tr>\n",
              "  </tbody>\n",
              "</table>\n",
              "</div>"
            ],
            "text/plain": [
              "   helpfulness_cat                                   imdb_user_review  \\\n",
              "0              1.0  it is hard to find such delightful and adorabl...   \n",
              "1              1.0  they don t make films like this faded, hauntin...   \n",
              "2              1.0  i first viewed this movie in 1924 at age 6 yrs...   \n",
              "3              1.0  i doubt that i d ever seen anything resembling...   \n",
              "4              1.0  i was shocked to find myself riveted to this m...   \n",
              "\n",
              "   subjective_score  \n",
              "0          0.637457  \n",
              "1          0.376882  \n",
              "2          0.601871  \n",
              "3          0.588847  \n",
              "4          0.409792  "
            ]
          },
          "execution_count": 156,
          "metadata": {},
          "output_type": "execute_result"
        }
      ],
      "source": [
        "# get subjectivity score for each review\n",
        "from textblob import TextBlob\n",
        "def getSubjectivity(text):\n",
        "   return TextBlob(text).sentiment.subjectivity\n",
        "\n",
        "train['subjective_score'] = train['imdb_user_review'].apply(getSubjectivity)\n",
        "train.head()"
      ]
    },
    {
      "cell_type": "code",
      "execution_count": null,
      "metadata": {
        "id": "Feu6C99EMigf",
        "outputId": "c5d87848-d4f0-4374-fb55-9157b89ef3bd"
      },
      "outputs": [
        {
          "name": "stderr",
          "output_type": "stream",
          "text": [
            "/home/ash/miniconda3/envs/nlp/lib/python3.9/site-packages/seaborn/distributions.py:2619: FutureWarning: `distplot` is a deprecated function and will be removed in a future version. Please adapt your code to use either `displot` (a figure-level function with similar flexibility) or `histplot` (an axes-level function for histograms).\n",
            "  warnings.warn(msg, FutureWarning)\n",
            "/home/ash/miniconda3/envs/nlp/lib/python3.9/site-packages/seaborn/distributions.py:2619: FutureWarning: `distplot` is a deprecated function and will be removed in a future version. Please adapt your code to use either `displot` (a figure-level function with similar flexibility) or `histplot` (an axes-level function for histograms).\n",
            "  warnings.warn(msg, FutureWarning)\n"
          ]
        },
        {
          "data": {
            "text/plain": [
              "Text(0.5, 0, 'Subjectivity score')"
            ]
          },
          "execution_count": 157,
          "metadata": {},
          "output_type": "execute_result"
        },
        {
          "data": {
            "image/png": "[encoded data removed]",
            "text/plain": [
              "<Figure size 1080x432 with 1 Axes>"
            ]
          },
          "metadata": {
            "needs_background": "light"
          },
          "output_type": "display_data"
        }
      ],
      "source": [
        "# plot the distribution for subjectivity score based on helpfulness_cat\n",
        "fig, ax = plt.subplots(figsize=(15,6))\n",
        "ax.set_title(\"Distribution of subjectivity score\", fontsize=16)\n",
        "sns.distplot(train['subjective_score'][train['helpfulness_cat'] == 1], bins=50, ax=ax)\n",
        "sns.distplot(train['subjective_score'][train['helpfulness_cat'] == 0], bins=50, ax=ax)\n",
        "# plot legend\n",
        "ax.legend(['Helpful', 'Unhelpful'])\n",
        "ax.set_xlabel(\"Subjectivity score\")"
      ]
    },
    {
      "cell_type": "code",
      "execution_count": null,
      "metadata": {
        "id": "UrYTBrepMigf",
        "outputId": "0a73054c-cd0e-4bfc-c500-a611e26dd397"
      },
      "outputs": [
        {
          "name": "stdout",
          "output_type": "stream",
          "text": [
            "The average subjectivity score for unhelpful reviews is: 0.5352883013500236.\n",
            "The average subjectivity score for helpful reviews is: 0.5410528095834198.\n"
          ]
        }
      ],
      "source": [
        "# get the avg score for reviews\n",
        "print(\"The average subjectivity score for unhelpful reviews is: {}.\".format(np.mean(train['subjective_score'][train['helpfulness_cat'] == 0])))\n",
        "print(\"The average subjectivity score for helpful reviews is: {}.\".format(np.mean(train['subjective_score'][train['helpfulness_cat'] == 1])))\n"
      ]
    },
    {
      "cell_type": "markdown",
      "metadata": {
        "id": "qoATiUl_Migh"
      },
      "source": [
        "## 3. Building model"
      ]
    },
    {
      "cell_type": "markdown",
      "metadata": {
        "id": "W02Ixms0Mig9"
      },
      "source": [
        "### tensorflow BERT"
      ]
    },
    {
      "cell_type": "code",
      "execution_count": null,
      "metadata": {
        "id": "AWGGzkwnMig9"
      },
      "outputs": [],
      "source": [
        "#!pip install nlpaug"
      ]
    },
    {
      "cell_type": "code",
      "execution_count": 21,
      "metadata": {
        "id": "5aaWIx0pM0IA"
      },
      "outputs": [],
      "source": [
        "import tensorflow as tf\n",
        "import tensorflow_hub as hub\n",
        "import tensorflow_text\n",
        "import matplotlib.pyplot as plt\n",
        "import nlpaug.augmenter.word as naw\n",
        "from tqdm import tqdm\n",
        "from nlpaug.util import Action\n",
        "import gzip\n",
        "from sklearn.model_selection import train_test_split\n",
        "from sklearn.utils import shuffle"
      ]
    },
    {
      "cell_type": "markdown",
      "metadata": {},
      "source": [
        "#### Augmentation approach"
      ]
    },
    {
      "cell_type": "code",
      "execution_count": null,
      "metadata": {
        "id": "mI80mxQmMig-"
      },
      "outputs": [],
      "source": [
        "Train_df, Valid_df = train_test_split(train, test_size=0.2, random_state=42)"
      ]
    },
    {
      "cell_type": "code",
      "execution_count": null,
      "metadata": {
        "id": "7DZKj6XmMig-",
        "outputId": "f80ce11d-d145-47a1-9c11-670366dc90bf"
      },
      "outputs": [
        {
          "data": {
            "text/html": [
              "<div>\n",
              "<style scoped>\n",
              "    .dataframe tbody tr th:only-of-type {\n",
              "        vertical-align: middle;\n",
              "    }\n",
              "\n",
              "    .dataframe tbody tr th {\n",
              "        vertical-align: top;\n",
              "    }\n",
              "\n",
              "    .dataframe thead th {\n",
              "        text-align: right;\n",
              "    }\n",
              "</style>\n",
              "<table border=\"1\" class=\"dataframe\">\n",
              "  <thead>\n",
              "    <tr style=\"text-align: right;\">\n",
              "      <th></th>\n",
              "      <th>imdb_user_review</th>\n",
              "    </tr>\n",
              "    <tr>\n",
              "      <th>helpfulness_cat</th>\n",
              "      <th></th>\n",
              "    </tr>\n",
              "  </thead>\n",
              "  <tbody>\n",
              "    <tr>\n",
              "      <th>0.0</th>\n",
              "      <td>0.189679</td>\n",
              "    </tr>\n",
              "    <tr>\n",
              "      <th>1.0</th>\n",
              "      <td>0.610321</td>\n",
              "    </tr>\n",
              "  </tbody>\n",
              "</table>\n",
              "</div>"
            ],
            "text/plain": [
              "                 imdb_user_review\n",
              "helpfulness_cat                  \n",
              "0.0                      0.189679\n",
              "1.0                      0.610321"
            ]
          },
          "execution_count": 9,
          "metadata": {},
          "output_type": "execute_result"
        }
      ],
      "source": [
        "# nlp data augmentation\n",
        "# check the percentage of each label in the data set\n",
        "Train_df.groupby('helpfulness_cat').count()/len(train)"
      ]
    },
    {
      "cell_type": "code",
      "execution_count": null,
      "metadata": {
        "id": "CmzsFapCMig-",
        "outputId": "6b286a49-0764-4c56-eac7-8646ea5d3f34"
      },
      "outputs": [
        {
          "data": {
            "text/html": [
              "<div>\n",
              "<style scoped>\n",
              "    .dataframe tbody tr th:only-of-type {\n",
              "        vertical-align: middle;\n",
              "    }\n",
              "\n",
              "    .dataframe tbody tr th {\n",
              "        vertical-align: top;\n",
              "    }\n",
              "\n",
              "    .dataframe thead th {\n",
              "        text-align: right;\n",
              "    }\n",
              "</style>\n",
              "<table border=\"1\" class=\"dataframe\">\n",
              "  <thead>\n",
              "    <tr style=\"text-align: right;\">\n",
              "      <th></th>\n",
              "      <th>imdb_user_review</th>\n",
              "    </tr>\n",
              "    <tr>\n",
              "      <th>helpfulness_cat</th>\n",
              "      <th></th>\n",
              "    </tr>\n",
              "  </thead>\n",
              "  <tbody>\n",
              "    <tr>\n",
              "      <th>0.0</th>\n",
              "      <td>2040</td>\n",
              "    </tr>\n",
              "    <tr>\n",
              "      <th>1.0</th>\n",
              "      <td>6564</td>\n",
              "    </tr>\n",
              "  </tbody>\n",
              "</table>\n",
              "</div>"
            ],
            "text/plain": [
              "                 imdb_user_review\n",
              "helpfulness_cat                  \n",
              "0.0                          2040\n",
              "1.0                          6564"
            ]
          },
          "execution_count": 15,
          "metadata": {},
          "output_type": "execute_result"
        }
      ],
      "source": [
        "Train_df.groupby('helpfulness_cat').count()"
      ]
    },
    {
      "cell_type": "code",
      "execution_count": 68,
      "metadata": {
        "id": "hFHx7wIeMig-"
      },
      "outputs": [],
      "source": [
        "#!pip install wget\n",
        "# download model from: https://drive.google.com/file/d/0B7XkCwpI5KDYNlNUTTlSS21pQmM/edit?resourcekey=0-wjGZdNAUop6WykTtMip30g\n",
        "# import wget\n",
        "# url = 'https://s3.amazonaws.com/dl4j-distribution/GoogleNews-vectors-negative300.bin.gz'\n",
        "# filename = wget.download(url)\n",
        "# gzip -d GoogleNews-vectors-negative300.bin.gz\n",
        "# get current path\n",
        "import os\n",
        "current_path = os.getcwd()\n",
        "# load the google model path\n",
        "google_model_path = os.path.join(current_path, 'GoogleNews-vectors-negative300.bin')"
      ]
    },
    {
      "cell_type": "code",
      "execution_count": 69,
      "metadata": {
        "id": "nE737BbsMig-"
      },
      "outputs": [],
      "source": [
        "aug = naw.WordEmbsAug(\n",
        "    model_type='word2vec', model_path=google_model_path,\n",
        "    action=\"insert\")"
      ]
    },
    {
      "cell_type": "code",
      "execution_count": 70,
      "metadata": {
        "id": "vCY8G6VGMig-"
      },
      "outputs": [],
      "source": [
        "# augmente the unhelpful reviews\n",
        "unhelpful_reviews = Train_df[Train_df['helpfulness_cat'] == 0].reset_index(drop=True)\n",
        "\n",
        "def augment_text(df_train,df_unhelpful,num,pr=0.2):\n",
        "    aug.aug_p=pr\n",
        "    new_text=[]\n",
        "\n",
        "    ## data augmentation loop\n",
        "    for i in tqdm(np.random.randint(0,len(df_unhelpful),num)):\n",
        "            text = unhelpful_reviews.iloc[i]['imdb_user_review']\n",
        "            augmented_text = aug.augment(text)\n",
        "            new_text.append(augmented_text)\n",
        "    \n",
        "    \n",
        "    ## dataframe\n",
        "    new=pd.DataFrame({'imdb_user_review':new_text,'helpfulness_cat':0})\n",
        "    new['imdb_user_review'] = new['imdb_user_review'].apply(lambda x: ' '.join(x))\n",
        "    df_new=shuffle(df_train.append(new).reset_index(drop=True))\n",
        "    return df_new\n",
        "   "
      ]
    },
    {
      "cell_type": "code",
      "execution_count": null,
      "metadata": {
        "id": "vkxFybbuMig-",
        "outputId": "3616bcb6-cb44-4b36-ac7d-632e4dff1c7e"
      },
      "outputs": [
        {
          "name": "stderr",
          "output_type": "stream",
          "text": [
            "100%|██████████| 4524/4524 [00:03<00:00, 1148.91it/s]\n",
            "/tmp/ipykernel_18306/1635099116.py:18: FutureWarning: The frame.append method is deprecated and will be removed from pandas in a future version. Use pandas.concat instead.\n",
            "  df_new=shuffle(df_train.append(new).reset_index(drop=True))\n"
          ]
        }
      ],
      "source": [
        "Train_df = augment_text(Train_df,unhelpful_reviews,4524)"
      ]
    },
    {
      "cell_type": "code",
      "execution_count": null,
      "metadata": {
        "id": "UyizklAwMig-",
        "outputId": "75cd84a3-416f-495e-8444-79ba530d82a7"
      },
      "outputs": [
        {
          "data": {
            "text/html": [
              "<div>\n",
              "<style scoped>\n",
              "    .dataframe tbody tr th:only-of-type {\n",
              "        vertical-align: middle;\n",
              "    }\n",
              "\n",
              "    .dataframe tbody tr th {\n",
              "        vertical-align: top;\n",
              "    }\n",
              "\n",
              "    .dataframe thead th {\n",
              "        text-align: right;\n",
              "    }\n",
              "</style>\n",
              "<table border=\"1\" class=\"dataframe\">\n",
              "  <thead>\n",
              "    <tr style=\"text-align: right;\">\n",
              "      <th></th>\n",
              "      <th>helpfulness_cat</th>\n",
              "      <th>imdb_user_review</th>\n",
              "    </tr>\n",
              "  </thead>\n",
              "  <tbody>\n",
              "    <tr>\n",
              "      <th>12261</th>\n",
              "      <td>0.0</td>\n",
              "      <td>boring movie, the acting Sadrist is fine but t...</td>\n",
              "    </tr>\n",
              "    <tr>\n",
              "      <th>3356</th>\n",
              "      <td>1.0</td>\n",
              "      <td>my title says it up pretty well, the acting is...</td>\n",
              "    </tr>\n",
              "    <tr>\n",
              "      <th>11011</th>\n",
              "      <td>0.0</td>\n",
              "      <td>worst movie i ve seen in ages. high school kid...</td>\n",
              "    </tr>\n",
              "    <tr>\n",
              "      <th>3531</th>\n",
              "      <td>1.0</td>\n",
              "      <td>as a former submarine sailor i watch every sub...</td>\n",
              "    </tr>\n",
              "    <tr>\n",
              "      <th>12114</th>\n",
              "      <td>0.0</td>\n",
              "      <td>i could not believe i spent over 2 hours watch...</td>\n",
              "    </tr>\n",
              "  </tbody>\n",
              "</table>\n",
              "</div>"
            ],
            "text/plain": [
              "       helpfulness_cat                                   imdb_user_review\n",
              "12261              0.0  boring movie, the acting Sadrist is fine but t...\n",
              "3356               1.0  my title says it up pretty well, the acting is...\n",
              "11011              0.0  worst movie i ve seen in ages. high school kid...\n",
              "3531               1.0  as a former submarine sailor i watch every sub...\n",
              "12114              0.0  i could not believe i spent over 2 hours watch..."
            ]
          },
          "execution_count": 11,
          "metadata": {},
          "output_type": "execute_result"
        }
      ],
      "source": [
        "Train_df.head()"
      ]
    },
    {
      "cell_type": "code",
      "execution_count": null,
      "metadata": {
        "id": "EVFxcm6sMig_",
        "outputId": "60aff7da-0df2-43e7-ad76-a8d4d36bb401"
      },
      "outputs": [
        {
          "data": {
            "text/html": [
              "<div>\n",
              "<style scoped>\n",
              "    .dataframe tbody tr th:only-of-type {\n",
              "        vertical-align: middle;\n",
              "    }\n",
              "\n",
              "    .dataframe tbody tr th {\n",
              "        vertical-align: top;\n",
              "    }\n",
              "\n",
              "    .dataframe thead th {\n",
              "        text-align: right;\n",
              "    }\n",
              "</style>\n",
              "<table border=\"1\" class=\"dataframe\">\n",
              "  <thead>\n",
              "    <tr style=\"text-align: right;\">\n",
              "      <th></th>\n",
              "      <th>imdb_user_review</th>\n",
              "    </tr>\n",
              "    <tr>\n",
              "      <th>helpfulness_cat</th>\n",
              "      <th></th>\n",
              "    </tr>\n",
              "  </thead>\n",
              "  <tbody>\n",
              "    <tr>\n",
              "      <th>0.0</th>\n",
              "      <td>0.5</td>\n",
              "    </tr>\n",
              "    <tr>\n",
              "      <th>1.0</th>\n",
              "      <td>0.5</td>\n",
              "    </tr>\n",
              "  </tbody>\n",
              "</table>\n",
              "</div>"
            ],
            "text/plain": [
              "                 imdb_user_review\n",
              "helpfulness_cat                  \n",
              "0.0                           0.5\n",
              "1.0                           0.5"
            ]
          },
          "execution_count": 12,
          "metadata": {},
          "output_type": "execute_result"
        }
      ],
      "source": [
        "# check the percentage of each label in the data set\n",
        "Train_df.groupby('helpfulness_cat').count()/len(Train_df)"
      ]
    },
    {
      "cell_type": "code",
      "execution_count": null,
      "metadata": {
        "id": "-EjAH6NSMig_"
      },
      "outputs": [],
      "source": [
        "X_train = Train_df.drop(['helpfulness_cat'], axis=1)\n",
        "y_train = Train_df.loc[:, 'helpfulness_cat']\n",
        "X_valid = Valid_df.drop(['helpfulness_cat'], axis=1)\n",
        "y_valid = Valid_df.loc[:, 'helpfulness_cat']"
      ]
    },
    {
      "cell_type": "code",
      "execution_count": 7,
      "metadata": {
        "id": "A1JglSftMig_",
        "outputId": "c65376af-b64a-41b3-902e-f9ed721c3ab7"
      },
      "outputs": [
        {
          "name": "stderr",
          "output_type": "stream",
          "text": [
            "2022-07-15 15:15:32.809082: W tensorflow/stream_executor/platform/default/dso_loader.cc:64] Could not load dynamic library 'libcuda.so.1'; dlerror: libcuda.so.1: cannot open shared object file: No such file or directory\n",
            "2022-07-15 15:15:32.809106: W tensorflow/stream_executor/cuda/cuda_driver.cc:269] failed call to cuInit: UNKNOWN ERROR (303)\n",
            "2022-07-15 15:15:32.809118: I tensorflow/stream_executor/cuda/cuda_diagnostics.cc:156] kernel driver does not appear to be running on this host (ashubuntu): /proc/driver/nvidia/version does not exist\n",
            "2022-07-15 15:15:32.809257: I tensorflow/core/platform/cpu_feature_guard.cc:193] This TensorFlow binary is optimized with oneAPI Deep Neural Network Library (oneDNN) to use the following CPU instructions in performance-critical operations:  AVX2 FMA\n",
            "To enable them in other operations, rebuild TensorFlow with the appropriate compiler flags.\n",
            "2022-07-15 15:15:37.026993: W tensorflow/core/framework/cpu_allocator_impl.cc:82] Allocation of 62509056 exceeds 10% of free system memory.\n"
          ]
        }
      ],
      "source": [
        "bert_model_name = 'small_bert/bert_en_uncased_L-4_H-512_A-8'\n",
        "map_name_to_handle = {\n",
        "    'bert_en_uncased_L-12_H-768_A-12':\n",
        "        'https://tfhub.dev/tensorflow/bert_en_uncased_L-12_H-768_A-12/3',\n",
        "    'bert_en_cased_L-12_H-768_A-12':\n",
        "        'https://tfhub.dev/tensorflow/bert_en_cased_L-12_H-768_A-12/3',\n",
        "    'bert_multi_cased_L-12_H-768_A-12':\n",
        "        'https://tfhub.dev/tensorflow/bert_multi_cased_L-12_H-768_A-12/3',\n",
        "    'small_bert/bert_en_uncased_L-2_H-128_A-2':\n",
        "        'https://tfhub.dev/tensorflow/small_bert/bert_en_uncased_L-2_H-128_A-2/1',\n",
        "    'small_bert/bert_en_uncased_L-2_H-256_A-4':\n",
        "        'https://tfhub.dev/tensorflow/small_bert/bert_en_uncased_L-2_H-256_A-4/1',\n",
        "    'small_bert/bert_en_uncased_L-2_H-512_A-8':\n",
        "        'https://tfhub.dev/tensorflow/small_bert/bert_en_uncased_L-2_H-512_A-8/1',\n",
        "    'small_bert/bert_en_uncased_L-2_H-768_A-12':\n",
        "        'https://tfhub.dev/tensorflow/small_bert/bert_en_uncased_L-2_H-768_A-12/1',\n",
        "    'small_bert/bert_en_uncased_L-4_H-128_A-2':\n",
        "        'https://tfhub.dev/tensorflow/small_bert/bert_en_uncased_L-4_H-128_A-2/1',\n",
        "    'small_bert/bert_en_uncased_L-4_H-256_A-4':\n",
        "        'https://tfhub.dev/tensorflow/small_bert/bert_en_uncased_L-4_H-256_A-4/1',\n",
        "    'small_bert/bert_en_uncased_L-4_H-512_A-8':\n",
        "        'https://tfhub.dev/tensorflow/small_bert/bert_en_uncased_L-4_H-512_A-8/1',\n",
        "    'small_bert/bert_en_uncased_L-4_H-768_A-12':\n",
        "        'https://tfhub.dev/tensorflow/small_bert/bert_en_uncased_L-4_H-768_A-12/1',\n",
        "    'small_bert/bert_en_uncased_L-6_H-128_A-2':\n",
        "        'https://tfhub.dev/tensorflow/small_bert/bert_en_uncased_L-6_H-128_A-2/1',\n",
        "    'small_bert/bert_en_uncased_L-6_H-256_A-4':\n",
        "        'https://tfhub.dev/tensorflow/small_bert/bert_en_uncased_L-6_H-256_A-4/1',\n",
        "    'small_bert/bert_en_uncased_L-6_H-512_A-8':\n",
        "        'https://tfhub.dev/tensorflow/small_bert/bert_en_uncased_L-6_H-512_A-8/1',\n",
        "    'small_bert/bert_en_uncased_L-6_H-768_A-12':\n",
        "        'https://tfhub.dev/tensorflow/small_bert/bert_en_uncased_L-6_H-768_A-12/1',\n",
        "    'small_bert/bert_en_uncased_L-8_H-128_A-2':\n",
        "        'https://tfhub.dev/tensorflow/small_bert/bert_en_uncased_L-8_H-128_A-2/1',\n",
        "    'small_bert/bert_en_uncased_L-8_H-256_A-4':\n",
        "        'https://tfhub.dev/tensorflow/small_bert/bert_en_uncased_L-8_H-256_A-4/1',\n",
        "    'small_bert/bert_en_uncased_L-8_H-512_A-8':\n",
        "        'https://tfhub.dev/tensorflow/small_bert/bert_en_uncased_L-8_H-512_A-8/1',\n",
        "    'small_bert/bert_en_uncased_L-8_H-768_A-12':\n",
        "        'https://tfhub.dev/tensorflow/small_bert/bert_en_uncased_L-8_H-768_A-12/1',\n",
        "    'small_bert/bert_en_uncased_L-10_H-128_A-2':\n",
        "        'https://tfhub.dev/tensorflow/small_bert/bert_en_uncased_L-10_H-128_A-2/1',\n",
        "    'small_bert/bert_en_uncased_L-10_H-256_A-4':\n",
        "        'https://tfhub.dev/tensorflow/small_bert/bert_en_uncased_L-10_H-256_A-4/1',\n",
        "    'small_bert/bert_en_uncased_L-10_H-512_A-8':\n",
        "        'https://tfhub.dev/tensorflow/small_bert/bert_en_uncased_L-10_H-512_A-8/1',\n",
        "    'small_bert/bert_en_uncased_L-10_H-768_A-12':\n",
        "        'https://tfhub.dev/tensorflow/small_bert/bert_en_uncased_L-10_H-768_A-12/1',\n",
        "    'small_bert/bert_en_uncased_L-12_H-128_A-2':\n",
        "        'https://tfhub.dev/tensorflow/small_bert/bert_en_uncased_L-12_H-128_A-2/1',\n",
        "    'small_bert/bert_en_uncased_L-12_H-256_A-4':\n",
        "        'https://tfhub.dev/tensorflow/small_bert/bert_en_uncased_L-12_H-256_A-4/1',\n",
        "    'small_bert/bert_en_uncased_L-12_H-512_A-8':\n",
        "        'https://tfhub.dev/tensorflow/small_bert/bert_en_uncased_L-12_H-512_A-8/1',\n",
        "    'small_bert/bert_en_uncased_L-12_H-768_A-12':\n",
        "        'https://tfhub.dev/tensorflow/small_bert/bert_en_uncased_L-12_H-768_A-12/1',\n",
        "    'albert_en_base':\n",
        "        'https://tfhub.dev/tensorflow/albert_en_base/2',\n",
        "    'electra_small':\n",
        "        'https://tfhub.dev/google/electra_small/2',\n",
        "    'electra_base':\n",
        "        'https://tfhub.dev/google/electra_base/2',\n",
        "    'experts_pubmed':\n",
        "        'https://tfhub.dev/google/experts/bert/pubmed/2',\n",
        "    'experts_wiki_books':\n",
        "        'https://tfhub.dev/google/experts/bert/wiki_books/2',\n",
        "    'talking-heads_base':\n",
        "        'https://tfhub.dev/tensorflow/talkheads_ggelu_bert_en_base/1',\n",
        "}\n",
        "\n",
        "map_model_to_preprocess = {\n",
        "    'bert_en_uncased_L-12_H-768_A-12':\n",
        "        'https://tfhub.dev/tensorflow/bert_en_uncased_preprocess/3',\n",
        "    'bert_en_cased_L-12_H-768_A-12':\n",
        "        'https://tfhub.dev/tensorflow/bert_en_cased_preprocess/3',\n",
        "    'small_bert/bert_en_uncased_L-2_H-128_A-2':\n",
        "        'https://tfhub.dev/tensorflow/bert_en_uncased_preprocess/3',\n",
        "    'small_bert/bert_en_uncased_L-2_H-256_A-4':\n",
        "        'https://tfhub.dev/tensorflow/bert_en_uncased_preprocess/3',\n",
        "    'small_bert/bert_en_uncased_L-2_H-512_A-8':\n",
        "        'https://tfhub.dev/tensorflow/bert_en_uncased_preprocess/3',\n",
        "    'small_bert/bert_en_uncased_L-2_H-768_A-12':\n",
        "        'https://tfhub.dev/tensorflow/bert_en_uncased_preprocess/3',\n",
        "    'small_bert/bert_en_uncased_L-4_H-128_A-2':\n",
        "        'https://tfhub.dev/tensorflow/bert_en_uncased_preprocess/3',\n",
        "    'small_bert/bert_en_uncased_L-4_H-256_A-4':\n",
        "        'https://tfhub.dev/tensorflow/bert_en_uncased_preprocess/3',\n",
        "    'small_bert/bert_en_uncased_L-4_H-512_A-8':\n",
        "        'https://tfhub.dev/tensorflow/bert_en_uncased_preprocess/3',\n",
        "    'small_bert/bert_en_uncased_L-4_H-768_A-12':\n",
        "        'https://tfhub.dev/tensorflow/bert_en_uncased_preprocess/3',\n",
        "    'small_bert/bert_en_uncased_L-6_H-128_A-2':\n",
        "        'https://tfhub.dev/tensorflow/bert_en_uncased_preprocess/3',\n",
        "    'small_bert/bert_en_uncased_L-6_H-256_A-4':\n",
        "        'https://tfhub.dev/tensorflow/bert_en_uncased_preprocess/3',\n",
        "    'small_bert/bert_en_uncased_L-6_H-512_A-8':\n",
        "        'https://tfhub.dev/tensorflow/bert_en_uncased_preprocess/3',\n",
        "    'small_bert/bert_en_uncased_L-6_H-768_A-12':\n",
        "        'https://tfhub.dev/tensorflow/bert_en_uncased_preprocess/3',\n",
        "    'small_bert/bert_en_uncased_L-8_H-128_A-2':\n",
        "        'https://tfhub.dev/tensorflow/bert_en_uncased_preprocess/3',\n",
        "    'small_bert/bert_en_uncased_L-8_H-256_A-4':\n",
        "        'https://tfhub.dev/tensorflow/bert_en_uncased_preprocess/3',\n",
        "    'small_bert/bert_en_uncased_L-8_H-512_A-8':\n",
        "        'https://tfhub.dev/tensorflow/bert_en_uncased_preprocess/3',\n",
        "    'small_bert/bert_en_uncased_L-8_H-768_A-12':\n",
        "        'https://tfhub.dev/tensorflow/bert_en_uncased_preprocess/3',\n",
        "    'small_bert/bert_en_uncased_L-10_H-128_A-2':\n",
        "        'https://tfhub.dev/tensorflow/bert_en_uncased_preprocess/3',\n",
        "    'small_bert/bert_en_uncased_L-10_H-256_A-4':\n",
        "        'https://tfhub.dev/tensorflow/bert_en_uncased_preprocess/3',\n",
        "    'small_bert/bert_en_uncased_L-10_H-512_A-8':\n",
        "        'https://tfhub.dev/tensorflow/bert_en_uncased_preprocess/3',\n",
        "    'small_bert/bert_en_uncased_L-10_H-768_A-12':\n",
        "        'https://tfhub.dev/tensorflow/bert_en_uncased_preprocess/3',\n",
        "    'small_bert/bert_en_uncased_L-12_H-128_A-2':\n",
        "        'https://tfhub.dev/tensorflow/bert_en_uncased_preprocess/3',\n",
        "    'small_bert/bert_en_uncased_L-12_H-256_A-4':\n",
        "        'https://tfhub.dev/tensorflow/bert_en_uncased_preprocess/3',\n",
        "    'small_bert/bert_en_uncased_L-12_H-512_A-8':\n",
        "        'https://tfhub.dev/tensorflow/bert_en_uncased_preprocess/3',\n",
        "    'small_bert/bert_en_uncased_L-12_H-768_A-12':\n",
        "        'https://tfhub.dev/tensorflow/bert_en_uncased_preprocess/3',\n",
        "    'bert_multi_cased_L-12_H-768_A-12':\n",
        "        'https://tfhub.dev/tensorflow/bert_multi_cased_preprocess/3',\n",
        "    'albert_en_base':\n",
        "        'https://tfhub.dev/tensorflow/albert_en_preprocess/3',\n",
        "    'electra_small':\n",
        "        'https://tfhub.dev/tensorflow/bert_en_uncased_preprocess/3',\n",
        "    'electra_base':\n",
        "        'https://tfhub.dev/tensorflow/bert_en_uncased_preprocess/3',\n",
        "    'experts_pubmed':\n",
        "        'https://tfhub.dev/tensorflow/bert_en_uncased_preprocess/3',\n",
        "    'experts_wiki_books':\n",
        "        'https://tfhub.dev/tensorflow/bert_en_uncased_preprocess/3',\n",
        "    'talking-heads_base':\n",
        "        'https://tfhub.dev/tensorflow/bert_en_uncased_preprocess/3',\n",
        "}\n",
        "\n",
        "tfhub_handle_encoder = map_name_to_handle[bert_model_name]\n",
        "tfhub_handle_preprocess = map_model_to_preprocess[bert_model_name]\n",
        "bert_preprocess_model = hub.KerasLayer(tfhub_handle_preprocess)\n",
        "bert_model = hub.KerasLayer(tfhub_handle_encoder)"
      ]
    },
    {
      "cell_type": "code",
      "execution_count": 32,
      "metadata": {
        "id": "dDli1imOMihA"
      },
      "outputs": [],
      "source": [
        "# Bert layers\n",
        "text_input = tf.keras.layers.Input(shape=(), dtype=tf.string, name='text')\n",
        "preprocessed_text = bert_preprocess_model(text_input)\n",
        "outputs = bert_model(preprocessed_text)\n",
        "# Neural network layers\n",
        "l = tf.keras.layers.Dropout(0.1, name=\"dropout\")(outputs['pooled_output'])\n",
        "l = tf.keras.layers.Dense(1, activation='sigmoid', name=\"output\")(l)\n",
        "# Use inputs and outputs to construct a final model\n",
        "model = tf.keras.Model(inputs=[text_input], outputs = [l])"
      ]
    },
    {
      "cell_type": "code",
      "execution_count": null,
      "metadata": {
        "id": "Yt9ogQczMihA",
        "outputId": "e0bd41a3-e17b-4355-cfba-48974109d90e"
      },
      "outputs": [
        {
          "name": "stdout",
          "output_type": "stream",
          "text": [
            "Epoch 1/5\n"
          ]
        },
        {
          "name": "stderr",
          "output_type": "stream",
          "text": [
            "2022-07-15 13:49:26.085316: W tensorflow/core/framework/cpu_allocator_impl.cc:82] Allocation of 16777216 exceeds 10% of free system memory.\n",
            "2022-07-15 13:49:26.098278: W tensorflow/core/framework/cpu_allocator_impl.cc:82] Allocation of 16777216 exceeds 10% of free system memory.\n",
            "2022-07-15 13:49:26.132254: W tensorflow/core/framework/cpu_allocator_impl.cc:82] Allocation of 33554432 exceeds 10% of free system memory.\n",
            "2022-07-15 13:49:26.155356: W tensorflow/core/framework/cpu_allocator_impl.cc:82] Allocation of 33554432 exceeds 10% of free system memory.\n"
          ]
        },
        {
          "name": "stdout",
          "output_type": "stream",
          "text": [
            "411/411 [==============================] - 271s 654ms/step - loss: 0.5975 - accuracy: 0.6807 - val_loss: 0.5799 - val_accuracy: 0.6894\n",
            "Epoch 2/5\n",
            "411/411 [==============================] - 264s 642ms/step - loss: 0.5442 - accuracy: 0.7259 - val_loss: 0.5584 - val_accuracy: 0.7108\n",
            "Epoch 3/5\n",
            "411/411 [==============================] - 264s 644ms/step - loss: 0.5276 - accuracy: 0.7406 - val_loss: 0.6165 - val_accuracy: 0.6620\n",
            "Epoch 4/5\n",
            "411/411 [==============================] - 261s 636ms/step - loss: 0.5207 - accuracy: 0.7447 - val_loss: 0.6002 - val_accuracy: 0.6746\n",
            "Epoch 5/5\n",
            "411/411 [==============================] - 262s 638ms/step - loss: 0.5155 - accuracy: 0.7474 - val_loss: 0.5975 - val_accuracy: 0.6722\n"
          ]
        }
      ],
      "source": [
        "model.compile(optimizer='adam', loss='binary_crossentropy', metrics=['accuracy'])\n",
        "log = model.fit(X_train, y_train, epochs=5, batch_size = 32,validation_data=(X_valid, y_valid))"
      ]
    },
    {
      "cell_type": "code",
      "execution_count": null,
      "metadata": {
        "id": "9rXKiy8OMihA",
        "outputId": "3acb6d0b-4a6c-4bb1-83cb-622b8f8b8cdb"
      },
      "outputs": [
        {
          "data": {
            "image/png": "[encoded data removed]",
            "text/plain": [
              "<Figure size 432x288 with 1 Axes>"
            ]
          },
          "metadata": {
            "needs_background": "light"
          },
          "output_type": "display_data"
        }
      ],
      "source": [
        "plt.plot(log.history['loss'],label = \"training loss\")\n",
        "plt.plot(log.history['val_loss'], label = \"validation loss\")\n",
        "plt.legend()\n",
        "plt.show()"
      ]
    },
    {
      "cell_type": "code",
      "execution_count": null,
      "metadata": {
        "id": "bRTXcOxOMihA",
        "outputId": "83b27aa8-3e6b-4d75-a00d-ddd8261243f4"
      },
      "outputs": [
        {
          "data": {
            "image/png": "[encoded data removed]",
            "text/plain": [
              "<Figure size 432x288 with 1 Axes>"
            ]
          },
          "metadata": {
            "needs_background": "light"
          },
          "output_type": "display_data"
        }
      ],
      "source": [
        "plt.plot(log.history['accuracy'],label = \"training acc\")\n",
        "plt.plot(log.history['val_accuracy'], label = \"validation acc\")\n",
        "plt.legend()\n",
        "plt.show()"
      ]
    },
    {
      "cell_type": "code",
      "execution_count": null,
      "metadata": {
        "id": "Af9SyEjTMihA",
        "outputId": "973f229a-8421-4796-d986-cb9ce97d8331"
      },
      "outputs": [
        {
          "name": "stdout",
          "output_type": "stream",
          "text": [
            "68/68 [==============================] - 37s 538ms/step\n",
            "              precision    recall  f1-score   support\n",
            "\n",
            "         0.0       0.33      0.41      0.37       501\n",
            "         1.0       0.81      0.75      0.78      1650\n",
            "\n",
            "    accuracy                           0.67      2151\n",
            "   macro avg       0.57      0.58      0.57      2151\n",
            "weighted avg       0.70      0.67      0.68      2151\n",
            "\n"
          ]
        }
      ],
      "source": [
        "from sklearn.metrics import classification_report\n",
        "# predict on test data\n",
        "y_pred = model.predict(X_valid)\n",
        "# get F1 score\n",
        "print(classification_report(y_valid, y_pred.round()))"
      ]
    },
    {
      "cell_type": "code",
      "execution_count": null,
      "metadata": {
        "id": "g1newXfNMihA"
      },
      "outputs": [],
      "source": [
        "# get the f-1 score\n",
        "from sklearn.metrics import f1_score\n",
        "f1_score = f1_score(y_valid, y_pred.round())"
      ]
    },
    {
      "cell_type": "code",
      "execution_count": null,
      "metadata": {
        "id": "bC2SblQXMihB",
        "outputId": "da5e6c03-db85-4f43-b5e0-5e589b389541"
      },
      "outputs": [
        {
          "data": {
            "text/plain": [
              "0.7786499215070645"
            ]
          },
          "execution_count": 22,
          "metadata": {},
          "output_type": "execute_result"
        }
      ],
      "source": [
        "f1_score"
      ]
    },
    {
      "cell_type": "markdown",
      "metadata": {},
      "source": [
        "#### extract same amount of data"
      ]
    },
    {
      "cell_type": "code",
      "execution_count": 10,
      "metadata": {},
      "outputs": [],
      "source": [
        "# create a new balanced dataset\n",
        "unhelpful = train.loc[train[\"helpfulness_cat\"] == 0, [\"imdb_user_review\", \"helpfulness_cat\"]]\n",
        "helpful = train.loc[train[\"helpfulness_cat\"] == 1, [\"imdb_user_review\", \"helpfulness_cat\"]]\n",
        "helpful = helpful.sample(n=len(unhelpful), random_state=42)\n",
        "s = pd.concat([unhelpful, helpful]) # create a more balanced training set for training the model\n",
        "\n",
        "# split the trainaing data into train and test\n",
        "from sklearn.model_selection import train_test_split\n",
        "X_train = s.drop([\"helpfulness_cat\"], axis=1)\n",
        "y_train = s[\"helpfulness_cat\"]\n",
        "X_train, X_valid, y_train, y_valid = train_test_split(X_train, \n",
        "                                                    y_train, \n",
        "                                                    random_state=123,\n",
        "                                                    test_size=0.2)"
      ]
    },
    {
      "cell_type": "code",
      "execution_count": 11,
      "metadata": {},
      "outputs": [
        {
          "name": "stdout",
          "output_type": "stream",
          "text": [
            "Epoch 1/5\n"
          ]
        },
        {
          "name": "stderr",
          "output_type": "stream",
          "text": [
            "2022-07-15 15:16:07.083974: W tensorflow/core/framework/cpu_allocator_impl.cc:82] Allocation of 33554432 exceeds 10% of free system memory.\n",
            "2022-07-15 15:16:07.105435: W tensorflow/core/framework/cpu_allocator_impl.cc:82] Allocation of 33554432 exceeds 10% of free system memory.\n",
            "2022-07-15 15:16:07.233169: W tensorflow/core/framework/cpu_allocator_impl.cc:82] Allocation of 33554432 exceeds 10% of free system memory.\n",
            "2022-07-15 15:16:07.313770: W tensorflow/core/framework/cpu_allocator_impl.cc:82] Allocation of 33554432 exceeds 10% of free system memory.\n"
          ]
        },
        {
          "name": "stdout",
          "output_type": "stream",
          "text": [
            "112/112 [==============================] - 94s 820ms/step - loss: 0.7031 - accuracy: 0.5381 - val_loss: 0.6784 - val_accuracy: 0.5757\n",
            "Epoch 2/5\n",
            "112/112 [==============================] - 89s 794ms/step - loss: 0.6676 - accuracy: 0.5884 - val_loss: 0.6588 - val_accuracy: 0.6059\n",
            "Epoch 3/5\n",
            "112/112 [==============================] - 86s 769ms/step - loss: 0.6536 - accuracy: 0.6151 - val_loss: 0.6633 - val_accuracy: 0.5987\n",
            "Epoch 4/5\n",
            "112/112 [==============================] - 87s 778ms/step - loss: 0.6457 - accuracy: 0.6269 - val_loss: 0.6487 - val_accuracy: 0.6184\n",
            "Epoch 5/5\n",
            "112/112 [==============================] - 87s 777ms/step - loss: 0.6489 - accuracy: 0.6342 - val_loss: 0.6476 - val_accuracy: 0.6302\n"
          ]
        }
      ],
      "source": [
        "model.compile(optimizer='adam', loss='binary_crossentropy', metrics=['accuracy'])\n",
        "log = model.fit(X_train, y_train, epochs=5, batch_size = 32,validation_data=(X_valid, y_valid))"
      ]
    },
    {
      "cell_type": "code",
      "execution_count": 12,
      "metadata": {},
      "outputs": [
        {
          "name": "stdout",
          "output_type": "stream",
          "text": [
            "48/48 [==============================] - 27s 552ms/step\n",
            "              precision    recall  f1-score   support\n",
            "\n",
            "         0.0       0.60      0.72      0.66       752\n",
            "         1.0       0.67      0.54      0.60       773\n",
            "\n",
            "    accuracy                           0.63      1525\n",
            "   macro avg       0.64      0.63      0.63      1525\n",
            "weighted avg       0.64      0.63      0.63      1525\n",
            "\n"
          ]
        }
      ],
      "source": [
        "from sklearn.metrics import classification_report\n",
        "# predict on test data\n",
        "y_pred = model.predict(X_valid)\n",
        "# get F1 score\n",
        "print(classification_report(y_valid, y_pred.round()))"
      ]
    },
    {
      "cell_type": "code",
      "execution_count": 29,
      "metadata": {},
      "outputs": [],
      "source": [
        "Train_df, Valid_df = train_test_split(train, test_size=0.2, random_state=42)"
      ]
    },
    {
      "cell_type": "code",
      "execution_count": 30,
      "metadata": {},
      "outputs": [],
      "source": [
        "# create a new balanced dataset\n",
        "unhelpful = Train_df.loc[Train_df[\"helpfulness_cat\"] == 0, [\"imdb_user_review\", \"helpfulness_cat\"]]\n",
        "helpful = Train_df.loc[Train_df[\"helpfulness_cat\"] == 1, [\"imdb_user_review\", \"helpfulness_cat\"]]\n",
        "helpful = helpful.sample(n=len(unhelpful), random_state=42)\n",
        "s = pd.concat([unhelpful, helpful]) # create a more balanced training set for training the model\n",
        "\n",
        "# split the trainaing data into train and test\n",
        "from sklearn.model_selection import train_test_split\n",
        "X_train = s.drop([\"helpfulness_cat\"], axis=1)\n",
        "y_train = s[\"helpfulness_cat\"]\n",
        "X_valid = Valid_df.drop(['helpfulness_cat'], axis=1)\n",
        "y_valid = Valid_df.loc[:, 'helpfulness_cat']"
      ]
    },
    {
      "cell_type": "code",
      "execution_count": 33,
      "metadata": {},
      "outputs": [
        {
          "name": "stdout",
          "output_type": "stream",
          "text": [
            "Epoch 1/5\n",
            "128/128 [==============================] - 108s 843ms/step - loss: 0.7038 - accuracy: 0.5556 - val_loss: 0.6959 - val_accuracy: 0.5481\n",
            "Epoch 2/5\n",
            "128/128 [==============================] - 109s 851ms/step - loss: 0.6680 - accuracy: 0.5914 - val_loss: 0.7218 - val_accuracy: 0.5193\n",
            "Epoch 3/5\n",
            "128/128 [==============================] - 108s 843ms/step - loss: 0.6613 - accuracy: 0.6025 - val_loss: 0.6593 - val_accuracy: 0.6179\n",
            "Epoch 4/5\n",
            "128/128 [==============================] - ETA: 0s - loss: 0.6490 - accuracy: 0.6199"
          ]
        }
      ],
      "source": [
        "model.compile(optimizer='adam', loss='binary_crossentropy', metrics=['accuracy'])\n",
        "log = model.fit(X_train, y_train, epochs=5, batch_size = 32,validation_data=(X_valid, y_valid))"
      ]
    },
    {
      "cell_type": "markdown",
      "metadata": {},
      "source": [
        "#### original data result"
      ]
    },
    {
      "cell_type": "code",
      "execution_count": 18,
      "metadata": {},
      "outputs": [],
      "source": [
        "# split the trainaing data into train and test\n",
        "from sklearn.model_selection import train_test_split\n",
        "X_train = train.drop([\"helpfulness_cat\"], axis=1)\n",
        "y_train = train[\"helpfulness_cat\"]\n",
        "X_train, X_valid, y_train, y_valid = train_test_split(X_train,y_train,test_size=0.2,random_state=123)"
      ]
    },
    {
      "cell_type": "code",
      "execution_count": 19,
      "metadata": {},
      "outputs": [
        {
          "name": "stdout",
          "output_type": "stream",
          "text": [
            "Epoch 1/5\n",
            "269/269 [==============================] - 185s 686ms/step - loss: 0.5214 - accuracy: 0.7564 - val_loss: 0.5101 - val_accuracy: 0.7638\n",
            "Epoch 2/5\n",
            "269/269 [==============================] - 183s 682ms/step - loss: 0.5161 - accuracy: 0.7588 - val_loss: 0.5076 - val_accuracy: 0.7629\n",
            "Epoch 3/5\n",
            "269/269 [==============================] - 186s 691ms/step - loss: 0.5140 - accuracy: 0.7622 - val_loss: 0.5118 - val_accuracy: 0.7624\n",
            "Epoch 4/5\n",
            "269/269 [==============================] - 185s 687ms/step - loss: 0.5110 - accuracy: 0.7621 - val_loss: 0.5090 - val_accuracy: 0.7610\n",
            "Epoch 5/5\n",
            "269/269 [==============================] - 185s 688ms/step - loss: 0.5064 - accuracy: 0.7635 - val_loss: 0.5053 - val_accuracy: 0.7620\n"
          ]
        }
      ],
      "source": [
        "model.compile(optimizer='adam', loss='binary_crossentropy', metrics=['accuracy'])\n",
        "log = model.fit(X_train, y_train, epochs=5, batch_size = 32,validation_data=(X_valid, y_valid))"
      ]
    },
    {
      "cell_type": "code",
      "execution_count": 20,
      "metadata": {},
      "outputs": [
        {
          "name": "stdout",
          "output_type": "stream",
          "text": [
            "68/68 [==============================] - 38s 544ms/step\n",
            "              precision    recall  f1-score   support\n",
            "\n",
            "         0.0       0.46      0.08      0.13       506\n",
            "         1.0       0.77      0.97      0.86      1645\n",
            "\n",
            "    accuracy                           0.76      2151\n",
            "   macro avg       0.62      0.52      0.50      2151\n",
            "weighted avg       0.70      0.76      0.69      2151\n",
            "\n"
          ]
        }
      ],
      "source": [
        "# predict on test data\n",
        "y_pred = model.predict(X_valid)\n",
        "# get F1 score\n",
        "print(classification_report(y_valid, y_pred.round()))"
      ]
    },
    {
      "cell_type": "markdown",
      "metadata": {
        "id": "mcSBFXFYMigh"
      },
      "source": [
        "### Doc2Vec"
      ]
    },
    {
      "cell_type": "code",
      "execution_count": null,
      "metadata": {
        "id": "ctCDz25uMigh"
      },
      "outputs": [],
      "source": [
        "def basic_clean(text):\n",
        "    \"\"\"\n",
        "    Remove \\\\,\\n,\\t,... from text\n",
        "    Remove whitespace from text\n",
        "    change to lowercase\n",
        "    \"\"\"\n",
        "    \n",
        "    # Replacing all the occurrences of \\n,\\\\n,\\t,\\\\ with a space.\n",
        "    Formatted_text = text.replace('\\\\n', ' ').replace('\\n', ' ').replace('\\t',' ').replace('\\'', '').replace('\"',' ')\n",
        "    pattern = re.compile(r'\\s+')\n",
        "    Formatted_text = Formatted_text.lower()\n",
        "    Formatted_text = Formatted_text.replace(r'u00b4','') \n",
        "    Formatted_text = Formatted_text.replace(r'u0085', '')\n",
        "    Formatted_text = Formatted_text.replace('\\\\',' ')\n",
        "    Without_whitespace = re.sub(pattern, ' ', Formatted_text)\n",
        "    Formatted_text = Without_whitespace.replace('?', ' ? ').replace(')', ') ')\n",
        "    without_digit = re.sub(r'[^A-Za-z0-9]+',\" \", Formatted_text)\n",
        "    final_text = ''.join([i for i in without_digit if not i.isdigit()])\n",
        "    return final_text"
      ]
    },
    {
      "cell_type": "code",
      "execution_count": null,
      "metadata": {
        "id": "PGSY7qgZMigi"
      },
      "outputs": [],
      "source": [
        "train['imdb_user_review'] = train['imdb_user_review'].apply(basic_clean)"
      ]
    },
    {
      "cell_type": "code",
      "execution_count": null,
      "metadata": {
        "id": "g1O3Uq_JMigi"
      },
      "outputs": [],
      "source": [
        "# create a new balanced dataset\n",
        "unhelpful = train.loc[train[\"helpfulness_cat\"] == 0, [\"imdb_user_review\", \"helpfulness_cat\"]]\n",
        "helpful = train.loc[train[\"helpfulness_cat\"] == 1, [\"imdb_user_review\", \"helpfulness_cat\"]]\n",
        "helpful = helpful.sample(n=len(unhelpful), random_state=42)\n",
        "s = pd.concat([unhelpful, helpful]) # create a more balanced training set for training the model"
      ]
    },
    {
      "cell_type": "code",
      "execution_count": null,
      "metadata": {
        "id": "FUpcRTFOMigi"
      },
      "outputs": [],
      "source": [
        "#import Doc2vec libraries\n",
        "from nltk.tokenize import wordpunct_tokenize\n",
        "from gensim.models.doc2vec import Doc2Vec, TaggedDocument"
      ]
    },
    {
      "cell_type": "code",
      "execution_count": null,
      "metadata": {
        "id": "ZNZjfl40Migj",
        "outputId": "7f7f998b-f438-4f1f-e27e-6702fedae373"
      },
      "outputs": [
        {
          "name": "stdout",
          "output_type": "stream",
          "text": [
            "(3557,)\n",
            "(3557,)\n",
            "(1525,)\n",
            "(1525,)\n"
          ]
        }
      ],
      "source": [
        "# split the trainaing data into train and test\n",
        "from sklearn.model_selection import train_test_split\n",
        "x_train, x_test, y_train, y_test = train_test_split(s['imdb_user_review'], \n",
        "                                                    s.helpfulness_cat, \n",
        "                                                    random_state=123,\n",
        "                                                    test_size=0.3)\n",
        "\n",
        "print(x_train.shape)\n",
        "print(y_train.shape)\n",
        "print(x_test.shape)\n",
        "print(y_test.shape)"
      ]
    },
    {
      "cell_type": "code",
      "execution_count": null,
      "metadata": {
        "id": "batj3OpeMigj"
      },
      "outputs": [],
      "source": [
        "#tokenize the quotes for training dataset\n",
        "tkn_quotes_train = [wordpunct_tokenize(quote.lower()) for quote in x_train.to_list()] \n",
        "tgd_quotes_train = [TaggedDocument(d, [i]) for i, d in enumerate(tkn_quotes_train)]"
      ]
    },
    {
      "cell_type": "code",
      "execution_count": null,
      "metadata": {
        "id": "nIwMzmynMigk"
      },
      "outputs": [],
      "source": [
        "#tokenize the quotes for testing dataset\n",
        "tkn_quotes_test= [wordpunct_tokenize(quote.lower()) for quote in x_test.to_list()] \n",
        "tgd_quotes_test = [TaggedDocument(d, [i]) for i, d in enumerate(tkn_quotes_test)]"
      ]
    },
    {
      "cell_type": "code",
      "execution_count": null,
      "metadata": {
        "id": "DU7UcrH6Migk"
      },
      "outputs": [],
      "source": [
        "#tokenize the quotes for training dataset\n",
        "tkn_quotes = [wordpunct_tokenize(quote.lower()) for quote in s['imdb_user_review'].to_list()] \n",
        "tgd_quotes= [TaggedDocument(d, [i]) for i, d in enumerate(tkn_quotes)]"
      ]
    },
    {
      "cell_type": "code",
      "execution_count": null,
      "metadata": {
        "id": "he8r2F7zMigk"
      },
      "outputs": [],
      "source": [
        "# build doc2vec model with DBOW approach - using the whole dataset to train the model\n",
        "model_d2v = Doc2Vec(\n",
        "    tgd_quotes, vector_size=300, \n",
        "    window=2, min_count=1, workers=4, \n",
        "    epochs=100,negative=5\n",
        "    )"
      ]
    },
    {
      "cell_type": "code",
      "execution_count": null,
      "metadata": {
        "id": "l4xYhjcGMigl"
      },
      "outputs": [],
      "source": [
        "# accessing the doc2vec model\n",
        "#vectorise the training and testing dataset separately\n",
        "quote_vectors_train  = [model_d2v.infer_vector(tgd_quotes_train[i].words) \n",
        "                        for i in range(len(tgd_quotes_train))]\n",
        "\n",
        "quote_vectors_test  = [model_d2v.infer_vector(tgd_quotes_test[i].words) \n",
        "                        for i in range(len(tgd_quotes_test))]"
      ]
    },
    {
      "cell_type": "code",
      "execution_count": null,
      "metadata": {
        "id": "-6Y6Y3TpMigl",
        "outputId": "a5c05605-2527-4a88-cb56-d6c0777fa9f6"
      },
      "outputs": [
        {
          "data": {
            "text/html": [
              "<style>#sk-container-id-7 {color: black;background-color: white;}#sk-container-id-7 pre{padding: 0;}#sk-container-id-7 div.sk-toggleable {background-color: white;}#sk-container-id-7 label.sk-toggleable__label {cursor: pointer;display: block;width: 100%;margin-bottom: 0;padding: 0.3em;box-sizing: border-box;text-align: center;}#sk-container-id-7 label.sk-toggleable__label-arrow:before {content: \"▸\";float: left;margin-right: 0.25em;color: #696969;}#sk-container-id-7 label.sk-toggleable__label-arrow:hover:before {color: black;}#sk-container-id-7 div.sk-estimator:hover label.sk-toggleable__label-arrow:before {color: black;}#sk-container-id-7 div.sk-toggleable__content {max-height: 0;max-width: 0;overflow: hidden;text-align: left;background-color: #f0f8ff;}#sk-container-id-7 div.sk-toggleable__content pre {margin: 0.2em;color: black;border-radius: 0.25em;background-color: #f0f8ff;}#sk-container-id-7 input.sk-toggleable__control:checked~div.sk-toggleable__content {max-height: 200px;max-width: 100%;overflow: auto;}#sk-container-id-7 input.sk-toggleable__control:checked~label.sk-toggleable__label-arrow:before {content: \"▾\";}#sk-container-id-7 div.sk-estimator input.sk-toggleable__control:checked~label.sk-toggleable__label {background-color: #d4ebff;}#sk-container-id-7 div.sk-label input.sk-toggleable__control:checked~label.sk-toggleable__label {background-color: #d4ebff;}#sk-container-id-7 input.sk-hidden--visually {border: 0;clip: rect(1px 1px 1px 1px);clip: rect(1px, 1px, 1px, 1px);height: 1px;margin: -1px;overflow: hidden;padding: 0;position: absolute;width: 1px;}#sk-container-id-7 div.sk-estimator {font-family: monospace;background-color: #f0f8ff;border: 1px dotted black;border-radius: 0.25em;box-sizing: border-box;margin-bottom: 0.5em;}#sk-container-id-7 div.sk-estimator:hover {background-color: #d4ebff;}#sk-container-id-7 div.sk-parallel-item::after {content: \"\";width: 100%;border-bottom: 1px solid gray;flex-grow: 1;}#sk-container-id-7 div.sk-label:hover label.sk-toggleable__label {background-color: #d4ebff;}#sk-container-id-7 div.sk-serial::before {content: \"\";position: absolute;border-left: 1px solid gray;box-sizing: border-box;top: 0;bottom: 0;left: 50%;z-index: 0;}#sk-container-id-7 div.sk-serial {display: flex;flex-direction: column;align-items: center;background-color: white;padding-right: 0.2em;padding-left: 0.2em;position: relative;}#sk-container-id-7 div.sk-item {position: relative;z-index: 1;}#sk-container-id-7 div.sk-parallel {display: flex;align-items: stretch;justify-content: center;background-color: white;position: relative;}#sk-container-id-7 div.sk-item::before, #sk-container-id-7 div.sk-parallel-item::before {content: \"\";position: absolute;border-left: 1px solid gray;box-sizing: border-box;top: 0;bottom: 0;left: 50%;z-index: -1;}#sk-container-id-7 div.sk-parallel-item {display: flex;flex-direction: column;z-index: 1;position: relative;background-color: white;}#sk-container-id-7 div.sk-parallel-item:first-child::after {align-self: flex-end;width: 50%;}#sk-container-id-7 div.sk-parallel-item:last-child::after {align-self: flex-start;width: 50%;}#sk-container-id-7 div.sk-parallel-item:only-child::after {width: 0;}#sk-container-id-7 div.sk-dashed-wrapped {border: 1px dashed gray;margin: 0 0.4em 0.5em 0.4em;box-sizing: border-box;padding-bottom: 0.4em;background-color: white;}#sk-container-id-7 div.sk-label label {font-family: monospace;font-weight: bold;display: inline-block;line-height: 1.2em;}#sk-container-id-7 div.sk-label-container {text-align: center;}#sk-container-id-7 div.sk-container {/* jupyter's `normalize.less` sets `[hidden] { display: none; }` but bootstrap.min.css set `[hidden] { display: none !important; }` so we also need the `!important` here to be able to override the default hidden behavior on the sphinx rendered scikit-learn.org. See: https://github.com/scikit-learn/scikit-learn/issues/21755 */display: inline-block !important;position: relative;}#sk-container-id-7 div.sk-text-repr-fallback {display: none;}</style><div id=\"sk-container-id-7\" class=\"sk-top-container\"><div class=\"sk-text-repr-fallback\"><pre>LogisticRegression()</pre><b>In a Jupyter environment, please rerun this cell to show the HTML representation or trust the notebook. <br />On GitHub, the HTML representation is unable to render, please try loading this page with nbviewer.org.</b></div><div class=\"sk-container\" hidden><div class=\"sk-item\"><div class=\"sk-estimator sk-toggleable\"><input class=\"sk-toggleable__control sk-hidden--visually\" id=\"sk-estimator-id-7\" type=\"checkbox\" checked><label for=\"sk-estimator-id-7\" class=\"sk-toggleable__label sk-toggleable__label-arrow\">LogisticRegression</label><div class=\"sk-toggleable__content\"><pre>LogisticRegression()</pre></div></div></div></div></div>"
            ],
            "text/plain": [
              "LogisticRegression()"
            ]
          },
          "execution_count": 76,
          "metadata": {},
          "output_type": "execute_result"
        }
      ],
      "source": [
        "# fit logistic regression model\n",
        "from sklearn.linear_model import LogisticRegression\n",
        "logreg = LogisticRegression()\n",
        "logreg.fit(quote_vectors_train, y_train)"
      ]
    },
    {
      "cell_type": "code",
      "execution_count": null,
      "metadata": {
        "id": "jXQ2-S6nMigm",
        "outputId": "79466e9f-8243-46ae-9cf6-f633d739062a"
      },
      "outputs": [
        {
          "name": "stdout",
          "output_type": "stream",
          "text": [
            "0.6255737704918033\n",
            "Testing accuracy 0.6255737704918033\n",
            "              precision    recall  f1-score   support\n",
            "\n",
            "         0.0       0.61      0.69      0.64       752\n",
            "         1.0       0.65      0.56      0.60       773\n",
            "\n",
            "    accuracy                           0.63      1525\n",
            "   macro avg       0.63      0.63      0.62      1525\n",
            "weighted avg       0.63      0.63      0.62      1525\n",
            "\n"
          ]
        }
      ],
      "source": [
        "#evaluate the model\n",
        "from sklearn.metrics import accuracy_score\n",
        "from sklearn.metrics import classification_report\n",
        "\n",
        "print(logreg.score(quote_vectors_test, y_test))\n",
        "y_pred = logreg.predict(quote_vectors_test)\n",
        "print('Testing accuracy %s' % accuracy_score(y_test, y_pred))\n",
        "print(classification_report(y_test, y_pred))"
      ]
    },
    {
      "cell_type": "code",
      "execution_count": null,
      "metadata": {
        "id": "xBNy8mQ3Migm",
        "outputId": "0bac22dc-65ce-4aec-a14f-907cd3512382"
      },
      "outputs": [
        {
          "data": {
            "text/html": [
              "<style>#sk-container-id-9 {color: black;background-color: white;}#sk-container-id-9 pre{padding: 0;}#sk-container-id-9 div.sk-toggleable {background-color: white;}#sk-container-id-9 label.sk-toggleable__label {cursor: pointer;display: block;width: 100%;margin-bottom: 0;padding: 0.3em;box-sizing: border-box;text-align: center;}#sk-container-id-9 label.sk-toggleable__label-arrow:before {content: \"▸\";float: left;margin-right: 0.25em;color: #696969;}#sk-container-id-9 label.sk-toggleable__label-arrow:hover:before {color: black;}#sk-container-id-9 div.sk-estimator:hover label.sk-toggleable__label-arrow:before {color: black;}#sk-container-id-9 div.sk-toggleable__content {max-height: 0;max-width: 0;overflow: hidden;text-align: left;background-color: #f0f8ff;}#sk-container-id-9 div.sk-toggleable__content pre {margin: 0.2em;color: black;border-radius: 0.25em;background-color: #f0f8ff;}#sk-container-id-9 input.sk-toggleable__control:checked~div.sk-toggleable__content {max-height: 200px;max-width: 100%;overflow: auto;}#sk-container-id-9 input.sk-toggleable__control:checked~label.sk-toggleable__label-arrow:before {content: \"▾\";}#sk-container-id-9 div.sk-estimator input.sk-toggleable__control:checked~label.sk-toggleable__label {background-color: #d4ebff;}#sk-container-id-9 div.sk-label input.sk-toggleable__control:checked~label.sk-toggleable__label {background-color: #d4ebff;}#sk-container-id-9 input.sk-hidden--visually {border: 0;clip: rect(1px 1px 1px 1px);clip: rect(1px, 1px, 1px, 1px);height: 1px;margin: -1px;overflow: hidden;padding: 0;position: absolute;width: 1px;}#sk-container-id-9 div.sk-estimator {font-family: monospace;background-color: #f0f8ff;border: 1px dotted black;border-radius: 0.25em;box-sizing: border-box;margin-bottom: 0.5em;}#sk-container-id-9 div.sk-estimator:hover {background-color: #d4ebff;}#sk-container-id-9 div.sk-parallel-item::after {content: \"\";width: 100%;border-bottom: 1px solid gray;flex-grow: 1;}#sk-container-id-9 div.sk-label:hover label.sk-toggleable__label {background-color: #d4ebff;}#sk-container-id-9 div.sk-serial::before {content: \"\";position: absolute;border-left: 1px solid gray;box-sizing: border-box;top: 0;bottom: 0;left: 50%;z-index: 0;}#sk-container-id-9 div.sk-serial {display: flex;flex-direction: column;align-items: center;background-color: white;padding-right: 0.2em;padding-left: 0.2em;position: relative;}#sk-container-id-9 div.sk-item {position: relative;z-index: 1;}#sk-container-id-9 div.sk-parallel {display: flex;align-items: stretch;justify-content: center;background-color: white;position: relative;}#sk-container-id-9 div.sk-item::before, #sk-container-id-9 div.sk-parallel-item::before {content: \"\";position: absolute;border-left: 1px solid gray;box-sizing: border-box;top: 0;bottom: 0;left: 50%;z-index: -1;}#sk-container-id-9 div.sk-parallel-item {display: flex;flex-direction: column;z-index: 1;position: relative;background-color: white;}#sk-container-id-9 div.sk-parallel-item:first-child::after {align-self: flex-end;width: 50%;}#sk-container-id-9 div.sk-parallel-item:last-child::after {align-self: flex-start;width: 50%;}#sk-container-id-9 div.sk-parallel-item:only-child::after {width: 0;}#sk-container-id-9 div.sk-dashed-wrapped {border: 1px dashed gray;margin: 0 0.4em 0.5em 0.4em;box-sizing: border-box;padding-bottom: 0.4em;background-color: white;}#sk-container-id-9 div.sk-label label {font-family: monospace;font-weight: bold;display: inline-block;line-height: 1.2em;}#sk-container-id-9 div.sk-label-container {text-align: center;}#sk-container-id-9 div.sk-container {/* jupyter's `normalize.less` sets `[hidden] { display: none; }` but bootstrap.min.css set `[hidden] { display: none !important; }` so we also need the `!important` here to be able to override the default hidden behavior on the sphinx rendered scikit-learn.org. See: https://github.com/scikit-learn/scikit-learn/issues/21755 */display: inline-block !important;position: relative;}#sk-container-id-9 div.sk-text-repr-fallback {display: none;}</style><div id=\"sk-container-id-9\" class=\"sk-top-container\"><div class=\"sk-text-repr-fallback\"><pre>MultinomialNB()</pre><b>In a Jupyter environment, please rerun this cell to show the HTML representation or trust the notebook. <br />On GitHub, the HTML representation is unable to render, please try loading this page with nbviewer.org.</b></div><div class=\"sk-container\" hidden><div class=\"sk-item\"><div class=\"sk-estimator sk-toggleable\"><input class=\"sk-toggleable__control sk-hidden--visually\" id=\"sk-estimator-id-9\" type=\"checkbox\" checked><label for=\"sk-estimator-id-9\" class=\"sk-toggleable__label sk-toggleable__label-arrow\">MultinomialNB</label><div class=\"sk-toggleable__content\"><pre>MultinomialNB()</pre></div></div></div></div></div>"
            ],
            "text/plain": [
              "MultinomialNB()"
            ]
          },
          "execution_count": 79,
          "metadata": {},
          "output_type": "execute_result"
        }
      ],
      "source": [
        "# naive bayes model\n",
        "from sklearn.naive_bayes import MultinomialNB\n",
        "from sklearn.preprocessing import MinMaxScaler\n",
        "\n",
        "#scale the train data to get rid of negative values before fitting the naive bayes model\n",
        "scaler = MinMaxScaler()\n",
        "scaled_vectors_train = scaler.fit_transform(quote_vectors_train)\n",
        "\n",
        "# fit naive bayes model\n",
        "mnb = MultinomialNB()\n",
        "mnb.fit(scaled_vectors_train, y_train)"
      ]
    },
    {
      "cell_type": "code",
      "execution_count": null,
      "metadata": {
        "id": "8sI7NsanMign",
        "outputId": "f2eaaddd-0bbe-409d-f21e-3179e54e0baa"
      },
      "outputs": [
        {
          "name": "stdout",
          "output_type": "stream",
          "text": [
            "0.6622950819672131\n",
            "Testing accuracy 0.6622950819672131\n",
            "              precision    recall  f1-score   support\n",
            "\n",
            "         0.0       0.62      0.83      0.71       752\n",
            "         1.0       0.75      0.50      0.60       773\n",
            "\n",
            "    accuracy                           0.66      1525\n",
            "   macro avg       0.68      0.66      0.65      1525\n",
            "weighted avg       0.69      0.66      0.65      1525\n",
            "\n"
          ]
        }
      ],
      "source": [
        "#scale the test data\n",
        "scaled_vectors_test = scaler.fit_transform(quote_vectors_test)\n",
        "\n",
        "# naive bayes model evaluation - accuracy and F1 score\n",
        "print(mnb.score(scaled_vectors_test, y_test))\n",
        "y_pred = mnb.predict(scaled_vectors_test)\n",
        "print('Testing accuracy %s' % accuracy_score(y_test, y_pred))\n",
        "print(classification_report(y_test, y_pred))"
      ]
    },
    {
      "cell_type": "code",
      "execution_count": null,
      "metadata": {
        "id": "fbiJ6Y5oMign"
      },
      "outputs": [],
      "source": [
        "# Doc2Vec with distributed memory approach - use the whole dataset to fit the model\n",
        "model_dm = Doc2Vec(\n",
        "    tgd_quotes, dm = 1, dm_mean = 1,\n",
        "    vector_size=300, window=2, min_count=1, \n",
        "    workers=4, epochs=100,negative=5\n",
        "    )"
      ]
    },
    {
      "cell_type": "code",
      "execution_count": null,
      "metadata": {
        "id": "-H5ebF9CMigo"
      },
      "outputs": [],
      "source": [
        "#vectorise the train and test dataset\n",
        "dm_vectors_train  = [model_dm.infer_vector(tgd_quotes_train[i].words) \n",
        "                        for i in range(len(tgd_quotes_train))]\n",
        "\n",
        "dm_vectors_test  = [model_dm.infer_vector(tgd_quotes_test[i].words) \n",
        "                        for i in range(len(tgd_quotes_test))]"
      ]
    },
    {
      "cell_type": "code",
      "execution_count": null,
      "metadata": {
        "id": "p8X_YIG1Migo",
        "outputId": "ab642da0-f905-40db-8e50-072172b63461"
      },
      "outputs": [
        {
          "data": {
            "text/html": [
              "<style>#sk-container-id-10 {color: black;background-color: white;}#sk-container-id-10 pre{padding: 0;}#sk-container-id-10 div.sk-toggleable {background-color: white;}#sk-container-id-10 label.sk-toggleable__label {cursor: pointer;display: block;width: 100%;margin-bottom: 0;padding: 0.3em;box-sizing: border-box;text-align: center;}#sk-container-id-10 label.sk-toggleable__label-arrow:before {content: \"▸\";float: left;margin-right: 0.25em;color: #696969;}#sk-container-id-10 label.sk-toggleable__label-arrow:hover:before {color: black;}#sk-container-id-10 div.sk-estimator:hover label.sk-toggleable__label-arrow:before {color: black;}#sk-container-id-10 div.sk-toggleable__content {max-height: 0;max-width: 0;overflow: hidden;text-align: left;background-color: #f0f8ff;}#sk-container-id-10 div.sk-toggleable__content pre {margin: 0.2em;color: black;border-radius: 0.25em;background-color: #f0f8ff;}#sk-container-id-10 input.sk-toggleable__control:checked~div.sk-toggleable__content {max-height: 200px;max-width: 100%;overflow: auto;}#sk-container-id-10 input.sk-toggleable__control:checked~label.sk-toggleable__label-arrow:before {content: \"▾\";}#sk-container-id-10 div.sk-estimator input.sk-toggleable__control:checked~label.sk-toggleable__label {background-color: #d4ebff;}#sk-container-id-10 div.sk-label input.sk-toggleable__control:checked~label.sk-toggleable__label {background-color: #d4ebff;}#sk-container-id-10 input.sk-hidden--visually {border: 0;clip: rect(1px 1px 1px 1px);clip: rect(1px, 1px, 1px, 1px);height: 1px;margin: -1px;overflow: hidden;padding: 0;position: absolute;width: 1px;}#sk-container-id-10 div.sk-estimator {font-family: monospace;background-color: #f0f8ff;border: 1px dotted black;border-radius: 0.25em;box-sizing: border-box;margin-bottom: 0.5em;}#sk-container-id-10 div.sk-estimator:hover {background-color: #d4ebff;}#sk-container-id-10 div.sk-parallel-item::after {content: \"\";width: 100%;border-bottom: 1px solid gray;flex-grow: 1;}#sk-container-id-10 div.sk-label:hover label.sk-toggleable__label {background-color: #d4ebff;}#sk-container-id-10 div.sk-serial::before {content: \"\";position: absolute;border-left: 1px solid gray;box-sizing: border-box;top: 0;bottom: 0;left: 50%;z-index: 0;}#sk-container-id-10 div.sk-serial {display: flex;flex-direction: column;align-items: center;background-color: white;padding-right: 0.2em;padding-left: 0.2em;position: relative;}#sk-container-id-10 div.sk-item {position: relative;z-index: 1;}#sk-container-id-10 div.sk-parallel {display: flex;align-items: stretch;justify-content: center;background-color: white;position: relative;}#sk-container-id-10 div.sk-item::before, #sk-container-id-10 div.sk-parallel-item::before {content: \"\";position: absolute;border-left: 1px solid gray;box-sizing: border-box;top: 0;bottom: 0;left: 50%;z-index: -1;}#sk-container-id-10 div.sk-parallel-item {display: flex;flex-direction: column;z-index: 1;position: relative;background-color: white;}#sk-container-id-10 div.sk-parallel-item:first-child::after {align-self: flex-end;width: 50%;}#sk-container-id-10 div.sk-parallel-item:last-child::after {align-self: flex-start;width: 50%;}#sk-container-id-10 div.sk-parallel-item:only-child::after {width: 0;}#sk-container-id-10 div.sk-dashed-wrapped {border: 1px dashed gray;margin: 0 0.4em 0.5em 0.4em;box-sizing: border-box;padding-bottom: 0.4em;background-color: white;}#sk-container-id-10 div.sk-label label {font-family: monospace;font-weight: bold;display: inline-block;line-height: 1.2em;}#sk-container-id-10 div.sk-label-container {text-align: center;}#sk-container-id-10 div.sk-container {/* jupyter's `normalize.less` sets `[hidden] { display: none; }` but bootstrap.min.css set `[hidden] { display: none !important; }` so we also need the `!important` here to be able to override the default hidden behavior on the sphinx rendered scikit-learn.org. See: https://github.com/scikit-learn/scikit-learn/issues/21755 */display: inline-block !important;position: relative;}#sk-container-id-10 div.sk-text-repr-fallback {display: none;}</style><div id=\"sk-container-id-10\" class=\"sk-top-container\"><div class=\"sk-text-repr-fallback\"><pre>LogisticRegression()</pre><b>In a Jupyter environment, please rerun this cell to show the HTML representation or trust the notebook. <br />On GitHub, the HTML representation is unable to render, please try loading this page with nbviewer.org.</b></div><div class=\"sk-container\" hidden><div class=\"sk-item\"><div class=\"sk-estimator sk-toggleable\"><input class=\"sk-toggleable__control sk-hidden--visually\" id=\"sk-estimator-id-10\" type=\"checkbox\" checked><label for=\"sk-estimator-id-10\" class=\"sk-toggleable__label sk-toggleable__label-arrow\">LogisticRegression</label><div class=\"sk-toggleable__content\"><pre>LogisticRegression()</pre></div></div></div></div></div>"
            ],
            "text/plain": [
              "LogisticRegression()"
            ]
          },
          "execution_count": 83,
          "metadata": {},
          "output_type": "execute_result"
        }
      ],
      "source": [
        "# fit logistic regression model\n",
        "from sklearn.linear_model import LogisticRegression\n",
        "logreg = LogisticRegression()\n",
        "logreg.fit(dm_vectors_train, y_train)"
      ]
    },
    {
      "cell_type": "code",
      "execution_count": null,
      "metadata": {
        "id": "YGQI-es1Migp",
        "outputId": "fa29e1e9-7088-43e4-dca7-2df6175d422e"
      },
      "outputs": [
        {
          "name": "stdout",
          "output_type": "stream",
          "text": [
            "0.6321311475409837\n",
            "Testing accuracy 0.6321311475409837\n",
            "              precision    recall  f1-score   support\n",
            "\n",
            "         0.0       0.61      0.70      0.65       752\n",
            "         1.0       0.66      0.56      0.61       773\n",
            "\n",
            "    accuracy                           0.63      1525\n",
            "   macro avg       0.64      0.63      0.63      1525\n",
            "weighted avg       0.64      0.63      0.63      1525\n",
            "\n"
          ]
        }
      ],
      "source": [
        "# model evaluation\n",
        "print(logreg.score(dm_vectors_test, y_test))\n",
        "y_pred = logreg.predict(dm_vectors_test)\n",
        "print('Testing accuracy %s' % accuracy_score(y_test, y_pred))\n",
        "print(classification_report(y_test, y_pred))"
      ]
    },
    {
      "cell_type": "code",
      "execution_count": null,
      "metadata": {
        "id": "hS4-nGktMigp",
        "outputId": "8506b819-7964-4306-df12-be193a137633"
      },
      "outputs": [
        {
          "data": {
            "text/html": [
              "<style>#sk-container-id-11 {color: black;background-color: white;}#sk-container-id-11 pre{padding: 0;}#sk-container-id-11 div.sk-toggleable {background-color: white;}#sk-container-id-11 label.sk-toggleable__label {cursor: pointer;display: block;width: 100%;margin-bottom: 0;padding: 0.3em;box-sizing: border-box;text-align: center;}#sk-container-id-11 label.sk-toggleable__label-arrow:before {content: \"▸\";float: left;margin-right: 0.25em;color: #696969;}#sk-container-id-11 label.sk-toggleable__label-arrow:hover:before {color: black;}#sk-container-id-11 div.sk-estimator:hover label.sk-toggleable__label-arrow:before {color: black;}#sk-container-id-11 div.sk-toggleable__content {max-height: 0;max-width: 0;overflow: hidden;text-align: left;background-color: #f0f8ff;}#sk-container-id-11 div.sk-toggleable__content pre {margin: 0.2em;color: black;border-radius: 0.25em;background-color: #f0f8ff;}#sk-container-id-11 input.sk-toggleable__control:checked~div.sk-toggleable__content {max-height: 200px;max-width: 100%;overflow: auto;}#sk-container-id-11 input.sk-toggleable__control:checked~label.sk-toggleable__label-arrow:before {content: \"▾\";}#sk-container-id-11 div.sk-estimator input.sk-toggleable__control:checked~label.sk-toggleable__label {background-color: #d4ebff;}#sk-container-id-11 div.sk-label input.sk-toggleable__control:checked~label.sk-toggleable__label {background-color: #d4ebff;}#sk-container-id-11 input.sk-hidden--visually {border: 0;clip: rect(1px 1px 1px 1px);clip: rect(1px, 1px, 1px, 1px);height: 1px;margin: -1px;overflow: hidden;padding: 0;position: absolute;width: 1px;}#sk-container-id-11 div.sk-estimator {font-family: monospace;background-color: #f0f8ff;border: 1px dotted black;border-radius: 0.25em;box-sizing: border-box;margin-bottom: 0.5em;}#sk-container-id-11 div.sk-estimator:hover {background-color: #d4ebff;}#sk-container-id-11 div.sk-parallel-item::after {content: \"\";width: 100%;border-bottom: 1px solid gray;flex-grow: 1;}#sk-container-id-11 div.sk-label:hover label.sk-toggleable__label {background-color: #d4ebff;}#sk-container-id-11 div.sk-serial::before {content: \"\";position: absolute;border-left: 1px solid gray;box-sizing: border-box;top: 0;bottom: 0;left: 50%;z-index: 0;}#sk-container-id-11 div.sk-serial {display: flex;flex-direction: column;align-items: center;background-color: white;padding-right: 0.2em;padding-left: 0.2em;position: relative;}#sk-container-id-11 div.sk-item {position: relative;z-index: 1;}#sk-container-id-11 div.sk-parallel {display: flex;align-items: stretch;justify-content: center;background-color: white;position: relative;}#sk-container-id-11 div.sk-item::before, #sk-container-id-11 div.sk-parallel-item::before {content: \"\";position: absolute;border-left: 1px solid gray;box-sizing: border-box;top: 0;bottom: 0;left: 50%;z-index: -1;}#sk-container-id-11 div.sk-parallel-item {display: flex;flex-direction: column;z-index: 1;position: relative;background-color: white;}#sk-container-id-11 div.sk-parallel-item:first-child::after {align-self: flex-end;width: 50%;}#sk-container-id-11 div.sk-parallel-item:last-child::after {align-self: flex-start;width: 50%;}#sk-container-id-11 div.sk-parallel-item:only-child::after {width: 0;}#sk-container-id-11 div.sk-dashed-wrapped {border: 1px dashed gray;margin: 0 0.4em 0.5em 0.4em;box-sizing: border-box;padding-bottom: 0.4em;background-color: white;}#sk-container-id-11 div.sk-label label {font-family: monospace;font-weight: bold;display: inline-block;line-height: 1.2em;}#sk-container-id-11 div.sk-label-container {text-align: center;}#sk-container-id-11 div.sk-container {/* jupyter's `normalize.less` sets `[hidden] { display: none; }` but bootstrap.min.css set `[hidden] { display: none !important; }` so we also need the `!important` here to be able to override the default hidden behavior on the sphinx rendered scikit-learn.org. See: https://github.com/scikit-learn/scikit-learn/issues/21755 */display: inline-block !important;position: relative;}#sk-container-id-11 div.sk-text-repr-fallback {display: none;}</style><div id=\"sk-container-id-11\" class=\"sk-top-container\"><div class=\"sk-text-repr-fallback\"><pre>MultinomialNB()</pre><b>In a Jupyter environment, please rerun this cell to show the HTML representation or trust the notebook. <br />On GitHub, the HTML representation is unable to render, please try loading this page with nbviewer.org.</b></div><div class=\"sk-container\" hidden><div class=\"sk-item\"><div class=\"sk-estimator sk-toggleable\"><input class=\"sk-toggleable__control sk-hidden--visually\" id=\"sk-estimator-id-11\" type=\"checkbox\" checked><label for=\"sk-estimator-id-11\" class=\"sk-toggleable__label sk-toggleable__label-arrow\">MultinomialNB</label><div class=\"sk-toggleable__content\"><pre>MultinomialNB()</pre></div></div></div></div></div>"
            ],
            "text/plain": [
              "MultinomialNB()"
            ]
          },
          "execution_count": 87,
          "metadata": {},
          "output_type": "execute_result"
        }
      ],
      "source": [
        "#naive bayes model\n",
        "\n",
        "#scale the data to get rid of negative values\n",
        "scaler = MinMaxScaler()\n",
        "scaled_dm_train = scaler.fit_transform(dm_vectors_train)\n",
        "\n",
        "# fit naive bayes model\n",
        "mnb = MultinomialNB()\n",
        "mnb.fit(scaled_dm_train, y_train)"
      ]
    },
    {
      "cell_type": "code",
      "execution_count": null,
      "metadata": {
        "id": "S6-QfmkOMigq",
        "outputId": "6ddd911a-4617-4edf-b497-e73d1dc38036"
      },
      "outputs": [
        {
          "name": "stdout",
          "output_type": "stream",
          "text": [
            "0.659016393442623\n",
            "Testing accuracy 0.659016393442623\n",
            "              precision    recall  f1-score   support\n",
            "\n",
            "         0.0       0.66      0.63      0.65       752\n",
            "         1.0       0.66      0.69      0.67       773\n",
            "\n",
            "    accuracy                           0.66      1525\n",
            "   macro avg       0.66      0.66      0.66      1525\n",
            "weighted avg       0.66      0.66      0.66      1525\n",
            "\n"
          ]
        }
      ],
      "source": [
        "#scale the test data\n",
        "scaled_dm_test = scaler.fit_transform(dm_vectors_test)\n",
        "\n",
        "# naive bayes model evaluation - accuracy and F1 score\n",
        "print(mnb.score(scaled_dm_test, y_test))\n",
        "y_pred = mnb.predict(scaled_dm_test)\n",
        "print('Testing accuracy %s' % accuracy_score(y_test, y_pred))\n",
        "print(classification_report(y_test, y_pred))"
      ]
    },
    {
      "cell_type": "markdown",
      "metadata": {
        "id": "p8Jwr1fzMigq"
      },
      "source": [
        "### BoW vectorization and LSTM by Pytorch"
      ]
    },
    {
      "cell_type": "code",
      "execution_count": 220,
      "metadata": {
        "id": "wbtTbSP5Migq"
      },
      "outputs": [],
      "source": [
        "\n",
        "def basic_clean(text):\n",
        "    \"\"\"\n",
        "    Remove \\\\,\\n,\\t,... from text\n",
        "    Remove whitespace from text\n",
        "    change to lowercase\n",
        "    \"\"\"\n",
        "    \n",
        "    # Replacing all the occurrences of \\n,\\\\n,\\t,\\\\ with a space.\n",
        "    Formatted_text = text.replace('\\\\n', ' ').replace('\\n', ' ').replace('\\t',' ').replace('\\'', ' ').replace('\"',' ')\n",
        "    pattern = re.compile(r'\\s+')\n",
        "    Formatted_text = Formatted_text.lower()\n",
        "    Formatted_text = Formatted_text.replace('\\\\u00b4',' ').replace('\\\\',' ')\n",
        "    Without_whitespace = re.sub(pattern, ' ', Formatted_text)\n",
        "    Formatted_text = Without_whitespace.replace('?', ' ? ').replace(')', ') ')\n",
        "    return Formatted_text"
      ]
    },
    {
      "cell_type": "code",
      "execution_count": 221,
      "metadata": {
        "id": "MrhF__D-Migr"
      },
      "outputs": [],
      "source": [
        "# cleaning data\n",
        "train['imdb_user_review'] = train['imdb_user_review'].apply(basic_clean)"
      ]
    },
    {
      "cell_type": "code",
      "execution_count": 222,
      "metadata": {
        "id": "yp_CwopiMigr",
        "outputId": "2869a35c-a2e0-4f12-f0df-fb5626314452"
      },
      "outputs": [
        {
          "name": "stderr",
          "output_type": "stream",
          "text": [
            "[nltk_data] Downloading package stopwords to\n",
            "[nltk_data]     /Users/yilingng/nltk_data...\n",
            "[nltk_data]   Package stopwords is already up-to-date!\n"
          ]
        }
      ],
      "source": [
        "from sklearn.utils import shuffle\n",
        "import os\n",
        "import nlpaug.augmenter.word as naw\n",
        "import wget\n",
        "from tqdm import tqdm\n",
        "from sklearn.model_selection import train_test_split\n",
        "import nltk\n",
        "nltk.download('stopwords')\n",
        "from nltk.corpus import stopwords\n",
        "from nltk.stem import WordNetLemmatizer\n"
      ]
    },
    {
      "cell_type": "code",
      "execution_count": 223,
      "metadata": {
        "id": "Gj5VchmkMigs",
        "outputId": "01bc7375-0f18-4887-9bd6-877da30670d0"
      },
      "outputs": [],
      "source": [
        "#nltk.download('wordnet')\n",
        "#nltk.download('omw-1.4')"
      ]
    },
    {
      "cell_type": "code",
      "execution_count": 224,
      "metadata": {
        "id": "tvo0bWTQMigt",
        "outputId": "f6d0243f-fce1-454b-9dd9-723cfa88dd72"
      },
      "outputs": [
        {
          "data": {
            "text/html": [
              "<div>\n",
              "<style scoped>\n",
              "    .dataframe tbody tr th:only-of-type {\n",
              "        vertical-align: middle;\n",
              "    }\n",
              "\n",
              "    .dataframe tbody tr th {\n",
              "        vertical-align: top;\n",
              "    }\n",
              "\n",
              "    .dataframe thead th {\n",
              "        text-align: right;\n",
              "    }\n",
              "</style>\n",
              "<table border=\"1\" class=\"dataframe\">\n",
              "  <thead>\n",
              "    <tr style=\"text-align: right;\">\n",
              "      <th></th>\n",
              "      <th>helpfulness_cat</th>\n",
              "      <th>imdb_user_review</th>\n",
              "    </tr>\n",
              "  </thead>\n",
              "  <tbody>\n",
              "    <tr>\n",
              "      <th>0</th>\n",
              "      <td>1.0</td>\n",
              "      <td>it is hard to find such delightful and adorabl...</td>\n",
              "    </tr>\n",
              "    <tr>\n",
              "      <th>1</th>\n",
              "      <td>1.0</td>\n",
              "      <td>they don t make films like this faded, hauntin...</td>\n",
              "    </tr>\n",
              "    <tr>\n",
              "      <th>2</th>\n",
              "      <td>1.0</td>\n",
              "      <td>i first viewed this movie in 1924 at age 6 yrs...</td>\n",
              "    </tr>\n",
              "    <tr>\n",
              "      <th>3</th>\n",
              "      <td>1.0</td>\n",
              "      <td>i doubt that i d ever seen anything resembling...</td>\n",
              "    </tr>\n",
              "    <tr>\n",
              "      <th>4</th>\n",
              "      <td>1.0</td>\n",
              "      <td>i was shocked to find myself riveted to this m...</td>\n",
              "    </tr>\n",
              "  </tbody>\n",
              "</table>\n",
              "</div>"
            ],
            "text/plain": [
              "   helpfulness_cat                                   imdb_user_review\n",
              "0              1.0  it is hard to find such delightful and adorabl...\n",
              "1              1.0  they don t make films like this faded, hauntin...\n",
              "2              1.0  i first viewed this movie in 1924 at age 6 yrs...\n",
              "3              1.0  i doubt that i d ever seen anything resembling...\n",
              "4              1.0  i was shocked to find myself riveted to this m..."
            ]
          },
          "execution_count": 224,
          "metadata": {},
          "output_type": "execute_result"
        }
      ],
      "source": [
        "train_bow = train.copy()\n",
        "train_bow.head()"
      ]
    },
    {
      "cell_type": "code",
      "execution_count": 225,
      "metadata": {
        "id": "1nZEm0o9Migt"
      },
      "outputs": [],
      "source": [
        "## Further data cleaning for BoW\n",
        "# step 1: remove stop words \n",
        "stop = stopwords.words('english')\n",
        "train_bow[\"imdb_user_review\"] = list(map(lambda x: ' '.join([word for word in x.split() if word not in stop]),train_bow[\"imdb_user_review\"]))\n",
        "\n",
        "# step 2: lemmatize the words\n",
        "lemmatizer = WordNetLemmatizer()\n",
        "# see = lemmatizer.lemmatize(comments)\n",
        "train_bow[\"imdb_user_review\"] = list(map(lambda x: ' '.join([lemmatizer.lemmatize(word, pos=\"v\") for word in x.split()]),train_bow[\"imdb_user_review\"]))"
      ]
    },
    {
      "cell_type": "code",
      "execution_count": 226,
      "metadata": {
        "id": "EGsRRKYTMigt"
      },
      "outputs": [],
      "source": [
        "# create a new balanced dataset\n",
        "unhelpful = train_bow.loc[train[\"helpfulness_cat\"] == 0, [\"imdb_user_review\", \"helpfulness_cat\"]]\n",
        "helpful = train_bow.loc[train_bow[\"helpfulness_cat\"] == 1, [\"imdb_user_review\", \"helpfulness_cat\"]]\n",
        "helpful = helpful.sample(n=len(unhelpful), random_state=42)\n",
        "s = pd.concat([unhelpful, helpful]) # create a more balanced training set for training the model"
      ]
    },
    {
      "cell_type": "code",
      "execution_count": 227,
      "metadata": {},
      "outputs": [],
      "source": [
        "# split Train.csv to train_df and valid_df\n",
        "Train_df, Valid_df = train_test_split(train_bow, test_size=0.2, random_state=42)"
      ]
    },
    {
      "cell_type": "code",
      "execution_count": 228,
      "metadata": {},
      "outputs": [
        {
          "data": {
            "text/html": [
              "<div>\n",
              "<style scoped>\n",
              "    .dataframe tbody tr th:only-of-type {\n",
              "        vertical-align: middle;\n",
              "    }\n",
              "\n",
              "    .dataframe tbody tr th {\n",
              "        vertical-align: top;\n",
              "    }\n",
              "\n",
              "    .dataframe thead th {\n",
              "        text-align: right;\n",
              "    }\n",
              "</style>\n",
              "<table border=\"1\" class=\"dataframe\">\n",
              "  <thead>\n",
              "    <tr style=\"text-align: right;\">\n",
              "      <th></th>\n",
              "      <th>imdb_user_review</th>\n",
              "    </tr>\n",
              "    <tr>\n",
              "      <th>helpfulness_cat</th>\n",
              "      <th></th>\n",
              "    </tr>\n",
              "  </thead>\n",
              "  <tbody>\n",
              "    <tr>\n",
              "      <th>0.0</th>\n",
              "      <td>0.189679</td>\n",
              "    </tr>\n",
              "    <tr>\n",
              "      <th>1.0</th>\n",
              "      <td>0.610321</td>\n",
              "    </tr>\n",
              "  </tbody>\n",
              "</table>\n",
              "</div>"
            ],
            "text/plain": [
              "                 imdb_user_review\n",
              "helpfulness_cat                  \n",
              "0.0                      0.189679\n",
              "1.0                      0.610321"
            ]
          },
          "execution_count": 228,
          "metadata": {},
          "output_type": "execute_result"
        }
      ],
      "source": [
        "# nlp data augmentation\n",
        "# check the percentage of each label in the data set\n",
        "Train_df.groupby('helpfulness_cat').count()/len(train)"
      ]
    },
    {
      "cell_type": "code",
      "execution_count": 229,
      "metadata": {},
      "outputs": [
        {
          "name": "stderr",
          "output_type": "stream",
          "text": [
            "100%|██████████| 4524/4524 [00:03<00:00, 1493.30it/s]\n",
            "/var/folders/yr/s6gbqy0s2kd5cn1_s40p4b2w0000gn/T/ipykernel_14183/1635099116.py:18: FutureWarning: The frame.append method is deprecated and will be removed from pandas in a future version. Use pandas.concat instead.\n",
            "  df_new=shuffle(df_train.append(new).reset_index(drop=True))\n"
          ]
        }
      ],
      "source": [
        "# augment the unhelpful data\n",
        "Train_df = augment_text(Train_df,unhelpful_reviews,4524)"
      ]
    },
    {
      "cell_type": "code",
      "execution_count": 230,
      "metadata": {},
      "outputs": [
        {
          "data": {
            "text/html": [
              "<div>\n",
              "<style scoped>\n",
              "    .dataframe tbody tr th:only-of-type {\n",
              "        vertical-align: middle;\n",
              "    }\n",
              "\n",
              "    .dataframe tbody tr th {\n",
              "        vertical-align: top;\n",
              "    }\n",
              "\n",
              "    .dataframe thead th {\n",
              "        text-align: right;\n",
              "    }\n",
              "</style>\n",
              "<table border=\"1\" class=\"dataframe\">\n",
              "  <thead>\n",
              "    <tr style=\"text-align: right;\">\n",
              "      <th></th>\n",
              "      <th>imdb_user_review</th>\n",
              "    </tr>\n",
              "    <tr>\n",
              "      <th>helpfulness_cat</th>\n",
              "      <th></th>\n",
              "    </tr>\n",
              "  </thead>\n",
              "  <tbody>\n",
              "    <tr>\n",
              "      <th>0.0</th>\n",
              "      <td>6564</td>\n",
              "    </tr>\n",
              "    <tr>\n",
              "      <th>1.0</th>\n",
              "      <td>6564</td>\n",
              "    </tr>\n",
              "  </tbody>\n",
              "</table>\n",
              "</div>"
            ],
            "text/plain": [
              "                 imdb_user_review\n",
              "helpfulness_cat                  \n",
              "0.0                          6564\n",
              "1.0                          6564"
            ]
          },
          "execution_count": 230,
          "metadata": {},
          "output_type": "execute_result"
        }
      ],
      "source": [
        "# Train_df has equal helpful/unhelpful\n",
        "Train_df.groupby('helpfulness_cat').count()"
      ]
    },
    {
      "cell_type": "code",
      "execution_count": 231,
      "metadata": {
        "id": "0A7YSyn4Migu"
      },
      "outputs": [],
      "source": [
        "# split the training_df into train and test\n",
        "X_train_bow = Train_df.drop(['helpfulness_cat'], axis=1)\n",
        "y_train_bow = Train_df.loc[:, 'helpfulness_cat']\n",
        "X_test_bow = Valid_df.drop(['helpfulness_cat'], axis=1)\n",
        "y_test_bow = Valid_df.loc[:, 'helpfulness_cat']"
      ]
    },
    {
      "cell_type": "code",
      "execution_count": 232,
      "metadata": {
        "id": "_pWsbTZjMigv",
        "outputId": "3b22fc06-34af-436b-cde9-f8b2b1f13c77"
      },
      "outputs": [
        {
          "name": "stdout",
          "output_type": "stream",
          "text": [
            "Pipeline after: [('tok2vec', <spacy.pipeline.tok2vec.Tok2Vec object at 0x7fad2b512580>), ('parser', <spacy.pipeline.dep_parser.DependencyParser object at 0x7fabd1d9d820>), ('lemmatizer', <spacy.lang.en.lemmatizer.EnglishLemmatizer object at 0x7fab52b88880>), ('ner', <spacy.pipeline.ner.EntityRecognizer object at 0x7faba0b10200>)]\n"
          ]
        }
      ],
      "source": [
        "# initialise a pipeline\n",
        "nlp = spacy.load(\"en_core_web_lg\")\n",
        "\n",
        "# Disabling components in the nlp pipeline to speed up pre-processing\n",
        "nlp.disable_pipes('tagger','attribute_ruler')\n",
        "print('Pipeline after:', nlp.pipeline)"
      ]
    },
    {
      "cell_type": "code",
      "execution_count": 233,
      "metadata": {
        "id": "G9E1AOS5Migv",
        "outputId": "109d2ed7-87b6-4ad7-d6f1-72f003800f68"
      },
      "outputs": [
        {
          "name": "stderr",
          "output_type": "stream",
          "text": [
            "/opt/anaconda3/envs/newfiat/lib/python3.9/site-packages/spacy/pipeline/lemmatizer.py:211: UserWarning: [W108] The rule-based lemmatizer did not find POS annotation for one or more tokens. Check that your pipeline includes components that assign token.pos, typically 'tagger'+'attribute_ruler' or 'morphologizer'.\n",
            "  warnings.warn(Warnings.W108)\n"
          ]
        }
      ],
      "source": [
        "# Step 1: Tokenize the words in each moview review\n",
        "docs_tokens_train, docs_tokens_test = [], []\n",
        "# train set\n",
        "for item in X_train_bow[\"imdb_user_review\"]:\n",
        "    tmp_tokens = [\n",
        "        token.lemma_\n",
        "        for token in nlp(item)\n",
        "        if not token.is_stop and not token.is_punct and token.is_alpha\n",
        "    ]\n",
        "    docs_tokens_train.append(tmp_tokens)\n",
        "    del tmp_tokens\n",
        "\n",
        "# test set\n",
        "for item in X_test_bow[\"imdb_user_review\"]:\n",
        "    tmp_tokens = [\n",
        "        token.lemma_\n",
        "        for token in nlp(item)\n",
        "        if not token.is_stop and not token.is_punct and token.is_alpha\n",
        "    ]\n",
        "    docs_tokens_test.append(tmp_tokens)\n",
        "    del tmp_tokens"
      ]
    },
    {
      "cell_type": "code",
      "execution_count": 234,
      "metadata": {
        "id": "E-S2uZp9Migw"
      },
      "outputs": [],
      "source": [
        "# Step 2: building a dictionary collection where the keys are tokenized words \n",
        "# the larger the number, the lower the word frequency \n",
        "# The dictionary key-value pairs are also written to a text file named vocab_file.txt \n",
        "# so they can be used later by an NLP system.\n",
        "def make_vocab(document_tokens,output_file):\n",
        "    word_freq_dict = {}   # key = word, value = frequency\n",
        "\n",
        "    for i in range(len(document_tokens)):\n",
        "        reviews = document_tokens[i]\n",
        "        for review in reviews:\n",
        "            if review in word_freq_dict:\n",
        "                word_freq_dict[review] += 1\n",
        "            else:\n",
        "                word_freq_dict[review] = 1\n",
        "\n",
        "    kv_list = []  # list of word-freq tuples so can sort\n",
        "    for (k,v) in word_freq_dict.items():\n",
        "        kv_list.append((k,v))\n",
        "    \n",
        "        # list of tuples index is 0-based rank, val is (word,freq)\n",
        "    sorted_kv_list = \\\n",
        "        sorted(kv_list, key=lambda x: x[1], \\\n",
        "            reverse=True)  # sort by freq\n",
        "\n",
        "    f = open(output_file, \"w\", encoding=\"utf8\")\n",
        "    vocab_dict = {}  \n",
        "            # key = word, value = 1-based rank \n",
        "            # ('the' = 1, 'a' = 2, etc.)\n",
        "    for i in range(len(sorted_kv_list)):  # filter here . . \n",
        "        w = sorted_kv_list[i][0]  # word is at [0]\n",
        "        vocab_dict[w] = i+1       # 1-based as in Keras dataset\n",
        "        f.write(w + \" \" + str(i+1) + \"\\n\")  # save word-space-index\n",
        "    f.close()"
      ]
    },
    {
      "cell_type": "code",
      "execution_count": 235,
      "metadata": {},
      "outputs": [],
      "source": [
        "# apply make_vocab function on train and test sets\n",
        "make_vocab(docs_tokens_train,\".\\\\vocab_file_train.txt\")\n",
        "make_vocab(docs_tokens_test,\".\\\\vocab_file_test.txt\")\n",
        "\n",
        "# read vocab file - train \n",
        "vocab_dict_train = {}\n",
        "with open(\".\\\\vocab_file_train.txt\") as f:\n",
        "    for line in f:\n",
        "       (key, val) = line.split()\n",
        "       vocab_dict_train[str(key)] = int(val)\n",
        "\n",
        "# read vocab file - test\n",
        "vocab_dict_test = {}\n",
        "with open(\".\\\\vocab_file_test.txt\") as f:\n",
        "    for line in f:\n",
        "       (key, val) = line.split()\n",
        "       vocab_dict_test[str(key)] = int(val)"
      ]
    },
    {
      "cell_type": "code",
      "execution_count": 236,
      "metadata": {},
      "outputs": [],
      "source": [
        "# Step 3: assigning id to each words/tokens in each review based on vocab_dict\n",
        "def generate_file(reviews_lists, outpt_file, vocab_dict, max_review_len):\n",
        "\n",
        "  # write first time, append later.\n",
        "  fout = open(outpt_file, \"w\", encoding=\"utf8\")  \n",
        "  offset = 3  # Keras offset: 'the' = 1 (most frequent) 1+3 = 4\n",
        "      \n",
        "  for i in range(len(reviews_lists)):  # walk each review-list\n",
        "    curr_review = reviews_lists[i]\n",
        "    n_words = len(curr_review)     \n",
        "    if n_words > max_review_len: # 1960 is our maximum words in the document\n",
        "      continue  # next i, continue without writing anything\n",
        "\n",
        "    n_pad = max_review_len - n_words   # number of 0s to prepend.  \n",
        "\n",
        "    for j in range(n_pad):\n",
        "      fout.write(\"0 \")\n",
        "    \n",
        "    for word in curr_review: \n",
        "      # a word in test set might not have been in train set     \n",
        "      if word not in vocab_dict:  \n",
        "        fout.write(\"2 \")   # 2 is the special out-of-vocab index        \n",
        "      else:\n",
        "        idx = vocab_dict[word] + offset\n",
        "        fout.write(\"%d \" % idx)\n",
        "    \n",
        "    fout.write(\"\\n\") \n",
        "        \n",
        "  fout.close()"
      ]
    },
    {
      "cell_type": "code",
      "execution_count": 237,
      "metadata": {},
      "outputs": [],
      "source": [
        "## apply generate file\n",
        "# train list\n",
        "review_list_train = X_train_bow[\"imdb_user_review\"].to_list()\n",
        "generate_file(review_list_train,\".\\imdb_id_train.txt\",vocab_dict_train,1960)\n",
        "\n",
        "# test list\n",
        "review_list_test = X_test_bow[\"imdb_user_review\"].to_list()\n",
        "generate_file(review_list_test,\".\\imdb_id_test.txt\",vocab_dict_test,1960)\n"
      ]
    },
    {
      "cell_type": "code",
      "execution_count": 238,
      "metadata": {},
      "outputs": [],
      "source": [
        "## train\n",
        "# read file\n",
        "with open('.\\\\imdb_id_train.txt') as f:\n",
        "    id_array_train = f.readlines()\n",
        "\n",
        "# covert to array\n",
        "train_list = []\n",
        "for i in range(len(id_array_train)):\n",
        "    tmp = np.array(id_array_train[i].split())\n",
        "    train_list.append(tmp)\n",
        "id_array_train_new = np.array(train_list,dtype=float)\n",
        "\n",
        "## test\n",
        "# read file\n",
        "with open('.\\\\imdb_id_test.txt') as f:\n",
        "    id_array_test = f.readlines()\n",
        "\n",
        "# covert to array\n",
        "test_list = []\n",
        "for i in range(len(id_array_test)):\n",
        "    tmp = np.array(id_array_test[i].split())\n",
        "    test_list.append(tmp)\n",
        "id_array_test_new = np.array(test_list,dtype=float)"
      ]
    },
    {
      "cell_type": "code",
      "execution_count": 239,
      "metadata": {},
      "outputs": [],
      "source": [
        "import numpy as np\n",
        "import torch as T\n",
        "device = T.device('cpu')"
      ]
    },
    {
      "cell_type": "code",
      "execution_count": 244,
      "metadata": {},
      "outputs": [],
      "source": [
        "# LSTM ---------------------------------------\n",
        "class LSTM_Net(T.nn.Module):\n",
        "  def __init__(self):\n",
        "    # vocab_size = 54655\n",
        "    super(LSTM_Net, self).__init__()\n",
        "    self.embed = T.nn.Embedding(63461, 32) \n",
        "    self.lstm = T.nn.LSTM(32, 100)\n",
        "    self.fc1 = T.nn.Linear(100, 2)  # 0=unhelpful, 1=helpful\n",
        " \n",
        "  def forward(self, x):\n",
        "    # x = review/sentence. length = fixed w/ padding\n",
        "    z = self.embed(x)  # x can be arbitrary shape - not\n",
        "    z = z.reshape(1960, -1, 32)  # seq bat embed\n",
        "    lstm_oupt, (h_n, c_n) = self.lstm(z)\n",
        "    z = lstm_oupt[-1]  # or use h_n. [1,100]\n",
        "    z = T.log_softmax(self.fc1(z), dim=1)  # NLLLoss()\n",
        "    return z \n",
        "\n",
        "# IMBD Dataset --------------------------------\n",
        "class IMDB_Dataset(T.utils.data.Dataset):\n",
        "  def __init__(self, id_array,y_train):\n",
        "    self.x_data = T.tensor(id_array, dtype=T.int64) \n",
        "    self.y_data = T.tensor(y_train.to_list(), dtype=T.int64) \n",
        "\n",
        "  def __len__(self):\n",
        "    return len(self.x_data)\n",
        "\n",
        "  def __getitem__(self, idx):\n",
        "    tokens = self.x_data[idx]\n",
        "    trgts = self.y_data[idx] \n",
        "    return (tokens, trgts)\n",
        "\n",
        "# accuracy ------------------------------------\n",
        "def accuracy(model, dataset):\n",
        "  # data_x and data_y are lists of tensors\n",
        "  # assumes model.eval()\n",
        "  num_correct = 0; num_wrong = 0\n",
        "  ldr = T.utils.data.DataLoader(dataset,\n",
        "    batch_size=1, shuffle=False)\n",
        "  for (batch_idx, batch) in enumerate(ldr):\n",
        "    X = batch[0]  # inputs\n",
        "    Y = batch[1]  # target sentiment label\n",
        "    with T.no_grad():\n",
        "      oupt = model(X)  # log-probs\n",
        "   \n",
        "    idx = T.argmax(oupt.data)\n",
        "    if idx == Y:  # predicted == target\n",
        "      num_correct += 1\n",
        "    else:\n",
        "      num_wrong += 1\n",
        "  acc = (num_correct * 100.0) / (num_correct + num_wrong)\n",
        "  return acc"
      ]
    },
    {
      "cell_type": "code",
      "execution_count": 245,
      "metadata": {},
      "outputs": [
        {
          "name": "stdout",
          "output_type": "stream",
          "text": [
            "\n",
            "Loading preprocessed train and test data \n",
            "Num train = 12392 Num test = 1991 \n"
          ]
        },
        {
          "name": "stderr",
          "output_type": "stream",
          "text": [
            "/var/folders/yr/s6gbqy0s2kd5cn1_s40p4b2w0000gn/T/ipykernel_14183/5858559.py:23: DeprecationWarning: an integer is required (got type float).  Implicit conversion to integers using __int__ is deprecated, and may be removed in a future version of Python.\n",
            "  self.y_data = T.tensor(y_train.to_list(), dtype=T.int64)\n"
          ]
        }
      ],
      "source": [
        "# 1. load data\n",
        "print(\"\\nLoading preprocessed train and test data \")\n",
        "train_bow_ds = IMDB_Dataset(id_array_train_new,y_train_bow)\n",
        "test_bow_ds = IMDB_Dataset(id_array_test_new,y_test_bow)\n",
        "\n",
        "bat_size = 8\n",
        "train_ldr = T.utils.data.DataLoader(train_bow_ds, batch_size=bat_size, shuffle=True, drop_last=True)\n",
        "test_ldr = T.utils.data.DataLoader(test_bow_ds, batch_size=bat_size, shuffle=True, drop_last=True)\n",
        "n_train = len(train_bow_ds)\n",
        "n_test = len(test_bow_ds)\n",
        "print(\"Num train = %d Num test = %d \" % (n_train, n_test))"
      ]
    },
    {
      "cell_type": "code",
      "execution_count": 246,
      "metadata": {},
      "outputs": [],
      "source": [
        "# 2. create network\n",
        "net = LSTM_Net().to(device)"
      ]
    },
    {
      "cell_type": "code",
      "execution_count": null,
      "metadata": {},
      "outputs": [],
      "source": [
        "# 3. train model\n",
        "loss_func = T.nn.NLLLoss()  # log-softmax() activation\n",
        "optimizer = T.optim.Adam(net.parameters(), lr=1.0e-2)\n",
        "max_epochs = 2\n",
        "log_interval = 2  # display progress\n",
        "\n",
        "print(\"\\nbatch size = \" + str(bat_size))\n",
        "print(\"loss func = \" + str(loss_func))\n",
        "print(\"optimizer = Adam \")\n",
        "print(\"learn rate = 0.001 \")\n",
        "print(\"max_epochs = %d \" % max_epochs)\n",
        "\n",
        "net.train()  # set training mode\n",
        "for epoch in range(0, max_epochs):\n",
        "    tot_err = 0.0  # for one epoch\n",
        "    for (batch_idx, batch) in enumerate(train_ldr):\n",
        "      X = T.transpose(batch[0], 0, 1)\n",
        "      Y = batch[1]\n",
        "      optimizer.zero_grad()\n",
        "      oupt = net(X)\n",
        "\n",
        "      loss_val = loss_func(oupt, Y) \n",
        "      tot_err += loss_val.item() \n",
        "      loss_val.backward()  # com`pute gradients\n",
        "      optimizer.step()     # update weights\n",
        "  \n",
        "    if epoch % log_interval == 0:\n",
        "      print(\"epoch = %4d  |\" % epoch, end=\"\")\n",
        "      print(\"   loss = %10.4f  |\" % tot_err, end=\"\")\n",
        "\n",
        "      net.eval()\n",
        "      train_acc = accuracy(net, train_bow_ds)\n",
        "      print(\"  accuracy = %8.2f%%\" % train_acc)\n",
        "      net.train()\n"
      ]
    },
    {
      "cell_type": "code",
      "execution_count": null,
      "metadata": {},
      "outputs": [
        {
          "name": "stdout",
          "output_type": "stream",
          "text": [
            "\n",
            "Accuracy on test data =    25.87%\n"
          ]
        }
      ],
      "source": [
        "# 4. evaluate model\n",
        "net.eval()\n",
        "test_acc = accuracy(net, test_bow_ds)\n",
        "print(\"\\nAccuracy on test data = %8.2f%%\" % test_acc)\n"
      ]
    },
    {
      "cell_type": "code",
      "execution_count": null,
      "metadata": {},
      "outputs": [
        {
          "name": "stdout",
          "output_type": "stream",
          "text": [
            "\n",
            "Saving trained model state\n"
          ]
        }
      ],
      "source": [
        "# 5. save model\n",
        "print(\"\\nSaving trained model state\")\n",
        "fn = \".\\\\Models\\\\bow_model.pt\"\n",
        "T.save(net.state_dict(), fn)"
      ]
    },
    {
      "cell_type": "code",
      "execution_count": null,
      "metadata": {},
      "outputs": [],
      "source": [
        "import torch as T\n",
        "device = T.device('cpu')\n"
      ]
    },
    {
      "cell_type": "code",
      "execution_count": 67,
      "metadata": {},
      "outputs": [
        {
          "data": {
            "text/plain": [
              "<All keys matched successfully>"
            ]
          },
          "execution_count": 67,
          "metadata": {},
          "output_type": "execute_result"
        }
      ],
      "source": [
        "# use saved model\n",
        "net =   LSTM_Net().to(device)\n",
        "saved_model = net\n",
        "saved_model.load_state_dict(T.load(\".\\\\Models\\\\bow_model.pt\"))\n",
        "\n",
        "  # use saved_model to make prediction(s)\n"
      ]
    },
    {
      "cell_type": "code",
      "execution_count": 84,
      "metadata": {},
      "outputs": [
        {
          "name": "stderr",
          "output_type": "stream",
          "text": [
            "/opt/anaconda3/envs/newfiat/lib/python3.9/site-packages/spacy/pipeline/lemmatizer.py:211: UserWarning: [W108] The rule-based lemmatizer did not find POS annotation for one or more tokens. Check that your pipeline includes components that assign token.pos, typically 'tagger'+'attribute_ruler' or 'morphologizer'.\n",
            "  warnings.warn(Warnings.W108)\n"
          ]
        }
      ],
      "source": [
        "# 6. test results on Valid_df (unaugmented dataset)\n",
        "# pre-process Valid_df\n",
        " \n",
        "# tokenise the review\n",
        "docs_tokens_valid = []\n",
        "# train set\n",
        "for item in Valid_df[\"imdb_user_review\"]:\n",
        "    tmp_tokens = [\n",
        "        token.lemma_\n",
        "        for token in nlp(item)\n",
        "        if not token.is_stop and not token.is_punct and token.is_alpha\n",
        "    ]\n",
        "    docs_tokens_valid.append(tmp_tokens)\n",
        "    del tmp_tokens"
      ]
    },
    {
      "cell_type": "code",
      "execution_count": 85,
      "metadata": {},
      "outputs": [],
      "source": [
        "# step 2: make vocab file\n",
        "make_vocab(docs_tokens_valid,\".\\\\vocab_file_valid.txt\")\n",
        "\n",
        "# read vocab file - valid\n",
        "vocab_dict_valid = {}\n",
        "with open(\".\\\\vocab_file_valid.txt\") as f:\n",
        "    for line in f:\n",
        "       (key, val) = line.split()\n",
        "       vocab_dict_valid[str(key)] = int(val)\n",
        "\n",
        "# step 3: generate id file \n",
        "review_list_valid = Valid_df[\"imdb_user_review\"].to_list()\n",
        "generate_file(review_list_valid,\".\\imdb_id_valid.txt\",vocab_dict_valid,1960)\n"
      ]
    },
    {
      "cell_type": "code",
      "execution_count": 206,
      "metadata": {},
      "outputs": [],
      "source": [
        "# read file\n",
        "with open('.\\\\imdb_id_valid.txt') as f:\n",
        "    id_array_valid = f.readlines()\n",
        "\n",
        "# convert to array\n",
        "valid_list = []\n",
        "for i in range(len(id_array_valid )):\n",
        "    tmp = np.array(id_array_valid[i].split())\n",
        "    valid_list.append(tmp)\n",
        "id_array_valid_new = np.array(valid_list,dtype=float)"
      ]
    },
    {
      "cell_type": "code",
      "execution_count": 88,
      "metadata": {},
      "outputs": [
        {
          "name": "stdout",
          "output_type": "stream",
          "text": [
            "\n",
            "Loading preprocessed train and test data \n",
            "Num valid = 1991 \n"
          ]
        },
        {
          "name": "stderr",
          "output_type": "stream",
          "text": [
            "/var/folders/yr/s6gbqy0s2kd5cn1_s40p4b2w0000gn/T/ipykernel_14183/1238727767.py:23: DeprecationWarning: an integer is required (got type float).  Implicit conversion to integers using __int__ is deprecated, and may be removed in a future version of Python.\n",
            "  self.y_data = T.tensor(y_train.to_list(), dtype=T.int64)\n"
          ]
        }
      ],
      "source": [
        "# get label from Valid_df (unaugmented dataset)\n",
        "y_valid = Valid_df[\"helpfulness_cat\"]\n",
        "# load pre-processed data\n",
        "print(\"\\nLoading preprocessed train and test data \")\n",
        "valid_bow_ds = IMDB_Dataset(id_array_valid_new,y_valid)\n",
        "\n",
        "bat_size = 8\n",
        "valid_ldr = T.utils.data.DataLoader(valid_bow_ds, batch_size=bat_size, shuffle=True, drop_last=True)\n",
        "n_valid = len(valid_bow_ds)\n",
        "print(\"Num valid = %d \" % (n_valid))"
      ]
    },
    {
      "cell_type": "code",
      "execution_count": 89,
      "metadata": {},
      "outputs": [],
      "source": [
        "bat_size = 8\n",
        "valid_ldr = T.utils.data.DataLoader(valid_bow_ds, batch_size=bat_size, shuffle=True, drop_last=True)"
      ]
    },
    {
      "cell_type": "code",
      "execution_count": 205,
      "metadata": {},
      "outputs": [
        {
          "name": "stderr",
          "output_type": "stream",
          "text": [
            "/var/folders/yr/s6gbqy0s2kd5cn1_s40p4b2w0000gn/T/ipykernel_14183/2103464352.py:6: UserWarning: To copy construct from a tensor, it is recommended to use sourceTensor.clone().detach() or sourceTensor.clone().detach().requires_grad_(True), rather than torch.tensor(sourceTensor).\n",
            "  X = T.tensor(batch[0],dtype=T.int64).to(device)\n"
          ]
        }
      ],
      "source": [
        "bat_size = 8\n",
        "valid_ldr = T.utils.data.DataLoader(valid_bow_ds, batch_size=bat_size, shuffle=True, drop_last=True)\n",
        "test_x = []\n",
        "test_y = []\n",
        "for (batch_idx, batch) in enumerate(valid_ldr):\n",
        "      X = T.tensor(batch[0],dtype=T.int64).to(device)\n",
        "      Y = batch[1]\n",
        "      optimizer.zero_grad()\n",
        "      test_x.append(X)\n",
        "      test_y.append(Y)\n",
        "\n",
        "pred_result = []\n",
        "for i in range(len(test_x)):\n",
        "      pred = net(test_x[i]) # raw-output\n",
        "      prob = T.exp(pred) # pseud-probs\n",
        "      pred_result.append(prob)\n",
        "# get the pred_valid results\n",
        "pred_valid = []\n",
        "for i in range(len(pred_result)):\n",
        "    tmp1 = T.as_tensor((pred_result[i] - 0.5) > 0, dtype=T.int32)\n",
        "    tmp2 = tmp1.numpy()\n",
        "    pred = [np.argmax(i) for i in tmp2]\n",
        "    pred_valid.append(pred)"
      ]
    },
    {
      "cell_type": "code",
      "execution_count": 170,
      "metadata": {},
      "outputs": [
        {
          "data": {
            "text/plain": [
              "(248, 8)"
            ]
          },
          "execution_count": 170,
          "metadata": {},
          "output_type": "execute_result"
        }
      ],
      "source": [
        "# convert test_y to an array\n",
        "true_valid = []\n",
        "for i in range(len(test_y)):\n",
        "    tmp = np.array(test_y[i])\n",
        "    true_valid.append(tmp)\n",
        "true_y = np.array(true_valid,dtype=float)\n",
        "true_y.shape"
      ]
    },
    {
      "cell_type": "markdown",
      "metadata": {},
      "source": [
        "Select the best classication report among the 8 batches:"
      ]
    },
    {
      "cell_type": "code",
      "execution_count": 203,
      "metadata": {},
      "outputs": [
        {
          "name": "stdout",
          "output_type": "stream",
          "text": [
            "Classification report for batch 7:\n",
            "              precision    recall  f1-score   support\n",
            "\n",
            "         0.0       0.24      0.46      0.31        59\n",
            "         1.0       0.76      0.54      0.64       189\n",
            "\n",
            "    accuracy                           0.52       248\n",
            "   macro avg       0.50      0.50      0.47       248\n",
            "weighted avg       0.64      0.52      0.56       248\n",
            "\n"
          ]
        }
      ],
      "source": [
        "# batch 7 is the best among the 8 batches\n",
        "pred_batch7 = [item[6] for item in pred_valid]\n",
        "true_Y7= [item[6] for item in true_y]\n",
        "print(\"Classification report for batch 7:\")\n",
        "print(classification_report(true_Y7,pred_batch7))"
      ]
    },
    {
      "cell_type": "code",
      "execution_count": 252,
      "metadata": {},
      "outputs": [],
      "source": [
        "# create a dataframe to use in other models\n",
        "bow_df = pd.DataFrame(id_array_train_new) \n",
        "bow_df.to_csv(\"bow.csv\")"
      ]
    },
    {
      "cell_type": "markdown",
      "metadata": {
        "id": "7ZdE5-xRMigw"
      },
      "source": [
        "### sentiment + naive bayesian classifier"
      ]
    },
    {
      "cell_type": "code",
      "execution_count": null,
      "metadata": {
        "id": "JiEFb4WDMigw",
        "outputId": "ac368f56-4666-437a-c1af-2e9f76dad27e"
      },
      "outputs": [
        {
          "data": {
            "text/html": [
              "<div>\n",
              "<style scoped>\n",
              "    .dataframe tbody tr th:only-of-type {\n",
              "        vertical-align: middle;\n",
              "    }\n",
              "\n",
              "    .dataframe tbody tr th {\n",
              "        vertical-align: top;\n",
              "    }\n",
              "\n",
              "    .dataframe thead th {\n",
              "        text-align: right;\n",
              "    }\n",
              "</style>\n",
              "<table border=\"1\" class=\"dataframe\">\n",
              "  <thead>\n",
              "    <tr style=\"text-align: right;\">\n",
              "      <th></th>\n",
              "      <th>helpfulness_cat</th>\n",
              "      <th>imdb_user_review</th>\n",
              "      <th>neg</th>\n",
              "      <th>neu</th>\n",
              "      <th>pos</th>\n",
              "    </tr>\n",
              "  </thead>\n",
              "  <tbody>\n",
              "    <tr>\n",
              "      <th>0</th>\n",
              "      <td>1.0</td>\n",
              "      <td>it is hard to find such delightful and adorabl...</td>\n",
              "      <td>0.072</td>\n",
              "      <td>0.540</td>\n",
              "      <td>0.387</td>\n",
              "    </tr>\n",
              "    <tr>\n",
              "      <th>1</th>\n",
              "      <td>1.0</td>\n",
              "      <td>they don t make films like this faded, hauntin...</td>\n",
              "      <td>0.081</td>\n",
              "      <td>0.854</td>\n",
              "      <td>0.065</td>\n",
              "    </tr>\n",
              "    <tr>\n",
              "      <th>2</th>\n",
              "      <td>1.0</td>\n",
              "      <td>i first viewed this movie in 1924 at age 6 yrs...</td>\n",
              "      <td>0.045</td>\n",
              "      <td>0.749</td>\n",
              "      <td>0.206</td>\n",
              "    </tr>\n",
              "    <tr>\n",
              "      <th>3</th>\n",
              "      <td>1.0</td>\n",
              "      <td>i doubt that i d ever seen anything resembling...</td>\n",
              "      <td>0.116</td>\n",
              "      <td>0.748</td>\n",
              "      <td>0.135</td>\n",
              "    </tr>\n",
              "    <tr>\n",
              "      <th>4</th>\n",
              "      <td>1.0</td>\n",
              "      <td>i was shocked to find myself riveted to this m...</td>\n",
              "      <td>0.058</td>\n",
              "      <td>0.797</td>\n",
              "      <td>0.145</td>\n",
              "    </tr>\n",
              "  </tbody>\n",
              "</table>\n",
              "</div>"
            ],
            "text/plain": [
              "   helpfulness_cat                                   imdb_user_review    neg  \\\n",
              "0              1.0  it is hard to find such delightful and adorabl...  0.072   \n",
              "1              1.0  they don t make films like this faded, hauntin...  0.081   \n",
              "2              1.0  i first viewed this movie in 1924 at age 6 yrs...  0.045   \n",
              "3              1.0  i doubt that i d ever seen anything resembling...  0.116   \n",
              "4              1.0  i was shocked to find myself riveted to this m...  0.058   \n",
              "\n",
              "     neu    pos  \n",
              "0  0.540  0.387  \n",
              "1  0.854  0.065  \n",
              "2  0.749  0.206  \n",
              "3  0.748  0.135  \n",
              "4  0.797  0.145  "
            ]
          },
          "execution_count": 29,
          "metadata": {},
          "output_type": "execute_result"
        }
      ],
      "source": [
        "# read the data into a pandas dataframe\n",
        "train_sent = pd.read_csv('train_pos_neg_sentiment_score.csv')\n",
        "train_sent.head()"
      ]
    },
    {
      "cell_type": "code",
      "execution_count": null,
      "metadata": {
        "id": "u6Aah2QhMigx",
        "outputId": "c21a0f1f-fc10-4246-ee87-ab170706bc15"
      },
      "outputs": [
        {
          "data": {
            "text/html": [
              "<div>\n",
              "<style scoped>\n",
              "    .dataframe tbody tr th:only-of-type {\n",
              "        vertical-align: middle;\n",
              "    }\n",
              "\n",
              "    .dataframe tbody tr th {\n",
              "        vertical-align: top;\n",
              "    }\n",
              "\n",
              "    .dataframe thead th {\n",
              "        text-align: right;\n",
              "    }\n",
              "</style>\n",
              "<table border=\"1\" class=\"dataframe\">\n",
              "  <thead>\n",
              "    <tr style=\"text-align: right;\">\n",
              "      <th></th>\n",
              "      <th>helpfulness_cat</th>\n",
              "      <th>imdb_user_review</th>\n",
              "      <th>neg</th>\n",
              "      <th>neu</th>\n",
              "      <th>pos</th>\n",
              "      <th>CONTRADITON</th>\n",
              "      <th>ENTAILMENT</th>\n",
              "      <th>Subjective</th>\n",
              "    </tr>\n",
              "  </thead>\n",
              "  <tbody>\n",
              "    <tr>\n",
              "      <th>0</th>\n",
              "      <td>1.0</td>\n",
              "      <td>it is hard to find such delightful and adorabl...</td>\n",
              "      <td>0.072</td>\n",
              "      <td>0.540</td>\n",
              "      <td>0.387</td>\n",
              "      <td>0.301088</td>\n",
              "      <td>0.028153</td>\n",
              "      <td>0.637457</td>\n",
              "    </tr>\n",
              "    <tr>\n",
              "      <th>1</th>\n",
              "      <td>1.0</td>\n",
              "      <td>they don t make films like this faded, hauntin...</td>\n",
              "      <td>0.081</td>\n",
              "      <td>0.854</td>\n",
              "      <td>0.065</td>\n",
              "      <td>0.031557</td>\n",
              "      <td>0.009301</td>\n",
              "      <td>0.376882</td>\n",
              "    </tr>\n",
              "    <tr>\n",
              "      <th>2</th>\n",
              "      <td>1.0</td>\n",
              "      <td>i first viewed this movie in 1924 at age 6 yrs...</td>\n",
              "      <td>0.045</td>\n",
              "      <td>0.749</td>\n",
              "      <td>0.206</td>\n",
              "      <td>0.000880</td>\n",
              "      <td>0.004172</td>\n",
              "      <td>0.601871</td>\n",
              "    </tr>\n",
              "    <tr>\n",
              "      <th>3</th>\n",
              "      <td>1.0</td>\n",
              "      <td>i doubt that i d ever seen anything resembling...</td>\n",
              "      <td>0.116</td>\n",
              "      <td>0.748</td>\n",
              "      <td>0.135</td>\n",
              "      <td>0.441404</td>\n",
              "      <td>0.012929</td>\n",
              "      <td>0.588847</td>\n",
              "    </tr>\n",
              "    <tr>\n",
              "      <th>4</th>\n",
              "      <td>1.0</td>\n",
              "      <td>i was shocked to find myself riveted to this m...</td>\n",
              "      <td>0.058</td>\n",
              "      <td>0.797</td>\n",
              "      <td>0.145</td>\n",
              "      <td>0.083177</td>\n",
              "      <td>0.030290</td>\n",
              "      <td>0.409792</td>\n",
              "    </tr>\n",
              "  </tbody>\n",
              "</table>\n",
              "</div>"
            ],
            "text/plain": [
              "   helpfulness_cat                                   imdb_user_review    neg  \\\n",
              "0              1.0  it is hard to find such delightful and adorabl...  0.072   \n",
              "1              1.0  they don t make films like this faded, hauntin...  0.081   \n",
              "2              1.0  i first viewed this movie in 1924 at age 6 yrs...  0.045   \n",
              "3              1.0  i doubt that i d ever seen anything resembling...  0.116   \n",
              "4              1.0  i was shocked to find myself riveted to this m...  0.058   \n",
              "\n",
              "     neu    pos  CONTRADITON  ENTAILMENT  Subjective  \n",
              "0  0.540  0.387     0.301088    0.028153    0.637457  \n",
              "1  0.854  0.065     0.031557    0.009301    0.376882  \n",
              "2  0.749  0.206     0.000880    0.004172    0.601871  \n",
              "3  0.748  0.135     0.441404    0.012929    0.588847  \n",
              "4  0.797  0.145     0.083177    0.030290    0.409792  "
            ]
          },
          "execution_count": 160,
          "metadata": {},
          "output_type": "execute_result"
        }
      ],
      "source": [
        "# combine two sentiment model into one data frame\n",
        "train_sent['CONTRADITON'] = train_sentiment['CONTRADICTION']\n",
        "train_sent['ENTAILMENT'] = train_sentiment['ENTAILMENT']\n",
        "train_sent['Subjective'] = train['subjective_score']\n",
        "train_sent.head()"
      ]
    },
    {
      "cell_type": "code",
      "execution_count": null,
      "metadata": {
        "id": "63dIlMIrMigx",
        "outputId": "5d07b239-4cdf-44f2-bb0b-ffa6c91d15c7"
      },
      "outputs": [
        {
          "data": {
            "text/html": [
              "<div>\n",
              "<style scoped>\n",
              "    .dataframe tbody tr th:only-of-type {\n",
              "        vertical-align: middle;\n",
              "    }\n",
              "\n",
              "    .dataframe tbody tr th {\n",
              "        vertical-align: top;\n",
              "    }\n",
              "\n",
              "    .dataframe thead th {\n",
              "        text-align: right;\n",
              "    }\n",
              "</style>\n",
              "<table border=\"1\" class=\"dataframe\">\n",
              "  <thead>\n",
              "    <tr style=\"text-align: right;\">\n",
              "      <th></th>\n",
              "      <th>helpfulness_cat</th>\n",
              "      <th>neg</th>\n",
              "      <th>pos</th>\n",
              "      <th>CONTRADITON</th>\n",
              "      <th>ENTAILMENT</th>\n",
              "      <th>Subjective</th>\n",
              "    </tr>\n",
              "  </thead>\n",
              "  <tbody>\n",
              "    <tr>\n",
              "      <th>0</th>\n",
              "      <td>1.0</td>\n",
              "      <td>0.072</td>\n",
              "      <td>0.387</td>\n",
              "      <td>0.301088</td>\n",
              "      <td>0.028153</td>\n",
              "      <td>0.637457</td>\n",
              "    </tr>\n",
              "    <tr>\n",
              "      <th>1</th>\n",
              "      <td>1.0</td>\n",
              "      <td>0.081</td>\n",
              "      <td>0.065</td>\n",
              "      <td>0.031557</td>\n",
              "      <td>0.009301</td>\n",
              "      <td>0.376882</td>\n",
              "    </tr>\n",
              "    <tr>\n",
              "      <th>2</th>\n",
              "      <td>1.0</td>\n",
              "      <td>0.045</td>\n",
              "      <td>0.206</td>\n",
              "      <td>0.000880</td>\n",
              "      <td>0.004172</td>\n",
              "      <td>0.601871</td>\n",
              "    </tr>\n",
              "    <tr>\n",
              "      <th>3</th>\n",
              "      <td>1.0</td>\n",
              "      <td>0.116</td>\n",
              "      <td>0.135</td>\n",
              "      <td>0.441404</td>\n",
              "      <td>0.012929</td>\n",
              "      <td>0.588847</td>\n",
              "    </tr>\n",
              "    <tr>\n",
              "      <th>4</th>\n",
              "      <td>1.0</td>\n",
              "      <td>0.058</td>\n",
              "      <td>0.145</td>\n",
              "      <td>0.083177</td>\n",
              "      <td>0.030290</td>\n",
              "      <td>0.409792</td>\n",
              "    </tr>\n",
              "  </tbody>\n",
              "</table>\n",
              "</div>"
            ],
            "text/plain": [
              "   helpfulness_cat    neg    pos  CONTRADITON  ENTAILMENT  Subjective\n",
              "0              1.0  0.072  0.387     0.301088    0.028153    0.637457\n",
              "1              1.0  0.081  0.065     0.031557    0.009301    0.376882\n",
              "2              1.0  0.045  0.206     0.000880    0.004172    0.601871\n",
              "3              1.0  0.116  0.135     0.441404    0.012929    0.588847\n",
              "4              1.0  0.058  0.145     0.083177    0.030290    0.409792"
            ]
          },
          "execution_count": 161,
          "metadata": {},
          "output_type": "execute_result"
        }
      ],
      "source": [
        "# drop the review and neu columns\n",
        "train_sent.drop(['imdb_user_review', 'neu'], axis=1, inplace=True)\n",
        "train_sent.head()"
      ]
    },
    {
      "cell_type": "code",
      "execution_count": null,
      "metadata": {
        "id": "MPxwCmxJMigy"
      },
      "outputs": [],
      "source": [
        "train_sent.to_csv('train_contra_senti_sub_score.csv', index=False)"
      ]
    },
    {
      "cell_type": "code",
      "execution_count": null,
      "metadata": {
        "id": "SZTEaus5Migy",
        "outputId": "7fb66e64-d008-4c47-bb28-16afe253a9e7"
      },
      "outputs": [
        {
          "data": {
            "text/html": [
              "<div>\n",
              "<style scoped>\n",
              "    .dataframe tbody tr th:only-of-type {\n",
              "        vertical-align: middle;\n",
              "    }\n",
              "\n",
              "    .dataframe tbody tr th {\n",
              "        vertical-align: top;\n",
              "    }\n",
              "\n",
              "    .dataframe thead th {\n",
              "        text-align: right;\n",
              "    }\n",
              "</style>\n",
              "<table border=\"1\" class=\"dataframe\">\n",
              "  <thead>\n",
              "    <tr style=\"text-align: right;\">\n",
              "      <th></th>\n",
              "      <th>helpfulness_cat</th>\n",
              "      <th>neg</th>\n",
              "      <th>pos</th>\n",
              "      <th>CONTRADITON</th>\n",
              "      <th>ENTAILMENT</th>\n",
              "      <th>Subjective</th>\n",
              "    </tr>\n",
              "  </thead>\n",
              "  <tbody>\n",
              "    <tr>\n",
              "      <th>0</th>\n",
              "      <td>1.0</td>\n",
              "      <td>0.072</td>\n",
              "      <td>0.387</td>\n",
              "      <td>0.301088</td>\n",
              "      <td>0.028153</td>\n",
              "      <td>0.637457</td>\n",
              "    </tr>\n",
              "    <tr>\n",
              "      <th>1</th>\n",
              "      <td>1.0</td>\n",
              "      <td>0.081</td>\n",
              "      <td>0.065</td>\n",
              "      <td>0.031557</td>\n",
              "      <td>0.009301</td>\n",
              "      <td>0.376882</td>\n",
              "    </tr>\n",
              "    <tr>\n",
              "      <th>2</th>\n",
              "      <td>1.0</td>\n",
              "      <td>0.045</td>\n",
              "      <td>0.206</td>\n",
              "      <td>0.000880</td>\n",
              "      <td>0.004172</td>\n",
              "      <td>0.601871</td>\n",
              "    </tr>\n",
              "    <tr>\n",
              "      <th>3</th>\n",
              "      <td>1.0</td>\n",
              "      <td>0.116</td>\n",
              "      <td>0.135</td>\n",
              "      <td>0.441404</td>\n",
              "      <td>0.012929</td>\n",
              "      <td>0.588847</td>\n",
              "    </tr>\n",
              "    <tr>\n",
              "      <th>4</th>\n",
              "      <td>1.0</td>\n",
              "      <td>0.058</td>\n",
              "      <td>0.145</td>\n",
              "      <td>0.083177</td>\n",
              "      <td>0.030290</td>\n",
              "      <td>0.409792</td>\n",
              "    </tr>\n",
              "  </tbody>\n",
              "</table>\n",
              "</div>"
            ],
            "text/plain": [
              "   helpfulness_cat    neg    pos  CONTRADITON  ENTAILMENT  Subjective\n",
              "0              1.0  0.072  0.387     0.301088    0.028153    0.637457\n",
              "1              1.0  0.081  0.065     0.031557    0.009301    0.376882\n",
              "2              1.0  0.045  0.206     0.000880    0.004172    0.601871\n",
              "3              1.0  0.116  0.135     0.441404    0.012929    0.588847\n",
              "4              1.0  0.058  0.145     0.083177    0.030290    0.409792"
            ]
          },
          "execution_count": 30,
          "metadata": {},
          "output_type": "execute_result"
        }
      ],
      "source": [
        "# build logistic regression model\n",
        "train_sent = pd.read_csv('train_contra_senti_sub_score.csv')\n",
        "train_sent.head()"
      ]
    },
    {
      "cell_type": "code",
      "execution_count": null,
      "metadata": {
        "id": "GZSbxzfGMigy"
      },
      "outputs": [],
      "source": [
        "# build logistic regression model\n",
        "from sklearn.linear_model import LogisticRegression\n",
        "from sklearn.model_selection import train_test_split\n",
        "from sklearn.metrics import accuracy_score\n",
        "X = train_sent.drop(['helpfulness_cat'], axis=1)\n",
        "y = train_sent.loc[:, 'helpfulness_cat']\n",
        "X_train, X_test, y_train, y_test = train_test_split(X, y, test_size=0.2, random_state=42)\n"
      ]
    },
    {
      "cell_type": "code",
      "execution_count": null,
      "metadata": {
        "id": "liaHCoVHMigz",
        "outputId": "04061f8b-e257-4df7-f5e5-187ec07d04ae"
      },
      "outputs": [
        {
          "name": "stdout",
          "output_type": "stream",
          "text": [
            "Accuracy of logistic regression model: 0.7661552766155276\n"
          ]
        }
      ],
      "source": [
        "# logistic regression model\n",
        "logreg = LogisticRegression()\n",
        "logreg.fit(X_train, y_train)\n",
        "y_pred = logreg.predict(X_test)\n",
        "print(\"Accuracy of logistic regression model: {}\".format(accuracy_score(y_test, y_pred)))"
      ]
    },
    {
      "cell_type": "code",
      "execution_count": null,
      "metadata": {
        "id": "BvBO2M2XMigz",
        "outputId": "7fbe5631-6357-4e0a-c396-f4e89b97ae75"
      },
      "outputs": [
        {
          "name": "stdout",
          "output_type": "stream",
          "text": [
            "F1 score of logistic regression model: 0.8666136303367807\n"
          ]
        }
      ],
      "source": [
        "# f1 score\n",
        "from sklearn.metrics import f1_score\n",
        "print(\"F1 score of logistic regression model: {}\".format(f1_score(y_test, y_pred)))"
      ]
    },
    {
      "cell_type": "code",
      "execution_count": null,
      "metadata": {
        "id": "RTosIS2_Mig0",
        "outputId": "2df72b32-17d7-4a3e-a528-1c0747c7f907"
      },
      "outputs": [
        {
          "name": "stdout",
          "output_type": "stream",
          "text": [
            "              precision    recall  f1-score   support\n",
            "\n",
            "         0.0       0.47      0.03      0.05       501\n",
            "         1.0       0.77      0.99      0.87      1650\n",
            "\n",
            "    accuracy                           0.77      2151\n",
            "   macro avg       0.62      0.51      0.46      2151\n",
            "weighted avg       0.70      0.77      0.68      2151\n",
            "\n"
          ]
        }
      ],
      "source": [
        "# classification report\n",
        "from sklearn.metrics import classification_report\n",
        "print(classification_report(y_test, y_pred))"
      ]
    },
    {
      "cell_type": "code",
      "execution_count": null,
      "metadata": {
        "id": "kVTaVOA0Mig0"
      },
      "outputs": [],
      "source": [
        "# build naive bayesian classifier\n",
        "from sklearn.naive_bayes import MultinomialNB\n",
        "from sklearn.model_selection import train_test_split\n",
        "from sklearn.metrics import accuracy_score\n",
        "\n",
        "X = train_sent.drop(['helpfulness_cat'], axis=1)\n",
        "y = train_sent.loc[:, 'helpfulness_cat']\n",
        "X_train, X_test, y_train, y_test = train_test_split(X, y, test_size=0.2, random_state=42)\n"
      ]
    },
    {
      "cell_type": "code",
      "execution_count": null,
      "metadata": {
        "id": "PDoUiyrtMig0",
        "outputId": "5b8a73f7-9537-4beb-dd80-69748d28c553"
      },
      "outputs": [
        {
          "data": {
            "text/html": [
              "<style>#sk-container-id-1 {color: black;background-color: white;}#sk-container-id-1 pre{padding: 0;}#sk-container-id-1 div.sk-toggleable {background-color: white;}#sk-container-id-1 label.sk-toggleable__label {cursor: pointer;display: block;width: 100%;margin-bottom: 0;padding: 0.3em;box-sizing: border-box;text-align: center;}#sk-container-id-1 label.sk-toggleable__label-arrow:before {content: \"▸\";float: left;margin-right: 0.25em;color: #696969;}#sk-container-id-1 label.sk-toggleable__label-arrow:hover:before {color: black;}#sk-container-id-1 div.sk-estimator:hover label.sk-toggleable__label-arrow:before {color: black;}#sk-container-id-1 div.sk-toggleable__content {max-height: 0;max-width: 0;overflow: hidden;text-align: left;background-color: #f0f8ff;}#sk-container-id-1 div.sk-toggleable__content pre {margin: 0.2em;color: black;border-radius: 0.25em;background-color: #f0f8ff;}#sk-container-id-1 input.sk-toggleable__control:checked~div.sk-toggleable__content {max-height: 200px;max-width: 100%;overflow: auto;}#sk-container-id-1 input.sk-toggleable__control:checked~label.sk-toggleable__label-arrow:before {content: \"▾\";}#sk-container-id-1 div.sk-estimator input.sk-toggleable__control:checked~label.sk-toggleable__label {background-color: #d4ebff;}#sk-container-id-1 div.sk-label input.sk-toggleable__control:checked~label.sk-toggleable__label {background-color: #d4ebff;}#sk-container-id-1 input.sk-hidden--visually {border: 0;clip: rect(1px 1px 1px 1px);clip: rect(1px, 1px, 1px, 1px);height: 1px;margin: -1px;overflow: hidden;padding: 0;position: absolute;width: 1px;}#sk-container-id-1 div.sk-estimator {font-family: monospace;background-color: #f0f8ff;border: 1px dotted black;border-radius: 0.25em;box-sizing: border-box;margin-bottom: 0.5em;}#sk-container-id-1 div.sk-estimator:hover {background-color: #d4ebff;}#sk-container-id-1 div.sk-parallel-item::after {content: \"\";width: 100%;border-bottom: 1px solid gray;flex-grow: 1;}#sk-container-id-1 div.sk-label:hover label.sk-toggleable__label {background-color: #d4ebff;}#sk-container-id-1 div.sk-serial::before {content: \"\";position: absolute;border-left: 1px solid gray;box-sizing: border-box;top: 0;bottom: 0;left: 50%;z-index: 0;}#sk-container-id-1 div.sk-serial {display: flex;flex-direction: column;align-items: center;background-color: white;padding-right: 0.2em;padding-left: 0.2em;position: relative;}#sk-container-id-1 div.sk-item {position: relative;z-index: 1;}#sk-container-id-1 div.sk-parallel {display: flex;align-items: stretch;justify-content: center;background-color: white;position: relative;}#sk-container-id-1 div.sk-item::before, #sk-container-id-1 div.sk-parallel-item::before {content: \"\";position: absolute;border-left: 1px solid gray;box-sizing: border-box;top: 0;bottom: 0;left: 50%;z-index: -1;}#sk-container-id-1 div.sk-parallel-item {display: flex;flex-direction: column;z-index: 1;position: relative;background-color: white;}#sk-container-id-1 div.sk-parallel-item:first-child::after {align-self: flex-end;width: 50%;}#sk-container-id-1 div.sk-parallel-item:last-child::after {align-self: flex-start;width: 50%;}#sk-container-id-1 div.sk-parallel-item:only-child::after {width: 0;}#sk-container-id-1 div.sk-dashed-wrapped {border: 1px dashed gray;margin: 0 0.4em 0.5em 0.4em;box-sizing: border-box;padding-bottom: 0.4em;background-color: white;}#sk-container-id-1 div.sk-label label {font-family: monospace;font-weight: bold;display: inline-block;line-height: 1.2em;}#sk-container-id-1 div.sk-label-container {text-align: center;}#sk-container-id-1 div.sk-container {/* jupyter's `normalize.less` sets `[hidden] { display: none; }` but bootstrap.min.css set `[hidden] { display: none !important; }` so we also need the `!important` here to be able to override the default hidden behavior on the sphinx rendered scikit-learn.org. See: https://github.com/scikit-learn/scikit-learn/issues/21755 */display: inline-block !important;position: relative;}#sk-container-id-1 div.sk-text-repr-fallback {display: none;}</style><div id=\"sk-container-id-1\" class=\"sk-top-container\"><div class=\"sk-text-repr-fallback\"><pre>MultinomialNB()</pre><b>In a Jupyter environment, please rerun this cell to show the HTML representation or trust the notebook. <br />On GitHub, the HTML representation is unable to render, please try loading this page with nbviewer.org.</b></div><div class=\"sk-container\" hidden><div class=\"sk-item\"><div class=\"sk-estimator sk-toggleable\"><input class=\"sk-toggleable__control sk-hidden--visually\" id=\"sk-estimator-id-1\" type=\"checkbox\" checked><label for=\"sk-estimator-id-1\" class=\"sk-toggleable__label sk-toggleable__label-arrow\">MultinomialNB</label><div class=\"sk-toggleable__content\"><pre>MultinomialNB()</pre></div></div></div></div></div>"
            ],
            "text/plain": [
              "MultinomialNB()"
            ]
          },
          "execution_count": 36,
          "metadata": {},
          "output_type": "execute_result"
        }
      ],
      "source": [
        "mnb = MultinomialNB()\n",
        "mnb.fit(X_train, y_train)"
      ]
    },
    {
      "cell_type": "code",
      "execution_count": null,
      "metadata": {
        "id": "UyutgIjsMig1",
        "outputId": "f38c7fb5-d96e-4616-9e1c-ec49d82ebc83"
      },
      "outputs": [
        {
          "name": "stdout",
          "output_type": "stream",
          "text": [
            "Multinomial Naive Bayes model accuracy(in %): 76.70850767085076\n"
          ]
        }
      ],
      "source": [
        "# making predictions on the testing set\n",
        "y_pred = mnb.predict(X_test)\n",
        " \n",
        "# comparing actual response values (y_test) with predicted response values (y_pred)\n",
        "from sklearn import metrics\n",
        "print(\"Multinomial Naive Bayes model accuracy(in %):\", metrics.accuracy_score(y_test, y_pred)*100)"
      ]
    },
    {
      "cell_type": "code",
      "execution_count": null,
      "metadata": {
        "id": "o2Bzbb0_Mig1",
        "outputId": "03ccd5fe-63b6-4325-98ac-7b6c6dc4aa06"
      },
      "outputs": [
        {
          "name": "stdout",
          "output_type": "stream",
          "text": [
            "F1 score of Multinomial Naive Bayes model: 0.8681925808997631\n"
          ]
        }
      ],
      "source": [
        "# f1 score\n",
        "print(\"F1 score of Multinomial Naive Bayes model:\", metrics.f1_score(y_test, y_pred))"
      ]
    },
    {
      "cell_type": "code",
      "execution_count": null,
      "metadata": {
        "id": "5PpK82fgMig1",
        "outputId": "5ec5c83c-472e-4e87-f9aa-d76d3ae1a9bd"
      },
      "outputs": [
        {
          "name": "stdout",
          "output_type": "stream",
          "text": [
            "              precision    recall  f1-score   support\n",
            "\n",
            "         0.0       0.00      0.00      0.00       501\n",
            "         1.0       0.77      1.00      0.87      1650\n",
            "\n",
            "    accuracy                           0.77      2151\n",
            "   macro avg       0.38      0.50      0.43      2151\n",
            "weighted avg       0.59      0.77      0.67      2151\n",
            "\n"
          ]
        },
        {
          "name": "stderr",
          "output_type": "stream",
          "text": [
            "/home/ash/miniconda3/envs/nlp/lib/python3.9/site-packages/sklearn/metrics/_classification.py:1327: UndefinedMetricWarning: Precision and F-score are ill-defined and being set to 0.0 in labels with no predicted samples. Use `zero_division` parameter to control this behavior.\n",
            "  _warn_prf(average, modifier, msg_start, len(result))\n",
            "/home/ash/miniconda3/envs/nlp/lib/python3.9/site-packages/sklearn/metrics/_classification.py:1327: UndefinedMetricWarning: Precision and F-score are ill-defined and being set to 0.0 in labels with no predicted samples. Use `zero_division` parameter to control this behavior.\n",
            "  _warn_prf(average, modifier, msg_start, len(result))\n",
            "/home/ash/miniconda3/envs/nlp/lib/python3.9/site-packages/sklearn/metrics/_classification.py:1327: UndefinedMetricWarning: Precision and F-score are ill-defined and being set to 0.0 in labels with no predicted samples. Use `zero_division` parameter to control this behavior.\n",
            "  _warn_prf(average, modifier, msg_start, len(result))\n"
          ]
        }
      ],
      "source": [
        "# classification report\n",
        "print(classification_report(y_test, y_pred))"
      ]
    },
    {
      "cell_type": "markdown",
      "metadata": {},
      "source": [
        "### LDA"
      ]
    },
    {
      "cell_type": "code",
      "execution_count": 1,
      "metadata": {},
      "outputs": [],
      "source": [
        "def basic_clean(text):\n",
        "    \"\"\"\n",
        "    Remove \\\\,\\n,\\t,... from text\n",
        "    Remove whitespace from text\n",
        "    change to lowercase\n",
        "    \"\"\"\n",
        "    \n",
        "    # Replacing all the occurrences of \\n,\\\\n,\\t,\\\\ with a space.\n",
        "    Formatted_text = text.replace('\\\\n', ' ').replace('\\n', ' ').replace('\\t',' ').replace('\\'', ' ').replace('\"',' ')\n",
        "    pattern = re.compile(r'\\s+')\n",
        "    Formatted_text = Formatted_text.lower()\n",
        "    Formatted_text = Formatted_text.replace('\\\\u00b4',\" \").replace('\\\\','')\n",
        "    Without_whitespace = re.sub(pattern, ' ', Formatted_text)\n",
        "    Formatted_text = Without_whitespace.replace('?', ' ? ').replace(')', ') ')\n",
        "    return Formatted_text"
      ]
    },
    {
      "cell_type": "code",
      "execution_count": 6,
      "metadata": {},
      "outputs": [],
      "source": [
        "train['imdb_user_review'] = train['imdb_user_review'].apply(basic_clean)"
      ]
    },
    {
      "cell_type": "code",
      "execution_count": 8,
      "metadata": {},
      "outputs": [],
      "source": [
        "train['review_length'] = np.array(list(map(len, train['imdb_user_review'].str.split(' '))))"
      ]
    },
    {
      "cell_type": "code",
      "execution_count": 9,
      "metadata": {},
      "outputs": [],
      "source": [
        "unhelpful = train.loc[train[\"helpfulness_cat\"] == 0, [\"imdb_user_review\", \"helpfulness_cat\", \"review_length\"]]\n",
        "helpful = train.loc[train[\"helpfulness_cat\"] == 1, [\"imdb_user_review\", \"helpfulness_cat\", \"review_length\"]]\n",
        "helpful = helpful.sample(n=len(unhelpful), random_state=42)\n",
        "s = pd.concat([unhelpful, helpful]) # create a more balanced training set for training the model"
      ]
    },
    {
      "cell_type": "code",
      "execution_count": 10,
      "metadata": {},
      "outputs": [],
      "source": [
        "nlp = spacy.load(\"en_core_web_lg\")\n",
        "docs = nlp.pipe(\n",
        "    s.loc[:, \"imdb_user_review\"].str.lower(),\n",
        "    n_process=2, \n",
        "    batch_size=500, \n",
        "    disable=[\"tok2vec\"],\n",
        ")\n",
        "tkns_docs = []\n",
        "for doc in docs:\n",
        "    tmp = []\n",
        "    for token in doc:\n",
        "        if (\n",
        "            token.is_stop == False\n",
        "            and token.is_punct == False\n",
        "            and token.like_num == False\n",
        "            and token.is_space == False\n",
        "            and token.is_oov == False\n",
        "        ):\n",
        "            tmp.append(token.lemma_)\n",
        "    tkns_docs.append(tmp)\n",
        "    del tmp"
      ]
    },
    {
      "cell_type": "code",
      "execution_count": 13,
      "metadata": {},
      "outputs": [],
      "source": [
        "# identify bigram and trigram\n",
        "import gensim\n",
        "from gensim.models.phrases import Phrases, ENGLISH_CONNECTOR_WORDS"
      ]
    },
    {
      "cell_type": "code",
      "execution_count": 14,
      "metadata": {},
      "outputs": [
        {
          "name": "stdout",
          "output_type": "stream",
          "text": [
            "['movie', 'best', 'described', 'pathetic', 'good', 'people', 'today', 'sound', 'appeared', 'films', 'wonder', 'film', 'high_ratings', 'galactic', 'effort', 'sit', 'metropolis', 'complete_waste', 'time', 'dialogues', 'appeared', 'films', 'single', 'film', 'considered', 'good', 'good', 'dialogues', 'films', 'imdb', 'list', 'single', 'film', 'won', 'place', 'run_mill', 'dialogues', 'sound', 'today', 's', 'audience', 'wants', 'story', 'strong', 'dialogue', 'good', 'acting', 'effects', 'acting', 'stiff', 'fashion', 'excessive', 'use', 'expressions', 'lack', 'sound', 'understandable', 'today', 'looks', 'bit', 'funny', 'recommendation', 'don_t_watch']\n"
          ]
        }
      ],
      "source": [
        "# Build the bigram and trigram models\n",
        "bigram = Phrases(tkns_docs, min_count=5, threshold=45, connector_words=ENGLISH_CONNECTOR_WORDS) # higher threshold fewer phrases.\n",
        "trigram = Phrases(bigram[tkns_docs], threshold=20, connector_words=ENGLISH_CONNECTOR_WORDS)\n",
        "\n",
        "# Faster way to get a sentence clubbed as a trigram/bigram\n",
        "bigram_mod = gensim.models.phrases.Phraser(bigram)\n",
        "trigram_mod = gensim.models.phrases.Phraser(trigram)\n",
        "\n",
        "# See trigram example\n",
        "print(trigram_mod[bigram_mod[tkns_docs[0]]])"
      ]
    },
    {
      "cell_type": "code",
      "execution_count": 15,
      "metadata": {},
      "outputs": [],
      "source": [
        "def make_bigrams(texts):\n",
        "    return [bigram_mod[doc] for doc in texts]\n",
        "\n",
        "def make_trigrams(texts):\n",
        "    return [trigram_mod[bigram_mod[doc]] for doc in texts]"
      ]
    },
    {
      "cell_type": "code",
      "execution_count": 16,
      "metadata": {},
      "outputs": [],
      "source": [
        "# form bigrams\n",
        "tkns_docs = make_bigrams(tkns_docs)\n",
        "# form trigrams\n",
        "tkns_docs = make_trigrams(tkns_docs)"
      ]
    },
    {
      "cell_type": "code",
      "execution_count": 17,
      "metadata": {},
      "outputs": [
        {
          "name": "stdout",
          "output_type": "stream",
          "text": [
            ">>> Working on the model with 20 topics >>>\n",
            "\n",
            "Iteration: 0\tLog-likelihood: -9.580963631398546\n",
            "Iteration: 10\tLog-likelihood: -9.316889254445604\n",
            "Iteration: 20\tLog-likelihood: -9.170957894947298\n",
            "Iteration: 30\tLog-likelihood: -9.076930674473227\n",
            "Iteration: 40\tLog-likelihood: -9.007233707154867\n",
            "Iteration: 50\tLog-likelihood: -8.958230196814883\n",
            "Iteration: 60\tLog-likelihood: -8.92230035362958\n",
            "Iteration: 70\tLog-likelihood: -8.897601980170991\n",
            "Iteration: 80\tLog-likelihood: -8.871959125634339\n",
            "Iteration: 90\tLog-likelihood: -8.85643326251891\n",
            "Iteration: 100\tLog-likelihood: -8.841301107812676\n",
            "Iteration: 110\tLog-likelihood: -8.823907507736171\n",
            "Iteration: 120\tLog-likelihood: -8.815999164573771\n",
            "Iteration: 130\tLog-likelihood: -8.808979779130189\n",
            "Iteration: 140\tLog-likelihood: -8.800477361405491\n",
            "Iteration: 150\tLog-likelihood: -8.797403345380179\n",
            "Iteration: 160\tLog-likelihood: -8.784216037682091\n",
            "Iteration: 170\tLog-likelihood: -8.786215432961098\n",
            "Iteration: 180\tLog-likelihood: -8.775922496721035\n",
            "Iteration: 190\tLog-likelihood: -8.76959748697108\n",
            "Iteration: 200\tLog-likelihood: -8.766618356722299\n",
            "Iteration: 210\tLog-likelihood: -8.768947880583267\n",
            "Iteration: 220\tLog-likelihood: -8.76119398726235\n",
            "Iteration: 230\tLog-likelihood: -8.760896269671262\n",
            "Iteration: 240\tLog-likelihood: -8.754607352745692\n",
            "Iteration: 250\tLog-likelihood: -8.752414158443125\n",
            "Iteration: 260\tLog-likelihood: -8.757555957142678\n",
            "Iteration: 270\tLog-likelihood: -8.750902493343165\n",
            "Iteration: 280\tLog-likelihood: -8.749623242685248\n",
            "Iteration: 290\tLog-likelihood: -8.747993999026372\n",
            "Iteration: 300\tLog-likelihood: -8.748137615083422\n",
            "Iteration: 310\tLog-likelihood: -8.747183365952656\n",
            "Iteration: 320\tLog-likelihood: -8.7452162775033\n",
            "Iteration: 330\tLog-likelihood: -8.745959666671881\n",
            "Iteration: 340\tLog-likelihood: -8.743843024823748\n",
            "Iteration: 350\tLog-likelihood: -8.74841159677914\n",
            "Iteration: 360\tLog-likelihood: -8.749035079181526\n",
            "Iteration: 370\tLog-likelihood: -8.749238959433216\n",
            "Iteration: 380\tLog-likelihood: -8.745706570479182\n",
            "Iteration: 390\tLog-likelihood: -8.741640270382748\n",
            "Iteration: 400\tLog-likelihood: -8.742432345730633\n",
            "Iteration: 410\tLog-likelihood: -8.740225139775399\n",
            "Iteration: 420\tLog-likelihood: -8.741014054023474\n",
            "Iteration: 430\tLog-likelihood: -8.732898718263531\n",
            "Iteration: 440\tLog-likelihood: -8.732418547838796\n",
            "Iteration: 450\tLog-likelihood: -8.73106958958559\n",
            "Iteration: 460\tLog-likelihood: -8.725987368451952\n",
            "Iteration: 470\tLog-likelihood: -8.727167297051734\n",
            "Iteration: 480\tLog-likelihood: -8.728821860476655\n",
            "Iteration: 490\tLog-likelihood: -8.727394129996094\n",
            "Iteration: 500\tLog-likelihood: -8.725309854586486\n",
            "Iteration: 510\tLog-likelihood: -8.720590917729954\n",
            "Iteration: 520\tLog-likelihood: -8.724222685793386\n",
            "Iteration: 530\tLog-likelihood: -8.721082320440368\n",
            "Iteration: 540\tLog-likelihood: -8.722572700652073\n",
            "Iteration: 550\tLog-likelihood: -8.721873105011573\n",
            "Iteration: 560\tLog-likelihood: -8.721530469490487\n",
            "Iteration: 570\tLog-likelihood: -8.725156728702586\n",
            "Iteration: 580\tLog-likelihood: -8.715735752381994\n",
            "Iteration: 590\tLog-likelihood: -8.716874968759685\n",
            "Iteration: 600\tLog-likelihood: -8.719294871849442\n",
            "Iteration: 610\tLog-likelihood: -8.717993555301065\n",
            "Iteration: 620\tLog-likelihood: -8.716198945644305\n",
            "Iteration: 630\tLog-likelihood: -8.715970258942841\n",
            "Iteration: 640\tLog-likelihood: -8.715843220535268\n",
            "Iteration: 650\tLog-likelihood: -8.71834358659552\n",
            "Iteration: 660\tLog-likelihood: -8.718631645437128\n",
            "Iteration: 670\tLog-likelihood: -8.717946532256411\n",
            "Iteration: 680\tLog-likelihood: -8.714480128546583\n",
            "Iteration: 690\tLog-likelihood: -8.716006950790346\n",
            "Iteration: 700\tLog-likelihood: -8.722305140161673\n",
            "Iteration: 710\tLog-likelihood: -8.716995731674986\n",
            "Iteration: 720\tLog-likelihood: -8.71273403161936\n",
            "Iteration: 730\tLog-likelihood: -8.71138555852766\n",
            "Iteration: 740\tLog-likelihood: -8.711965678340103\n",
            "Iteration: 750\tLog-likelihood: -8.712126676221278\n",
            "Iteration: 760\tLog-likelihood: -8.713816199498527\n",
            "Iteration: 770\tLog-likelihood: -8.717967922622412\n",
            "Iteration: 780\tLog-likelihood: -8.714784174156692\n",
            "Iteration: 790\tLog-likelihood: -8.712617404678799\n",
            ">>> Working on the model with 40 topics >>>\n",
            "\n",
            "Iteration: 0\tLog-likelihood: -9.715131569002331\n",
            "Iteration: 10\tLog-likelihood: -9.45085933720401\n",
            "Iteration: 20\tLog-likelihood: -9.31172387940456\n",
            "Iteration: 30\tLog-likelihood: -9.22828156813092\n",
            "Iteration: 40\tLog-likelihood: -9.173315319024105\n",
            "Iteration: 50\tLog-likelihood: -9.126375596149366\n",
            "Iteration: 60\tLog-likelihood: -9.098569840794124\n",
            "Iteration: 70\tLog-likelihood: -9.073801175376314\n",
            "Iteration: 80\tLog-likelihood: -9.056866107550556\n",
            "Iteration: 90\tLog-likelihood: -9.033027671099209\n",
            "Iteration: 100\tLog-likelihood: -9.014276314599718\n",
            "Iteration: 110\tLog-likelihood: -8.99391534452721\n",
            "Iteration: 120\tLog-likelihood: -8.979607786600168\n",
            "Iteration: 130\tLog-likelihood: -8.973587677621138\n",
            "Iteration: 140\tLog-likelihood: -8.968461822019144\n",
            "Iteration: 150\tLog-likelihood: -8.957015084575126\n",
            "Iteration: 160\tLog-likelihood: -8.951279033872925\n",
            "Iteration: 170\tLog-likelihood: -8.936736127247125\n",
            "Iteration: 180\tLog-likelihood: -8.93776620229692\n",
            "Iteration: 190\tLog-likelihood: -8.92853366733535\n",
            "Iteration: 200\tLog-likelihood: -8.916342941311306\n",
            "Iteration: 210\tLog-likelihood: -8.916840825489084\n",
            "Iteration: 220\tLog-likelihood: -8.905736777825602\n",
            "Iteration: 230\tLog-likelihood: -8.897910485155101\n",
            "Iteration: 240\tLog-likelihood: -8.893270985623255\n",
            "Iteration: 250\tLog-likelihood: -8.893602654803567\n",
            "Iteration: 260\tLog-likelihood: -8.890342111554054\n",
            "Iteration: 270\tLog-likelihood: -8.884762964081522\n",
            "Iteration: 280\tLog-likelihood: -8.88435921559315\n",
            "Iteration: 290\tLog-likelihood: -8.879934000852067\n",
            "Iteration: 300\tLog-likelihood: -8.874869518676741\n",
            "Iteration: 310\tLog-likelihood: -8.86956406948303\n",
            "Iteration: 320\tLog-likelihood: -8.867338788536546\n",
            "Iteration: 330\tLog-likelihood: -8.858309836102025\n",
            "Iteration: 340\tLog-likelihood: -8.8647939095943\n",
            "Iteration: 350\tLog-likelihood: -8.854391290905859\n",
            "Iteration: 360\tLog-likelihood: -8.85398073638592\n",
            "Iteration: 370\tLog-likelihood: -8.851216251723239\n",
            "Iteration: 380\tLog-likelihood: -8.8519786850194\n",
            "Iteration: 390\tLog-likelihood: -8.858842977301233\n",
            "Iteration: 400\tLog-likelihood: -8.857220996004807\n",
            "Iteration: 410\tLog-likelihood: -8.856354284118801\n",
            "Iteration: 420\tLog-likelihood: -8.854298785674787\n",
            "Iteration: 430\tLog-likelihood: -8.853941935497563\n",
            "Iteration: 440\tLog-likelihood: -8.848112542848275\n",
            "Iteration: 450\tLog-likelihood: -8.846186238342165\n",
            "Iteration: 460\tLog-likelihood: -8.842900492642885\n",
            "Iteration: 470\tLog-likelihood: -8.836515785209288\n",
            "Iteration: 480\tLog-likelihood: -8.843027395485441\n",
            "Iteration: 490\tLog-likelihood: -8.842336203368692\n",
            "Iteration: 500\tLog-likelihood: -8.838538082755928\n",
            "Iteration: 510\tLog-likelihood: -8.8361815594057\n",
            "Iteration: 520\tLog-likelihood: -8.839276578107997\n",
            "Iteration: 530\tLog-likelihood: -8.839566033066893\n",
            "Iteration: 540\tLog-likelihood: -8.834153259432636\n",
            "Iteration: 550\tLog-likelihood: -8.83634704146371\n",
            "Iteration: 560\tLog-likelihood: -8.835195109621734\n",
            "Iteration: 570\tLog-likelihood: -8.830840937799673\n",
            "Iteration: 580\tLog-likelihood: -8.837946473079274\n",
            "Iteration: 590\tLog-likelihood: -8.83427978677266\n",
            "Iteration: 600\tLog-likelihood: -8.82860376464162\n",
            "Iteration: 610\tLog-likelihood: -8.830822326987152\n",
            "Iteration: 620\tLog-likelihood: -8.82916713242529\n",
            "Iteration: 630\tLog-likelihood: -8.82710326416715\n",
            "Iteration: 640\tLog-likelihood: -8.824309431706487\n",
            "Iteration: 650\tLog-likelihood: -8.829857366992037\n",
            "Iteration: 660\tLog-likelihood: -8.823836785064284\n",
            "Iteration: 670\tLog-likelihood: -8.824536120083577\n",
            "Iteration: 680\tLog-likelihood: -8.824731118379901\n",
            "Iteration: 690\tLog-likelihood: -8.8187650363941\n",
            "Iteration: 700\tLog-likelihood: -8.822434345445888\n",
            "Iteration: 710\tLog-likelihood: -8.82269123414694\n",
            "Iteration: 720\tLog-likelihood: -8.824909445127568\n",
            "Iteration: 730\tLog-likelihood: -8.827138509995285\n",
            "Iteration: 740\tLog-likelihood: -8.820966124784839\n",
            "Iteration: 750\tLog-likelihood: -8.817633497986519\n",
            "Iteration: 760\tLog-likelihood: -8.813543211384568\n",
            "Iteration: 770\tLog-likelihood: -8.81360859297996\n",
            "Iteration: 780\tLog-likelihood: -8.809751759053704\n",
            "Iteration: 790\tLog-likelihood: -8.81173935565026\n",
            ">>> Working on the model with 60 topics >>>\n",
            "\n",
            "Iteration: 0\tLog-likelihood: -9.81180034616391\n",
            "Iteration: 10\tLog-likelihood: -9.545804196443875\n",
            "Iteration: 20\tLog-likelihood: -9.415954197020776\n",
            "Iteration: 30\tLog-likelihood: -9.33270431293619\n",
            "Iteration: 40\tLog-likelihood: -9.274927305852831\n",
            "Iteration: 50\tLog-likelihood: -9.235343461928476\n",
            "Iteration: 60\tLog-likelihood: -9.196446158794817\n",
            "Iteration: 70\tLog-likelihood: -9.175135140421643\n",
            "Iteration: 80\tLog-likelihood: -9.154640297024153\n",
            "Iteration: 90\tLog-likelihood: -9.13459222866815\n",
            "Iteration: 100\tLog-likelihood: -9.112452391623211\n",
            "Iteration: 110\tLog-likelihood: -9.091110640936273\n",
            "Iteration: 120\tLog-likelihood: -9.08165604101724\n",
            "Iteration: 130\tLog-likelihood: -9.070510310229619\n",
            "Iteration: 140\tLog-likelihood: -9.064921200740676\n",
            "Iteration: 150\tLog-likelihood: -9.053067769681094\n",
            "Iteration: 160\tLog-likelihood: -9.04155771524552\n",
            "Iteration: 170\tLog-likelihood: -9.035628658710694\n",
            "Iteration: 180\tLog-likelihood: -9.03280032866763\n",
            "Iteration: 190\tLog-likelihood: -9.022829465116638\n",
            "Iteration: 200\tLog-likelihood: -9.01900368170685\n",
            "Iteration: 210\tLog-likelihood: -9.012346278703728\n",
            "Iteration: 220\tLog-likelihood: -9.011505603211633\n",
            "Iteration: 230\tLog-likelihood: -9.005825366234152\n",
            "Iteration: 240\tLog-likelihood: -8.999764838886366\n",
            "Iteration: 250\tLog-likelihood: -8.99468992195027\n",
            "Iteration: 260\tLog-likelihood: -8.989033874205226\n",
            "Iteration: 270\tLog-likelihood: -8.987358896374626\n",
            "Iteration: 280\tLog-likelihood: -8.982016175535252\n",
            "Iteration: 290\tLog-likelihood: -8.978610284207171\n",
            "Iteration: 300\tLog-likelihood: -8.979542176304049\n",
            "Iteration: 310\tLog-likelihood: -8.974074917815585\n",
            "Iteration: 320\tLog-likelihood: -8.966758978075568\n",
            "Iteration: 330\tLog-likelihood: -8.961570010009648\n",
            "Iteration: 340\tLog-likelihood: -8.962923243270716\n",
            "Iteration: 350\tLog-likelihood: -8.956061104981874\n",
            "Iteration: 360\tLog-likelihood: -8.955569566256438\n",
            "Iteration: 370\tLog-likelihood: -8.950822394858756\n",
            "Iteration: 380\tLog-likelihood: -8.946011653272585\n",
            "Iteration: 390\tLog-likelihood: -8.945224637694512\n",
            "Iteration: 400\tLog-likelihood: -8.940926992189265\n",
            "Iteration: 410\tLog-likelihood: -8.93767792832101\n",
            "Iteration: 420\tLog-likelihood: -8.931029232636822\n",
            "Iteration: 430\tLog-likelihood: -8.92932491654285\n",
            "Iteration: 440\tLog-likelihood: -8.92989741022959\n",
            "Iteration: 450\tLog-likelihood: -8.928692642000286\n",
            "Iteration: 460\tLog-likelihood: -8.92415275328388\n",
            "Iteration: 470\tLog-likelihood: -8.921388177193776\n",
            "Iteration: 480\tLog-likelihood: -8.919982280898214\n",
            "Iteration: 490\tLog-likelihood: -8.912200030962273\n",
            "Iteration: 500\tLog-likelihood: -8.916892121321224\n",
            "Iteration: 510\tLog-likelihood: -8.916491589610681\n",
            "Iteration: 520\tLog-likelihood: -8.912305278757916\n",
            "Iteration: 530\tLog-likelihood: -8.910813861563863\n",
            "Iteration: 540\tLog-likelihood: -8.914058380492158\n",
            "Iteration: 550\tLog-likelihood: -8.906245177018091\n",
            "Iteration: 560\tLog-likelihood: -8.904371326703446\n",
            "Iteration: 570\tLog-likelihood: -8.911466858719841\n",
            "Iteration: 580\tLog-likelihood: -8.904044029055132\n",
            "Iteration: 590\tLog-likelihood: -8.906880823391553\n",
            "Iteration: 600\tLog-likelihood: -8.900348855118429\n",
            "Iteration: 610\tLog-likelihood: -8.895102467398607\n",
            "Iteration: 620\tLog-likelihood: -8.897597362867296\n",
            "Iteration: 630\tLog-likelihood: -8.901054284331265\n",
            "Iteration: 640\tLog-likelihood: -8.90049335462241\n",
            "Iteration: 650\tLog-likelihood: -8.895721402134276\n",
            "Iteration: 660\tLog-likelihood: -8.894527989184313\n",
            "Iteration: 670\tLog-likelihood: -8.89733397803882\n",
            "Iteration: 680\tLog-likelihood: -8.895107497107427\n",
            "Iteration: 690\tLog-likelihood: -8.888837466017788\n",
            "Iteration: 700\tLog-likelihood: -8.894675640082044\n",
            "Iteration: 710\tLog-likelihood: -8.88949675946126\n",
            "Iteration: 720\tLog-likelihood: -8.890772380069963\n",
            "Iteration: 730\tLog-likelihood: -8.88826561248088\n",
            "Iteration: 740\tLog-likelihood: -8.890480804115453\n",
            "Iteration: 750\tLog-likelihood: -8.887295057336956\n",
            "Iteration: 760\tLog-likelihood: -8.883297401412545\n",
            "Iteration: 770\tLog-likelihood: -8.882410295843645\n",
            "Iteration: 780\tLog-likelihood: -8.887896313796174\n",
            "Iteration: 790\tLog-likelihood: -8.881696942042662\n",
            ">>> Working on the model with 80 topics >>>\n",
            "\n",
            "Iteration: 0\tLog-likelihood: -9.896716090384254\n",
            "Iteration: 10\tLog-likelihood: -9.63361869819567\n",
            "Iteration: 20\tLog-likelihood: -9.50567209606353\n",
            "Iteration: 30\tLog-likelihood: -9.423643143272125\n",
            "Iteration: 40\tLog-likelihood: -9.364489575602551\n",
            "Iteration: 50\tLog-likelihood: -9.318586865333534\n",
            "Iteration: 60\tLog-likelihood: -9.283422793299877\n",
            "Iteration: 70\tLog-likelihood: -9.254165070984854\n",
            "Iteration: 80\tLog-likelihood: -9.233022882352321\n",
            "Iteration: 90\tLog-likelihood: -9.21024232661949\n",
            "Iteration: 100\tLog-likelihood: -9.190285769579516\n",
            "Iteration: 110\tLog-likelihood: -9.176526835103774\n",
            "Iteration: 120\tLog-likelihood: -9.156212045465756\n",
            "Iteration: 130\tLog-likelihood: -9.144808912725468\n",
            "Iteration: 140\tLog-likelihood: -9.134448883745025\n",
            "Iteration: 150\tLog-likelihood: -9.129548695660414\n",
            "Iteration: 160\tLog-likelihood: -9.114853704366592\n",
            "Iteration: 170\tLog-likelihood: -9.11066246610482\n",
            "Iteration: 180\tLog-likelihood: -9.093978980647933\n",
            "Iteration: 190\tLog-likelihood: -9.087329401804148\n",
            "Iteration: 200\tLog-likelihood: -9.083017383781232\n",
            "Iteration: 210\tLog-likelihood: -9.08125096241772\n",
            "Iteration: 220\tLog-likelihood: -9.077429427731065\n",
            "Iteration: 230\tLog-likelihood: -9.067888469241154\n",
            "Iteration: 240\tLog-likelihood: -9.058669826802074\n",
            "Iteration: 250\tLog-likelihood: -9.060902530428018\n",
            "Iteration: 260\tLog-likelihood: -9.055880908263108\n",
            "Iteration: 270\tLog-likelihood: -9.055800178370415\n",
            "Iteration: 280\tLog-likelihood: -9.047181178071291\n",
            "Iteration: 290\tLog-likelihood: -9.042539370582269\n",
            "Iteration: 300\tLog-likelihood: -9.033337082256415\n",
            "Iteration: 310\tLog-likelihood: -9.031167026931778\n",
            "Iteration: 320\tLog-likelihood: -9.02938995910009\n",
            "Iteration: 330\tLog-likelihood: -9.028229645988388\n",
            "Iteration: 340\tLog-likelihood: -9.017742445800115\n",
            "Iteration: 350\tLog-likelihood: -9.010887561577336\n",
            "Iteration: 360\tLog-likelihood: -9.010605673549495\n",
            "Iteration: 370\tLog-likelihood: -9.001875494553605\n",
            "Iteration: 380\tLog-likelihood: -9.004651988571421\n",
            "Iteration: 390\tLog-likelihood: -9.001199239408843\n",
            "Iteration: 400\tLog-likelihood: -8.994395335882013\n",
            "Iteration: 410\tLog-likelihood: -8.996967394186044\n",
            "Iteration: 420\tLog-likelihood: -8.991684849508667\n",
            "Iteration: 430\tLog-likelihood: -8.990908687668908\n",
            "Iteration: 440\tLog-likelihood: -8.989003863547408\n",
            "Iteration: 450\tLog-likelihood: -8.982491005129457\n",
            "Iteration: 460\tLog-likelihood: -8.978779836207371\n",
            "Iteration: 470\tLog-likelihood: -8.975759704110665\n",
            "Iteration: 480\tLog-likelihood: -8.973376583512412\n",
            "Iteration: 490\tLog-likelihood: -8.963303523990076\n",
            "Iteration: 500\tLog-likelihood: -8.9644289035693\n",
            "Iteration: 510\tLog-likelihood: -8.963299048522657\n",
            "Iteration: 520\tLog-likelihood: -8.957654647496172\n",
            "Iteration: 530\tLog-likelihood: -8.95458944674106\n",
            "Iteration: 540\tLog-likelihood: -8.956911649715307\n",
            "Iteration: 550\tLog-likelihood: -8.954249022868165\n",
            "Iteration: 560\tLog-likelihood: -8.944690240583649\n",
            "Iteration: 570\tLog-likelihood: -8.950761484696113\n",
            "Iteration: 580\tLog-likelihood: -8.951692213412748\n",
            "Iteration: 590\tLog-likelihood: -8.94352196616007\n",
            "Iteration: 600\tLog-likelihood: -8.947347959686367\n",
            "Iteration: 610\tLog-likelihood: -8.945593150887673\n",
            "Iteration: 620\tLog-likelihood: -8.949706741608498\n",
            "Iteration: 630\tLog-likelihood: -8.941221653674733\n",
            "Iteration: 640\tLog-likelihood: -8.943043943652514\n",
            "Iteration: 650\tLog-likelihood: -8.941160500434478\n",
            "Iteration: 660\tLog-likelihood: -8.942077681273272\n",
            "Iteration: 670\tLog-likelihood: -8.941350149787358\n",
            "Iteration: 680\tLog-likelihood: -8.941585736565203\n",
            "Iteration: 690\tLog-likelihood: -8.940068718345916\n",
            "Iteration: 700\tLog-likelihood: -8.941739732097314\n",
            "Iteration: 710\tLog-likelihood: -8.936139932375287\n",
            "Iteration: 720\tLog-likelihood: -8.93942090692123\n",
            "Iteration: 730\tLog-likelihood: -8.938510178635468\n",
            "Iteration: 740\tLog-likelihood: -8.933990210214255\n",
            "Iteration: 750\tLog-likelihood: -8.939035406966621\n",
            "Iteration: 760\tLog-likelihood: -8.938849576650044\n",
            "Iteration: 770\tLog-likelihood: -8.934743185967239\n",
            "Iteration: 780\tLog-likelihood: -8.927128256153797\n",
            "Iteration: 790\tLog-likelihood: -8.928201482246731\n",
            ">>> Working on the model with 100 topics >>>\n",
            "\n",
            "Iteration: 0\tLog-likelihood: -9.96263677452779\n",
            "Iteration: 10\tLog-likelihood: -9.689556794572018\n",
            "Iteration: 20\tLog-likelihood: -9.550788035073227\n",
            "Iteration: 30\tLog-likelihood: -9.472824324307423\n",
            "Iteration: 40\tLog-likelihood: -9.417852153415517\n",
            "Iteration: 50\tLog-likelihood: -9.375599827559478\n",
            "Iteration: 60\tLog-likelihood: -9.340218442717397\n",
            "Iteration: 70\tLog-likelihood: -9.312245973551242\n",
            "Iteration: 80\tLog-likelihood: -9.292285069383734\n",
            "Iteration: 90\tLog-likelihood: -9.276232075370284\n",
            "Iteration: 100\tLog-likelihood: -9.254995481461949\n",
            "Iteration: 110\tLog-likelihood: -9.23152831280064\n",
            "Iteration: 120\tLog-likelihood: -9.226051432580686\n",
            "Iteration: 130\tLog-likelihood: -9.213121287935387\n",
            "Iteration: 140\tLog-likelihood: -9.197111693132166\n",
            "Iteration: 150\tLog-likelihood: -9.18498426349581\n",
            "Iteration: 160\tLog-likelihood: -9.169275837797935\n",
            "Iteration: 170\tLog-likelihood: -9.16348518270428\n",
            "Iteration: 180\tLog-likelihood: -9.155073391646473\n",
            "Iteration: 190\tLog-likelihood: -9.13918348921512\n",
            "Iteration: 200\tLog-likelihood: -9.134232640068445\n",
            "Iteration: 210\tLog-likelihood: -9.125703406885247\n",
            "Iteration: 220\tLog-likelihood: -9.112462474804895\n",
            "Iteration: 230\tLog-likelihood: -9.100219119420991\n",
            "Iteration: 240\tLog-likelihood: -9.099552354362858\n",
            "Iteration: 250\tLog-likelihood: -9.097224789639322\n",
            "Iteration: 260\tLog-likelihood: -9.08447016121102\n",
            "Iteration: 270\tLog-likelihood: -9.075751191383079\n",
            "Iteration: 280\tLog-likelihood: -9.076476311185889\n",
            "Iteration: 290\tLog-likelihood: -9.068003959182462\n",
            "Iteration: 300\tLog-likelihood: -9.064014481172505\n",
            "Iteration: 310\tLog-likelihood: -9.058236133666725\n",
            "Iteration: 320\tLog-likelihood: -9.058201856141281\n",
            "Iteration: 330\tLog-likelihood: -9.049325324742796\n",
            "Iteration: 340\tLog-likelihood: -9.047176119818275\n",
            "Iteration: 350\tLog-likelihood: -9.044004976006232\n",
            "Iteration: 360\tLog-likelihood: -9.045479988445578\n",
            "Iteration: 370\tLog-likelihood: -9.042986460202254\n",
            "Iteration: 380\tLog-likelihood: -9.038440781657796\n",
            "Iteration: 390\tLog-likelihood: -9.035846848165365\n",
            "Iteration: 400\tLog-likelihood: -9.035093383777463\n",
            "Iteration: 410\tLog-likelihood: -9.027464819859931\n",
            "Iteration: 420\tLog-likelihood: -9.024526901502018\n",
            "Iteration: 430\tLog-likelihood: -9.024269150351962\n",
            "Iteration: 440\tLog-likelihood: -9.019409946983576\n",
            "Iteration: 450\tLog-likelihood: -9.01573851475375\n",
            "Iteration: 460\tLog-likelihood: -9.012206996911528\n",
            "Iteration: 470\tLog-likelihood: -9.005001508967116\n",
            "Iteration: 480\tLog-likelihood: -9.006627181193924\n",
            "Iteration: 490\tLog-likelihood: -9.003769044316625\n",
            "Iteration: 500\tLog-likelihood: -8.995373399302359\n",
            "Iteration: 510\tLog-likelihood: -8.998317575685219\n",
            "Iteration: 520\tLog-likelihood: -8.996490541416241\n",
            "Iteration: 530\tLog-likelihood: -9.00075256859877\n",
            "Iteration: 540\tLog-likelihood: -8.993777174475861\n",
            "Iteration: 550\tLog-likelihood: -8.992185604181696\n",
            "Iteration: 560\tLog-likelihood: -8.988068477430062\n",
            "Iteration: 570\tLog-likelihood: -8.991668474849895\n",
            "Iteration: 580\tLog-likelihood: -8.990009555685644\n",
            "Iteration: 590\tLog-likelihood: -8.983223063850964\n",
            "Iteration: 600\tLog-likelihood: -8.980433260276836\n",
            "Iteration: 610\tLog-likelihood: -8.985124424186935\n",
            "Iteration: 620\tLog-likelihood: -8.982041630744794\n",
            "Iteration: 630\tLog-likelihood: -8.978965570098891\n",
            "Iteration: 640\tLog-likelihood: -8.980008110089347\n",
            "Iteration: 650\tLog-likelihood: -8.973707059714451\n",
            "Iteration: 660\tLog-likelihood: -8.974626119848145\n",
            "Iteration: 670\tLog-likelihood: -8.971244553611402\n",
            "Iteration: 680\tLog-likelihood: -8.976701775302999\n",
            "Iteration: 690\tLog-likelihood: -8.968140024568683\n",
            "Iteration: 700\tLog-likelihood: -8.970790124380704\n",
            "Iteration: 710\tLog-likelihood: -8.9733054455292\n",
            "Iteration: 720\tLog-likelihood: -8.971218267411347\n",
            "Iteration: 730\tLog-likelihood: -8.973475826022892\n",
            "Iteration: 740\tLog-likelihood: -8.970045885640149\n",
            "Iteration: 750\tLog-likelihood: -8.962845284969399\n",
            "Iteration: 760\tLog-likelihood: -8.963428201928489\n",
            "Iteration: 770\tLog-likelihood: -8.96297572065372\n",
            "Iteration: 780\tLog-likelihood: -8.961384291881163\n",
            "Iteration: 790\tLog-likelihood: -8.960536241710345\n",
            ">>> Working on the model with 120 topics >>>\n",
            "\n",
            "Iteration: 0\tLog-likelihood: -10.037522827853376\n",
            "Iteration: 10\tLog-likelihood: -9.750115188867097\n",
            "Iteration: 20\tLog-likelihood: -9.619908877376842\n",
            "Iteration: 30\tLog-likelihood: -9.531502513033823\n",
            "Iteration: 40\tLog-likelihood: -9.478134041045864\n",
            "Iteration: 50\tLog-likelihood: -9.434811578094308\n",
            "Iteration: 60\tLog-likelihood: -9.411235494704396\n",
            "Iteration: 70\tLog-likelihood: -9.379040185947181\n",
            "Iteration: 80\tLog-likelihood: -9.35000881018045\n",
            "Iteration: 90\tLog-likelihood: -9.33065687702421\n",
            "Iteration: 100\tLog-likelihood: -9.30327101664253\n",
            "Iteration: 110\tLog-likelihood: -9.28426395857328\n",
            "Iteration: 120\tLog-likelihood: -9.268146692574277\n",
            "Iteration: 130\tLog-likelihood: -9.26048076083333\n",
            "Iteration: 140\tLog-likelihood: -9.243465622510278\n",
            "Iteration: 150\tLog-likelihood: -9.23668742077525\n",
            "Iteration: 160\tLog-likelihood: -9.213460637178528\n",
            "Iteration: 170\tLog-likelihood: -9.209351893912993\n",
            "Iteration: 180\tLog-likelihood: -9.199055077002242\n",
            "Iteration: 190\tLog-likelihood: -9.183868739487075\n",
            "Iteration: 200\tLog-likelihood: -9.17919739848795\n",
            "Iteration: 210\tLog-likelihood: -9.174500823019718\n",
            "Iteration: 220\tLog-likelihood: -9.166862647679952\n",
            "Iteration: 230\tLog-likelihood: -9.155699251864396\n",
            "Iteration: 240\tLog-likelihood: -9.152705505725772\n",
            "Iteration: 250\tLog-likelihood: -9.143599549843353\n",
            "Iteration: 260\tLog-likelihood: -9.127944560269853\n",
            "Iteration: 270\tLog-likelihood: -9.13098010195935\n",
            "Iteration: 280\tLog-likelihood: -9.12000141963981\n",
            "Iteration: 290\tLog-likelihood: -9.115960869627006\n",
            "Iteration: 300\tLog-likelihood: -9.112573495307146\n",
            "Iteration: 310\tLog-likelihood: -9.110255958656206\n",
            "Iteration: 320\tLog-likelihood: -9.106853785199883\n",
            "Iteration: 330\tLog-likelihood: -9.107439242282393\n",
            "Iteration: 340\tLog-likelihood: -9.1006275298206\n",
            "Iteration: 350\tLog-likelihood: -9.097118281180947\n",
            "Iteration: 360\tLog-likelihood: -9.093695359950061\n",
            "Iteration: 370\tLog-likelihood: -9.090413474869232\n",
            "Iteration: 380\tLog-likelihood: -9.088460381564532\n",
            "Iteration: 390\tLog-likelihood: -9.08793607855796\n",
            "Iteration: 400\tLog-likelihood: -9.082000050198447\n",
            "Iteration: 410\tLog-likelihood: -9.081358667573785\n",
            "Iteration: 420\tLog-likelihood: -9.075492915755753\n",
            "Iteration: 430\tLog-likelihood: -9.072198699488709\n",
            "Iteration: 440\tLog-likelihood: -9.068321300327785\n",
            "Iteration: 450\tLog-likelihood: -9.06863949214642\n",
            "Iteration: 460\tLog-likelihood: -9.072228952051262\n",
            "Iteration: 470\tLog-likelihood: -9.064941749761957\n",
            "Iteration: 480\tLog-likelihood: -9.063133376955074\n",
            "Iteration: 490\tLog-likelihood: -9.059028818351358\n",
            "Iteration: 500\tLog-likelihood: -9.05373039539029\n",
            "Iteration: 510\tLog-likelihood: -9.059348959637541\n",
            "Iteration: 520\tLog-likelihood: -9.048840067620235\n",
            "Iteration: 530\tLog-likelihood: -9.049706437350782\n",
            "Iteration: 540\tLog-likelihood: -9.042248007884746\n",
            "Iteration: 550\tLog-likelihood: -9.039418037936262\n",
            "Iteration: 560\tLog-likelihood: -9.043565003384023\n",
            "Iteration: 570\tLog-likelihood: -9.040660456739905\n",
            "Iteration: 580\tLog-likelihood: -9.037509610558761\n",
            "Iteration: 590\tLog-likelihood: -9.036944750465556\n",
            "Iteration: 600\tLog-likelihood: -9.043414754743383\n",
            "Iteration: 610\tLog-likelihood: -9.03668716410277\n",
            "Iteration: 620\tLog-likelihood: -9.03216314462678\n",
            "Iteration: 630\tLog-likelihood: -9.02702486015869\n",
            "Iteration: 640\tLog-likelihood: -9.031577174067033\n",
            "Iteration: 650\tLog-likelihood: -9.028507386454978\n",
            "Iteration: 660\tLog-likelihood: -9.026945921019488\n",
            "Iteration: 670\tLog-likelihood: -9.02718856796763\n",
            "Iteration: 680\tLog-likelihood: -9.02390713733774\n",
            "Iteration: 690\tLog-likelihood: -9.020529556546544\n",
            "Iteration: 700\tLog-likelihood: -9.02037540104536\n",
            "Iteration: 710\tLog-likelihood: -9.016667835579227\n",
            "Iteration: 720\tLog-likelihood: -9.01633314655772\n",
            "Iteration: 730\tLog-likelihood: -9.018092224835272\n",
            "Iteration: 740\tLog-likelihood: -9.01245457325519\n",
            "Iteration: 750\tLog-likelihood: -9.012360469326866\n",
            "Iteration: 760\tLog-likelihood: -9.013002926150227\n",
            "Iteration: 770\tLog-likelihood: -9.009147976327037\n",
            "Iteration: 780\tLog-likelihood: -9.005924433151655\n",
            "Iteration: 790\tLog-likelihood: -9.01089308891\n",
            ">>> Working on the model with 140 topics >>>\n",
            "\n",
            "Iteration: 0\tLog-likelihood: -10.10076085073015\n",
            "Iteration: 10\tLog-likelihood: -9.811192816726097\n",
            "Iteration: 20\tLog-likelihood: -9.683545763351285\n",
            "Iteration: 30\tLog-likelihood: -9.594832280412342\n",
            "Iteration: 40\tLog-likelihood: -9.53538629212455\n",
            "Iteration: 50\tLog-likelihood: -9.50324149029137\n",
            "Iteration: 60\tLog-likelihood: -9.460945223538564\n",
            "Iteration: 70\tLog-likelihood: -9.433305040904523\n",
            "Iteration: 80\tLog-likelihood: -9.398371737566915\n",
            "Iteration: 90\tLog-likelihood: -9.378651613858297\n",
            "Iteration: 100\tLog-likelihood: -9.346364101499864\n",
            "Iteration: 110\tLog-likelihood: -9.326771209671621\n",
            "Iteration: 120\tLog-likelihood: -9.308638314112313\n",
            "Iteration: 130\tLog-likelihood: -9.294864693846286\n",
            "Iteration: 140\tLog-likelihood: -9.27572056329314\n",
            "Iteration: 150\tLog-likelihood: -9.274524210439786\n",
            "Iteration: 160\tLog-likelihood: -9.25406853400336\n",
            "Iteration: 170\tLog-likelihood: -9.241599754399857\n",
            "Iteration: 180\tLog-likelihood: -9.227836780730978\n",
            "Iteration: 190\tLog-likelihood: -9.219552136918553\n",
            "Iteration: 200\tLog-likelihood: -9.205099315565088\n",
            "Iteration: 210\tLog-likelihood: -9.198453656576177\n",
            "Iteration: 220\tLog-likelihood: -9.188049579674761\n",
            "Iteration: 230\tLog-likelihood: -9.178031951408528\n",
            "Iteration: 240\tLog-likelihood: -9.170457309089306\n",
            "Iteration: 250\tLog-likelihood: -9.167407895907752\n",
            "Iteration: 260\tLog-likelihood: -9.155772421290441\n",
            "Iteration: 270\tLog-likelihood: -9.153153364985148\n",
            "Iteration: 280\tLog-likelihood: -9.147654459571303\n",
            "Iteration: 290\tLog-likelihood: -9.138581448228958\n",
            "Iteration: 300\tLog-likelihood: -9.134417857020933\n",
            "Iteration: 310\tLog-likelihood: -9.11955962825928\n",
            "Iteration: 320\tLog-likelihood: -9.12309807834435\n",
            "Iteration: 330\tLog-likelihood: -9.121240175932892\n",
            "Iteration: 340\tLog-likelihood: -9.11341180129827\n",
            "Iteration: 350\tLog-likelihood: -9.11063610785983\n",
            "Iteration: 360\tLog-likelihood: -9.10703177694326\n",
            "Iteration: 370\tLog-likelihood: -9.099954621801752\n",
            "Iteration: 380\tLog-likelihood: -9.100610496849809\n",
            "Iteration: 390\tLog-likelihood: -9.09861925010294\n",
            "Iteration: 400\tLog-likelihood: -9.09673560251504\n",
            "Iteration: 410\tLog-likelihood: -9.08921439155989\n",
            "Iteration: 420\tLog-likelihood: -9.091971498094019\n",
            "Iteration: 430\tLog-likelihood: -9.08990038668367\n",
            "Iteration: 440\tLog-likelihood: -9.074801263448341\n",
            "Iteration: 450\tLog-likelihood: -9.084901755778954\n",
            "Iteration: 460\tLog-likelihood: -9.074252592751161\n",
            "Iteration: 470\tLog-likelihood: -9.065845402242967\n",
            "Iteration: 480\tLog-likelihood: -9.067481972868068\n",
            "Iteration: 490\tLog-likelihood: -9.063641258278652\n",
            "Iteration: 500\tLog-likelihood: -9.05755732629053\n",
            "Iteration: 510\tLog-likelihood: -9.052810411194752\n",
            "Iteration: 520\tLog-likelihood: -9.056301476599673\n",
            "Iteration: 530\tLog-likelihood: -9.05306889376814\n",
            "Iteration: 540\tLog-likelihood: -9.051479992564712\n",
            "Iteration: 550\tLog-likelihood: -9.04169877449104\n",
            "Iteration: 560\tLog-likelihood: -9.04275779083388\n",
            "Iteration: 570\tLog-likelihood: -9.0413503883129\n",
            "Iteration: 580\tLog-likelihood: -9.038595140689461\n",
            "Iteration: 590\tLog-likelihood: -9.034234649843885\n",
            "Iteration: 600\tLog-likelihood: -9.03727080263277\n",
            "Iteration: 610\tLog-likelihood: -9.038358149281317\n",
            "Iteration: 620\tLog-likelihood: -9.034982366497385\n",
            "Iteration: 630\tLog-likelihood: -9.024450836820693\n",
            "Iteration: 640\tLog-likelihood: -9.024375295722116\n",
            "Iteration: 650\tLog-likelihood: -9.025830902484714\n",
            "Iteration: 660\tLog-likelihood: -9.031425817830375\n",
            "Iteration: 670\tLog-likelihood: -9.02629432573054\n",
            "Iteration: 680\tLog-likelihood: -9.027658816906047\n",
            "Iteration: 690\tLog-likelihood: -9.022188350348605\n",
            "Iteration: 700\tLog-likelihood: -9.023237031059779\n",
            "Iteration: 710\tLog-likelihood: -9.024247693636278\n",
            "Iteration: 720\tLog-likelihood: -9.020162128612233\n",
            "Iteration: 730\tLog-likelihood: -9.018805774747985\n",
            "Iteration: 740\tLog-likelihood: -9.011862158507867\n",
            "Iteration: 750\tLog-likelihood: -9.018476897738372\n",
            "Iteration: 760\tLog-likelihood: -9.01813971043364\n",
            "Iteration: 770\tLog-likelihood: -9.014166677499006\n",
            "Iteration: 780\tLog-likelihood: -9.011333354472496\n",
            "Iteration: 790\tLog-likelihood: -9.007401521418211\n",
            ">>> Working on the model with 160 topics >>>\n",
            "\n",
            "Iteration: 0\tLog-likelihood: -10.160886327820572\n",
            "Iteration: 10\tLog-likelihood: -9.854822892407622\n",
            "Iteration: 20\tLog-likelihood: -9.730784688373122\n",
            "Iteration: 30\tLog-likelihood: -9.655437324864897\n",
            "Iteration: 40\tLog-likelihood: -9.58718570772879\n",
            "Iteration: 50\tLog-likelihood: -9.541923275062597\n",
            "Iteration: 60\tLog-likelihood: -9.499973096972736\n",
            "Iteration: 70\tLog-likelihood: -9.462879067913121\n",
            "Iteration: 80\tLog-likelihood: -9.433248514659322\n",
            "Iteration: 90\tLog-likelihood: -9.41063949594034\n",
            "Iteration: 100\tLog-likelihood: -9.379239467139987\n",
            "Iteration: 110\tLog-likelihood: -9.34821074422087\n",
            "Iteration: 120\tLog-likelihood: -9.3308387700738\n",
            "Iteration: 130\tLog-likelihood: -9.313968009996596\n",
            "Iteration: 140\tLog-likelihood: -9.305850621762902\n",
            "Iteration: 150\tLog-likelihood: -9.291085328151523\n",
            "Iteration: 160\tLog-likelihood: -9.268374363311624\n",
            "Iteration: 170\tLog-likelihood: -9.258280995097424\n",
            "Iteration: 180\tLog-likelihood: -9.246047173697228\n",
            "Iteration: 190\tLog-likelihood: -9.231603986439637\n",
            "Iteration: 200\tLog-likelihood: -9.226421065428093\n",
            "Iteration: 210\tLog-likelihood: -9.217149081900011\n",
            "Iteration: 220\tLog-likelihood: -9.20810205627753\n",
            "Iteration: 230\tLog-likelihood: -9.204766369084297\n",
            "Iteration: 240\tLog-likelihood: -9.199145706268384\n",
            "Iteration: 250\tLog-likelihood: -9.191408378911833\n",
            "Iteration: 260\tLog-likelihood: -9.180806842590997\n",
            "Iteration: 270\tLog-likelihood: -9.17669729420268\n",
            "Iteration: 280\tLog-likelihood: -9.169739816935893\n",
            "Iteration: 290\tLog-likelihood: -9.163103761199322\n",
            "Iteration: 300\tLog-likelihood: -9.156493170083534\n",
            "Iteration: 310\tLog-likelihood: -9.156805196384354\n",
            "Iteration: 320\tLog-likelihood: -9.153692175597609\n",
            "Iteration: 330\tLog-likelihood: -9.140102429852297\n",
            "Iteration: 340\tLog-likelihood: -9.139936454541647\n",
            "Iteration: 350\tLog-likelihood: -9.140631087501802\n",
            "Iteration: 360\tLog-likelihood: -9.138237254444423\n",
            "Iteration: 370\tLog-likelihood: -9.133164907217195\n",
            "Iteration: 380\tLog-likelihood: -9.130921302143594\n",
            "Iteration: 390\tLog-likelihood: -9.131180875216659\n",
            "Iteration: 400\tLog-likelihood: -9.127586326749926\n",
            "Iteration: 410\tLog-likelihood: -9.124872666167242\n",
            "Iteration: 420\tLog-likelihood: -9.121310908411335\n",
            "Iteration: 430\tLog-likelihood: -9.117356479027702\n",
            "Iteration: 440\tLog-likelihood: -9.112372078811838\n",
            "Iteration: 450\tLog-likelihood: -9.109146870814536\n",
            "Iteration: 460\tLog-likelihood: -9.110622832496162\n",
            "Iteration: 470\tLog-likelihood: -9.107262674747597\n",
            "Iteration: 480\tLog-likelihood: -9.101191615351144\n",
            "Iteration: 490\tLog-likelihood: -9.09646508036572\n",
            "Iteration: 500\tLog-likelihood: -9.09402291103321\n",
            "Iteration: 510\tLog-likelihood: -9.09229395882316\n",
            "Iteration: 520\tLog-likelihood: -9.085532541668488\n",
            "Iteration: 530\tLog-likelihood: -9.088655312963295\n",
            "Iteration: 540\tLog-likelihood: -9.089018190332693\n",
            "Iteration: 550\tLog-likelihood: -9.087932620693522\n",
            "Iteration: 560\tLog-likelihood: -9.080134091316248\n",
            "Iteration: 570\tLog-likelihood: -9.08353434463707\n",
            "Iteration: 580\tLog-likelihood: -9.080790848169237\n",
            "Iteration: 590\tLog-likelihood: -9.079851297536958\n",
            "Iteration: 600\tLog-likelihood: -9.077514271149436\n",
            "Iteration: 610\tLog-likelihood: -9.07396259422053\n",
            "Iteration: 620\tLog-likelihood: -9.069652713505935\n",
            "Iteration: 630\tLog-likelihood: -9.07187700505867\n",
            "Iteration: 640\tLog-likelihood: -9.074334745793866\n",
            "Iteration: 650\tLog-likelihood: -9.066578480870447\n",
            "Iteration: 660\tLog-likelihood: -9.06527427270541\n",
            "Iteration: 670\tLog-likelihood: -9.059760957072331\n",
            "Iteration: 680\tLog-likelihood: -9.065112548321508\n",
            "Iteration: 690\tLog-likelihood: -9.062237404049744\n",
            "Iteration: 700\tLog-likelihood: -9.067326208138685\n",
            "Iteration: 710\tLog-likelihood: -9.071273484420592\n",
            "Iteration: 720\tLog-likelihood: -9.065127992921374\n",
            "Iteration: 730\tLog-likelihood: -9.056425942980963\n",
            "Iteration: 740\tLog-likelihood: -9.058769167030619\n",
            "Iteration: 750\tLog-likelihood: -9.055729412670212\n",
            "Iteration: 760\tLog-likelihood: -9.05317216363508\n",
            "Iteration: 770\tLog-likelihood: -9.046276643394272\n",
            "Iteration: 780\tLog-likelihood: -9.045562319775472\n",
            "Iteration: 790\tLog-likelihood: -9.044937715237094\n",
            ">>> Working on the model with 180 topics >>>\n",
            "\n",
            "Iteration: 0\tLog-likelihood: -10.217600118995117\n",
            "Iteration: 10\tLog-likelihood: -9.92369885382369\n",
            "Iteration: 20\tLog-likelihood: -9.787491469014778\n",
            "Iteration: 30\tLog-likelihood: -9.690079197473915\n",
            "Iteration: 40\tLog-likelihood: -9.633810033601465\n",
            "Iteration: 50\tLog-likelihood: -9.580304152675\n",
            "Iteration: 60\tLog-likelihood: -9.539086318039553\n",
            "Iteration: 70\tLog-likelihood: -9.509549345444183\n",
            "Iteration: 80\tLog-likelihood: -9.478605138668685\n",
            "Iteration: 90\tLog-likelihood: -9.448331382698647\n",
            "Iteration: 100\tLog-likelihood: -9.416991848897512\n",
            "Iteration: 110\tLog-likelihood: -9.405290451267021\n",
            "Iteration: 120\tLog-likelihood: -9.384030980741597\n",
            "Iteration: 130\tLog-likelihood: -9.362697914084396\n",
            "Iteration: 140\tLog-likelihood: -9.342833050182454\n",
            "Iteration: 150\tLog-likelihood: -9.333291928681508\n",
            "Iteration: 160\tLog-likelihood: -9.308966488672299\n",
            "Iteration: 170\tLog-likelihood: -9.298663996661434\n",
            "Iteration: 180\tLog-likelihood: -9.284422582040136\n",
            "Iteration: 190\tLog-likelihood: -9.272648684730818\n",
            "Iteration: 200\tLog-likelihood: -9.268330456272752\n",
            "Iteration: 210\tLog-likelihood: -9.259602048592079\n",
            "Iteration: 220\tLog-likelihood: -9.244956908244458\n",
            "Iteration: 230\tLog-likelihood: -9.239573928413977\n",
            "Iteration: 240\tLog-likelihood: -9.229979146367366\n",
            "Iteration: 250\tLog-likelihood: -9.226456262676274\n",
            "Iteration: 260\tLog-likelihood: -9.219748487853366\n",
            "Iteration: 270\tLog-likelihood: -9.21698342650194\n",
            "Iteration: 280\tLog-likelihood: -9.20386089929461\n",
            "Iteration: 290\tLog-likelihood: -9.201661474124187\n",
            "Iteration: 300\tLog-likelihood: -9.196772438686951\n",
            "Iteration: 310\tLog-likelihood: -9.194375915902523\n",
            "Iteration: 320\tLog-likelihood: -9.191923280351311\n",
            "Iteration: 330\tLog-likelihood: -9.180254633540674\n",
            "Iteration: 340\tLog-likelihood: -9.18256898032727\n",
            "Iteration: 350\tLog-likelihood: -9.176818405336155\n",
            "Iteration: 360\tLog-likelihood: -9.172396433320872\n",
            "Iteration: 370\tLog-likelihood: -9.168830122696106\n",
            "Iteration: 380\tLog-likelihood: -9.162375395234328\n",
            "Iteration: 390\tLog-likelihood: -9.169444540200436\n",
            "Iteration: 400\tLog-likelihood: -9.156955208317656\n",
            "Iteration: 410\tLog-likelihood: -9.152494244188611\n",
            "Iteration: 420\tLog-likelihood: -9.15210379711064\n",
            "Iteration: 430\tLog-likelihood: -9.152771351293978\n",
            "Iteration: 440\tLog-likelihood: -9.143849179198243\n",
            "Iteration: 450\tLog-likelihood: -9.143563824353507\n",
            "Iteration: 460\tLog-likelihood: -9.143039029261018\n",
            "Iteration: 470\tLog-likelihood: -9.136921995345629\n",
            "Iteration: 480\tLog-likelihood: -9.141527874409718\n",
            "Iteration: 490\tLog-likelihood: -9.134781002871714\n",
            "Iteration: 500\tLog-likelihood: -9.1385554228992\n",
            "Iteration: 510\tLog-likelihood: -9.130277155759192\n",
            "Iteration: 520\tLog-likelihood: -9.131523868497808\n",
            "Iteration: 530\tLog-likelihood: -9.136828977123855\n",
            "Iteration: 540\tLog-likelihood: -9.12691165911712\n",
            "Iteration: 550\tLog-likelihood: -9.119657722779323\n",
            "Iteration: 560\tLog-likelihood: -9.119138516259381\n",
            "Iteration: 570\tLog-likelihood: -9.12059469444459\n",
            "Iteration: 580\tLog-likelihood: -9.117635449636019\n",
            "Iteration: 590\tLog-likelihood: -9.111566750249207\n",
            "Iteration: 600\tLog-likelihood: -9.117069100960563\n",
            "Iteration: 610\tLog-likelihood: -9.117361843965273\n",
            "Iteration: 620\tLog-likelihood: -9.110404258660667\n",
            "Iteration: 630\tLog-likelihood: -9.113334148210807\n",
            "Iteration: 640\tLog-likelihood: -9.106403556322793\n",
            "Iteration: 650\tLog-likelihood: -9.110016505729705\n",
            "Iteration: 660\tLog-likelihood: -9.109095808718807\n",
            "Iteration: 670\tLog-likelihood: -9.096007996965744\n",
            "Iteration: 680\tLog-likelihood: -9.103306429642123\n",
            "Iteration: 690\tLog-likelihood: -9.093502164118382\n",
            "Iteration: 700\tLog-likelihood: -9.095349031441806\n",
            "Iteration: 710\tLog-likelihood: -9.092855360934522\n",
            "Iteration: 720\tLog-likelihood: -9.096034621179845\n",
            "Iteration: 730\tLog-likelihood: -9.09115165767449\n",
            "Iteration: 740\tLog-likelihood: -9.088754478560217\n",
            "Iteration: 750\tLog-likelihood: -9.092200353439713\n",
            "Iteration: 760\tLog-likelihood: -9.084881188277913\n",
            "Iteration: 770\tLog-likelihood: -9.080991906425403\n",
            "Iteration: 780\tLog-likelihood: -9.08241456778258\n",
            "Iteration: 790\tLog-likelihood: -9.086897009195335\n",
            ">>> Working on the model with 200 topics >>>\n",
            "\n",
            "Iteration: 0\tLog-likelihood: -10.2704561551761\n",
            "Iteration: 10\tLog-likelihood: -9.960091422109995\n",
            "Iteration: 20\tLog-likelihood: -9.829610989301655\n",
            "Iteration: 30\tLog-likelihood: -9.739829642046363\n",
            "Iteration: 40\tLog-likelihood: -9.684888079521308\n",
            "Iteration: 50\tLog-likelihood: -9.627364607851037\n",
            "Iteration: 60\tLog-likelihood: -9.577365488485194\n",
            "Iteration: 70\tLog-likelihood: -9.533188851786546\n",
            "Iteration: 80\tLog-likelihood: -9.503827177268926\n",
            "Iteration: 90\tLog-likelihood: -9.480508807589938\n",
            "Iteration: 100\tLog-likelihood: -9.454598439003119\n",
            "Iteration: 110\tLog-likelihood: -9.428983721515673\n",
            "Iteration: 120\tLog-likelihood: -9.408489158595453\n",
            "Iteration: 130\tLog-likelihood: -9.384757848457815\n",
            "Iteration: 140\tLog-likelihood: -9.366041163239176\n",
            "Iteration: 150\tLog-likelihood: -9.350014030592025\n",
            "Iteration: 160\tLog-likelihood: -9.338231464946078\n",
            "Iteration: 170\tLog-likelihood: -9.324934807774598\n",
            "Iteration: 180\tLog-likelihood: -9.313643815969614\n",
            "Iteration: 190\tLog-likelihood: -9.293641441848331\n",
            "Iteration: 200\tLog-likelihood: -9.287326375861578\n",
            "Iteration: 210\tLog-likelihood: -9.274797388033598\n",
            "Iteration: 220\tLog-likelihood: -9.278308253120441\n",
            "Iteration: 230\tLog-likelihood: -9.263728432040335\n",
            "Iteration: 240\tLog-likelihood: -9.258408732165304\n",
            "Iteration: 250\tLog-likelihood: -9.248818214699753\n",
            "Iteration: 260\tLog-likelihood: -9.243663407938469\n",
            "Iteration: 270\tLog-likelihood: -9.244877156300458\n",
            "Iteration: 280\tLog-likelihood: -9.232205891936381\n",
            "Iteration: 290\tLog-likelihood: -9.218765590242167\n",
            "Iteration: 300\tLog-likelihood: -9.214608256597732\n",
            "Iteration: 310\tLog-likelihood: -9.208591673359905\n",
            "Iteration: 320\tLog-likelihood: -9.20652565781984\n",
            "Iteration: 330\tLog-likelihood: -9.203107340818686\n",
            "Iteration: 340\tLog-likelihood: -9.198786919111441\n",
            "Iteration: 350\tLog-likelihood: -9.196076603866716\n",
            "Iteration: 360\tLog-likelihood: -9.188809526444095\n",
            "Iteration: 370\tLog-likelihood: -9.187553483671081\n",
            "Iteration: 380\tLog-likelihood: -9.195352223071637\n",
            "Iteration: 390\tLog-likelihood: -9.181356803295639\n",
            "Iteration: 400\tLog-likelihood: -9.176673104123653\n",
            "Iteration: 410\tLog-likelihood: -9.165259331054918\n",
            "Iteration: 420\tLog-likelihood: -9.169565408868385\n",
            "Iteration: 430\tLog-likelihood: -9.16207717301962\n",
            "Iteration: 440\tLog-likelihood: -9.160839796197894\n",
            "Iteration: 450\tLog-likelihood: -9.151885639352692\n",
            "Iteration: 460\tLog-likelihood: -9.147481067389295\n",
            "Iteration: 470\tLog-likelihood: -9.141793511038676\n",
            "Iteration: 480\tLog-likelihood: -9.142534988151517\n",
            "Iteration: 490\tLog-likelihood: -9.139757588810113\n",
            "Iteration: 500\tLog-likelihood: -9.135793789015562\n",
            "Iteration: 510\tLog-likelihood: -9.136127568506867\n",
            "Iteration: 520\tLog-likelihood: -9.134011378937801\n",
            "Iteration: 530\tLog-likelihood: -9.14141215872858\n",
            "Iteration: 540\tLog-likelihood: -9.135143203126038\n",
            "Iteration: 550\tLog-likelihood: -9.12895803158492\n",
            "Iteration: 560\tLog-likelihood: -9.130791866143639\n",
            "Iteration: 570\tLog-likelihood: -9.13074872597496\n",
            "Iteration: 580\tLog-likelihood: -9.123568715650835\n",
            "Iteration: 590\tLog-likelihood: -9.118695966272215\n",
            "Iteration: 600\tLog-likelihood: -9.115815683928654\n",
            "Iteration: 610\tLog-likelihood: -9.119981005737468\n",
            "Iteration: 620\tLog-likelihood: -9.117501838293327\n",
            "Iteration: 630\tLog-likelihood: -9.115972173074454\n",
            "Iteration: 640\tLog-likelihood: -9.11607438258788\n",
            "Iteration: 650\tLog-likelihood: -9.117589239848936\n",
            "Iteration: 660\tLog-likelihood: -9.120404677228866\n",
            "Iteration: 670\tLog-likelihood: -9.114499445795913\n",
            "Iteration: 680\tLog-likelihood: -9.10931292834005\n",
            "Iteration: 690\tLog-likelihood: -9.11003488002175\n",
            "Iteration: 700\tLog-likelihood: -9.111895533718972\n",
            "Iteration: 710\tLog-likelihood: -9.109681087670294\n",
            "Iteration: 720\tLog-likelihood: -9.106318417684188\n",
            "Iteration: 730\tLog-likelihood: -9.105998364672127\n",
            "Iteration: 740\tLog-likelihood: -9.09833498006499\n",
            "Iteration: 750\tLog-likelihood: -9.103793491983053\n",
            "Iteration: 760\tLog-likelihood: -9.100621315620495\n",
            "Iteration: 770\tLog-likelihood: -9.097361621902937\n",
            "Iteration: 780\tLog-likelihood: -9.097080419258697\n",
            "Iteration: 790\tLog-likelihood: -9.087341065896256\n",
            ">>> Working on the model with 220 topics >>>\n",
            "\n",
            "Iteration: 0\tLog-likelihood: -10.333480071164159\n",
            "Iteration: 10\tLog-likelihood: -10.029455831511665\n",
            "Iteration: 20\tLog-likelihood: -9.877332536025436\n",
            "Iteration: 30\tLog-likelihood: -9.78233241538709\n",
            "Iteration: 40\tLog-likelihood: -9.724668079547403\n",
            "Iteration: 50\tLog-likelihood: -9.66487322822904\n",
            "Iteration: 60\tLog-likelihood: -9.628226862352987\n",
            "Iteration: 70\tLog-likelihood: -9.57834654143353\n",
            "Iteration: 80\tLog-likelihood: -9.542652887399017\n",
            "Iteration: 90\tLog-likelihood: -9.50835367295791\n",
            "Iteration: 100\tLog-likelihood: -9.481034632324116\n",
            "Iteration: 110\tLog-likelihood: -9.455576176879958\n",
            "Iteration: 120\tLog-likelihood: -9.433263482070325\n",
            "Iteration: 130\tLog-likelihood: -9.412070205457715\n",
            "Iteration: 140\tLog-likelihood: -9.40036292617441\n",
            "Iteration: 150\tLog-likelihood: -9.379561179147284\n",
            "Iteration: 160\tLog-likelihood: -9.35728022360815\n",
            "Iteration: 170\tLog-likelihood: -9.345725178469959\n",
            "Iteration: 180\tLog-likelihood: -9.331700898085366\n",
            "Iteration: 190\tLog-likelihood: -9.313288134974554\n",
            "Iteration: 200\tLog-likelihood: -9.308727765050476\n",
            "Iteration: 210\tLog-likelihood: -9.30229972714534\n",
            "Iteration: 220\tLog-likelihood: -9.293450549629007\n",
            "Iteration: 230\tLog-likelihood: -9.275206503209315\n",
            "Iteration: 240\tLog-likelihood: -9.275524427031609\n",
            "Iteration: 250\tLog-likelihood: -9.265370737740115\n",
            "Iteration: 260\tLog-likelihood: -9.26151312355052\n",
            "Iteration: 270\tLog-likelihood: -9.246902933379285\n",
            "Iteration: 280\tLog-likelihood: -9.244135835969626\n",
            "Iteration: 290\tLog-likelihood: -9.235313530302871\n",
            "Iteration: 300\tLog-likelihood: -9.228589737730427\n",
            "Iteration: 310\tLog-likelihood: -9.218146031865688\n",
            "Iteration: 320\tLog-likelihood: -9.220616744668181\n",
            "Iteration: 330\tLog-likelihood: -9.213643785718821\n",
            "Iteration: 340\tLog-likelihood: -9.207735264418744\n",
            "Iteration: 350\tLog-likelihood: -9.204329772690565\n",
            "Iteration: 360\tLog-likelihood: -9.206740371415048\n",
            "Iteration: 370\tLog-likelihood: -9.192017943711368\n",
            "Iteration: 380\tLog-likelihood: -9.19359474863985\n",
            "Iteration: 390\tLog-likelihood: -9.191002092958026\n",
            "Iteration: 400\tLog-likelihood: -9.187393918395964\n",
            "Iteration: 410\tLog-likelihood: -9.18324953505408\n",
            "Iteration: 420\tLog-likelihood: -9.173464528126596\n",
            "Iteration: 430\tLog-likelihood: -9.176019949268602\n",
            "Iteration: 440\tLog-likelihood: -9.175192802164124\n",
            "Iteration: 450\tLog-likelihood: -9.172744627785269\n",
            "Iteration: 460\tLog-likelihood: -9.166192966865488\n",
            "Iteration: 470\tLog-likelihood: -9.160285353118109\n",
            "Iteration: 480\tLog-likelihood: -9.16235285131004\n",
            "Iteration: 490\tLog-likelihood: -9.15269015184979\n",
            "Iteration: 500\tLog-likelihood: -9.15258626739322\n",
            "Iteration: 510\tLog-likelihood: -9.147457278972253\n",
            "Iteration: 520\tLog-likelihood: -9.144737222547072\n",
            "Iteration: 530\tLog-likelihood: -9.144026589018084\n",
            "Iteration: 540\tLog-likelihood: -9.144162807746529\n",
            "Iteration: 550\tLog-likelihood: -9.14204460373948\n",
            "Iteration: 560\tLog-likelihood: -9.1364509193736\n",
            "Iteration: 570\tLog-likelihood: -9.137236664017054\n",
            "Iteration: 580\tLog-likelihood: -9.139982434401212\n",
            "Iteration: 590\tLog-likelihood: -9.1427161176296\n",
            "Iteration: 600\tLog-likelihood: -9.136311623932468\n",
            "Iteration: 610\tLog-likelihood: -9.130864277564378\n",
            "Iteration: 620\tLog-likelihood: -9.130768376622795\n",
            "Iteration: 630\tLog-likelihood: -9.12784426036385\n",
            "Iteration: 640\tLog-likelihood: -9.12354714469606\n",
            "Iteration: 650\tLog-likelihood: -9.123042995630527\n",
            "Iteration: 660\tLog-likelihood: -9.126621112705022\n",
            "Iteration: 670\tLog-likelihood: -9.119026522973515\n",
            "Iteration: 680\tLog-likelihood: -9.123478216208264\n",
            "Iteration: 690\tLog-likelihood: -9.113494538126943\n",
            "Iteration: 700\tLog-likelihood: -9.113311774413347\n",
            "Iteration: 710\tLog-likelihood: -9.108490405956665\n",
            "Iteration: 720\tLog-likelihood: -9.113156105926866\n",
            "Iteration: 730\tLog-likelihood: -9.114155279680128\n",
            "Iteration: 740\tLog-likelihood: -9.112867175790065\n",
            "Iteration: 750\tLog-likelihood: -9.106235653325678\n",
            "Iteration: 760\tLog-likelihood: -9.109914131905782\n",
            "Iteration: 770\tLog-likelihood: -9.105742395332896\n",
            "Iteration: 780\tLog-likelihood: -9.1007537664075\n",
            "Iteration: 790\tLog-likelihood: -9.101491334427694\n",
            ">>> Working on the model with 240 topics >>>\n",
            "\n",
            "Iteration: 0\tLog-likelihood: -10.379890905353893\n",
            "Iteration: 10\tLog-likelihood: -10.07135155135431\n",
            "Iteration: 20\tLog-likelihood: -9.931940340102663\n",
            "Iteration: 30\tLog-likelihood: -9.843207563704784\n",
            "Iteration: 40\tLog-likelihood: -9.75475681392244\n",
            "Iteration: 50\tLog-likelihood: -9.706977260457487\n",
            "Iteration: 60\tLog-likelihood: -9.665993194490587\n",
            "Iteration: 70\tLog-likelihood: -9.622120153082964\n",
            "Iteration: 80\tLog-likelihood: -9.58520042434528\n",
            "Iteration: 90\tLog-likelihood: -9.557349910952125\n",
            "Iteration: 100\tLog-likelihood: -9.519069317801533\n",
            "Iteration: 110\tLog-likelihood: -9.496379090600259\n",
            "Iteration: 120\tLog-likelihood: -9.468985211694081\n",
            "Iteration: 130\tLog-likelihood: -9.456423825676467\n",
            "Iteration: 140\tLog-likelihood: -9.43626627356545\n",
            "Iteration: 150\tLog-likelihood: -9.415370139857858\n",
            "Iteration: 160\tLog-likelihood: -9.40084145644105\n",
            "Iteration: 170\tLog-likelihood: -9.386261911626729\n",
            "Iteration: 180\tLog-likelihood: -9.377909340010941\n",
            "Iteration: 190\tLog-likelihood: -9.35795127905888\n",
            "Iteration: 200\tLog-likelihood: -9.349652433653574\n",
            "Iteration: 210\tLog-likelihood: -9.33746553526197\n",
            "Iteration: 220\tLog-likelihood: -9.335305586668063\n",
            "Iteration: 230\tLog-likelihood: -9.314503921676396\n",
            "Iteration: 240\tLog-likelihood: -9.303438003591422\n",
            "Iteration: 250\tLog-likelihood: -9.30018793965196\n",
            "Iteration: 260\tLog-likelihood: -9.290159899629728\n",
            "Iteration: 270\tLog-likelihood: -9.28674570194197\n",
            "Iteration: 280\tLog-likelihood: -9.27895163963365\n",
            "Iteration: 290\tLog-likelihood: -9.27076994670721\n",
            "Iteration: 300\tLog-likelihood: -9.261032600662595\n",
            "Iteration: 310\tLog-likelihood: -9.261348955173336\n",
            "Iteration: 320\tLog-likelihood: -9.25467555050022\n",
            "Iteration: 330\tLog-likelihood: -9.252065863216679\n",
            "Iteration: 340\tLog-likelihood: -9.24845427591726\n",
            "Iteration: 350\tLog-likelihood: -9.237999743652075\n",
            "Iteration: 360\tLog-likelihood: -9.23470521781844\n",
            "Iteration: 370\tLog-likelihood: -9.223138045203159\n",
            "Iteration: 380\tLog-likelihood: -9.226949796775934\n",
            "Iteration: 390\tLog-likelihood: -9.224090477640758\n",
            "Iteration: 400\tLog-likelihood: -9.212584661615589\n",
            "Iteration: 410\tLog-likelihood: -9.210408628791791\n",
            "Iteration: 420\tLog-likelihood: -9.210710699802556\n",
            "Iteration: 430\tLog-likelihood: -9.206775398404892\n",
            "Iteration: 440\tLog-likelihood: -9.204824770482059\n",
            "Iteration: 450\tLog-likelihood: -9.200074838538365\n",
            "Iteration: 460\tLog-likelihood: -9.20017983152926\n",
            "Iteration: 470\tLog-likelihood: -9.189970771412602\n",
            "Iteration: 480\tLog-likelihood: -9.188453144442242\n",
            "Iteration: 490\tLog-likelihood: -9.183290408668757\n",
            "Iteration: 500\tLog-likelihood: -9.186909897305537\n",
            "Iteration: 510\tLog-likelihood: -9.185656523270387\n",
            "Iteration: 520\tLog-likelihood: -9.188346816199601\n",
            "Iteration: 530\tLog-likelihood: -9.179037353021585\n",
            "Iteration: 540\tLog-likelihood: -9.17973257020668\n",
            "Iteration: 550\tLog-likelihood: -9.179678791693249\n",
            "Iteration: 560\tLog-likelihood: -9.176426162529875\n",
            "Iteration: 570\tLog-likelihood: -9.176486021622212\n",
            "Iteration: 580\tLog-likelihood: -9.173824301593813\n",
            "Iteration: 590\tLog-likelihood: -9.173610637443362\n",
            "Iteration: 600\tLog-likelihood: -9.162602504970966\n",
            "Iteration: 610\tLog-likelihood: -9.166528508429948\n",
            "Iteration: 620\tLog-likelihood: -9.166254346359684\n",
            "Iteration: 630\tLog-likelihood: -9.17030353664655\n",
            "Iteration: 640\tLog-likelihood: -9.172703457303955\n",
            "Iteration: 650\tLog-likelihood: -9.173216425936944\n",
            "Iteration: 660\tLog-likelihood: -9.164448224853581\n",
            "Iteration: 670\tLog-likelihood: -9.157456628515359\n",
            "Iteration: 680\tLog-likelihood: -9.157449803533908\n",
            "Iteration: 690\tLog-likelihood: -9.154254267412785\n",
            "Iteration: 700\tLog-likelihood: -9.15143952272566\n",
            "Iteration: 710\tLog-likelihood: -9.156516307515009\n",
            "Iteration: 720\tLog-likelihood: -9.157872777135458\n",
            "Iteration: 730\tLog-likelihood: -9.146891756973059\n",
            "Iteration: 740\tLog-likelihood: -9.146130430286293\n",
            "Iteration: 750\tLog-likelihood: -9.14231539137825\n",
            "Iteration: 760\tLog-likelihood: -9.145507885917356\n",
            "Iteration: 770\tLog-likelihood: -9.139403810046401\n",
            "Iteration: 780\tLog-likelihood: -9.136174223848801\n",
            "Iteration: 790\tLog-likelihood: -9.133662416195781\n"
          ]
        }
      ],
      "source": [
        "corpus = tp.utils.Corpus()\n",
        "for item in tkns_docs:\n",
        "    corpus.add_doc(words=item)\n",
        "mf = {}\n",
        "for i in range(20, 260, 20):\n",
        "    print(\n",
        "        \">>> Working on the model with {} topics >>>\\n\".format(i),\n",
        "        flush=True\n",
        "    )\n",
        "    mdl = tp.LDAModel(k=i, corpus=corpus, min_df=5, rm_top=5, seed=42)\n",
        "    mdl.train(0)\n",
        "    for j in range(0, 800, 10):\n",
        "        mdl.train(10)\n",
        "        print(\"Iteration: {}\\tLog-likelihood: {}\".format(j, mdl.ll_per_word))\n",
        "    coh = tp.coherence.Coherence(mdl, coherence=\"u_mass\")\n",
        "    mf[i] = coh.get_score()\n",
        "    mdl.save(\"k_{}\".format(i), True)"
      ]
    },
    {
      "cell_type": "code",
      "execution_count": 18,
      "metadata": {},
      "outputs": [
        {
          "data": {
            "image/png": "[encoded data removed]",
            "text/plain": [
              "<Figure size 720x324 with 1 Axes>"
            ]
          },
          "metadata": {
            "needs_background": "light"
          },
          "output_type": "display_data"
        }
      ],
      "source": [
        "fig = plt.figure(figsize=(10, 4.5))\n",
        "ax = fig.add_subplot(111)\n",
        "sns.barplot(x=list(mf.keys()), y=[-1*score for score in mf.values()], ax=ax)\n",
        "ax.set_xlabel(\"Number of topics retained\")\n",
        "ax.set_ylabel(\"Coherence Score (-1 * 'umass')\")\n",
        "plt.show()"
      ]
    },
    {
      "cell_type": "code",
      "execution_count": null,
      "metadata": {},
      "outputs": [],
      "source": [
        "best_mdl = tp.LDAModel.load(\"k_200\")                             # step 1\n",
        "td = pd.DataFrame(                                                # step 2\n",
        "    np.stack([doc.get_topic_dist() for doc in best_mdl.docs]),\n",
        "    columns=[\"topic_{}\".format(i + 1) for i in range(best_mdl.k)],\n",
        ")\n",
        "td.info(verbose=True, null_counts=True)"
      ]
    },
    {
      "cell_type": "code",
      "execution_count": null,
      "metadata": {},
      "outputs": [],
      "source": [
        "from rich.console import Console\n",
        "from rich.table import Table"
      ]
    },
    {
      "cell_type": "code",
      "execution_count": null,
      "metadata": {},
      "outputs": [],
      "source": [
        "# inspect the output of the LDA algorithm\n",
        "\n",
        "# create a Rich's table to print the output of the spaCy's pipeline\n",
        "console = Console()\n",
        "# defin table properties\n",
        "table = Table(\n",
        "    show_header=True,\n",
        "    header_style=\"cyan\",\n",
        "    title=\"[bold] [cyan] Word to topic probabilities (top 10 words)[/cyan]\",\n",
        "    width=150,\n",
        ")\n",
        "# add columns\n",
        "table.add_column(\"Topic\", justify=\"center\", style=\"cyan\", width=10)\n",
        "table.add_column(\"W 1\", width=12)\n",
        "table.add_column(\"W 2\", width=12)\n",
        "table.add_column(\"W 3\", width=12)\n",
        "table.add_column(\"W 4\", width=12)\n",
        "table.add_column(\"W 5\", width=12)\n",
        "table.add_column(\"W 6\", width=12)\n",
        "table.add_column(\"W 7\", width=12)\n",
        "table.add_column(\"W 8\", width=12)\n",
        "table.add_column(\"W 9\", width=12)\n",
        "table.add_column(\"W 10\", width=12)\n",
        "# add rows\n",
        "for k in range(best_mdl.k):\n",
        "    values = []\n",
        "    for word, prob in best_mdl.get_topic_words(k):\n",
        "        values.append(\"{}\\n({})\\n\".format(word, str(np.round(prob, 3))))       \n",
        "    table.add_row(\n",
        "        str(k),\n",
        "        values[0],\n",
        "        values[1],\n",
        "        values[2],\n",
        "        values[3],\n",
        "        values[4],\n",
        "        values[5],\n",
        "        values[6],\n",
        "        values[7],\n",
        "        values[8],\n",
        "        values[9],\n",
        "    )\n",
        "# print the table\n",
        "table"
      ]
    },
    {
      "cell_type": "code",
      "execution_count": null,
      "metadata": {},
      "outputs": [],
      "source": [
        "#Creating Topic Distance Visualization \n",
        "import pyLDAvis\n",
        "topic_term_dists = np.stack(                                 # step 1\n",
        "    [best_mdl.get_topic_word_dist(k) for k in range(best_mdl.k)]\n",
        ")\n",
        "doc_topic_dists = np.stack(                                  # step 2\n",
        "    [doc.get_topic_dist() for doc in best_mdl.docs]\n",
        ")\n",
        "doc_topic_dists /= doc_topic_dists.sum(axis=1, keepdims=True)\n",
        "doc_lengths = np.array([len(doc.words) for doc in best_mdl.docs]) # step 3\n",
        "vocab = list(best_mdl.used_vocabs)                                # step 4\n",
        "term_frequency = best_mdl.used_vocab_freq     "
      ]
    },
    {
      "cell_type": "code",
      "execution_count": null,
      "metadata": {},
      "outputs": [],
      "source": [
        "prepared_data = pyLDAvis.prepare(\n",
        "        topic_term_dists, \n",
        "        doc_topic_dists, \n",
        "        doc_lengths, \n",
        "        vocab, \n",
        "        term_frequency,\n",
        "        start_index=0, \n",
        "        sort_topics=False \n",
        "    )"
      ]
    },
    {
      "cell_type": "code",
      "execution_count": null,
      "metadata": {},
      "outputs": [],
      "source": [
        "pyLDAvis.display(prepared_data)"
      ]
    },
    {
      "cell_type": "code",
      "execution_count": null,
      "metadata": {},
      "outputs": [],
      "source": [
        "\n",
        "pyLDAvis.save_html(prepared_data, 'ldavis.html')"
      ]
    },
    {
      "cell_type": "code",
      "execution_count": null,
      "metadata": {},
      "outputs": [],
      "source": [
        "# combine the LDA result with sentiment analysis\n",
        "scaler = MinMaxScaler()\n",
        "# Scale values by row\n",
        "td_scaled = pd.DataFrame(scaler.fit_transform(td.T).T, columns=td.columns)\n",
        "# merge with sentiment and original dataframe\n",
        "s0 = s.reset_index()\n",
        "s0.rename(columns = {'index':'review_id'}, inplace = True) # get review_id\n",
        "s0 = pd.merge(s0.iloc[:, 0], td_scaled, left_index = True, right_index = True) # add review_id\n",
        "s0 = pd.merge(train, s0, how = 'right', left_index = True, right_on='review_id') #with sentiment variables"
      ]
    },
    {
      "cell_type": "code",
      "execution_count": null,
      "metadata": {},
      "outputs": [],
      "source": [
        "# split training and test set\n",
        "X, y = s0.iloc[:,2:].values, s0.loc[:, \"helpfulness_cat\"].values\n",
        "X_train, X_test, y_train, y_test = train_test_split(\n",
        "    X,\n",
        "    y,\n",
        "    test_size=0.3,\n",
        "    random_state=0\n",
        ")"
      ]
    },
    {
      "cell_type": "code",
      "execution_count": null,
      "metadata": {},
      "outputs": [],
      "source": [
        "# scale variables\n",
        "def scale_variables(x):\n",
        "    df = pd.DataFrame(x)\n",
        "    df = scaler.fit_transform(df)\n",
        "    return df"
      ]
    },
    {
      "cell_type": "code",
      "execution_count": null,
      "metadata": {},
      "outputs": [],
      "source": [
        "X_train = scale_variables(X_train)\n",
        "X_test = scale_variables(X_test)"
      ]
    },
    {
      "cell_type": "code",
      "execution_count": null,
      "metadata": {},
      "outputs": [],
      "source": [
        "from sklearn.linear_model import RidgeClassifier\n",
        "ridge_c = RidgeClassifier(alpha=0.1, random_state=0, fit_intercept=False)\n",
        "ridge_c.fit(X_train, y_train)\n",
        "ridge_c.score(X_test, y_test)\n",
        "y_pred = ridge_c.predict(X_test)"
      ]
    },
    {
      "cell_type": "code",
      "execution_count": null,
      "metadata": {},
      "outputs": [],
      "source": [
        "from sklearn.metrics import classification_report\n",
        "print(classification_report(y_test,y_pred))"
      ]
    },
    {
      "cell_type": "code",
      "execution_count": null,
      "metadata": {},
      "outputs": [],
      "source": [
        "# build naive bayesian classifier\n",
        "from sklearn.naive_bayes import MultinomialNB"
      ]
    },
    {
      "cell_type": "code",
      "execution_count": null,
      "metadata": {},
      "outputs": [],
      "source": [
        "mnb = MultinomialNB()\n",
        "mnb.fit(X_train, y_train)"
      ]
    },
    {
      "cell_type": "code",
      "execution_count": null,
      "metadata": {},
      "outputs": [],
      "source": [
        "# making predictions on the testing set\n",
        "y_pred = mnb.predict(X_test)\n",
        " \n",
        "# comparing actual response values (y_test) with predicted response values (y_pred)\n",
        "from sklearn import metrics\n",
        "print(\"Multinomial Naive Bayes model accuracy(in %):\", metrics.accuracy_score(y_test, y_pred)*100)"
      ]
    },
    {
      "cell_type": "code",
      "execution_count": null,
      "metadata": {},
      "outputs": [],
      "source": [
        "print(classification_report(y_test,y_pred))"
      ]
    },
    {
      "cell_type": "code",
      "execution_count": null,
      "metadata": {},
      "outputs": [],
      "source": [
        "# import libraries\n",
        "import tensorflow as tf\n",
        "from tensorflow import keras\n",
        "from tensorflow.keras import layers\n",
        "from tensorflow.keras import callbacks\n",
        "import keras_tuner as kt"
      ]
    },
    {
      "cell_type": "code",
      "execution_count": null,
      "metadata": {},
      "outputs": [],
      "source": [
        "# split training and test set\n",
        "X, y = s0.iloc[:,2:].values, s0.loc[:, \"helpfulness_cat\"].values\n",
        "X_train, X_test, y_train, y_test = train_test_split(\n",
        "    X,\n",
        "    y,\n",
        "    test_size=0.3,\n",
        "    random_state=0\n",
        ")\n",
        "# split train dataset into train and validation dataset\n",
        "X_train, X_valid, y_train, y_valid = train_test_split(X_train, y_train, test_size=0.3, random_state=42)"
      ]
    },
    {
      "cell_type": "code",
      "execution_count": null,
      "metadata": {},
      "outputs": [],
      "source": [
        "X_train = scale_variables(X_train)\n",
        "X_valid = scale_variables(X_valid)\n",
        "X_test = scale_variables(X_test)"
      ]
    },
    {
      "cell_type": "code",
      "execution_count": null,
      "metadata": {},
      "outputs": [],
      "source": [
        "print(X_train.shape)\n",
        "print(y_train.shape)\n",
        "print(X_valid.shape)\n",
        "print(y_valid.shape)"
      ]
    },
    {
      "cell_type": "code",
      "execution_count": null,
      "metadata": {},
      "outputs": [],
      "source": [
        "# set up a basic deep learning model\n",
        "#    Sequential model: one input and one output layer\n",
        "model = keras.models.Sequential([\n",
        "    keras.layers.Dense(64, activation='relu', input_shape=X_train.shape[1:]),\n",
        "    #tf.keras.layers.Dropout(rate=0.2),\n",
        "    keras.layers.Dense(32,activation='relu'),\n",
        "    keras.layers.Dense(8,activation='relu'),\n",
        "    keras.layers.Dense(1)\n",
        "])\n",
        "optimizer = tf.keras.optimizers.Adam(learning_rate=0.0001)\n",
        "model.compile(loss='binary_crossentropy', optimizer=optimizer,metrics=['Acc'])\n",
        "history = model.fit(X_train, y_train, epochs=30,\n",
        "                   validation_data=(X_valid, y_valid))"
      ]
    },
    {
      "cell_type": "code",
      "execution_count": null,
      "metadata": {},
      "outputs": [],
      "source": [
        "plt.plot(history.history['loss'],label = \"training loss\")\n",
        "plt.plot(history.history['val_loss'], label = \"validation loss\")\n",
        "plt.legend()\n",
        "plt.show()"
      ]
    },
    {
      "cell_type": "code",
      "execution_count": null,
      "metadata": {},
      "outputs": [],
      "source": [
        "plt.plot(history.history['Acc'],label = \"training acc\")\n",
        "plt.plot(history.history['val_Acc'], label = \"validation acc\")\n",
        "plt.legend()\n",
        "plt.show()"
      ]
    },
    {
      "cell_type": "markdown",
      "metadata": {
        "id": "tpM7T-A9Mig4"
      },
      "source": [
        "### pytorch text classification"
      ]
    },
    {
      "cell_type": "code",
      "execution_count": null,
      "metadata": {
        "id": "7-8mwTPPMig4"
      },
      "outputs": [],
      "source": [
        "# load libraries\n",
        "import torch\n",
        "from torch.utils.data import DataLoader\n",
        "# set device\n",
        "device = torch.device(\"cuda\" if torch.cuda.is_available() else \"cpu\")"
      ]
    },
    {
      "cell_type": "code",
      "execution_count": null,
      "metadata": {
        "id": "045q0fHLMig4"
      },
      "outputs": [],
      "source": [
        "from torchtext.data.utils import get_tokenizer\n",
        "from torchtext.vocab import build_vocab_from_iterator"
      ]
    },
    {
      "cell_type": "code",
      "execution_count": null,
      "metadata": {
        "id": "2V-UFiyHMig5"
      },
      "outputs": [],
      "source": [
        "# convert train data to list with labels\n",
        "train_data = []\n",
        "for i in range(len(train)):\n",
        "    train_data.append((int(train['helpfulness_cat'][i]), train['imdb_user_review'][i]))"
      ]
    },
    {
      "cell_type": "code",
      "execution_count": null,
      "metadata": {
        "id": "y0IlEQ0eMig5",
        "outputId": "ab9d8a44-a5d9-4f7e-9bc4-8414eb727c75"
      },
      "outputs": [
        {
          "name": "stdout",
          "output_type": "stream",
          "text": [
            "Null values in train_data: 0\n"
          ]
        }
      ],
      "source": [
        "# check null values in train_data\n",
        "null_count = 0\n",
        "for i in range(len(train_data)):\n",
        "    if train_data[i][0] == 'nan':\n",
        "        null_count += 1\n",
        "print(\"Null values in train_data:\", null_count)\n"
      ]
    },
    {
      "cell_type": "code",
      "execution_count": null,
      "metadata": {
        "id": "tedAOt5ZMig5"
      },
      "outputs": [],
      "source": [
        "# convert train_data to iterator\n",
        "train_data_iter = iter(train_data)"
      ]
    },
    {
      "cell_type": "code",
      "execution_count": null,
      "metadata": {
        "id": "aysGaEbXMig5"
      },
      "outputs": [],
      "source": [
        "# tokenization\n",
        "tokenizer = get_tokenizer('basic_english')\n",
        "# apply the tokenizer\n",
        "# --+ custom function\n",
        "def yield_tokens(data_iter):\n",
        "    for _, text in data_iter:\n",
        "        yield tokenizer(text)\n",
        "# --+ deploy the tokenizer to get the vocabulary\n",
        "vocab = build_vocab_from_iterator(yield_tokens(train_data_iter), specials=[\"<unk>\"])\n",
        "vocab.set_default_index(vocab[\"<unk>\"])"
      ]
    },
    {
      "cell_type": "code",
      "execution_count": null,
      "metadata": {
        "id": "E7FhH6SfMig5"
      },
      "outputs": [],
      "source": [
        "# tokenize Yelp reviews \n",
        "text_pipeline = lambda x: vocab(tokenizer(x))\n",
        "# encode review labels\n",
        "label_pipeline = lambda x: int(x)"
      ]
    },
    {
      "cell_type": "code",
      "execution_count": null,
      "metadata": {
        "id": "pwrP4jmCMig5"
      },
      "outputs": [],
      "source": [
        "train_data_iter = iter(train_data)"
      ]
    },
    {
      "cell_type": "code",
      "execution_count": null,
      "metadata": {
        "id": "Ka0eVl9cMig5"
      },
      "outputs": [],
      "source": [
        "# custom function\n",
        "def collate_batch(batch):\n",
        "    label_list, text_list, offsets = [], [], [0]\n",
        "    for (_label, _text) in batch:\n",
        "         label_list.append(label_pipeline(_label))\n",
        "         processed_text = torch.tensor(text_pipeline(_text), dtype=torch.int64)\n",
        "         text_list.append(processed_text)\n",
        "         offsets.append(processed_text.size(0))\n",
        "    label_list = torch.tensor(label_list, dtype=torch.int64)\n",
        "    offsets = torch.tensor(offsets[:-1]).cumsum(dim=0)\n",
        "    text_list = torch.cat(text_list)\n",
        "    return label_list.to(device), text_list.to(device), offsets.to(device)\n",
        "# deploy the function\n",
        "dataloader = DataLoader(train_data_iter, batch_size=8, shuffle=False, collate_fn=collate_batch)"
      ]
    },
    {
      "cell_type": "code",
      "execution_count": null,
      "metadata": {
        "id": "6I_Jh6KeMig5"
      },
      "outputs": [],
      "source": [
        "train_data_iter = iter(train_data)"
      ]
    },
    {
      "cell_type": "code",
      "execution_count": null,
      "metadata": {
        "id": "KHefnD-9Mig6"
      },
      "outputs": [],
      "source": [
        "# %%\n",
        "# model creation\n",
        "\n",
        "# load libraries\n",
        "from torch import nn\n",
        "# the class associated with the module\n",
        "class TextClassificationModel(nn.Module):\n",
        "\n",
        "    def __init__(self, vocab_size, embed_dim, num_class):\n",
        "        super(TextClassificationModel, self).__init__()\n",
        "        self.embedding = nn.EmbeddingBag(vocab_size, embed_dim, sparse=True)\n",
        "        self.fc = nn.Linear(embed_dim, num_class)\n",
        "        self.init_weights()\n",
        "\n",
        "    def init_weights(self):\n",
        "        initrange = 0.5\n",
        "        self.embedding.weight.data.uniform_(-initrange, initrange)\n",
        "        self.fc.weight.data.uniform_(-initrange, initrange)\n",
        "        self.fc.bias.data.zero_()\n",
        "\n",
        "    def forward(self, text, offsets):\n",
        "        embedded = self.embedding(text, offsets)\n",
        "        return self.fc(embedded)"
      ]
    },
    {
      "cell_type": "code",
      "execution_count": null,
      "metadata": {
        "id": "VHQOc72dMig6"
      },
      "outputs": [],
      "source": [
        "# %%\n",
        "# model set up\n",
        "train_data_iter = iter(train_data)\n",
        "# examples\n",
        "# classes\n",
        "num_class = len(set([label for (label, text) in train_data_iter]))\n",
        "# vocabulary size\n",
        "vocab_size = len(vocab)\n",
        "# ebedding bag size\n",
        "emsize = 64\n",
        "# model instantiation\n",
        "model = TextClassificationModel(vocab_size, emsize, num_class).to(device)"
      ]
    },
    {
      "cell_type": "code",
      "execution_count": null,
      "metadata": {
        "id": "4OjBSForMig6"
      },
      "outputs": [],
      "source": [
        "train_data_iter = iter(train_data)"
      ]
    },
    {
      "cell_type": "code",
      "execution_count": null,
      "metadata": {
        "id": "EEy1VRIoMig6"
      },
      "outputs": [],
      "source": [
        "# load library \n",
        "import time\n",
        "# custom function for training \n",
        "def train(dataloader):\n",
        "    model.train()\n",
        "    total_acc, total_count = 0, 0\n",
        "    log_interval = 500\n",
        "    start_time = time.time()\n",
        "\n",
        "    for idx, (label, text, offsets) in enumerate(dataloader):\n",
        "        optimizer.zero_grad()\n",
        "        predicted_label = model(text, offsets)\n",
        "        loss = criterion(predicted_label, label)\n",
        "        loss.backward()\n",
        "        torch.nn.utils.clip_grad_norm_(model.parameters(), 0.1)\n",
        "        optimizer.step()\n",
        "        total_acc += (predicted_label.argmax(1) == label).sum().item()\n",
        "        total_count += label.size(0)\n",
        "        if idx % log_interval == 0 and idx > 0:\n",
        "            elapsed = time.time() - start_time\n",
        "            print('| epoch {:3d} | {:5d}/{:5d} batches '\n",
        "                  '| accuracy {:8.3f}'.format(epoch, idx, len(dataloader),\n",
        "                                              total_acc/total_count))\n",
        "            total_acc, total_count = 0, 0\n",
        "            start_time = time.time()"
      ]
    },
    {
      "cell_type": "code",
      "execution_count": null,
      "metadata": {
        "id": "rjYuyhX0Mig6"
      },
      "outputs": [],
      "source": [
        "# custom function for evaluation\n",
        "def evaluate(dataloader):\n",
        "    model.eval()\n",
        "    total_acc, total_count = 0, 0\n",
        "\n",
        "    with torch.no_grad():\n",
        "        for idx, (label, text, offsets) in enumerate(dataloader):\n",
        "            predicted_label = model(text, offsets)\n",
        "            loss = criterion(predicted_label, label)\n",
        "            total_acc += (predicted_label.argmax(1) == label).sum().item()\n",
        "            total_count += label.size(0)\n",
        "    return total_acc/total_count"
      ]
    },
    {
      "cell_type": "code",
      "execution_count": null,
      "metadata": {
        "id": "BLq-E2J5Mig6"
      },
      "outputs": [],
      "source": [
        "train_data_iter = iter(train_data)"
      ]
    },
    {
      "cell_type": "code",
      "execution_count": null,
      "metadata": {
        "id": "NVfNWSZZMig6"
      },
      "outputs": [],
      "source": [
        "# load libraries \n",
        "from torch.utils.data.dataset import random_split\n",
        "from torchtext.data.functional import to_map_style_dataset\n",
        "# hyperparameters for the search\n",
        "# --+ epoch\n",
        "EPOCHS = 10 \n",
        "# --+ learning rate\n",
        "LR = 5  \n",
        "# --+ batch size for training\n",
        "BATCH_SIZE = 64 \n",
        "# optimization\n",
        "criterion = torch.nn.CrossEntropyLoss()\n",
        "optimizer = torch.optim.SGD(model.parameters(), lr=LR)\n",
        "scheduler = torch.optim.lr_scheduler.StepLR(optimizer, 1.0, gamma=0.1)\n",
        "total_accu = None\n",
        "# data handling\n",
        "train_dataset = to_map_style_dataset(train_data_iter)\n",
        "#test_dataset = to_map_style_dataset(test_iter)\n",
        "num_train = int(len(train_dataset) * 0.95)\n",
        "split_train_, split_valid_ = \\\n",
        "    random_split(train_dataset, [num_train, len(train_dataset) - num_train])\n",
        "\n",
        "train_dataloader = DataLoader(split_train_, batch_size=BATCH_SIZE,\n",
        "                              shuffle=True, collate_fn=collate_batch)\n",
        "valid_dataloader = DataLoader(split_valid_, batch_size=BATCH_SIZE,\n",
        "                              shuffle=True, collate_fn=collate_batch)\n",
        "#test_dataloader = DataLoader(test_dataset, batch_size=BATCH_SIZE,\n",
        "                             #shuffle=True, collate_fn=collate_batch)"
      ]
    },
    {
      "cell_type": "code",
      "execution_count": null,
      "metadata": {
        "id": "emuDRKimMig6",
        "outputId": "135968c6-c7cd-45b0-a821-56e77cc24a5a"
      },
      "outputs": [
        {
          "name": "stdout",
          "output_type": "stream",
          "text": [
            "(tensor([1, 1, 0, 1, 1, 1, 1, 1, 1, 1, 1, 1, 0, 1, 0, 1, 1, 1, 0, 1, 0, 1, 0, 1,\n",
            "        0, 1, 1, 1, 1, 1, 1, 0, 0, 1, 1, 1, 0, 1, 1, 1, 1, 1, 1, 1, 1, 1, 1, 0,\n",
            "        0, 0, 1, 1, 1, 1, 1, 0, 1, 1, 1, 0, 1, 1, 1, 1]), tensor([  95,    6,   33,  ..., 1047,  152,    1]), tensor([    0,   176,   341,   355,   505,   550,   652,   819,  2021,  2685,\n",
            "         2801,  3010,  3730,  3859,  4011,  4208,  4322,  4449,  4606,  4634,\n",
            "         4990,  5317,  5911,  5936,  6703,  6815,  6887,  7031,  7459,  7711,\n",
            "         7918,  8073,  8169,  8206,  8309,  8433,  8607,  8751,  8955,  9008,\n",
            "         9105,  9241,  9382,  9549,  9561,  9577, 10450, 10863, 11005, 11034,\n",
            "        11205, 11399, 11972, 12010, 12176, 12805, 12920, 12946, 13013, 13065,\n",
            "        13109, 13231, 13382, 13627]))\n"
          ]
        }
      ],
      "source": [
        "# check the train_dataloader\n",
        "for batch in train_dataloader:\n",
        "    print(batch)\n",
        "    break"
      ]
    },
    {
      "cell_type": "code",
      "execution_count": null,
      "metadata": {
        "id": "brDIwU9oMig7",
        "outputId": "9d6aa046-20b7-4f4c-cb30-36a17c863738"
      },
      "outputs": [
        {
          "name": "stdout",
          "output_type": "stream",
          "text": [
            "-----------------------------------------------------------\n",
            "| end of epoch   1 | time:  2.34s | valid accuracy    0.768 \n",
            "-----------------------------------------------------------\n",
            "-----------------------------------------------------------\n",
            "| end of epoch   2 | time:  2.29s | valid accuracy    0.768 \n",
            "-----------------------------------------------------------\n",
            "-----------------------------------------------------------\n",
            "| end of epoch   3 | time:  2.33s | valid accuracy    0.755 \n",
            "-----------------------------------------------------------\n",
            "-----------------------------------------------------------\n",
            "| end of epoch   4 | time:  2.31s | valid accuracy    0.770 \n",
            "-----------------------------------------------------------\n",
            "-----------------------------------------------------------\n",
            "| end of epoch   5 | time:  2.37s | valid accuracy    0.764 \n",
            "-----------------------------------------------------------\n",
            "-----------------------------------------------------------\n",
            "| end of epoch   6 | time:  2.39s | valid accuracy    0.768 \n",
            "-----------------------------------------------------------\n",
            "-----------------------------------------------------------\n",
            "| end of epoch   7 | time:  2.36s | valid accuracy    0.768 \n",
            "-----------------------------------------------------------\n",
            "-----------------------------------------------------------\n",
            "| end of epoch   8 | time:  2.51s | valid accuracy    0.768 \n",
            "-----------------------------------------------------------\n",
            "-----------------------------------------------------------\n",
            "| end of epoch   9 | time:  2.35s | valid accuracy    0.768 \n",
            "-----------------------------------------------------------\n",
            "-----------------------------------------------------------\n",
            "| end of epoch  10 | time:  2.51s | valid accuracy    0.768 \n",
            "-----------------------------------------------------------\n"
          ]
        }
      ],
      "source": [
        "# logging\n",
        "for epoch in range(1, EPOCHS + 1):\n",
        "    epoch_start_time = time.time()\n",
        "    train(train_dataloader)\n",
        "    accu_val = evaluate(valid_dataloader)\n",
        "    if total_accu is not None and total_accu > accu_val:\n",
        "      scheduler.step()\n",
        "    else:\n",
        "       total_accu = accu_val\n",
        "    print('-' * 59)\n",
        "    print('| end of epoch {:3d} | time: {:5.2f}s | '\n",
        "          'valid accuracy {:8.3f} '.format(epoch,\n",
        "                                           time.time() - epoch_start_time,\n",
        "                                           accu_val))\n",
        "    print('-' * 59)\n"
      ]
    },
    {
      "cell_type": "code",
      "execution_count": null,
      "metadata": {
        "id": "YMy8Jx4nMig7",
        "outputId": "e23ee8e8-7516-45b8-9ad2-6e5452ddc096"
      },
      "outputs": [
        {
          "name": "stdout",
          "output_type": "stream",
          "text": [
            "This is a helpful movie review\n"
          ]
        }
      ],
      "source": [
        "# test on random unseen review\n",
        "\n",
        "# labels\n",
        "review_label = {1: \"helpful\",\n",
        "                0: \"unhelpful\"}\n",
        "\n",
        "def predict(text, text_pipeline):\n",
        "    with torch.no_grad():\n",
        "        text = torch.tensor(text_pipeline(text))\n",
        "        output = model(text, torch.tensor([0]))\n",
        "        return output.argmax(1).item() + 1\n",
        "\n",
        "ex_text_str = \"yes\"\n",
        "\n",
        "model = model.to(\"cpu\")\n",
        "\n",
        "print(\"This is a %s movie review\" %review_label[predict(ex_text_str, text_pipeline)])"
      ]
    },
    {
      "cell_type": "markdown",
      "metadata": {
        "id": "r9rDyrssMig7"
      },
      "source": [
        "### bert tokenization"
      ]
    },
    {
      "cell_type": "code",
      "execution_count": null,
      "metadata": {
        "id": "MYAcWkALMig7",
        "outputId": "73c51862-f232-45d2-fcaa-402850c7ee38"
      },
      "outputs": [
        {
          "name": "stdout",
          "output_type": "stream",
          "text": [
            "Collecting pytorch-nlp\n",
            "  Downloading pytorch_nlp-0.5.0-py3-none-any.whl (90 kB)\n",
            "\u001b[K     |████████████████████████████████| 90 kB 4.1 MB/s eta 0:00:011\n",
            "\u001b[?25hRequirement already satisfied: numpy in /home/ash/miniconda3/envs/nlp/lib/python3.9/site-packages (from pytorch-nlp) (1.22.3)\n",
            "Requirement already satisfied: tqdm in /home/ash/miniconda3/envs/nlp/lib/python3.9/site-packages (from pytorch-nlp) (4.64.0)\n",
            "Installing collected packages: pytorch-nlp\n",
            "Successfully installed pytorch-nlp-0.5.0\n"
          ]
        }
      ],
      "source": [
        "# !pip install pytorch-nlp\n",
        "# !pip install pytorch-pretrained-bert"
      ]
    },
    {
      "cell_type": "code",
      "execution_count": null,
      "metadata": {
        "id": "JOSfWTxZMig7"
      },
      "outputs": [],
      "source": [
        "# import libraries\n",
        "from pytorch_pretrained_bert import BertModel\n",
        "from pytorch_pretrained_bert import BertTokenizer\n",
        "from torch import nn\n",
        "from keras_preprocessing.sequence import pad_sequences\n",
        "from torch.utils.data import TensorDataset, DataLoader, RandomSampler, SequentialSampler\n",
        "from torch.optim import Adam\n",
        "from torch.nn.utils import clip_grad_norm_"
      ]
    },
    {
      "cell_type": "code",
      "execution_count": 22,
      "metadata": {
        "id": "-Kd0CUcFMig7",
        "outputId": "a9ecea3b-1042-43d7-cce5-3f29487c7fbf"
      },
      "outputs": [],
      "source": [
        "# split data set\n",
        "X_train = train.drop(['helpfulness_cat'], axis=1)\n",
        "y_train = train.loc[:, 'helpfulness_cat']\n",
        "X_train, X_valid, y_train, y_valid = train_test_split(X_train, y_train, test_size=0.2, random_state=42)"
      ]
    },
    {
      "cell_type": "code",
      "execution_count": null,
      "metadata": {
        "id": "syLbrneYMig8",
        "outputId": "ceb16534-bbc5-4bd1-a09a-542a2897d8f0"
      },
      "outputs": [
        {
          "data": {
            "text/plain": [
              "(8604, 8604, 2151, 2151)"
            ]
          },
          "execution_count": 24,
          "metadata": {},
          "output_type": "execute_result"
        }
      ],
      "source": [
        "# combine x train and y trian in to new pd dataframe\n",
        "train_df = pd.concat([X_train, y_train], axis=1)\n",
        "valid_df = pd.concat([X_valid, y_valid], axis=1)\n",
        "\n",
        "# reformat the data into pytorch dataset\n",
        "train_data = train_df.to_dict(orient='records')\n",
        "test_data = valid_df.to_dict(orient='records')\n",
        "\n",
        "train_texts, train_labels = list(zip(*map(lambda d: (d['imdb_user_review'], d['helpfulness_cat']), train_data)))\n",
        "test_texts, test_labels = list(zip(*map(lambda d: (d['imdb_user_review'], d['helpfulness_cat']), test_data)))\n",
        "\n",
        "len(train_texts), len(train_labels), len(test_texts), len(test_labels)"
      ]
    },
    {
      "cell_type": "code",
      "execution_count": null,
      "metadata": {
        "id": "k6w6uEBhMig8",
        "outputId": "daaf3e0e-5206-48be-87d8-5b80c5be434c"
      },
      "outputs": [
        {
          "name": "stderr",
          "output_type": "stream",
          "text": [
            "100%|██████████| 231508/231508 [00:00<00:00, 659891.34B/s]\n"
          ]
        }
      ],
      "source": [
        "tokenizer = BertTokenizer.from_pretrained('bert-base-uncased', do_lower_case=True)"
      ]
    },
    {
      "cell_type": "code",
      "execution_count": null,
      "metadata": {
        "id": "1Mw-PvutMig8"
      },
      "outputs": [],
      "source": [
        "# prepare token embedding\n",
        "train_tokens = list(map(lambda t: ['[CLS]'] + tokenizer.tokenize(t)[:510] + ['[SEP]'], train_texts))\n",
        "test_tokens = list(map(lambda t: ['[CLS]'] + tokenizer.tokenize(t)[:510] + ['[SEP]'], test_texts))"
      ]
    },
    {
      "cell_type": "code",
      "execution_count": null,
      "metadata": {
        "id": "L3G36ggPMig8",
        "outputId": "87b0315f-ad88-4664-ca71-e922b71c4905"
      },
      "outputs": [
        {
          "data": {
            "text/plain": [
              "(8604, 2151)"
            ]
          },
          "execution_count": 27,
          "metadata": {},
          "output_type": "execute_result"
        }
      ],
      "source": [
        "len(train_tokens), len(test_tokens)"
      ]
    },
    {
      "cell_type": "code",
      "execution_count": null,
      "metadata": {
        "id": "ry746MljMig8"
      },
      "outputs": [],
      "source": [
        "train_tokens_ids = pad_sequences(list(map(tokenizer.convert_tokens_to_ids, train_tokens)), maxlen=512, truncating=\"post\", padding=\"post\", dtype=\"int\")\n",
        "test_tokens_ids = pad_sequences(list(map(tokenizer.convert_tokens_to_ids, test_tokens)), maxlen=512, truncating=\"post\", padding=\"post\", dtype=\"int\")"
      ]
    },
    {
      "cell_type": "code",
      "execution_count": null,
      "metadata": {
        "id": "j0Sw3tAUMig8"
      },
      "outputs": [],
      "source": [
        "train_y = np.array(train_labels)\n",
        "test_y = np.array(test_labels)"
      ]
    },
    {
      "cell_type": "code",
      "execution_count": null,
      "metadata": {
        "id": "XgZXKeN5Mig8",
        "outputId": "3933d601-3e1b-44c2-9065-e11ea81985b6"
      },
      "outputs": [
        {
          "data": {
            "text/plain": [
              "((8604,), (2151,), 0.7629009762900977, 0.7670850767085077)"
            ]
          },
          "execution_count": 32,
          "metadata": {},
          "output_type": "execute_result"
        }
      ],
      "source": [
        "train_y.shape, test_y.shape, np.mean(train_y), np.mean(test_y)"
      ]
    },
    {
      "cell_type": "code",
      "execution_count": null,
      "metadata": {
        "id": "0x6MKzrxMig8"
      },
      "outputs": [],
      "source": [
        "train_masks = [[float(i > 0) for i in ii] for ii in train_tokens_ids]\n",
        "test_masks = [[float(i > 0) for i in ii] for ii in test_tokens_ids]"
      ]
    },
    {
      "cell_type": "code",
      "execution_count": null,
      "metadata": {
        "id": "xT6kcctOMig9"
      },
      "outputs": [],
      "source": [
        "from sklearn.feature_extraction.text import CountVectorizer\n",
        "from sklearn.linear_model import LogisticRegression\n",
        "from sklearn.pipeline import make_pipeline\n",
        "from sklearn.metrics import classification_report"
      ]
    },
    {
      "cell_type": "code",
      "execution_count": null,
      "metadata": {
        "id": "TQVbNGhsMig9",
        "outputId": "8063f870-64c3-4796-d0b9-0b98d85ec643"
      },
      "outputs": [
        {
          "name": "stderr",
          "output_type": "stream",
          "text": [
            "/home/ash/miniconda3/envs/nlp/lib/python3.9/site-packages/sklearn/linear_model/_logistic.py:444: ConvergenceWarning: lbfgs failed to converge (status=1):\n",
            "STOP: TOTAL NO. of ITERATIONS REACHED LIMIT.\n",
            "\n",
            "Increase the number of iterations (max_iter) or scale the data as shown in:\n",
            "    https://scikit-learn.org/stable/modules/preprocessing.html\n",
            "Please also refer to the documentation for alternative solver options:\n",
            "    https://scikit-learn.org/stable/modules/linear_model.html#logistic-regression\n",
            "  n_iter_i = _check_optimize_result(\n"
          ]
        }
      ],
      "source": [
        "baseline_model = make_pipeline(CountVectorizer(ngram_range=(1,3)), LogisticRegression()).fit(train_texts, train_labels)"
      ]
    },
    {
      "cell_type": "code",
      "execution_count": null,
      "metadata": {
        "id": "g7kOQn1BMig9"
      },
      "outputs": [],
      "source": [
        "baseline_predicted = baseline_model.predict(test_texts)"
      ]
    },
    {
      "cell_type": "code",
      "execution_count": null,
      "metadata": {
        "id": "G5aM2bheMig9",
        "outputId": "d3493376-ab17-4c7a-ba4c-abe845b93038"
      },
      "outputs": [
        {
          "name": "stdout",
          "output_type": "stream",
          "text": [
            "              precision    recall  f1-score   support\n",
            "\n",
            "         0.0       0.60      0.27      0.37       501\n",
            "         1.0       0.81      0.94      0.87      1650\n",
            "\n",
            "    accuracy                           0.79      2151\n",
            "   macro avg       0.70      0.61      0.62      2151\n",
            "weighted avg       0.76      0.79      0.76      2151\n",
            "\n"
          ]
        }
      ],
      "source": [
        "print(classification_report(test_labels, baseline_predicted))"
      ]
    }
  ],
  "metadata": {
    "colab": {
      "collapsed_sections": [
        "mcSBFXFYMigh",
        "p8Jwr1fzMigq",
        "7ZdE5-xRMigw",
        "aN_FPcSMMig2",
        "AZA5H0grMig2",
        "tpM7T-A9Mig4"
      ],
      "name": "NLP_FCP.ipynb",
      "provenance": []
    },
    "kernelspec": {
      "display_name": "Python 3.9.12 ('newfiat')",
      "language": "python",
      "name": "python3"
    },
    "language_info": {
      "codemirror_mode": {
        "name": "ipython",
        "version": 3
      },
      "file_extension": ".py",
      "mimetype": "text/x-python",
      "name": "python",
      "nbconvert_exporter": "python",
      "pygments_lexer": "ipython3",
      "version": "3.9.12"
    },
    "orig_nbformat": 4,
    "vscode": {
      "interpreter": {
        "hash": "75a9b45a3d31578b272bb78eff9b8eb4799da888c3b026bce86f449d27f6b7c3"
      }
    }
  },
  "nbformat": 4,
  "nbformat_minor": 0
}
